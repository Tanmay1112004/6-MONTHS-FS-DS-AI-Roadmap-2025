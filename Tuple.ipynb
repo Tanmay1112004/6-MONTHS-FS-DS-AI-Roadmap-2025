{
 "cells": [
  {
   "cell_type": "markdown",
   "id": "a833322e-f859-4fe2-99ca-93d47f2656e7",
   "metadata": {},
   "source": [
    "# Tuple"
   ]
  },
  {
   "cell_type": "markdown",
   "id": "ec1b513c-01d1-4c86-9049-d9e65ebc33ce",
   "metadata": {},
   "source": [
    "## Tuple Creation"
   ]
  },
  {
   "cell_type": "code",
   "execution_count": 2,
   "id": "adec8ab0-b988-4bfc-b1f7-1e20e62e3f40",
   "metadata": {},
   "outputs": [
    {
     "data": {
      "text/plain": [
       "()"
      ]
     },
     "execution_count": 2,
     "metadata": {},
     "output_type": "execute_result"
    }
   ],
   "source": [
    "t1 = () # Empty Tuple\n",
    "t1"
   ]
  },
  {
   "cell_type": "code",
   "execution_count": 3,
   "id": "1e7fc1e8-f27a-4a14-83ec-1c9b8ba8a1a3",
   "metadata": {},
   "outputs": [
    {
     "data": {
      "text/plain": [
       "(10, 20, 30)"
      ]
     },
     "execution_count": 3,
     "metadata": {},
     "output_type": "execute_result"
    }
   ],
   "source": [
    "t2 = (10,20,30) # Tuple of integer numbers\n",
    "t2"
   ]
  },
  {
   "cell_type": "code",
   "execution_count": 4,
   "id": "b0cc793d-c24d-42b3-976c-500f4faf16ae",
   "metadata": {},
   "outputs": [
    {
     "data": {
      "text/plain": [
       "(10.77, 20.88, 30.66)"
      ]
     },
     "execution_count": 4,
     "metadata": {},
     "output_type": "execute_result"
    }
   ],
   "source": [
    "t3 = (10.77,20.88,30.66) # Tuple of float numbers\n",
    "t3"
   ]
  },
  {
   "cell_type": "code",
   "execution_count": 7,
   "id": "d616e0e3-9cdf-454f-ae87-c9a82e4286cb",
   "metadata": {},
   "outputs": [
    {
     "data": {
      "text/plain": [
       "('one', 'two', 'three')"
      ]
     },
     "execution_count": 7,
     "metadata": {},
     "output_type": "execute_result"
    }
   ],
   "source": [
    "t4 = ('one','two','three') # Tuple of strings\n",
    "t4"
   ]
  },
  {
   "cell_type": "code",
   "execution_count": 8,
   "id": "a4bfc1f2-1203-402f-a958-a15b063a48b2",
   "metadata": {},
   "outputs": [
    {
     "data": {
      "text/plain": [
       "('Tanmay', 20, (30, 40), (50, 60))"
      ]
     },
     "execution_count": 8,
     "metadata": {},
     "output_type": "execute_result"
    }
   ],
   "source": [
    "t5 = ('Tanmay',20,(30,40), (50,60)) # Nested tuples\n",
    "t5"
   ]
  },
  {
   "cell_type": "code",
   "execution_count": 9,
   "id": "99863df6-9c7d-43c5-ab0c-7eb0977f9f18",
   "metadata": {},
   "outputs": [
    {
     "data": {
      "text/plain": [
       "(100, 'Tanmay', 30.55)"
      ]
     },
     "execution_count": 9,
     "metadata": {},
     "output_type": "execute_result"
    }
   ],
   "source": [
    "t6 = (100,'Tanmay', 30.55) # Tuple of mixed data types\n",
    "t6"
   ]
  },
  {
   "cell_type": "code",
   "execution_count": 12,
   "id": "c822d48c-b923-4cb5-a476-4f8fb04c9891",
   "metadata": {},
   "outputs": [
    {
     "data": {
      "text/plain": [
       "('Tanmay', 25, [50, 100], {'David', 'John'}, (99, 88, 22))"
      ]
     },
     "execution_count": 12,
     "metadata": {},
     "output_type": "execute_result"
    }
   ],
   "source": [
    "t7 = ('Tanmay', 25, [50,100], {'John', 'David'}, (99,88,22))\n",
    "t7"
   ]
  },
  {
   "cell_type": "code",
   "execution_count": 13,
   "id": "32029493-423f-4e1e-aa7b-e9793e51dfd8",
   "metadata": {},
   "outputs": [
    {
     "data": {
      "text/plain": [
       "5"
      ]
     },
     "execution_count": 13,
     "metadata": {},
     "output_type": "execute_result"
    }
   ],
   "source": [
    "len(t7) # length of list"
   ]
  },
  {
   "cell_type": "code",
   "execution_count": null,
   "id": "a9dfd07c-3aaf-46ce-aaa2-6de201e8038a",
   "metadata": {},
   "outputs": [],
   "source": []
  },
  {
   "cell_type": "markdown",
   "id": "48d518bf-3c12-458d-ad01-4e4625f8fc6e",
   "metadata": {},
   "source": [
    "## Tuple Indexing"
   ]
  },
  {
   "cell_type": "code",
   "execution_count": 14,
   "id": "e8690e3d-44a6-4268-912e-04528e52d1c7",
   "metadata": {},
   "outputs": [
    {
     "data": {
      "text/plain": [
       "10"
      ]
     },
     "execution_count": 14,
     "metadata": {},
     "output_type": "execute_result"
    }
   ],
   "source": [
    "t2[0] # Retreive first element of the tuple"
   ]
  },
  {
   "cell_type": "code",
   "execution_count": 15,
   "id": "b7febc9c-c3f7-4f65-8c08-ca973768cb3f",
   "metadata": {},
   "outputs": [
    {
     "data": {
      "text/plain": [
       "'one'"
      ]
     },
     "execution_count": 15,
     "metadata": {},
     "output_type": "execute_result"
    }
   ],
   "source": [
    "t4[0] # Retreive first element of the tuple"
   ]
  },
  {
   "cell_type": "code",
   "execution_count": 16,
   "id": "888104cf-ce90-48bc-a033-b162ac378c74",
   "metadata": {},
   "outputs": [
    {
     "data": {
      "text/plain": [
       "'o'"
      ]
     },
     "execution_count": 16,
     "metadata": {},
     "output_type": "execute_result"
    }
   ],
   "source": [
    "t4[0][0] # Nested Indexing - Access the first charcter of the tuple element"
   ]
  },
  {
   "cell_type": "code",
   "execution_count": 17,
   "id": "69bafb53-dcf9-4302-a863-915e47fa963e",
   "metadata": {},
   "outputs": [
    {
     "data": {
      "text/plain": [
       "'three'"
      ]
     },
     "execution_count": 17,
     "metadata": {},
     "output_type": "execute_result"
    }
   ],
   "source": [
    "t4[-1] # last element of the tuple"
   ]
  },
  {
   "cell_type": "code",
   "execution_count": 18,
   "id": "8cd7a160-8668-4562-9bfb-f16726fb0031",
   "metadata": {},
   "outputs": [
    {
     "data": {
      "text/plain": [
       "(50, 60)"
      ]
     },
     "execution_count": 18,
     "metadata": {},
     "output_type": "execute_result"
    }
   ],
   "source": [
    "t5[-1] # last element of the tuple"
   ]
  },
  {
   "cell_type": "code",
   "execution_count": null,
   "id": "51d1c0d5-c364-485d-964c-5755f8a557bc",
   "metadata": {},
   "outputs": [],
   "source": []
  },
  {
   "cell_type": "markdown",
   "id": "dded33db-6174-4372-9c8a-400bad6dc9eb",
   "metadata": {},
   "source": [
    "## Tuple Slicing"
   ]
  },
  {
   "cell_type": "code",
   "execution_count": 19,
   "id": "181fa62a-633c-40f7-8aff-dcdb470870b3",
   "metadata": {},
   "outputs": [
    {
     "data": {
      "text/plain": [
       "('one', 'two', 'three', 'four', 'five', 'six', 'seven', 'eight')"
      ]
     },
     "execution_count": 19,
     "metadata": {},
     "output_type": "execute_result"
    }
   ],
   "source": [
    "mytuple = ('one','two','three','four','five','six','seven','eight')\n",
    "mytuple"
   ]
  },
  {
   "cell_type": "code",
   "execution_count": 20,
   "id": "a3ce50b4-5916-4407-930b-04f2e5c40ed5",
   "metadata": {},
   "outputs": [
    {
     "data": {
      "text/plain": [
       "('one', 'two', 'three')"
      ]
     },
     "execution_count": 20,
     "metadata": {},
     "output_type": "execute_result"
    }
   ],
   "source": [
    "mytuple[0:3] # returns the 0th to 3rd position nymbers"
   ]
  },
  {
   "cell_type": "code",
   "execution_count": 21,
   "id": "12198153-56fe-4207-826f-7bb26d5c242d",
   "metadata": {},
   "outputs": [
    {
     "data": {
      "text/plain": [
       "('three', 'four', 'five')"
      ]
     },
     "execution_count": 21,
     "metadata": {},
     "output_type": "execute_result"
    }
   ],
   "source": [
    "mytuple[2:5] # returns the 2nd to 5th position nymbers"
   ]
  },
  {
   "cell_type": "code",
   "execution_count": 22,
   "id": "f31b9629-7831-4a24-88af-a68cec729dbd",
   "metadata": {},
   "outputs": [
    {
     "data": {
      "text/plain": [
       "('one', 'two', 'three')"
      ]
     },
     "execution_count": 22,
     "metadata": {},
     "output_type": "execute_result"
    }
   ],
   "source": [
    "mytuple[:3] # returns first three"
   ]
  },
  {
   "cell_type": "code",
   "execution_count": 23,
   "id": "5381bca9-32e1-4ad5-954a-46b96cc5fba6",
   "metadata": {},
   "outputs": [
    {
     "data": {
      "text/plain": [
       "('one', 'two')"
      ]
     },
     "execution_count": 23,
     "metadata": {},
     "output_type": "execute_result"
    }
   ],
   "source": [
    "mytuple[0:2] # returns first two"
   ]
  },
  {
   "cell_type": "code",
   "execution_count": 25,
   "id": "08318bb8-5d2d-4297-8590-d86cdcc706af",
   "metadata": {},
   "outputs": [
    {
     "data": {
      "text/plain": [
       "('six', 'seven', 'eight')"
      ]
     },
     "execution_count": 25,
     "metadata": {},
     "output_type": "execute_result"
    }
   ],
   "source": [
    "mytuple[-3:] # returns last three"
   ]
  },
  {
   "cell_type": "code",
   "execution_count": 26,
   "id": "e6d866c7-446c-4364-bb08-ac1e0d5849ec",
   "metadata": {},
   "outputs": [
    {
     "data": {
      "text/plain": [
       "('seven', 'eight')"
      ]
     },
     "execution_count": 26,
     "metadata": {},
     "output_type": "execute_result"
    }
   ],
   "source": [
    "mytuple[-2:] # returns last two"
   ]
  },
  {
   "cell_type": "code",
   "execution_count": 27,
   "id": "45b0ee7a-cfe6-4bac-8f8e-3322d918e694",
   "metadata": {},
   "outputs": [
    {
     "data": {
      "text/plain": [
       "'eight'"
      ]
     },
     "execution_count": 27,
     "metadata": {},
     "output_type": "execute_result"
    }
   ],
   "source": [
    "mytuple[-1] # returns last item of the tuple"
   ]
  },
  {
   "cell_type": "code",
   "execution_count": 28,
   "id": "34ffd9b5-5226-4b8c-b181-f6b0c41701d1",
   "metadata": {},
   "outputs": [
    {
     "data": {
      "text/plain": [
       "('one', 'two', 'three', 'four', 'five', 'six', 'seven', 'eight')"
      ]
     },
     "execution_count": 28,
     "metadata": {},
     "output_type": "execute_result"
    }
   ],
   "source": [
    "mytuple[:] # returns whole tuple"
   ]
  },
  {
   "cell_type": "code",
   "execution_count": null,
   "id": "99e2288a-70e8-43d0-a15a-569ba1cd034d",
   "metadata": {},
   "outputs": [],
   "source": []
  },
  {
   "cell_type": "markdown",
   "id": "ff8382ff-fbea-4be8-a889-e9c5d9a885a6",
   "metadata": {},
   "source": [
    "## Remove & Change Items"
   ]
  },
  {
   "cell_type": "code",
   "execution_count": 29,
   "id": "45cbd555-9a87-4909-acc8-f07ee924737f",
   "metadata": {},
   "outputs": [
    {
     "data": {
      "text/plain": [
       "('one', 'two', 'three', 'four', 'five', 'six', 'seven', 'eight')"
      ]
     },
     "execution_count": 29,
     "metadata": {},
     "output_type": "execute_result"
    }
   ],
   "source": [
    "mytuple"
   ]
  },
  {
   "cell_type": "code",
   "execution_count": 31,
   "id": "93dcbe9c-f21d-43fe-a04e-d0b55b397c42",
   "metadata": {},
   "outputs": [
    {
     "ename": "TypeError",
     "evalue": "'tuple' object doesn't support item deletion",
     "output_type": "error",
     "traceback": [
      "\u001b[1;31m---------------------------------------------------------------------------\u001b[0m",
      "\u001b[1;31mTypeError\u001b[0m                                 Traceback (most recent call last)",
      "Cell \u001b[1;32mIn[31], line 1\u001b[0m\n\u001b[1;32m----> 1\u001b[0m \u001b[38;5;28;01mdel\u001b[39;00m mytuple[\u001b[38;5;241m0\u001b[39m]\n",
      "\u001b[1;31mTypeError\u001b[0m: 'tuple' object doesn't support item deletion"
     ]
    }
   ],
   "source": [
    "del mytuple[0] # Tuples are immutable which means we  can't delete tuple items"
   ]
  },
  {
   "cell_type": "code",
   "execution_count": 32,
   "id": "9e0a2de9-db0e-40b4-9b26-5a98b2b6a126",
   "metadata": {},
   "outputs": [
    {
     "ename": "SyntaxError",
     "evalue": "invalid syntax (3809477229.py, line 1)",
     "output_type": "error",
     "traceback": [
      "\u001b[1;36m  Cell \u001b[1;32mIn[32], line 1\u001b[1;36m\u001b[0m\n\u001b[1;33m    del mytuple[0] = 1 # Tuples are immutable which means we  can't delete tuple items\u001b[0m\n\u001b[1;37m                   ^\u001b[0m\n\u001b[1;31mSyntaxError\u001b[0m\u001b[1;31m:\u001b[0m invalid syntax\n"
     ]
    }
   ],
   "source": [
    "del mytuple[0] = 1 # Tuples are immutable which means we  can't delete tuple items"
   ]
  },
  {
   "cell_type": "code",
   "execution_count": 33,
   "id": "dfeb69d5-a710-49b3-a773-eb54a6842691",
   "metadata": {},
   "outputs": [],
   "source": [
    "del mytuple # Deleting entire tuple object is possible"
   ]
  },
  {
   "cell_type": "code",
   "execution_count": null,
   "id": "6c610f59-b563-4406-baa7-c5a60eb71fc4",
   "metadata": {},
   "outputs": [],
   "source": []
  },
  {
   "cell_type": "markdown",
   "id": "463fc646-3bf1-45a7-a93c-acb9bdb22878",
   "metadata": {},
   "source": [
    "## Loop through a tuple"
   ]
  },
  {
   "cell_type": "code",
   "execution_count": 35,
   "id": "a2fd4224-2beb-4c7c-b3ee-c2a012052cfa",
   "metadata": {},
   "outputs": [
    {
     "data": {
      "text/plain": [
       "('one', 'two', 'three', 'four', 'five', 'six', 'seven', 'eight')"
      ]
     },
     "execution_count": 35,
     "metadata": {},
     "output_type": "execute_result"
    }
   ],
   "source": [
    "mytuple = ('one','two','three','four','five','six','seven','eight')\n",
    "mytuple"
   ]
  },
  {
   "cell_type": "code",
   "execution_count": 36,
   "id": "c8556b9b-6d6f-4519-b42a-e7e4dd84dd68",
   "metadata": {},
   "outputs": [
    {
     "name": "stdout",
     "output_type": "stream",
     "text": [
      "one\n",
      "two\n",
      "three\n",
      "four\n",
      "five\n",
      "six\n",
      "seven\n",
      "eight\n"
     ]
    }
   ],
   "source": [
    "for i in  mytuple:\n",
    "    print(i)"
   ]
  },
  {
   "cell_type": "code",
   "execution_count": 37,
   "id": "a653a3d3-229f-479a-b855-ab169e36f469",
   "metadata": {},
   "outputs": [
    {
     "name": "stdout",
     "output_type": "stream",
     "text": [
      "(0, 'one')\n",
      "(1, 'two')\n",
      "(2, 'three')\n",
      "(3, 'four')\n",
      "(4, 'five')\n",
      "(5, 'six')\n",
      "(6, 'seven')\n",
      "(7, 'eight')\n"
     ]
    }
   ],
   "source": [
    "for i in enumerate (mytuple):\n",
    "     print(i)\n",
    "   "
   ]
  },
  {
   "cell_type": "code",
   "execution_count": null,
   "id": "8bc36e76-941f-4a5e-b197-7c18cfdc4480",
   "metadata": {},
   "outputs": [],
   "source": []
  },
  {
   "cell_type": "markdown",
   "id": "9d8104cd-eace-4a0b-80cb-8df13c96b369",
   "metadata": {},
   "source": [
    "## Tuple Membership"
   ]
  },
  {
   "cell_type": "code",
   "execution_count": 38,
   "id": "c650c1ad-1148-41cb-96a7-affabcaa796d",
   "metadata": {},
   "outputs": [
    {
     "data": {
      "text/plain": [
       "('one', 'two', 'three', 'four', 'five', 'six', 'seven', 'eight')"
      ]
     },
     "execution_count": 38,
     "metadata": {},
     "output_type": "execute_result"
    }
   ],
   "source": [
    "mytuple"
   ]
  },
  {
   "cell_type": "code",
   "execution_count": 39,
   "id": "2f6a3624-743f-41bc-b471-8016d938a0e5",
   "metadata": {},
   "outputs": [
    {
     "data": {
      "text/plain": [
       "True"
      ]
     },
     "execution_count": 39,
     "metadata": {},
     "output_type": "execute_result"
    }
   ],
   "source": [
    "'one' in mytuple # Check if 'one' exist in the tuple"
   ]
  },
  {
   "cell_type": "code",
   "execution_count": 40,
   "id": "714c5331-37c8-4ca9-b411-e03c6289a40c",
   "metadata": {},
   "outputs": [
    {
     "data": {
      "text/plain": [
       "False"
      ]
     },
     "execution_count": 40,
     "metadata": {},
     "output_type": "execute_result"
    }
   ],
   "source": [
    "'ten' in mytuple # Check if 'one' exist in the tuple"
   ]
  },
  {
   "cell_type": "code",
   "execution_count": 41,
   "id": "9c231512-c4f5-4e7d-9155-bd320f4ed595",
   "metadata": {},
   "outputs": [
    {
     "name": "stdout",
     "output_type": "stream",
     "text": [
      "Three is present in the tuple\n"
     ]
    }
   ],
   "source": [
    "if 'three' in mytuple:\n",
    "    print('Three is present in the tuple')\n",
    "else:\n",
    "    print('Three is not present in the tuple')"
   ]
  },
  {
   "cell_type": "code",
   "execution_count": 42,
   "id": "41dd5a00-0d57-409e-bd7c-e8b0cd172b9f",
   "metadata": {},
   "outputs": [
    {
     "name": "stdout",
     "output_type": "stream",
     "text": [
      "eleven is not present in the tuple\n"
     ]
    }
   ],
   "source": [
    "if 'eleven' in mytuple:\n",
    "    print('eleven is present in the tuple')\n",
    "else:\n",
    "    print('eleven is not present in the tuple')"
   ]
  },
  {
   "cell_type": "code",
   "execution_count": null,
   "id": "75d1ebd4-362e-4d10-9399-bed17f4f24e9",
   "metadata": {},
   "outputs": [],
   "source": []
  },
  {
   "cell_type": "markdown",
   "id": "88e87382-3c14-4467-9cdc-bec34a4508cf",
   "metadata": {},
   "source": [
    "## Index Position"
   ]
  },
  {
   "cell_type": "code",
   "execution_count": 43,
   "id": "d2a55d6f-17d3-489f-98ba-2a6bbcbc9ed8",
   "metadata": {},
   "outputs": [
    {
     "data": {
      "text/plain": [
       "('one', 'two', 'three', 'four', 'five', 'six', 'seven', 'eight')"
      ]
     },
     "execution_count": 43,
     "metadata": {},
     "output_type": "execute_result"
    }
   ],
   "source": [
    "mytuple"
   ]
  },
  {
   "cell_type": "code",
   "execution_count": 45,
   "id": "4446c2a1-dbb4-4b6f-918a-5498c6ac17ed",
   "metadata": {},
   "outputs": [
    {
     "data": {
      "text/plain": [
       "0"
      ]
     },
     "execution_count": 45,
     "metadata": {},
     "output_type": "execute_result"
    }
   ],
   "source": [
    "mytuple.index('one') # Index of first element equal to 'one'"
   ]
  },
  {
   "cell_type": "code",
   "execution_count": 46,
   "id": "8d27d46e-5475-4e1e-995a-cd14b2291949",
   "metadata": {},
   "outputs": [
    {
     "data": {
      "text/plain": [
       "4"
      ]
     },
     "execution_count": 46,
     "metadata": {},
     "output_type": "execute_result"
    }
   ],
   "source": [
    "mytuple.index('five') # Index of first element equal to 'five'"
   ]
  },
  {
   "cell_type": "code",
   "execution_count": null,
   "id": "90be0c25-f080-41b5-968d-74e0541f938c",
   "metadata": {},
   "outputs": [],
   "source": []
  },
  {
   "cell_type": "markdown",
   "id": "701314d2-0a1e-47f4-aa58-6421ae467506",
   "metadata": {},
   "source": [
    "## Sorting"
   ]
  },
  {
   "cell_type": "code",
   "execution_count": 50,
   "id": "21cbcf8e-09d9-4dcd-9a15-d4dd4113b65f",
   "metadata": {},
   "outputs": [],
   "source": [
    "mytuple2 = (43,67,99,12,6,90,67)"
   ]
  },
  {
   "cell_type": "code",
   "execution_count": 51,
   "id": "95d61cf6-8e9d-4ab7-a5f0-9cc3ba1cb0cd",
   "metadata": {},
   "outputs": [
    {
     "data": {
      "text/plain": [
       "[6, 12, 43, 67, 67, 90, 99]"
      ]
     },
     "execution_count": 51,
     "metadata": {},
     "output_type": "execute_result"
    }
   ],
   "source": [
    "sorted(mytuple2) # Returns the assending order"
   ]
  },
  {
   "cell_type": "code",
   "execution_count": 52,
   "id": "937740b3-497e-459d-82cb-8d8cddd1a6c6",
   "metadata": {},
   "outputs": [
    {
     "data": {
      "text/plain": [
       "[99, 90, 67, 67, 43, 12, 6]"
      ]
     },
     "execution_count": 52,
     "metadata": {},
     "output_type": "execute_result"
    }
   ],
   "source": [
    "sorted(mytuple2, reverse = True) # decending order"
   ]
  },
  {
   "cell_type": "code",
   "execution_count": null,
   "id": "28566e7f-00f8-41aa-9ea1-b20911401a7e",
   "metadata": {},
   "outputs": [],
   "source": []
  }
 ],
 "metadata": {
  "kernelspec": {
   "display_name": "Python 3 (ipykernel)",
   "language": "python",
   "name": "python3"
  },
  "language_info": {
   "codemirror_mode": {
    "name": "ipython",
    "version": 3
   },
   "file_extension": ".py",
   "mimetype": "text/x-python",
   "name": "python",
   "nbconvert_exporter": "python",
   "pygments_lexer": "ipython3",
   "version": "3.12.7"
  }
 },
 "nbformat": 4,
 "nbformat_minor": 5
}
