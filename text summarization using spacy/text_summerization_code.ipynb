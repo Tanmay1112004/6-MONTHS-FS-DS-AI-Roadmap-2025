{
  "nbformat": 4,
  "nbformat_minor": 0,
  "metadata": {
    "colab": {
      "provenance": []
    },
    "kernelspec": {
      "name": "python3",
      "display_name": "Python 3"
    },
    "language_info": {
      "name": "python"
    }
  },
  "cells": [
    {
      "cell_type": "code",
      "source": [
        "!pip install spacy"
      ],
      "metadata": {
        "id": "-ulrA3aFdIfP"
      },
      "execution_count": null,
      "outputs": []
    },
    {
      "cell_type": "code",
      "source": [
        "!python -m spacy download en_core_web_sm"
      ],
      "metadata": {
        "id": "rfk68DafDFra"
      },
      "execution_count": null,
      "outputs": []
    },
    {
      "cell_type": "code",
      "source": [
        "import spacy\n",
        "\n",
        "# Load the English labgauge model\n",
        "nlp = spacy.load(\"en_core_web_sm\")\n",
        "\n",
        "# Example text\n",
        "text = \"data science and ai & gen ai  has great carrer ahead\"\n",
        "\n",
        "# Process the text with the labgauge model\n",
        "doc = nlp(text)"
      ],
      "metadata": {
        "id": "M-uo3tk_dIrM"
      },
      "execution_count": 3,
      "outputs": []
    },
    {
      "cell_type": "code",
      "source": [
        "doc"
      ],
      "metadata": {
        "colab": {
          "base_uri": "https://localhost:8080/"
        },
        "id": "IQ2urC3rdIuD",
        "outputId": "43b92345-591f-420e-9a32-3ccba2814b6a"
      },
      "execution_count": 4,
      "outputs": [
        {
          "output_type": "execute_result",
          "data": {
            "text/plain": [
              "data science and ai & gen ai  has great carrer ahead"
            ]
          },
          "metadata": {},
          "execution_count": 4
        }
      ]
    },
    {
      "cell_type": "code",
      "source": [
        "for token in doc:\n",
        "    print(token.text)"
      ],
      "metadata": {
        "colab": {
          "base_uri": "https://localhost:8080/"
        },
        "id": "9nMJtk5QdIwi",
        "outputId": "4903cdda-23f2-4083-82e5-0e3f9ba6c217"
      },
      "execution_count": 5,
      "outputs": [
        {
          "output_type": "stream",
          "name": "stdout",
          "text": [
            "data\n",
            "science\n",
            "and\n",
            "ai\n",
            "&\n",
            "gen\n",
            "ai\n",
            " \n",
            "has\n",
            "great\n",
            "carrer\n",
            "ahead\n"
          ]
        }
      ]
    },
    {
      "cell_type": "code",
      "source": [
        "import spacy\n",
        "\n",
        "# Load the English labgauge model\n",
        "nlp = spacy.load(\"en_core_web_sm\")\n",
        "\n",
        "# Example text\n",
        "doc = nlp(\"Apple is looking at buying U.K. startup for $1 billion\")\n",
        "\n",
        "for token in doc:\n",
        "    print(token.text, token.lemma_, token.pos_, token.tag_, token.dep_,\n",
        "            token.shape_, token.is_alpha, token.is_stop)"
      ],
      "metadata": {
        "colab": {
          "base_uri": "https://localhost:8080/"
        },
        "id": "XsuaEJo6fvXf",
        "outputId": "28dbd674-48a2-45f7-af17-a07b00bea1d2"
      },
      "execution_count": 6,
      "outputs": [
        {
          "output_type": "stream",
          "name": "stdout",
          "text": [
            "Apple Apple PROPN NNP nsubj Xxxxx True False\n",
            "is be AUX VBZ aux xx True True\n",
            "looking look VERB VBG ROOT xxxx True False\n",
            "at at ADP IN prep xx True True\n",
            "buying buy VERB VBG pcomp xxxx True False\n",
            "U.K. U.K. PROPN NNP nsubj X.X. False False\n",
            "startup startup VERB VBD ccomp xxxx True False\n",
            "for for ADP IN prep xxx True True\n",
            "$ $ SYM $ quantmod $ False False\n",
            "1 1 NUM CD compound d False False\n",
            "billion billion NUM CD pobj xxxx True False\n"
          ]
        }
      ]
    },
    {
      "cell_type": "code",
      "source": [
        "for token in doc:\n",
        "    print(token.pos_)"
      ],
      "metadata": {
        "colab": {
          "base_uri": "https://localhost:8080/"
        },
        "id": "iJCE0CrAfvqn",
        "outputId": "fd6e9396-854c-430f-b34f-9f607b5f9e30"
      },
      "execution_count": 7,
      "outputs": [
        {
          "output_type": "stream",
          "name": "stdout",
          "text": [
            "PROPN\n",
            "AUX\n",
            "VERB\n",
            "ADP\n",
            "VERB\n",
            "PROPN\n",
            "VERB\n",
            "ADP\n",
            "SYM\n",
            "NUM\n",
            "NUM\n"
          ]
        }
      ]
    },
    {
      "cell_type": "code",
      "source": [
        "for token in doc:\n",
        "    print(token.text, ':',token.pos_)"
      ],
      "metadata": {
        "colab": {
          "base_uri": "https://localhost:8080/"
        },
        "id": "e6nPRyP0fvuB",
        "outputId": "af44a0fa-e75f-46cd-ef2e-8bf24d41f104"
      },
      "execution_count": 8,
      "outputs": [
        {
          "output_type": "stream",
          "name": "stdout",
          "text": [
            "Apple : PROPN\n",
            "is : AUX\n",
            "looking : VERB\n",
            "at : ADP\n",
            "buying : VERB\n",
            "U.K. : PROPN\n",
            "startup : VERB\n",
            "for : ADP\n",
            "$ : SYM\n",
            "1 : NUM\n",
            "billion : NUM\n"
          ]
        }
      ]
    },
    {
      "cell_type": "code",
      "source": [
        "for token in doc:\n",
        "    print(token.text, ':',token.pos_,'-->', token.lemma_, token.dep_)"
      ],
      "metadata": {
        "colab": {
          "base_uri": "https://localhost:8080/"
        },
        "id": "1JcI6HCVfv0N",
        "outputId": "4cd5e694-00ac-4f3c-9f0c-d644418dbdc8"
      },
      "execution_count": 9,
      "outputs": [
        {
          "output_type": "stream",
          "name": "stdout",
          "text": [
            "Apple : PROPN --> Apple nsubj\n",
            "is : AUX --> be aux\n",
            "looking : VERB --> look ROOT\n",
            "at : ADP --> at prep\n",
            "buying : VERB --> buy pcomp\n",
            "U.K. : PROPN --> U.K. nsubj\n",
            "startup : VERB --> startup ccomp\n",
            "for : ADP --> for prep\n",
            "$ : SYM --> $ quantmod\n",
            "1 : NUM --> 1 compound\n",
            "billion : NUM --> billion pobj\n"
          ]
        }
      ]
    },
    {
      "cell_type": "code",
      "source": [
        "import spacy\n",
        "\n",
        "# Load the English labgauge model\n",
        "nlp = spacy.load(\"en_core_web_sm\")\n",
        "\n",
        "# Example text\n",
        "doc = nlp(\"Apple is looking at buying U.K. startup for $1 billion\")\n",
        "\n",
        "for token in doc:\n",
        "    print(token.text, token.lemma_, token.pos_, token.tag_,token.dep_, token.shape_, token.is_alpha, token.is_stop)"
      ],
      "metadata": {
        "colab": {
          "base_uri": "https://localhost:8080/"
        },
        "id": "qkxG0Imqfv3G",
        "outputId": "bae1c1aa-b83b-4db9-8744-f06e57b7e1b1"
      },
      "execution_count": null,
      "outputs": [
        {
          "output_type": "stream",
          "name": "stdout",
          "text": [
            "Apple Apple PROPN NNP nsubj Xxxxx True False\n",
            "is be AUX VBZ aux xx True True\n",
            "looking look VERB VBG ROOT xxxx True False\n",
            "at at ADP IN prep xx True True\n",
            "buying buy VERB VBG pcomp xxxx True False\n",
            "U.K. U.K. PROPN NNP nsubj X.X. False False\n",
            "startup startup VERB VBD ccomp xxxx True False\n",
            "for for ADP IN prep xxx True True\n",
            "$ $ SYM $ quantmod $ False False\n",
            "1 1 NUM CD compound d False False\n",
            "billion billion NUM CD pobj xxxx True False\n"
          ]
        }
      ]
    },
    {
      "cell_type": "code",
      "source": [],
      "metadata": {
        "id": "4g0nUK6vle8t"
      },
      "execution_count": null,
      "outputs": []
    },
    {
      "cell_type": "markdown",
      "source": [
        "# Text summarization"
      ],
      "metadata": {
        "id": "w-dpOnQelZzm"
      }
    },
    {
      "cell_type": "markdown",
      "source": [
        "client has multiple xmls file --- xml file\n",
        "\n",
        "paragraph\n",
        "collection of sentence\n",
        "collection of tokens\n",
        "\n",
        "token frequency\n",
        "maximum frequency\n",
        "weighted frequency\n",
        "\n",
        "in reume add -token frequency, sentence scoring"
      ],
      "metadata": {
        "id": "DUsWJjoLmY21"
      }
    },
    {
      "cell_type": "code",
      "source": [
        "text = \"\"\"There are broadly two types of extractive summarization tasks depending on what the summarization program focuses on. The first is generic summarization, which focuses on obtaining a generic summary or abstract of the collection (whether documents, or sets of images, or videos, news stories etc.). The second is query relevant summarization, sometimes called query-based summarization, which summarizes objects specific to a query. Summarization systems are able to create both query relevant text summaries and generic machine-generated summaries depending on what the user needs.\n",
        "An example of a summarization problem is document summarization, which attempts to automatically produce an abstract from a given document. Sometimes one might be interested in generating a summary from a single source document, while others can use multiple source documents (for example, a cluster of articles on the same topic). This problem is called multi-document summarization. A related application is summarizing news articles. Imagine a system, which automatically pulls together news articles on a given topic (from the web), and concisely represents the latest news as a summary.\n",
        "Image collection summarization is another application example of automatic summarization. It consists in selecting a representative set of images from a larger set of images.[4] A summary in this context is useful to show the most representative images of results in an image collection exploration system. Video summarization is a related domain, where the system automatically creates a trailer of a long video. This also has applications in consumer or personal videos, where one might want to skip the boring or repetitive actions. Similarly, in surveillance videos, one would want to extract important and suspicious activity, while ignoring all the boring and redundant frames captured \"\"\""
      ],
      "metadata": {
        "id": "p0KH_QAhfv5i"
      },
      "execution_count": 10,
      "outputs": []
    },
    {
      "cell_type": "code",
      "source": [
        "text"
      ],
      "metadata": {
        "id": "P78bcLwufv8k",
        "colab": {
          "base_uri": "https://localhost:8080/",
          "height": 127
        },
        "outputId": "18d055a1-a5be-4648-9242-f6a401133c93"
      },
      "execution_count": 11,
      "outputs": [
        {
          "output_type": "execute_result",
          "data": {
            "text/plain": [
              "'There are broadly two types of extractive summarization tasks depending on what the summarization program focuses on. The first is generic summarization, which focuses on obtaining a generic summary or abstract of the collection (whether documents, or sets of images, or videos, news stories etc.). The second is query relevant summarization, sometimes called query-based summarization, which summarizes objects specific to a query. Summarization systems are able to create both query relevant text summaries and generic machine-generated summaries depending on what the user needs.\\nAn example of a summarization problem is document summarization, which attempts to automatically produce an abstract from a given document. Sometimes one might be interested in generating a summary from a single source document, while others can use multiple source documents (for example, a cluster of articles on the same topic). This problem is called multi-document summarization. A related application is summarizing news articles. Imagine a system, which automatically pulls together news articles on a given topic (from the web), and concisely represents the latest news as a summary.\\nImage collection summarization is another application example of automatic summarization. It consists in selecting a representative set of images from a larger set of images.[4] A summary in this context is useful to show the most representative images of results in an image collection exploration system. Video summarization is a related domain, where the system automatically creates a trailer of a long video. This also has applications in consumer or personal videos, where one might want to skip the boring or repetitive actions. Similarly, in surveillance videos, one would want to extract important and suspicious activity, while ignoring all the boring and redundant frames captured '"
            ],
            "application/vnd.google.colaboratory.intrinsic+json": {
              "type": "string"
            }
          },
          "metadata": {},
          "execution_count": 11
        }
      ]
    },
    {
      "cell_type": "code",
      "source": [
        "import spacy\n",
        "from spacy.lang.en.stop_words import STOP_WORDS\n",
        "from string import punctuation"
      ],
      "metadata": {
        "id": "5tISWsY2fv_n"
      },
      "execution_count": 12,
      "outputs": []
    },
    {
      "cell_type": "code",
      "source": [
        "stopwords = list(STOP_WORDS)\n",
        "stopwords"
      ],
      "metadata": {
        "id": "yUI0xreUfwC3",
        "colab": {
          "base_uri": "https://localhost:8080/"
        },
        "outputId": "264d84b1-adce-4b9b-8a06-7f26264c25f9"
      },
      "execution_count": 13,
      "outputs": [
        {
          "output_type": "execute_result",
          "data": {
            "text/plain": [
              "['namely',\n",
              " 'ever',\n",
              " 'nowhere',\n",
              " 'across',\n",
              " 'has',\n",
              " 'do',\n",
              " 'whole',\n",
              " 'beyond',\n",
              " 'what',\n",
              " 'along',\n",
              " 'why',\n",
              " 'am',\n",
              " 'will',\n",
              " 'first',\n",
              " 'who',\n",
              " 'nothing',\n",
              " 'whither',\n",
              " 'amongst',\n",
              " 'enough',\n",
              " 'therein',\n",
              " 'part',\n",
              " 'whereupon',\n",
              " 'against',\n",
              " 'get',\n",
              " 'being',\n",
              " 'you',\n",
              " 'us',\n",
              " 'indeed',\n",
              " 'me',\n",
              " 'during',\n",
              " 'afterwards',\n",
              " 'above',\n",
              " 'show',\n",
              " 'at',\n",
              " 'onto',\n",
              " 'are',\n",
              " 'back',\n",
              " 'although',\n",
              " 'becomes',\n",
              " 'bottom',\n",
              " 'name',\n",
              " 'might',\n",
              " 'anything',\n",
              " 'often',\n",
              " 'whom',\n",
              " 'since',\n",
              " 'whenever',\n",
              " 'just',\n",
              " 'alone',\n",
              " 'before',\n",
              " 'several',\n",
              " 'fifty',\n",
              " 'how',\n",
              " 'nine',\n",
              " 'seem',\n",
              " 'him',\n",
              " 'within',\n",
              " '’s',\n",
              " 'most',\n",
              " 'or',\n",
              " 'four',\n",
              " 'seemed',\n",
              " 'to',\n",
              " 'however',\n",
              " 'should',\n",
              " 'without',\n",
              " 'be',\n",
              " 'meanwhile',\n",
              " 'over',\n",
              " 'thru',\n",
              " \"'ve\",\n",
              " 'as',\n",
              " 'well',\n",
              " 'whereby',\n",
              " 'forty',\n",
              " 'something',\n",
              " 'had',\n",
              " 'if',\n",
              " 'really',\n",
              " 'always',\n",
              " 'it',\n",
              " 'latter',\n",
              " 'does',\n",
              " 'everywhere',\n",
              " 'put',\n",
              " 'into',\n",
              " 'its',\n",
              " 'perhaps',\n",
              " 'whoever',\n",
              " 'there',\n",
              " '‘d',\n",
              " 'that',\n",
              " 'somewhere',\n",
              " 'when',\n",
              " 'hereby',\n",
              " 'ca',\n",
              " 'in',\n",
              " 'latterly',\n",
              " 'did',\n",
              " 'many',\n",
              " \"n't\",\n",
              " 'became',\n",
              " 'thence',\n",
              " 'beforehand',\n",
              " 'anyway',\n",
              " 'whose',\n",
              " \"'s\",\n",
              " 'herein',\n",
              " 'sometime',\n",
              " 'himself',\n",
              " 'formerly',\n",
              " 'side',\n",
              " \"'re\",\n",
              " 'she',\n",
              " 'on',\n",
              " 'hers',\n",
              " 'no',\n",
              " 'which',\n",
              " 'used',\n",
              " 'everyone',\n",
              " 'whether',\n",
              " 'please',\n",
              " 'whereafter',\n",
              " 're',\n",
              " 'every',\n",
              " 'amount',\n",
              " 'nobody',\n",
              " 'others',\n",
              " 'become',\n",
              " 'our',\n",
              " 'some',\n",
              " \"'ll\",\n",
              " 'per',\n",
              " 'becoming',\n",
              " 'than',\n",
              " 'hundred',\n",
              " 'seems',\n",
              " 'thus',\n",
              " 'eleven',\n",
              " '’d',\n",
              " 'keep',\n",
              " 'elsewhere',\n",
              " 'somehow',\n",
              " '’ve',\n",
              " 'nevertheless',\n",
              " 'ten',\n",
              " 'itself',\n",
              " 'one',\n",
              " 'where',\n",
              " 'below',\n",
              " 'only',\n",
              " 'we',\n",
              " 'noone',\n",
              " 'go',\n",
              " 'due',\n",
              " 'moreover',\n",
              " 'own',\n",
              " 'five',\n",
              " 'toward',\n",
              " 'together',\n",
              " 'yours',\n",
              " 'fifteen',\n",
              " 'such',\n",
              " 'sometimes',\n",
              " 'two',\n",
              " 'among',\n",
              " 'ours',\n",
              " 'the',\n",
              " 'n‘t',\n",
              " 'i',\n",
              " 'ourselves',\n",
              " 'further',\n",
              " 'both',\n",
              " 'take',\n",
              " 'were',\n",
              " 'say',\n",
              " 'after',\n",
              " 'them',\n",
              " 'never',\n",
              " 'call',\n",
              " 'and',\n",
              " 'now',\n",
              " 'was',\n",
              " 'anywhere',\n",
              " 'then',\n",
              " 'already',\n",
              " 'any',\n",
              " 'a',\n",
              " 'this',\n",
              " 'wherever',\n",
              " 'each',\n",
              " 'former',\n",
              " 'see',\n",
              " 'besides',\n",
              " 'doing',\n",
              " 'with',\n",
              " 'neither',\n",
              " 'between',\n",
              " 'because',\n",
              " 'someone',\n",
              " 'using',\n",
              " 'much',\n",
              " 'of',\n",
              " 'sixty',\n",
              " 'yet',\n",
              " 'yourselves',\n",
              " '‘ll',\n",
              " 'hereupon',\n",
              " 'top',\n",
              " 'been',\n",
              " 'throughout',\n",
              " \"'d\",\n",
              " 'down',\n",
              " '‘re',\n",
              " 'twenty',\n",
              " 'cannot',\n",
              " 'give',\n",
              " 'few',\n",
              " 'until',\n",
              " 'even',\n",
              " 'herself',\n",
              " 'made',\n",
              " 'very',\n",
              " \"'m\",\n",
              " 'whereas',\n",
              " 'off',\n",
              " 'thereupon',\n",
              " 'not',\n",
              " 'else',\n",
              " '’m',\n",
              " 'quite',\n",
              " 'other',\n",
              " 'though',\n",
              " 'eight',\n",
              " 'hence',\n",
              " 'none',\n",
              " 'once',\n",
              " 'they',\n",
              " 'is',\n",
              " 'another',\n",
              " 'less',\n",
              " 'could',\n",
              " 'up',\n",
              " 'through',\n",
              " 'full',\n",
              " 'mostly',\n",
              " 'next',\n",
              " 'anyhow',\n",
              " 'these',\n",
              " 'must',\n",
              " '‘ve',\n",
              " 'all',\n",
              " 'thereby',\n",
              " 'here',\n",
              " '’ll',\n",
              " 'twelve',\n",
              " 'about',\n",
              " 'six',\n",
              " 'while',\n",
              " 'by',\n",
              " 'thereafter',\n",
              " 'unless',\n",
              " 'n’t',\n",
              " '‘s',\n",
              " 'last',\n",
              " 'empty',\n",
              " 'seeming',\n",
              " 'also',\n",
              " 'but',\n",
              " 'around',\n",
              " '’re',\n",
              " 'done',\n",
              " 'can',\n",
              " 'everything',\n",
              " 'whence',\n",
              " 'third',\n",
              " 'either',\n",
              " 'may',\n",
              " 'otherwise',\n",
              " 'upon',\n",
              " 'via',\n",
              " 'therefore',\n",
              " 'same',\n",
              " 'least',\n",
              " 'those',\n",
              " 'her',\n",
              " 'regarding',\n",
              " 'three',\n",
              " 'wherein',\n",
              " 'your',\n",
              " 'still',\n",
              " 'an',\n",
              " '‘m',\n",
              " 'yourself',\n",
              " 'almost',\n",
              " 'too',\n",
              " 'mine',\n",
              " 'front',\n",
              " 'his',\n",
              " 'have',\n",
              " 'make',\n",
              " 'their',\n",
              " 'towards',\n",
              " 'serious',\n",
              " 'he',\n",
              " 'under',\n",
              " 'again',\n",
              " 'from',\n",
              " 'move',\n",
              " 'nor',\n",
              " 'themselves',\n",
              " 'more',\n",
              " 'for',\n",
              " 'anyone',\n",
              " 'except',\n",
              " 'out',\n",
              " 'whatever',\n",
              " 'so',\n",
              " 'beside',\n",
              " 'behind',\n",
              " 'rather',\n",
              " 'various',\n",
              " 'hereafter',\n",
              " 'my',\n",
              " 'would',\n",
              " 'myself']"
            ]
          },
          "metadata": {},
          "execution_count": 13
        }
      ]
    },
    {
      "cell_type": "code",
      "source": [
        "len(stopwords)"
      ],
      "metadata": {
        "id": "EFZWSarGfwGD",
        "colab": {
          "base_uri": "https://localhost:8080/"
        },
        "outputId": "ed3091d2-cb6b-479a-bd43-3591e81daa46"
      },
      "execution_count": 14,
      "outputs": [
        {
          "output_type": "execute_result",
          "data": {
            "text/plain": [
              "326"
            ]
          },
          "metadata": {},
          "execution_count": 14
        }
      ]
    },
    {
      "cell_type": "code",
      "source": [
        "nlp = spacy.load('en_core_web_sm')"
      ],
      "metadata": {
        "id": "SRhzKdYKfwJD"
      },
      "execution_count": 15,
      "outputs": []
    },
    {
      "cell_type": "code",
      "source": [
        "text"
      ],
      "metadata": {
        "id": "weIRwINifwMz",
        "colab": {
          "base_uri": "https://localhost:8080/",
          "height": 127
        },
        "outputId": "4471e378-aa6a-4b25-fcc4-0f966077fd2b"
      },
      "execution_count": 16,
      "outputs": [
        {
          "output_type": "execute_result",
          "data": {
            "text/plain": [
              "'There are broadly two types of extractive summarization tasks depending on what the summarization program focuses on. The first is generic summarization, which focuses on obtaining a generic summary or abstract of the collection (whether documents, or sets of images, or videos, news stories etc.). The second is query relevant summarization, sometimes called query-based summarization, which summarizes objects specific to a query. Summarization systems are able to create both query relevant text summaries and generic machine-generated summaries depending on what the user needs.\\nAn example of a summarization problem is document summarization, which attempts to automatically produce an abstract from a given document. Sometimes one might be interested in generating a summary from a single source document, while others can use multiple source documents (for example, a cluster of articles on the same topic). This problem is called multi-document summarization. A related application is summarizing news articles. Imagine a system, which automatically pulls together news articles on a given topic (from the web), and concisely represents the latest news as a summary.\\nImage collection summarization is another application example of automatic summarization. It consists in selecting a representative set of images from a larger set of images.[4] A summary in this context is useful to show the most representative images of results in an image collection exploration system. Video summarization is a related domain, where the system automatically creates a trailer of a long video. This also has applications in consumer or personal videos, where one might want to skip the boring or repetitive actions. Similarly, in surveillance videos, one would want to extract important and suspicious activity, while ignoring all the boring and redundant frames captured '"
            ],
            "application/vnd.google.colaboratory.intrinsic+json": {
              "type": "string"
            }
          },
          "metadata": {},
          "execution_count": 16
        }
      ]
    },
    {
      "cell_type": "code",
      "source": [
        "doc = nlp(text)\n",
        "doc"
      ],
      "metadata": {
        "id": "BRLrYkoPfwRP",
        "colab": {
          "base_uri": "https://localhost:8080/"
        },
        "outputId": "3da962bc-0341-4053-f594-a3906e33455f"
      },
      "execution_count": 17,
      "outputs": [
        {
          "output_type": "execute_result",
          "data": {
            "text/plain": [
              "There are broadly two types of extractive summarization tasks depending on what the summarization program focuses on. The first is generic summarization, which focuses on obtaining a generic summary or abstract of the collection (whether documents, or sets of images, or videos, news stories etc.). The second is query relevant summarization, sometimes called query-based summarization, which summarizes objects specific to a query. Summarization systems are able to create both query relevant text summaries and generic machine-generated summaries depending on what the user needs.\n",
              "An example of a summarization problem is document summarization, which attempts to automatically produce an abstract from a given document. Sometimes one might be interested in generating a summary from a single source document, while others can use multiple source documents (for example, a cluster of articles on the same topic). This problem is called multi-document summarization. A related application is summarizing news articles. Imagine a system, which automatically pulls together news articles on a given topic (from the web), and concisely represents the latest news as a summary.\n",
              "Image collection summarization is another application example of automatic summarization. It consists in selecting a representative set of images from a larger set of images.[4] A summary in this context is useful to show the most representative images of results in an image collection exploration system. Video summarization is a related domain, where the system automatically creates a trailer of a long video. This also has applications in consumer or personal videos, where one might want to skip the boring or repetitive actions. Similarly, in surveillance videos, one would want to extract important and suspicious activity, while ignoring all the boring and redundant frames captured "
            ]
          },
          "metadata": {},
          "execution_count": 17
        }
      ]
    },
    {
      "cell_type": "code",
      "source": [
        "# lets get the tokens from text\n",
        "tokens = [token.text for token in doc]\n",
        "print(tokens)\n",
        "#when we execute everythihg we created tokens from the text & not removed any of the stopwords & didnt cleaned the data"
      ],
      "metadata": {
        "id": "Q_me0K0AfwU0",
        "colab": {
          "base_uri": "https://localhost:8080/"
        },
        "outputId": "7a398d1f-9abd-4da4-c70a-4d40ca92acd6"
      },
      "execution_count": 18,
      "outputs": [
        {
          "output_type": "stream",
          "name": "stdout",
          "text": [
            "['There', 'are', 'broadly', 'two', 'types', 'of', 'extractive', 'summarization', 'tasks', 'depending', 'on', 'what', 'the', 'summarization', 'program', 'focuses', 'on', '.', 'The', 'first', 'is', 'generic', 'summarization', ',', 'which', 'focuses', 'on', 'obtaining', 'a', 'generic', 'summary', 'or', 'abstract', 'of', 'the', 'collection', '(', 'whether', 'documents', ',', 'or', 'sets', 'of', 'images', ',', 'or', 'videos', ',', 'news', 'stories', 'etc', '.', ')', '.', 'The', 'second', 'is', 'query', 'relevant', 'summarization', ',', 'sometimes', 'called', 'query', '-', 'based', 'summarization', ',', 'which', 'summarizes', 'objects', 'specific', 'to', 'a', 'query', '.', 'Summarization', 'systems', 'are', 'able', 'to', 'create', 'both', 'query', 'relevant', 'text', 'summaries', 'and', 'generic', 'machine', '-', 'generated', 'summaries', 'depending', 'on', 'what', 'the', 'user', 'needs', '.', '\\n', 'An', 'example', 'of', 'a', 'summarization', 'problem', 'is', 'document', 'summarization', ',', 'which', 'attempts', 'to', 'automatically', 'produce', 'an', 'abstract', 'from', 'a', 'given', 'document', '.', 'Sometimes', 'one', 'might', 'be', 'interested', 'in', 'generating', 'a', 'summary', 'from', 'a', 'single', 'source', 'document', ',', 'while', 'others', 'can', 'use', 'multiple', 'source', 'documents', '(', 'for', 'example', ',', 'a', 'cluster', 'of', 'articles', 'on', 'the', 'same', 'topic', ')', '.', 'This', 'problem', 'is', 'called', 'multi', '-', 'document', 'summarization', '.', 'A', 'related', 'application', 'is', 'summarizing', 'news', 'articles', '.', 'Imagine', 'a', 'system', ',', 'which', 'automatically', 'pulls', 'together', 'news', 'articles', 'on', 'a', 'given', 'topic', '(', 'from', 'the', 'web', ')', ',', 'and', 'concisely', 'represents', 'the', 'latest', 'news', 'as', 'a', 'summary', '.', '\\n', 'Image', 'collection', 'summarization', 'is', 'another', 'application', 'example', 'of', 'automatic', 'summarization', '.', 'It', 'consists', 'in', 'selecting', 'a', 'representative', 'set', 'of', 'images', 'from', 'a', 'larger', 'set', 'of', 'images.[4', ']', 'A', 'summary', 'in', 'this', 'context', 'is', 'useful', 'to', 'show', 'the', 'most', 'representative', 'images', 'of', 'results', 'in', 'an', 'image', 'collection', 'exploration', 'system', '.', 'Video', 'summarization', 'is', 'a', 'related', 'domain', ',', 'where', 'the', 'system', 'automatically', 'creates', 'a', 'trailer', 'of', 'a', 'long', 'video', '.', 'This', 'also', 'has', 'applications', 'in', 'consumer', 'or', 'personal', 'videos', ',', 'where', 'one', 'might', 'want', 'to', 'skip', 'the', 'boring', 'or', 'repetitive', 'actions', '.', 'Similarly', ',', 'in', 'surveillance', 'videos', ',', 'one', 'would', 'want', 'to', 'extract', 'important', 'and', 'suspicious', 'activity', ',', 'while', 'ignoring', 'all', 'the', 'boring', 'and', 'redundant', 'frames', 'captured']\n"
          ]
        }
      ]
    },
    {
      "cell_type": "code",
      "source": [
        "tokens"
      ],
      "metadata": {
        "id": "hf_1QKXEdIzM",
        "colab": {
          "base_uri": "https://localhost:8080/"
        },
        "outputId": "18405b87-e234-41b9-af85-e3eac1367deb"
      },
      "execution_count": 19,
      "outputs": [
        {
          "output_type": "execute_result",
          "data": {
            "text/plain": [
              "['There',\n",
              " 'are',\n",
              " 'broadly',\n",
              " 'two',\n",
              " 'types',\n",
              " 'of',\n",
              " 'extractive',\n",
              " 'summarization',\n",
              " 'tasks',\n",
              " 'depending',\n",
              " 'on',\n",
              " 'what',\n",
              " 'the',\n",
              " 'summarization',\n",
              " 'program',\n",
              " 'focuses',\n",
              " 'on',\n",
              " '.',\n",
              " 'The',\n",
              " 'first',\n",
              " 'is',\n",
              " 'generic',\n",
              " 'summarization',\n",
              " ',',\n",
              " 'which',\n",
              " 'focuses',\n",
              " 'on',\n",
              " 'obtaining',\n",
              " 'a',\n",
              " 'generic',\n",
              " 'summary',\n",
              " 'or',\n",
              " 'abstract',\n",
              " 'of',\n",
              " 'the',\n",
              " 'collection',\n",
              " '(',\n",
              " 'whether',\n",
              " 'documents',\n",
              " ',',\n",
              " 'or',\n",
              " 'sets',\n",
              " 'of',\n",
              " 'images',\n",
              " ',',\n",
              " 'or',\n",
              " 'videos',\n",
              " ',',\n",
              " 'news',\n",
              " 'stories',\n",
              " 'etc',\n",
              " '.',\n",
              " ')',\n",
              " '.',\n",
              " 'The',\n",
              " 'second',\n",
              " 'is',\n",
              " 'query',\n",
              " 'relevant',\n",
              " 'summarization',\n",
              " ',',\n",
              " 'sometimes',\n",
              " 'called',\n",
              " 'query',\n",
              " '-',\n",
              " 'based',\n",
              " 'summarization',\n",
              " ',',\n",
              " 'which',\n",
              " 'summarizes',\n",
              " 'objects',\n",
              " 'specific',\n",
              " 'to',\n",
              " 'a',\n",
              " 'query',\n",
              " '.',\n",
              " 'Summarization',\n",
              " 'systems',\n",
              " 'are',\n",
              " 'able',\n",
              " 'to',\n",
              " 'create',\n",
              " 'both',\n",
              " 'query',\n",
              " 'relevant',\n",
              " 'text',\n",
              " 'summaries',\n",
              " 'and',\n",
              " 'generic',\n",
              " 'machine',\n",
              " '-',\n",
              " 'generated',\n",
              " 'summaries',\n",
              " 'depending',\n",
              " 'on',\n",
              " 'what',\n",
              " 'the',\n",
              " 'user',\n",
              " 'needs',\n",
              " '.',\n",
              " '\\n',\n",
              " 'An',\n",
              " 'example',\n",
              " 'of',\n",
              " 'a',\n",
              " 'summarization',\n",
              " 'problem',\n",
              " 'is',\n",
              " 'document',\n",
              " 'summarization',\n",
              " ',',\n",
              " 'which',\n",
              " 'attempts',\n",
              " 'to',\n",
              " 'automatically',\n",
              " 'produce',\n",
              " 'an',\n",
              " 'abstract',\n",
              " 'from',\n",
              " 'a',\n",
              " 'given',\n",
              " 'document',\n",
              " '.',\n",
              " 'Sometimes',\n",
              " 'one',\n",
              " 'might',\n",
              " 'be',\n",
              " 'interested',\n",
              " 'in',\n",
              " 'generating',\n",
              " 'a',\n",
              " 'summary',\n",
              " 'from',\n",
              " 'a',\n",
              " 'single',\n",
              " 'source',\n",
              " 'document',\n",
              " ',',\n",
              " 'while',\n",
              " 'others',\n",
              " 'can',\n",
              " 'use',\n",
              " 'multiple',\n",
              " 'source',\n",
              " 'documents',\n",
              " '(',\n",
              " 'for',\n",
              " 'example',\n",
              " ',',\n",
              " 'a',\n",
              " 'cluster',\n",
              " 'of',\n",
              " 'articles',\n",
              " 'on',\n",
              " 'the',\n",
              " 'same',\n",
              " 'topic',\n",
              " ')',\n",
              " '.',\n",
              " 'This',\n",
              " 'problem',\n",
              " 'is',\n",
              " 'called',\n",
              " 'multi',\n",
              " '-',\n",
              " 'document',\n",
              " 'summarization',\n",
              " '.',\n",
              " 'A',\n",
              " 'related',\n",
              " 'application',\n",
              " 'is',\n",
              " 'summarizing',\n",
              " 'news',\n",
              " 'articles',\n",
              " '.',\n",
              " 'Imagine',\n",
              " 'a',\n",
              " 'system',\n",
              " ',',\n",
              " 'which',\n",
              " 'automatically',\n",
              " 'pulls',\n",
              " 'together',\n",
              " 'news',\n",
              " 'articles',\n",
              " 'on',\n",
              " 'a',\n",
              " 'given',\n",
              " 'topic',\n",
              " '(',\n",
              " 'from',\n",
              " 'the',\n",
              " 'web',\n",
              " ')',\n",
              " ',',\n",
              " 'and',\n",
              " 'concisely',\n",
              " 'represents',\n",
              " 'the',\n",
              " 'latest',\n",
              " 'news',\n",
              " 'as',\n",
              " 'a',\n",
              " 'summary',\n",
              " '.',\n",
              " '\\n',\n",
              " 'Image',\n",
              " 'collection',\n",
              " 'summarization',\n",
              " 'is',\n",
              " 'another',\n",
              " 'application',\n",
              " 'example',\n",
              " 'of',\n",
              " 'automatic',\n",
              " 'summarization',\n",
              " '.',\n",
              " 'It',\n",
              " 'consists',\n",
              " 'in',\n",
              " 'selecting',\n",
              " 'a',\n",
              " 'representative',\n",
              " 'set',\n",
              " 'of',\n",
              " 'images',\n",
              " 'from',\n",
              " 'a',\n",
              " 'larger',\n",
              " 'set',\n",
              " 'of',\n",
              " 'images.[4',\n",
              " ']',\n",
              " 'A',\n",
              " 'summary',\n",
              " 'in',\n",
              " 'this',\n",
              " 'context',\n",
              " 'is',\n",
              " 'useful',\n",
              " 'to',\n",
              " 'show',\n",
              " 'the',\n",
              " 'most',\n",
              " 'representative',\n",
              " 'images',\n",
              " 'of',\n",
              " 'results',\n",
              " 'in',\n",
              " 'an',\n",
              " 'image',\n",
              " 'collection',\n",
              " 'exploration',\n",
              " 'system',\n",
              " '.',\n",
              " 'Video',\n",
              " 'summarization',\n",
              " 'is',\n",
              " 'a',\n",
              " 'related',\n",
              " 'domain',\n",
              " ',',\n",
              " 'where',\n",
              " 'the',\n",
              " 'system',\n",
              " 'automatically',\n",
              " 'creates',\n",
              " 'a',\n",
              " 'trailer',\n",
              " 'of',\n",
              " 'a',\n",
              " 'long',\n",
              " 'video',\n",
              " '.',\n",
              " 'This',\n",
              " 'also',\n",
              " 'has',\n",
              " 'applications',\n",
              " 'in',\n",
              " 'consumer',\n",
              " 'or',\n",
              " 'personal',\n",
              " 'videos',\n",
              " ',',\n",
              " 'where',\n",
              " 'one',\n",
              " 'might',\n",
              " 'want',\n",
              " 'to',\n",
              " 'skip',\n",
              " 'the',\n",
              " 'boring',\n",
              " 'or',\n",
              " 'repetitive',\n",
              " 'actions',\n",
              " '.',\n",
              " 'Similarly',\n",
              " ',',\n",
              " 'in',\n",
              " 'surveillance',\n",
              " 'videos',\n",
              " ',',\n",
              " 'one',\n",
              " 'would',\n",
              " 'want',\n",
              " 'to',\n",
              " 'extract',\n",
              " 'important',\n",
              " 'and',\n",
              " 'suspicious',\n",
              " 'activity',\n",
              " ',',\n",
              " 'while',\n",
              " 'ignoring',\n",
              " 'all',\n",
              " 'the',\n",
              " 'boring',\n",
              " 'and',\n",
              " 'redundant',\n",
              " 'frames',\n",
              " 'captured']"
            ]
          },
          "metadata": {},
          "execution_count": 19
        }
      ]
    },
    {
      "cell_type": "code",
      "source": [
        "len(tokens)"
      ],
      "metadata": {
        "id": "WW8BTHiIlLSP",
        "colab": {
          "base_uri": "https://localhost:8080/"
        },
        "outputId": "1e4b77a6-8f2c-4144-f146-d93b891d82cf"
      },
      "execution_count": 20,
      "outputs": [
        {
          "output_type": "execute_result",
          "data": {
            "text/plain": [
              "322"
            ]
          },
          "metadata": {},
          "execution_count": 20
        }
      ]
    },
    {
      "cell_type": "code",
      "source": [
        "punctuation # also called as noisy characters"
      ],
      "metadata": {
        "id": "QFaW1tVElLQs",
        "colab": {
          "base_uri": "https://localhost:8080/",
          "height": 36
        },
        "outputId": "4ca75b92-5c8c-4141-aad8-ce603d0c136e"
      },
      "execution_count": 21,
      "outputs": [
        {
          "output_type": "execute_result",
          "data": {
            "text/plain": [
              "'!\"#$%&\\'()*+,-./:;<=>?@[\\\\]^_`{|}~'"
            ],
            "application/vnd.google.colaboratory.intrinsic+json": {
              "type": "string"
            }
          },
          "metadata": {},
          "execution_count": 21
        }
      ]
    },
    {
      "cell_type": "code",
      "source": [
        "doc"
      ],
      "metadata": {
        "id": "INouxAjilLPD",
        "colab": {
          "base_uri": "https://localhost:8080/"
        },
        "outputId": "32b4c4a9-9f62-4404-8475-cc96265e250a"
      },
      "execution_count": 22,
      "outputs": [
        {
          "output_type": "execute_result",
          "data": {
            "text/plain": [
              "There are broadly two types of extractive summarization tasks depending on what the summarization program focuses on. The first is generic summarization, which focuses on obtaining a generic summary or abstract of the collection (whether documents, or sets of images, or videos, news stories etc.). The second is query relevant summarization, sometimes called query-based summarization, which summarizes objects specific to a query. Summarization systems are able to create both query relevant text summaries and generic machine-generated summaries depending on what the user needs.\n",
              "An example of a summarization problem is document summarization, which attempts to automatically produce an abstract from a given document. Sometimes one might be interested in generating a summary from a single source document, while others can use multiple source documents (for example, a cluster of articles on the same topic). This problem is called multi-document summarization. A related application is summarizing news articles. Imagine a system, which automatically pulls together news articles on a given topic (from the web), and concisely represents the latest news as a summary.\n",
              "Image collection summarization is another application example of automatic summarization. It consists in selecting a representative set of images from a larger set of images.[4] A summary in this context is useful to show the most representative images of results in an image collection exploration system. Video summarization is a related domain, where the system automatically creates a trailer of a long video. This also has applications in consumer or personal videos, where one might want to skip the boring or repetitive actions. Similarly, in surveillance videos, one would want to extract important and suspicious activity, while ignoring all the boring and redundant frames captured "
            ]
          },
          "metadata": {},
          "execution_count": 22
        }
      ]
    },
    {
      "cell_type": "code",
      "source": [
        "# we have to calcualte the freaquency of each and every word, how many time word is repetation in text\n",
        "\n",
        "word_frequencies = {}\n",
        "\n",
        "for word in doc:\n",
        "    if word.text.lower() not in stopwords:\n",
        "        if word.text.lower() not in punctuation:\n",
        "            if word.text not in word_frequencies.keys():\n",
        "                word_frequencies[word.text] = 1\n",
        "            else:\n",
        "                word_frequencies[word.text] += 1"
      ],
      "metadata": {
        "id": "f73PIMxolK_Y"
      },
      "execution_count": 23,
      "outputs": []
    },
    {
      "cell_type": "code",
      "source": [
        "word_frequencies"
      ],
      "metadata": {
        "id": "yewuEmr8lL0N",
        "colab": {
          "base_uri": "https://localhost:8080/"
        },
        "outputId": "50f59705-5690-44df-af11-84ad8825dd3b"
      },
      "execution_count": 24,
      "outputs": [
        {
          "output_type": "execute_result",
          "data": {
            "text/plain": [
              "{'broadly': 1,\n",
              " 'types': 1,\n",
              " 'extractive': 1,\n",
              " 'summarization': 11,\n",
              " 'tasks': 1,\n",
              " 'depending': 2,\n",
              " 'program': 1,\n",
              " 'focuses': 2,\n",
              " 'generic': 3,\n",
              " 'obtaining': 1,\n",
              " 'summary': 4,\n",
              " 'abstract': 2,\n",
              " 'collection': 3,\n",
              " 'documents': 2,\n",
              " 'sets': 1,\n",
              " 'images': 3,\n",
              " 'videos': 3,\n",
              " 'news': 4,\n",
              " 'stories': 1,\n",
              " 'etc': 1,\n",
              " 'second': 1,\n",
              " 'query': 4,\n",
              " 'relevant': 2,\n",
              " 'called': 2,\n",
              " 'based': 1,\n",
              " 'summarizes': 1,\n",
              " 'objects': 1,\n",
              " 'specific': 1,\n",
              " 'Summarization': 1,\n",
              " 'systems': 1,\n",
              " 'able': 1,\n",
              " 'create': 1,\n",
              " 'text': 1,\n",
              " 'summaries': 2,\n",
              " 'machine': 1,\n",
              " 'generated': 1,\n",
              " 'user': 1,\n",
              " 'needs': 1,\n",
              " '\\n': 2,\n",
              " 'example': 3,\n",
              " 'problem': 2,\n",
              " 'document': 4,\n",
              " 'attempts': 1,\n",
              " 'automatically': 3,\n",
              " 'produce': 1,\n",
              " 'given': 2,\n",
              " 'interested': 1,\n",
              " 'generating': 1,\n",
              " 'single': 1,\n",
              " 'source': 2,\n",
              " 'use': 1,\n",
              " 'multiple': 1,\n",
              " 'cluster': 1,\n",
              " 'articles': 3,\n",
              " 'topic': 2,\n",
              " 'multi': 1,\n",
              " 'related': 2,\n",
              " 'application': 2,\n",
              " 'summarizing': 1,\n",
              " 'Imagine': 1,\n",
              " 'system': 3,\n",
              " 'pulls': 1,\n",
              " 'web': 1,\n",
              " 'concisely': 1,\n",
              " 'represents': 1,\n",
              " 'latest': 1,\n",
              " 'Image': 1,\n",
              " 'automatic': 1,\n",
              " 'consists': 1,\n",
              " 'selecting': 1,\n",
              " 'representative': 2,\n",
              " 'set': 2,\n",
              " 'larger': 1,\n",
              " 'images.[4': 1,\n",
              " 'context': 1,\n",
              " 'useful': 1,\n",
              " 'results': 1,\n",
              " 'image': 1,\n",
              " 'exploration': 1,\n",
              " 'Video': 1,\n",
              " 'domain': 1,\n",
              " 'creates': 1,\n",
              " 'trailer': 1,\n",
              " 'long': 1,\n",
              " 'video': 1,\n",
              " 'applications': 1,\n",
              " 'consumer': 1,\n",
              " 'personal': 1,\n",
              " 'want': 2,\n",
              " 'skip': 1,\n",
              " 'boring': 2,\n",
              " 'repetitive': 1,\n",
              " 'actions': 1,\n",
              " 'Similarly': 1,\n",
              " 'surveillance': 1,\n",
              " 'extract': 1,\n",
              " 'important': 1,\n",
              " 'suspicious': 1,\n",
              " 'activity': 1,\n",
              " 'ignoring': 1,\n",
              " 'redundant': 1,\n",
              " 'frames': 1,\n",
              " 'captured': 1}"
            ]
          },
          "metadata": {},
          "execution_count": 24
        }
      ]
    },
    {
      "cell_type": "code",
      "source": [
        "len(word_frequencies)"
      ],
      "metadata": {
        "id": "-BeXqT7zlLw3",
        "colab": {
          "base_uri": "https://localhost:8080/"
        },
        "outputId": "70a58d98-0687-463f-b174-903c5f1996aa"
      },
      "execution_count": 25,
      "outputs": [
        {
          "output_type": "execute_result",
          "data": {
            "text/plain": [
              "103"
            ]
          },
          "metadata": {},
          "execution_count": 25
        }
      ]
    },
    {
      "cell_type": "code",
      "source": [
        "word_frequencies"
      ],
      "metadata": {
        "id": "1im4UtWblLs0",
        "colab": {
          "base_uri": "https://localhost:8080/"
        },
        "outputId": "d143bda9-b835-4c88-d75a-864bf3ab6622"
      },
      "execution_count": 26,
      "outputs": [
        {
          "output_type": "execute_result",
          "data": {
            "text/plain": [
              "{'broadly': 1,\n",
              " 'types': 1,\n",
              " 'extractive': 1,\n",
              " 'summarization': 11,\n",
              " 'tasks': 1,\n",
              " 'depending': 2,\n",
              " 'program': 1,\n",
              " 'focuses': 2,\n",
              " 'generic': 3,\n",
              " 'obtaining': 1,\n",
              " 'summary': 4,\n",
              " 'abstract': 2,\n",
              " 'collection': 3,\n",
              " 'documents': 2,\n",
              " 'sets': 1,\n",
              " 'images': 3,\n",
              " 'videos': 3,\n",
              " 'news': 4,\n",
              " 'stories': 1,\n",
              " 'etc': 1,\n",
              " 'second': 1,\n",
              " 'query': 4,\n",
              " 'relevant': 2,\n",
              " 'called': 2,\n",
              " 'based': 1,\n",
              " 'summarizes': 1,\n",
              " 'objects': 1,\n",
              " 'specific': 1,\n",
              " 'Summarization': 1,\n",
              " 'systems': 1,\n",
              " 'able': 1,\n",
              " 'create': 1,\n",
              " 'text': 1,\n",
              " 'summaries': 2,\n",
              " 'machine': 1,\n",
              " 'generated': 1,\n",
              " 'user': 1,\n",
              " 'needs': 1,\n",
              " '\\n': 2,\n",
              " 'example': 3,\n",
              " 'problem': 2,\n",
              " 'document': 4,\n",
              " 'attempts': 1,\n",
              " 'automatically': 3,\n",
              " 'produce': 1,\n",
              " 'given': 2,\n",
              " 'interested': 1,\n",
              " 'generating': 1,\n",
              " 'single': 1,\n",
              " 'source': 2,\n",
              " 'use': 1,\n",
              " 'multiple': 1,\n",
              " 'cluster': 1,\n",
              " 'articles': 3,\n",
              " 'topic': 2,\n",
              " 'multi': 1,\n",
              " 'related': 2,\n",
              " 'application': 2,\n",
              " 'summarizing': 1,\n",
              " 'Imagine': 1,\n",
              " 'system': 3,\n",
              " 'pulls': 1,\n",
              " 'web': 1,\n",
              " 'concisely': 1,\n",
              " 'represents': 1,\n",
              " 'latest': 1,\n",
              " 'Image': 1,\n",
              " 'automatic': 1,\n",
              " 'consists': 1,\n",
              " 'selecting': 1,\n",
              " 'representative': 2,\n",
              " 'set': 2,\n",
              " 'larger': 1,\n",
              " 'images.[4': 1,\n",
              " 'context': 1,\n",
              " 'useful': 1,\n",
              " 'results': 1,\n",
              " 'image': 1,\n",
              " 'exploration': 1,\n",
              " 'Video': 1,\n",
              " 'domain': 1,\n",
              " 'creates': 1,\n",
              " 'trailer': 1,\n",
              " 'long': 1,\n",
              " 'video': 1,\n",
              " 'applications': 1,\n",
              " 'consumer': 1,\n",
              " 'personal': 1,\n",
              " 'want': 2,\n",
              " 'skip': 1,\n",
              " 'boring': 2,\n",
              " 'repetitive': 1,\n",
              " 'actions': 1,\n",
              " 'Similarly': 1,\n",
              " 'surveillance': 1,\n",
              " 'extract': 1,\n",
              " 'important': 1,\n",
              " 'suspicious': 1,\n",
              " 'activity': 1,\n",
              " 'ignoring': 1,\n",
              " 'redundant': 1,\n",
              " 'frames': 1,\n",
              " 'captured': 1}"
            ]
          },
          "metadata": {},
          "execution_count": 26
        }
      ]
    },
    {
      "cell_type": "code",
      "source": [
        "max_frequency = max(word_frequencies.values())\n",
        "max_frequency"
      ],
      "metadata": {
        "id": "p2o8OXD0lLpO",
        "colab": {
          "base_uri": "https://localhost:8080/"
        },
        "outputId": "35383ed4-119b-4d8d-eec7-0fe691c5d898"
      },
      "execution_count": 27,
      "outputs": [
        {
          "output_type": "execute_result",
          "data": {
            "text/plain": [
              "11"
            ]
          },
          "metadata": {},
          "execution_count": 27
        }
      ]
    },
    {
      "cell_type": "code",
      "source": [
        "# to get normalized/weighted frequencies you should devide all frequencies with 11\n",
        "for word in word_frequencies.keys():\n",
        "    word_frequencies[word] = word_frequencies[word]/max_frequency"
      ],
      "metadata": {
        "id": "pFg1zpvmlK4k"
      },
      "execution_count": 28,
      "outputs": []
    },
    {
      "cell_type": "code",
      "source": [
        "# print(word_frequencies)\n",
        "word_frequencies\n",
        "# this is the normalized frequencies of each word"
      ],
      "metadata": {
        "id": "SkX5MLcylMhy",
        "colab": {
          "base_uri": "https://localhost:8080/"
        },
        "outputId": "1da82f16-44af-40d7-e214-3231ff4da33d"
      },
      "execution_count": 29,
      "outputs": [
        {
          "output_type": "execute_result",
          "data": {
            "text/plain": [
              "{'broadly': 0.09090909090909091,\n",
              " 'types': 0.09090909090909091,\n",
              " 'extractive': 0.09090909090909091,\n",
              " 'summarization': 1.0,\n",
              " 'tasks': 0.09090909090909091,\n",
              " 'depending': 0.18181818181818182,\n",
              " 'program': 0.09090909090909091,\n",
              " 'focuses': 0.18181818181818182,\n",
              " 'generic': 0.2727272727272727,\n",
              " 'obtaining': 0.09090909090909091,\n",
              " 'summary': 0.36363636363636365,\n",
              " 'abstract': 0.18181818181818182,\n",
              " 'collection': 0.2727272727272727,\n",
              " 'documents': 0.18181818181818182,\n",
              " 'sets': 0.09090909090909091,\n",
              " 'images': 0.2727272727272727,\n",
              " 'videos': 0.2727272727272727,\n",
              " 'news': 0.36363636363636365,\n",
              " 'stories': 0.09090909090909091,\n",
              " 'etc': 0.09090909090909091,\n",
              " 'second': 0.09090909090909091,\n",
              " 'query': 0.36363636363636365,\n",
              " 'relevant': 0.18181818181818182,\n",
              " 'called': 0.18181818181818182,\n",
              " 'based': 0.09090909090909091,\n",
              " 'summarizes': 0.09090909090909091,\n",
              " 'objects': 0.09090909090909091,\n",
              " 'specific': 0.09090909090909091,\n",
              " 'Summarization': 0.09090909090909091,\n",
              " 'systems': 0.09090909090909091,\n",
              " 'able': 0.09090909090909091,\n",
              " 'create': 0.09090909090909091,\n",
              " 'text': 0.09090909090909091,\n",
              " 'summaries': 0.18181818181818182,\n",
              " 'machine': 0.09090909090909091,\n",
              " 'generated': 0.09090909090909091,\n",
              " 'user': 0.09090909090909091,\n",
              " 'needs': 0.09090909090909091,\n",
              " '\\n': 0.18181818181818182,\n",
              " 'example': 0.2727272727272727,\n",
              " 'problem': 0.18181818181818182,\n",
              " 'document': 0.36363636363636365,\n",
              " 'attempts': 0.09090909090909091,\n",
              " 'automatically': 0.2727272727272727,\n",
              " 'produce': 0.09090909090909091,\n",
              " 'given': 0.18181818181818182,\n",
              " 'interested': 0.09090909090909091,\n",
              " 'generating': 0.09090909090909091,\n",
              " 'single': 0.09090909090909091,\n",
              " 'source': 0.18181818181818182,\n",
              " 'use': 0.09090909090909091,\n",
              " 'multiple': 0.09090909090909091,\n",
              " 'cluster': 0.09090909090909091,\n",
              " 'articles': 0.2727272727272727,\n",
              " 'topic': 0.18181818181818182,\n",
              " 'multi': 0.09090909090909091,\n",
              " 'related': 0.18181818181818182,\n",
              " 'application': 0.18181818181818182,\n",
              " 'summarizing': 0.09090909090909091,\n",
              " 'Imagine': 0.09090909090909091,\n",
              " 'system': 0.2727272727272727,\n",
              " 'pulls': 0.09090909090909091,\n",
              " 'web': 0.09090909090909091,\n",
              " 'concisely': 0.09090909090909091,\n",
              " 'represents': 0.09090909090909091,\n",
              " 'latest': 0.09090909090909091,\n",
              " 'Image': 0.09090909090909091,\n",
              " 'automatic': 0.09090909090909091,\n",
              " 'consists': 0.09090909090909091,\n",
              " 'selecting': 0.09090909090909091,\n",
              " 'representative': 0.18181818181818182,\n",
              " 'set': 0.18181818181818182,\n",
              " 'larger': 0.09090909090909091,\n",
              " 'images.[4': 0.09090909090909091,\n",
              " 'context': 0.09090909090909091,\n",
              " 'useful': 0.09090909090909091,\n",
              " 'results': 0.09090909090909091,\n",
              " 'image': 0.09090909090909091,\n",
              " 'exploration': 0.09090909090909091,\n",
              " 'Video': 0.09090909090909091,\n",
              " 'domain': 0.09090909090909091,\n",
              " 'creates': 0.09090909090909091,\n",
              " 'trailer': 0.09090909090909091,\n",
              " 'long': 0.09090909090909091,\n",
              " 'video': 0.09090909090909091,\n",
              " 'applications': 0.09090909090909091,\n",
              " 'consumer': 0.09090909090909091,\n",
              " 'personal': 0.09090909090909091,\n",
              " 'want': 0.18181818181818182,\n",
              " 'skip': 0.09090909090909091,\n",
              " 'boring': 0.18181818181818182,\n",
              " 'repetitive': 0.09090909090909091,\n",
              " 'actions': 0.09090909090909091,\n",
              " 'Similarly': 0.09090909090909091,\n",
              " 'surveillance': 0.09090909090909091,\n",
              " 'extract': 0.09090909090909091,\n",
              " 'important': 0.09090909090909091,\n",
              " 'suspicious': 0.09090909090909091,\n",
              " 'activity': 0.09090909090909091,\n",
              " 'ignoring': 0.09090909090909091,\n",
              " 'redundant': 0.09090909090909091,\n",
              " 'frames': 0.09090909090909091,\n",
              " 'captured': 0.09090909090909091}"
            ]
          },
          "metadata": {},
          "execution_count": 29
        }
      ]
    },
    {
      "cell_type": "code",
      "source": [
        "sentence_tokens = [sent for sent in doc.sents]\n",
        "sentence_tokens"
      ],
      "metadata": {
        "id": "SH4r3EnXlMcu",
        "colab": {
          "base_uri": "https://localhost:8080/"
        },
        "outputId": "9cbbc6be-6ac2-4472-b96d-87c6b1a76ee5"
      },
      "execution_count": 30,
      "outputs": [
        {
          "output_type": "execute_result",
          "data": {
            "text/plain": [
              "[There are broadly two types of extractive summarization tasks depending on what the summarization program focuses on.,\n",
              " The first is generic summarization, which focuses on obtaining a generic summary or abstract of the collection (whether documents, or sets of images, or videos, news stories etc.).,\n",
              " The second is query relevant summarization, sometimes called query-based summarization, which summarizes objects specific to a query.,\n",
              " Summarization systems are able to create both query relevant text summaries and generic machine-generated summaries depending on what the user needs.,\n",
              " An example of a summarization problem is document summarization, which attempts to automatically produce an abstract from a given document.,\n",
              " Sometimes one might be interested in generating a summary from a single source document, while others can use multiple source documents (for example, a cluster of articles on the same topic).,\n",
              " This problem is called multi-document summarization.,\n",
              " A related application is summarizing news articles.,\n",
              " Imagine a system, which automatically pulls together news articles on a given topic (from the web), and concisely represents the latest news as a summary.,\n",
              " Image collection summarization is another application example of automatic summarization.,\n",
              " It consists in selecting a representative set of images from a larger set of images.[4],\n",
              " A summary in this context is useful to show the most representative images of results in an image collection exploration system.,\n",
              " Video summarization is a related domain, where the system automatically creates a trailer of a long video.,\n",
              " This also has applications in consumer or personal videos, where one might want to skip the boring or repetitive actions.,\n",
              " Similarly, in surveillance videos, one would want to extract important and suspicious activity, while ignoring all the boring and redundant frames captured]"
            ]
          },
          "metadata": {},
          "execution_count": 30
        }
      ]
    },
    {
      "cell_type": "code",
      "source": [
        "len(sentence_tokens)"
      ],
      "metadata": {
        "id": "iS5xmNa2lMZT",
        "colab": {
          "base_uri": "https://localhost:8080/"
        },
        "outputId": "b8dfc8db-9db8-477c-e558-652e3d18c9af"
      },
      "execution_count": 31,
      "outputs": [
        {
          "output_type": "execute_result",
          "data": {
            "text/plain": [
              "15"
            ]
          },
          "metadata": {},
          "execution_count": 31
        }
      ]
    },
    {
      "cell_type": "code",
      "source": [
        "sentence_tokens"
      ],
      "metadata": {
        "id": "L7lfEPchlMVa",
        "colab": {
          "base_uri": "https://localhost:8080/"
        },
        "outputId": "2daee1b7-5d4c-475b-a09e-b9a4fc20e777"
      },
      "execution_count": 32,
      "outputs": [
        {
          "output_type": "execute_result",
          "data": {
            "text/plain": [
              "[There are broadly two types of extractive summarization tasks depending on what the summarization program focuses on.,\n",
              " The first is generic summarization, which focuses on obtaining a generic summary or abstract of the collection (whether documents, or sets of images, or videos, news stories etc.).,\n",
              " The second is query relevant summarization, sometimes called query-based summarization, which summarizes objects specific to a query.,\n",
              " Summarization systems are able to create both query relevant text summaries and generic machine-generated summaries depending on what the user needs.,\n",
              " An example of a summarization problem is document summarization, which attempts to automatically produce an abstract from a given document.,\n",
              " Sometimes one might be interested in generating a summary from a single source document, while others can use multiple source documents (for example, a cluster of articles on the same topic).,\n",
              " This problem is called multi-document summarization.,\n",
              " A related application is summarizing news articles.,\n",
              " Imagine a system, which automatically pulls together news articles on a given topic (from the web), and concisely represents the latest news as a summary.,\n",
              " Image collection summarization is another application example of automatic summarization.,\n",
              " It consists in selecting a representative set of images from a larger set of images.[4],\n",
              " A summary in this context is useful to show the most representative images of results in an image collection exploration system.,\n",
              " Video summarization is a related domain, where the system automatically creates a trailer of a long video.,\n",
              " This also has applications in consumer or personal videos, where one might want to skip the boring or repetitive actions.,\n",
              " Similarly, in surveillance videos, one would want to extract important and suspicious activity, while ignoring all the boring and redundant frames captured]"
            ]
          },
          "metadata": {},
          "execution_count": 32
        }
      ]
    },
    {
      "cell_type": "code",
      "source": [
        "# we are going to calculate the sentence score, to calculate the sentence score\n",
        "sentence_scores = {}\n",
        "\n",
        "for sent in sentence_tokens:\n",
        "    for word in sent:\n",
        "        if word.text.lower() in word_frequencies.keys():\n",
        "            if sent not in sentence_scores.keys():\n",
        "                sentence_scores[sent] = word_frequencies[word.text.lower()]\n",
        "            else:\n",
        "                sentence_scores[sent] += word_frequencies[word.text.lower()]\n",
        ""
      ],
      "metadata": {
        "id": "6IGCYJ8yMRRz"
      },
      "execution_count": 33,
      "outputs": []
    },
    {
      "cell_type": "code",
      "source": [
        "sentence_scores"
      ],
      "metadata": {
        "colab": {
          "base_uri": "https://localhost:8080/"
        },
        "id": "leCOdwS-MRNA",
        "outputId": "74492a69-7170-4f39-c842-93a67f2f190f"
      },
      "execution_count": 34,
      "outputs": [
        {
          "output_type": "execute_result",
          "data": {
            "text/plain": [
              "{There are broadly two types of extractive summarization tasks depending on what the summarization program focuses on.: 2.818181818181818,\n",
              " The first is generic summarization, which focuses on obtaining a generic summary or abstract of the collection (whether documents, or sets of images, or videos, news stories etc.).: 3.9999999999999987,\n",
              " The second is query relevant summarization, sometimes called query-based summarization, which summarizes objects specific to a query.: 3.909090909090909,\n",
              " Summarization systems are able to create both query relevant text summaries and generic machine-generated summaries depending on what the user needs.: 3.2727272727272716,\n",
              " An example of a summarization problem is document summarization, which attempts to automatically produce an abstract from a given document.: 3.9999999999999996,\n",
              " Sometimes one might be interested in generating a summary from a single source document, while others can use multiple source documents (for example, a cluster of articles on the same topic).: 2.545454545454545,\n",
              " This problem is called multi-document summarization.: 1.8181818181818183,\n",
              " A related application is summarizing news articles.: 1.0909090909090908,\n",
              " Imagine a system, which automatically pulls together news articles on a given topic (from the web), and concisely represents the latest news as a summary.: 2.9090909090909087,\n",
              " Image collection summarization is another application example of automatic summarization.: 2.909090909090909,\n",
              " It consists in selecting a representative set of images from a larger set of images.[4]: 1.1818181818181817,\n",
              " A summary in this context is useful to show the most representative images of results in an image collection exploration system.: 1.818181818181818,\n",
              " Video summarization is a related domain, where the system automatically creates a trailer of a long video.: 2.2727272727272725,\n",
              " This also has applications in consumer or personal videos, where one might want to skip the boring or repetitive actions.: 1.1818181818181817,\n",
              " Similarly, in surveillance videos, one would want to extract important and suspicious activity, while ignoring all the boring and redundant frames captured: 1.4545454545454544}"
            ]
          },
          "metadata": {},
          "execution_count": 34
        }
      ]
    },
    {
      "cell_type": "code",
      "source": [
        "#lets say our case study was 30% sentence with maximum scores\n",
        "from heapq import nlargest"
      ],
      "metadata": {
        "id": "P94q16kZMRJE"
      },
      "execution_count": 35,
      "outputs": []
    },
    {
      "cell_type": "code",
      "source": [
        "select_length = int(len(sentence_tokens)*0.4)\n",
        "select_length"
      ],
      "metadata": {
        "colab": {
          "base_uri": "https://localhost:8080/"
        },
        "id": "UdKjtNWsMRFT",
        "outputId": "39f4dac3-3718-4086-bb96-0df0dae48f65"
      },
      "execution_count": 36,
      "outputs": [
        {
          "output_type": "execute_result",
          "data": {
            "text/plain": [
              "6"
            ]
          },
          "metadata": {},
          "execution_count": 36
        }
      ]
    },
    {
      "cell_type": "code",
      "source": [
        "# we have to select maximum 4 sentences out of all sentences\n",
        "summary = nlargest(select_length,sentence_scores, key = sentence_scores.get)"
      ],
      "metadata": {
        "id": "RgCTMe58MRB8"
      },
      "execution_count": 37,
      "outputs": []
    },
    {
      "cell_type": "code",
      "source": [
        "summary"
      ],
      "metadata": {
        "colab": {
          "base_uri": "https://localhost:8080/"
        },
        "id": "idxWXb4wMQ-T",
        "outputId": "5c3f2105-6a8a-4ed5-b620-8bf7ff53d3a2"
      },
      "execution_count": 38,
      "outputs": [
        {
          "output_type": "execute_result",
          "data": {
            "text/plain": [
              "[An example of a summarization problem is document summarization, which attempts to automatically produce an abstract from a given document.,\n",
              " The first is generic summarization, which focuses on obtaining a generic summary or abstract of the collection (whether documents, or sets of images, or videos, news stories etc.).,\n",
              " The second is query relevant summarization, sometimes called query-based summarization, which summarizes objects specific to a query.,\n",
              " Summarization systems are able to create both query relevant text summaries and generic machine-generated summaries depending on what the user needs.,\n",
              " Image collection summarization is another application example of automatic summarization.,\n",
              " Imagine a system, which automatically pulls together news articles on a given topic (from the web), and concisely represents the latest news as a summary.]"
            ]
          },
          "metadata": {},
          "execution_count": 38
        }
      ]
    },
    {
      "cell_type": "code",
      "source": [
        "sentence_scores"
      ],
      "metadata": {
        "colab": {
          "base_uri": "https://localhost:8080/"
        },
        "id": "oWfY_vKKMQ6s",
        "outputId": "6d696dee-d33c-4bf6-b009-f916dca01f35"
      },
      "execution_count": 39,
      "outputs": [
        {
          "output_type": "execute_result",
          "data": {
            "text/plain": [
              "{There are broadly two types of extractive summarization tasks depending on what the summarization program focuses on.: 2.818181818181818,\n",
              " The first is generic summarization, which focuses on obtaining a generic summary or abstract of the collection (whether documents, or sets of images, or videos, news stories etc.).: 3.9999999999999987,\n",
              " The second is query relevant summarization, sometimes called query-based summarization, which summarizes objects specific to a query.: 3.909090909090909,\n",
              " Summarization systems are able to create both query relevant text summaries and generic machine-generated summaries depending on what the user needs.: 3.2727272727272716,\n",
              " An example of a summarization problem is document summarization, which attempts to automatically produce an abstract from a given document.: 3.9999999999999996,\n",
              " Sometimes one might be interested in generating a summary from a single source document, while others can use multiple source documents (for example, a cluster of articles on the same topic).: 2.545454545454545,\n",
              " This problem is called multi-document summarization.: 1.8181818181818183,\n",
              " A related application is summarizing news articles.: 1.0909090909090908,\n",
              " Imagine a system, which automatically pulls together news articles on a given topic (from the web), and concisely represents the latest news as a summary.: 2.9090909090909087,\n",
              " Image collection summarization is another application example of automatic summarization.: 2.909090909090909,\n",
              " It consists in selecting a representative set of images from a larger set of images.[4]: 1.1818181818181817,\n",
              " A summary in this context is useful to show the most representative images of results in an image collection exploration system.: 1.818181818181818,\n",
              " Video summarization is a related domain, where the system automatically creates a trailer of a long video.: 2.2727272727272725,\n",
              " This also has applications in consumer or personal videos, where one might want to skip the boring or repetitive actions.: 1.1818181818181817,\n",
              " Similarly, in surveillance videos, one would want to extract important and suspicious activity, while ignoring all the boring and redundant frames captured: 1.4545454545454544}"
            ]
          },
          "metadata": {},
          "execution_count": 39
        }
      ]
    },
    {
      "cell_type": "code",
      "source": [
        "# if i need to combine these top 3 sentencs then\n",
        "\n",
        "final_summary = [word.text for word in summary]"
      ],
      "metadata": {
        "id": "EnJAdyiSMQ2h"
      },
      "execution_count": 40,
      "outputs": []
    },
    {
      "cell_type": "code",
      "source": [
        "final_summary"
      ],
      "metadata": {
        "colab": {
          "base_uri": "https://localhost:8080/"
        },
        "id": "RhrtfOwnMQnn",
        "outputId": "f79babaa-b978-42a2-b1d3-1fc46c6087d1"
      },
      "execution_count": 41,
      "outputs": [
        {
          "output_type": "execute_result",
          "data": {
            "text/plain": [
              "['An example of a summarization problem is document summarization, which attempts to automatically produce an abstract from a given document.',\n",
              " 'The first is generic summarization, which focuses on obtaining a generic summary or abstract of the collection (whether documents, or sets of images, or videos, news stories etc.).',\n",
              " 'The second is query relevant summarization, sometimes called query-based summarization, which summarizes objects specific to a query.',\n",
              " 'Summarization systems are able to create both query relevant text summaries and generic machine-generated summaries depending on what the user needs.\\n',\n",
              " 'Image collection summarization is another application example of automatic summarization.',\n",
              " 'Imagine a system, which automatically pulls together news articles on a given topic (from the web), and concisely represents the latest news as a summary.\\n']"
            ]
          },
          "metadata": {},
          "execution_count": 41
        }
      ]
    },
    {
      "cell_type": "code",
      "source": [
        "print(summary) # we get the final summary by our model"
      ],
      "metadata": {
        "colab": {
          "base_uri": "https://localhost:8080/"
        },
        "id": "FU3tRaZONLn0",
        "outputId": "e6dcb99a-26e0-4e1a-8125-1a196f485d8d"
      },
      "execution_count": 42,
      "outputs": [
        {
          "output_type": "stream",
          "name": "stdout",
          "text": [
            "[An example of a summarization problem is document summarization, which attempts to automatically produce an abstract from a given document., The first is generic summarization, which focuses on obtaining a generic summary or abstract of the collection (whether documents, or sets of images, or videos, news stories etc.)., The second is query relevant summarization, sometimes called query-based summarization, which summarizes objects specific to a query., Summarization systems are able to create both query relevant text summaries and generic machine-generated summaries depending on what the user needs.\n",
            ", Image collection summarization is another application example of automatic summarization., Imagine a system, which automatically pulls together news articles on a given topic (from the web), and concisely represents the latest news as a summary.\n",
            "]\n"
          ]
        }
      ]
    },
    {
      "cell_type": "code",
      "source": [],
      "metadata": {
        "id": "FSzcEmLPNLkZ"
      },
      "execution_count": null,
      "outputs": []
    },
    {
      "cell_type": "code",
      "source": [],
      "metadata": {
        "id": "YxoIrqdWPN5g"
      },
      "execution_count": null,
      "outputs": []
    },
    {
      "cell_type": "code",
      "source": [],
      "metadata": {
        "id": "ZehJXLdqPNrX"
      },
      "execution_count": null,
      "outputs": []
    },
    {
      "cell_type": "code",
      "source": [],
      "metadata": {
        "id": "nnlubAHZNLeG"
      },
      "execution_count": null,
      "outputs": []
    },
    {
      "cell_type": "code",
      "source": [],
      "metadata": {
        "id": "T05HNUSDNLXR"
      },
      "execution_count": null,
      "outputs": []
    },
    {
      "cell_type": "code",
      "source": [],
      "metadata": {
        "id": "QR-mlEqRNLSK"
      },
      "execution_count": null,
      "outputs": []
    }
  ]
}