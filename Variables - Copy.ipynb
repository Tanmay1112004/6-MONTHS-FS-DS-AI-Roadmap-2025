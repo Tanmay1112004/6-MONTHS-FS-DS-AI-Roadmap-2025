{
 "cells": [
  {
   "cell_type": "code",
   "execution_count": 1,
   "id": "1f4d24bc-b309-4af0-ac58-fe1f6f0e01ea",
   "metadata": {},
   "outputs": [],
   "source": [
    "\n",
    "# Variables in Python\n",
    "\n",
    "first_name = 'Tanmay'\n",
    "last_name = 'Kshirsagar'\n",
    "country = 'India'\n",
    "city = 'Maharashtra'\n",
    "age = 21\n",
    "is_married = False\n",
    "skills = ['HTML', 'CSS', 'JS', 'React', 'Python', 'ML']\n",
    "person_info = {\n",
    "    'firstname':'Tanmay', \n",
    "    'lastname':'Kshirsagar', \n",
    "    'country':'India',\n",
    "    'city':'Maharashtra'\n",
    "    }"
   ]
  },
  {
   "cell_type": "code",
   "execution_count": 2,
   "id": "61f05760-0c16-4c34-868d-9ff9f8ac50f1",
   "metadata": {},
   "outputs": [
    {
     "name": "stdout",
     "output_type": "stream",
     "text": [
      "First name: Tanmay\n",
      "First name length: 6\n",
      "Last name:  Kshirsagar\n",
      "Last name length:  10\n",
      "Country:  India\n",
      "City:  Maharashtra\n",
      "Age:  21\n",
      "Married:  False\n",
      "Skills:  ['HTML', 'CSS', 'JS', 'React', 'Python', 'ML']\n",
      "Person information:  {'firstname': 'Tanmay', 'lastname': 'Kshirsagar', 'country': 'India', 'city': 'Maharashtra'}\n"
     ]
    }
   ],
   "source": [
    "# Printing the values stored in the variables\n",
    "\n",
    "print('First name:', first_name)\n",
    "print('First name length:', len(first_name))\n",
    "print('Last name: ', last_name)\n",
    "print('Last name length: ', len(last_name))\n",
    "print('Country: ', country)\n",
    "print('City: ', city)\n",
    "print('Age: ', age)\n",
    "print('Married: ', is_married)\n",
    "print('Skills: ', skills)\n",
    "print('Person information: ', person_info)\n"
   ]
  },
  {
   "cell_type": "code",
   "execution_count": 3,
   "id": "42b1220c-52de-4447-9c17-0e6e4a452068",
   "metadata": {},
   "outputs": [
    {
     "name": "stdout",
     "output_type": "stream",
     "text": [
      "prakash senapati Helsink 250 True\n",
      "First name: prakash\n",
      "Last name:  senapati\n",
      "Country:  Helsink\n",
      "Age:  250\n",
      "Married:  True\n"
     ]
    }
   ],
   "source": [
    "# Declaring multiple variables in one line\n",
    "\n",
    "first_name, last_name, country, age, is_married = 'prakash', 'senapati', 'Helsink', 250, True\n",
    "\n",
    "print(first_name, last_name, country, age, is_married)\n",
    "print('First name:', first_name)\n",
    "print('Last name: ', last_name)\n",
    "print('Country: ', country)\n",
    "print('Age: ', age)\n",
    "print('Married: ', is_married)"
   ]
  },
  {
   "cell_type": "code",
   "execution_count": null,
   "id": "feba30c9-2a68-4cdc-bea1-ac8524975d0c",
   "metadata": {},
   "outputs": [],
   "source": []
  }
 ],
 "metadata": {
  "kernelspec": {
   "display_name": "Python 3 (ipykernel)",
   "language": "python",
   "name": "python3"
  },
  "language_info": {
   "codemirror_mode": {
    "name": "ipython",
    "version": 3
   },
   "file_extension": ".py",
   "mimetype": "text/x-python",
   "name": "python",
   "nbconvert_exporter": "python",
   "pygments_lexer": "ipython3",
   "version": "3.12.7"
  }
 },
 "nbformat": 4,
 "nbformat_minor": 5
}
