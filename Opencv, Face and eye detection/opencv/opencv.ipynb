{
  "nbformat": 4,
  "nbformat_minor": 0,
  "metadata": {
    "colab": {
      "provenance": []
    },
    "kernelspec": {
      "name": "python3",
      "display_name": "Python 3"
    },
    "language_info": {
      "name": "python"
    }
  },
  "cells": [
    {
      "cell_type": "markdown",
      "source": [
        "# Open CV"
      ],
      "metadata": {
        "id": "-QaZhXM7Fx8n"
      }
    },
    {
      "cell_type": "code",
      "source": [
        "import cv2"
      ],
      "metadata": {
        "id": "O3_PDf8UEwzn"
      },
      "execution_count": 1,
      "outputs": []
    },
    {
      "cell_type": "code",
      "source": [
        "import numpy as np"
      ],
      "metadata": {
        "id": "S4dRAYqmEw2R"
      },
      "execution_count": 2,
      "outputs": []
    },
    {
      "cell_type": "code",
      "source": [
        "input = cv2.imread('/content/lamborghini car.jpeg')"
      ],
      "metadata": {
        "id": "UeLegiDqEw5p"
      },
      "execution_count": 5,
      "outputs": []
    },
    {
      "cell_type": "code",
      "source": [
        "input"
      ],
      "metadata": {
        "colab": {
          "base_uri": "https://localhost:8080/"
        },
        "id": "XvNbshEMGH2V",
        "outputId": "efa900df-6a69-491d-8942-d020eeaa8e15"
      },
      "execution_count": 6,
      "outputs": [
        {
          "output_type": "execute_result",
          "data": {
            "text/plain": [
              "array([[[  6,  17,   9],\n",
              "        [  6,  17,   9],\n",
              "        [  5,  16,   8],\n",
              "        ...,\n",
              "        [ 39, 101,  87],\n",
              "        [ 41, 103,  89],\n",
              "        [ 42, 104,  90]],\n",
              "\n",
              "       [[  5,  16,   8],\n",
              "        [  5,  16,   8],\n",
              "        [  5,  16,   8],\n",
              "        ...,\n",
              "        [ 38,  99,  85],\n",
              "        [ 35,  96,  82],\n",
              "        [ 32,  93,  79]],\n",
              "\n",
              "       [[  6,  17,   9],\n",
              "        [  6,  17,   9],\n",
              "        [  6,  17,   9],\n",
              "        ...,\n",
              "        [ 46, 102,  91],\n",
              "        [ 42,  98,  87],\n",
              "        [ 38,  94,  83]],\n",
              "\n",
              "       ...,\n",
              "\n",
              "       [[ 48,  43,  45],\n",
              "        [ 48,  43,  45],\n",
              "        [ 48,  43,  45],\n",
              "        ...,\n",
              "        [ 66,  68,  76],\n",
              "        [ 66,  68,  76],\n",
              "        [ 66,  68,  76]],\n",
              "\n",
              "       [[ 48,  43,  45],\n",
              "        [ 48,  43,  45],\n",
              "        [ 48,  43,  45],\n",
              "        ...,\n",
              "        [ 66,  68,  76],\n",
              "        [ 66,  68,  76],\n",
              "        [ 66,  68,  76]],\n",
              "\n",
              "       [[ 48,  43,  45],\n",
              "        [ 48,  43,  45],\n",
              "        [ 48,  43,  45],\n",
              "        ...,\n",
              "        [ 66,  68,  76],\n",
              "        [ 66,  68,  76],\n",
              "        [ 66,  68,  76]]], dtype=uint8)"
            ]
          },
          "metadata": {},
          "execution_count": 6
        }
      ]
    },
    {
      "cell_type": "code",
      "source": [
        "cv2.imshow('lamborghini',input)\n",
        "cv2.waitKey()\n",
        "cv2.destroyAllWindows()"
      ],
      "metadata": {
        "id": "88DP8hD4GHwm"
      },
      "execution_count": null,
      "outputs": []
    },
    {
      "cell_type": "code",
      "source": [
        "print('Height of Image:',int(input.shape[0]),'pixels')\n",
        "print('Width of Image:',int(input.shape[1]),'pixels')"
      ],
      "metadata": {
        "colab": {
          "base_uri": "https://localhost:8080/"
        },
        "id": "0JpRMTQOGHuQ",
        "outputId": "aeac3fef-8368-43d4-ccf9-e121f5e333f2"
      },
      "execution_count": 10,
      "outputs": [
        {
          "output_type": "stream",
          "name": "stdout",
          "text": [
            "Height of Image: 1067 pixels\n",
            "Width of Image: 1600 pixels\n"
          ]
        }
      ]
    },
    {
      "cell_type": "code",
      "source": [
        "cv2.imwrite('output.jpg',input)"
      ],
      "metadata": {
        "colab": {
          "base_uri": "https://localhost:8080/"
        },
        "id": "ACLrUwHHGHr3",
        "outputId": "fb6ebee7-f6f2-4754-d90a-e4098319bd8a"
      },
      "execution_count": 11,
      "outputs": [
        {
          "output_type": "execute_result",
          "data": {
            "text/plain": [
              "True"
            ]
          },
          "metadata": {},
          "execution_count": 11
        }
      ]
    },
    {
      "cell_type": "code",
      "source": [
        "import os\n",
        "os.getcwd()"
      ],
      "metadata": {
        "colab": {
          "base_uri": "https://localhost:8080/",
          "height": 36
        },
        "id": "dkjaqAMaGHpT",
        "outputId": "e620fb1d-e045-47d3-c47b-07e8dcb98b79"
      },
      "execution_count": 12,
      "outputs": [
        {
          "output_type": "execute_result",
          "data": {
            "text/plain": [
              "'/content'"
            ],
            "application/vnd.google.colaboratory.intrinsic+json": {
              "type": "string"
            }
          },
          "metadata": {},
          "execution_count": 12
        }
      ]
    },
    {
      "cell_type": "code",
      "source": [],
      "metadata": {
        "id": "25_aTu5-GHmw"
      },
      "execution_count": null,
      "outputs": []
    },
    {
      "cell_type": "code",
      "source": [],
      "metadata": {
        "id": "wk3eLTVKGHkA"
      },
      "execution_count": null,
      "outputs": []
    }
  ]
}