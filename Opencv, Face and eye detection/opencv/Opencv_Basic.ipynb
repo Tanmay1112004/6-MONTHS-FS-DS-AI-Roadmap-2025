{
 "cells": [
  {
   "cell_type": "markdown",
   "id": "4b38372d-cdcc-4737-8e1f-4c3cd722d5b5",
   "metadata": {},
   "source": [
    "# Image Processing with OpenCV\n",
    "\n",
    "This notebook is a documentation of yesterday's learnig.  \n",
    "We will use **OpenCV (cv2)** and **NumPy** to perform simple image operations.\n",
    "\n",
    "**What we are going to do:**\n",
    "    \n",
    "1. Import required libraries  \n",
    "2. Read an image from disk  \n",
    "3. Display the image in a new window  \n",
    "4. Check image properties (height, width, channels)  \n",
    "5. Save the image to disk  \n",
    "6. Print the current working directory  \n",
    "\n",
    "\n",
    "#  Simple Explanation — What We Did and Why?\n",
    "\n",
    "1. **Read the Image** → We used `cv2.imread()` to load a picture (cat image).  \n",
    "   - Why? So that the computer can understand the image as numbers (pixels).  \n",
    "\n",
    "2. **Show the Image** → We used `cv2.imshow(\"Elephant\", img)` to open the image in a new window.  \n",
    "   - Why? To actually see what we loaded.  \n",
    "   - We gave the window name **\"Elephant\"**, but the picture was actually a **cat **.  \n",
    "   - You can give *any name* to the window.  \n",
    "\n",
    "3. **Check Image Size** → We printed the height and width using `img.shape`.  \n",
    "   - Why? To know how many pixels the image has (its resolution).  \n",
    "\n",
    "4. **Save the Image** → We used `cv2.imwrite(\"output.jpg\", img)` to save the image.  \n",
    "   - Why? To keep a copy of the processed image with a new name.  \n",
    "\n",
    "5. **Check Working Directory** → We used `os.getcwd()` to see where the file was saved.  \n",
    "   - Why? So we know the folder where our image is stored.  \n",
    "\n",
    "> In short: We learned how to **load, show, check, save, and locate images** using OpenCV.\n"
   ]
  },
  {
   "cell_type": "markdown",
   "id": "4f0668a8-e05d-49e8-acd4-48149bb5f4d8",
   "metadata": {},
   "source": [
    "# Import libraries"
   ]
  },
  {
   "cell_type": "code",
   "execution_count": 1,
   "id": "a5d16126-bb72-4fcf-98f2-60368ccc05e9",
   "metadata": {},
   "outputs": [],
   "source": [
    "import cv2\n",
    "import numpy as np\n",
    "import os"
   ]
  },
  {
   "cell_type": "markdown",
   "id": "5a20d1e1-6f8c-4ac5-839e-7d3e29eb3944",
   "metadata": {},
   "source": [
    "## Read an image\n",
    "\n",
    "We use `cv2.imread(path)` to read an image.  \n",
    "\n",
    "- The function loads the image as a NumPy array.  \n",
    "- Each pixel has 3 values (B, G, R).  \n",
    "- If the path is wrong, it returns `None`.  \n"
   ]
  },
  {
   "cell_type": "code",
   "execution_count": 8,
   "id": "0be1232a-2afb-4179-bb29-9a49c470baeb",
   "metadata": {},
   "outputs": [
    {
     "name": "stdout",
     "output_type": "stream",
     "text": [
      "[[[133  62 212]\n",
      "  [133  62 212]\n",
      "  [133  62 212]\n",
      "  ...\n",
      "  [156  81 227]\n",
      "  [156  81 227]\n",
      "  [157  82 227]]\n",
      "\n",
      " [[133  62 212]\n",
      "  [133  62 212]\n",
      "  [133  62 213]\n",
      "  ...\n",
      "  [156  81 227]\n",
      "  [156  81 227]\n",
      "  [156  81 226]]\n",
      "\n",
      " [[133  62 213]\n",
      "  [133  62 213]\n",
      "  [133  62 213]\n",
      "  ...\n",
      "  [156  81 227]\n",
      "  [156  81 227]\n",
      "  [156  81 227]]\n",
      "\n",
      " ...\n",
      "\n",
      " [[135  61 219]\n",
      "  [135  62 218]\n",
      "  [135  62 218]\n",
      "  ...\n",
      "  [145  70 228]\n",
      "  [146  71 229]\n",
      "  [146  72 228]]\n",
      "\n",
      " [[135  61 219]\n",
      "  [135  61 219]\n",
      "  [135  62 218]\n",
      "  ...\n",
      "  [146  71 229]\n",
      "  [147  72 230]\n",
      "  [147  73 229]]\n",
      "\n",
      " [[136  62 220]\n",
      "  [136  62 220]\n",
      "  [136  62 220]\n",
      "  ...\n",
      "  [147  72 230]\n",
      "  [147  73 229]\n",
      "  [148  74 230]]]\n"
     ]
    }
   ],
   "source": [
    "# Update path to your image\n",
    "img = cv2.imread(r\"C:\\Users\\Lenovo\\Downloads\\Test_Image.jpg\")\n",
    "\n",
    "# Check what we got\n",
    "print(img)"
   ]
  },
  {
   "cell_type": "markdown",
   "id": "851b7013-db9b-4308-b435-0ab12752957f",
   "metadata": {},
   "source": [
    "> The output is a **NumPy array** with pixel values ranging from 0–255.  \n",
    "Each element represents `[Blue, Green, Red]` intensity of a pixel.  \n"
   ]
  },
  {
   "cell_type": "markdown",
   "id": "c26204e7-7024-4d52-adb3-a4ea89243d58",
   "metadata": {},
   "source": [
    "# Show image in a window\n",
    "\n",
    "We use:  \n",
    "\n",
    "- `cv2.imshow(\"window_name\", img)` → to open a new window and show image  \n",
    "- `cv2.waitKey()` → waits for a key press (otherwise window closes immediately)  \n",
    "- `cv2.destroyAllWindows()` → closes the window  \n"
   ]
  },
  {
   "cell_type": "code",
   "execution_count": 9,
   "id": "a7092eeb-a3fc-476c-8f10-a4e7712923c5",
   "metadata": {},
   "outputs": [],
   "source": [
    "cv2.imshow('Elephant', img)\n",
    "cv2.waitKey()\n",
    "cv2.destroyAllWindows()"
   ]
  },
  {
   "cell_type": "markdown",
   "id": "5873f965-52a1-4328-94cb-76f2c59060e0",
   "metadata": {},
   "source": [
    "# Image Properties\n",
    "\n",
    "We can get image dimensions using `img.shape`:\n",
    "\n",
    "- `img.shape[0]` → Height (rows, number of pixels vertically)  \n",
    "- `img.shape[1]` → Width (columns, number of pixels horizontally)  \n",
    "- `img.shape[2]` → Channels (3 for color: B, G, R)  \n"
   ]
  },
  {
   "cell_type": "code",
   "execution_count": 10,
   "id": "347ff5a6-5b84-4217-9ee2-bc5350e1aead",
   "metadata": {},
   "outputs": [
    {
     "name": "stdout",
     "output_type": "stream",
     "text": [
      "Height of Image: 240 pixels\n",
      "Width of Image: 204 pixels\n"
     ]
    }
   ],
   "source": [
    "print('Height of Image:', int(img.shape[0]), 'pixels')\n",
    "print('Width of Image:', int(img.shape[1]), 'pixels')"
   ]
  },
  {
   "cell_type": "markdown",
   "id": "b0b032bb-d16e-43bb-8fc8-82a99fa71647",
   "metadata": {},
   "source": [
    "# Save the image\n",
    "We use `cv2.imwrite(\"output.jpg\", img)` to save the image.  \n",
    "This creates a copy of the image in the current directory.  "
   ]
  },
  {
   "cell_type": "code",
   "execution_count": 11,
   "id": "cbfbc25d-072b-49f4-9ad3-2bc3eff1941a",
   "metadata": {},
   "outputs": [
    {
     "data": {
      "text/plain": [
       "True"
      ]
     },
     "execution_count": 11,
     "metadata": {},
     "output_type": "execute_result"
    }
   ],
   "source": [
    "cv2.imwrite('Op1.PNG', img)"
   ]
  },
  {
   "cell_type": "markdown",
   "id": "43f44907-1da3-4788-9f6f-bdfdb7408b3d",
   "metadata": {},
   "source": [
    "#  Check Current Working Directory\n",
    "\n",
    "We use Python's `os` module.  \n",
    "\n",
    "- `os.getcwd()` → shows where the file will be saved.  \n"
   ]
  },
  {
   "cell_type": "code",
   "execution_count": 12,
   "id": "5e2b2e1c-c876-41e5-8f34-d635906b3cf4",
   "metadata": {},
   "outputs": [
    {
     "name": "stdout",
     "output_type": "stream",
     "text": [
      "Current Working Directory: C:\\Users\\Lenovo\\OneDrive\\Desktop\\Python Everyday work\\Github work\\DL\n"
     ]
    }
   ],
   "source": [
    "current_dir = os.getcwd()\n",
    "print(\"Current Working Directory:\", current_dir)"
   ]
  },
  {
   "cell_type": "markdown",
   "id": "45115287-6787-4a22-a4af-8fae98b34a96",
   "metadata": {},
   "source": [
    "# Displaying the Saved Output Image\n",
    "\n",
    "We saved our image with a custom window name **\"Elephant\"**,  \n",
    "but in reality, the picture is of a **Cat** 🐱.  \n",
    "\n",
    "Here is the saved output image (`Op1.PNG`):\n",
    "\n",
    "![Saved Output Image](Op1.PNG)\n"
   ]
  },
  {
   "cell_type": "markdown",
   "id": "4c341b6b-ea49-4b0f-8613-9aa742043d61",
   "metadata": {},
   "source": [
    "#  Summary\n",
    "\n",
    "In this notebook, we learned how to:\n",
    "\n",
    "- Import OpenCV and NumPy\n",
    "- Read an image using `cv2.imread()`\n",
    "- Display the image using `cv2.imshow()`\n",
    "- Get image properties with `.shape`\n",
    "- Save an image using `cv2.imwrite()`\n",
    "- Check current working directory with `os.getcwd()`\n",
    "\n",
    "\n"
   ]
  }
 ],
 "metadata": {
  "kernelspec": {
   "display_name": "Python 3 (ipykernel)",
   "language": "python",
   "name": "python3"
  },
  "language_info": {
   "codemirror_mode": {
    "name": "ipython",
    "version": 3
   },
   "file_extension": ".py",
   "mimetype": "text/x-python",
   "name": "python",
   "nbconvert_exporter": "python",
   "pygments_lexer": "ipython3",
   "version": "3.13.5"
  }
 },
 "nbformat": 4,
 "nbformat_minor": 5
}
