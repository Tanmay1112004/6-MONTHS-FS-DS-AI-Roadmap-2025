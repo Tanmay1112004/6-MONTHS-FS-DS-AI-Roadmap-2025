{
 "cells": [
  {
   "cell_type": "markdown",
   "id": "34f90ab0-630a-4b3a-9d89-f1d42b3e9c9f",
   "metadata": {},
   "source": [
    "# Day-7"
   ]
  },
  {
   "cell_type": "markdown",
   "id": "8048a57e-1bf1-4beb-b031-c654e52119b5",
   "metadata": {},
   "source": [
    "# Python Basics"
   ]
  },
  {
   "cell_type": "markdown",
   "id": "61187ef6-9cb5-49a8-962c-922156365cce",
   "metadata": {},
   "source": [
    "### what is ide ?\n",
    "### --> integrated development kit\n",
    "\n",
    "### using ide -- one can write the code \n",
    "### error -- bug \n",
    "### fix the error -- debug"
   ]
  },
  {
   "cell_type": "code",
   "execution_count": null,
   "id": "4d55275b-5a52-4610-9d2e-2582317632be",
   "metadata": {},
   "outputs": [],
   "source": []
  },
  {
   "cell_type": "markdown",
   "id": "16445dc7-b11c-49d3-8512-bd8df986bd4d",
   "metadata": {},
   "source": [
    "- python interpreter -- code will execute line by line\n",
    "- python compiler -- entire code run at once \n",
    "- python is interpreter and compiler both \n",
    "- python is both (interpreter, compiler)\n",
    "- python is a object orinted programming langauge \n",
    "- _init_ (special method in python) \n",
    "\n",
    "- data structures are 2 types :- \n",
    "- inbuild datastructure -- list, tuple, set, dict \n",
    "- user defined datastructure -- stack, linkedlist, heap, sort , array\n",
    "\n",
    "- datascience -- all datastructure are takecare by library\n",
    "-              numpy, pandas, matplotlib, seaborn, scipy, tenserflow, keras\n",
    "\n",
    "- python will not work in android application\n"
   ]
  },
  {
   "cell_type": "code",
   "execution_count": 5,
   "id": "906c2840-d3da-4f4f-8ad0-4ccbdf972fcf",
   "metadata": {},
   "outputs": [
    {
     "data": {
      "text/plain": [
       "'3.12.7 | packaged by Anaconda, Inc. | (main, Oct  4 2024, 13:17:27) [MSC v.1929 64 bit (AMD64)]'"
      ]
     },
     "execution_count": 5,
     "metadata": {},
     "output_type": "execute_result"
    }
   ],
   "source": [
    "import sys\n",
    "sys.version"
   ]
  },
  {
   "cell_type": "code",
   "execution_count": 6,
   "id": "39d92692-f9bc-4d34-9db6-2ca078f749da",
   "metadata": {},
   "outputs": [
    {
     "data": {
      "text/plain": [
       "2"
      ]
     },
     "execution_count": 6,
     "metadata": {},
     "output_type": "execute_result"
    }
   ],
   "source": [
    "a = 2 \n",
    "a"
   ]
  },
  {
   "cell_type": "code",
   "execution_count": 7,
   "id": "26fa4ab2-9520-487f-b700-63065410992e",
   "metadata": {},
   "outputs": [
    {
     "data": {
      "text/plain": [
       "140704937224664"
      ]
     },
     "execution_count": 7,
     "metadata": {},
     "output_type": "execute_result"
    }
   ],
   "source": [
    "id(a)"
   ]
  },
  {
   "cell_type": "code",
   "execution_count": 8,
   "id": "f935d5c6-2cef-474e-8450-70170c2904e8",
   "metadata": {},
   "outputs": [
    {
     "data": {
      "text/plain": [
       "140704937224664"
      ]
     },
     "execution_count": 8,
     "metadata": {},
     "output_type": "execute_result"
    }
   ],
   "source": [
    "b = 2 \n",
    "id(b)"
   ]
  },
  {
   "cell_type": "code",
   "execution_count": 9,
   "id": "6e5d2b9c-c119-4ca1-a3f0-b8978c69ed69",
   "metadata": {},
   "outputs": [
    {
     "data": {
      "text/plain": [
       "True"
      ]
     },
     "execution_count": 9,
     "metadata": {},
     "output_type": "execute_result"
    }
   ],
   "source": [
    "a == b"
   ]
  },
  {
   "cell_type": "code",
   "execution_count": 10,
   "id": "784ad84e-06a8-4d0e-8d90-10fb5edb4143",
   "metadata": {},
   "outputs": [
    {
     "data": {
      "text/plain": [
       "False"
      ]
     },
     "execution_count": 10,
     "metadata": {},
     "output_type": "execute_result"
    }
   ],
   "source": [
    "a != b"
   ]
  },
  {
   "cell_type": "code",
   "execution_count": 13,
   "id": "9d2e81c7-8fea-4a58-97be-b47817a3f8c5",
   "metadata": {},
   "outputs": [
    {
     "data": {
      "text/plain": [
       "True"
      ]
     },
     "execution_count": 13,
     "metadata": {},
     "output_type": "execute_result"
    }
   ],
   "source": [
    "id(a) == id(b)"
   ]
  },
  {
   "cell_type": "code",
   "execution_count": 14,
   "id": "09d0c4da-6fef-493e-83af-72aaa49ea520",
   "metadata": {},
   "outputs": [
    {
     "data": {
      "text/plain": [
       "140704937224696"
      ]
     },
     "execution_count": 14,
     "metadata": {},
     "output_type": "execute_result"
    }
   ],
   "source": [
    "c = 3\n",
    "id(c)"
   ]
  },
  {
   "cell_type": "code",
   "execution_count": 15,
   "id": "30efdbd7-11ba-45e3-8986-31b22d926fe3",
   "metadata": {},
   "outputs": [
    {
     "data": {
      "text/plain": [
       "False"
      ]
     },
     "execution_count": 15,
     "metadata": {},
     "output_type": "execute_result"
    }
   ],
   "source": [
    "id(a) == id(c)"
   ]
  },
  {
   "cell_type": "code",
   "execution_count": 16,
   "id": "5978e62e-9e4a-47b7-8a4d-74eced66b5dc",
   "metadata": {},
   "outputs": [
    {
     "data": {
      "text/plain": [
       "True"
      ]
     },
     "execution_count": 16,
     "metadata": {},
     "output_type": "execute_result"
    }
   ],
   "source": [
    "id(a) != id(c)"
   ]
  },
  {
   "cell_type": "code",
   "execution_count": 18,
   "id": "8b5e3a44-1b46-44bc-a78f-d339d1bbd058",
   "metadata": {},
   "outputs": [],
   "source": [
    "def hello():\n",
    "    print('welcome to nit')"
   ]
  },
  {
   "cell_type": "code",
   "execution_count": 1,
   "id": "a5d8e16f-00c3-4d8f-b5f8-0e0488c96efc",
   "metadata": {},
   "outputs": [
    {
     "data": {
      "text/plain": [
       "int"
      ]
     },
     "execution_count": 1,
     "metadata": {},
     "output_type": "execute_result"
    }
   ],
   "source": [
    "a = 4\n",
    "type(a)"
   ]
  },
  {
   "cell_type": "code",
   "execution_count": 2,
   "id": "3410e6f8-737f-4634-827e-baba933d904a",
   "metadata": {},
   "outputs": [
    {
     "data": {
      "text/plain": [
       "float"
      ]
     },
     "execution_count": 2,
     "metadata": {},
     "output_type": "execute_result"
    }
   ],
   "source": [
    "a = 1.4\n",
    "type(a)"
   ]
  },
  {
   "cell_type": "code",
   "execution_count": 3,
   "id": "0d4b45be-1058-4f79-88e3-8ebe1d80458a",
   "metadata": {},
   "outputs": [
    {
     "data": {
      "text/plain": [
       "bool"
      ]
     },
     "execution_count": 3,
     "metadata": {},
     "output_type": "execute_result"
    }
   ],
   "source": [
    "a = True\n",
    "type(a)"
   ]
  },
  {
   "cell_type": "code",
   "execution_count": 4,
   "id": "ed5463cc-9c2b-4055-b25a-fa3fff66c1e9",
   "metadata": {},
   "outputs": [
    {
     "data": {
      "text/plain": [
       "complex"
      ]
     },
     "execution_count": 4,
     "metadata": {},
     "output_type": "execute_result"
    }
   ],
   "source": [
    "a = 2+4j\n",
    "type(a)"
   ]
  },
  {
   "cell_type": "code",
   "execution_count": 7,
   "id": "c05719c7-dea2-431a-8336-c34e5ac423da",
   "metadata": {},
   "outputs": [
    {
     "data": {
      "text/plain": [
       "'3.12.7 | packaged by Anaconda, Inc. | (main, Oct  4 2024, 13:17:27) [MSC v.1929 64 bit (AMD64)]'"
      ]
     },
     "execution_count": 7,
     "metadata": {},
     "output_type": "execute_result"
    }
   ],
   "source": [
    "import sys \n",
    "sys.version"
   ]
  },
  {
   "cell_type": "code",
   "execution_count": null,
   "id": "c1a14780-76f3-4274-bb90-a021cef0bece",
   "metadata": {},
   "outputs": [],
   "source": []
  },
  {
   "cell_type": "markdown",
   "id": "ea8474e1-708d-4d68-99d9-e24a8ebaaf34",
   "metadata": {},
   "source": [
    "## Day-8 \n",
    "### there is no class "
   ]
  },
  {
   "cell_type": "code",
   "execution_count": null,
   "id": "01bbe26f-a887-4a80-824a-dd8af4bc9277",
   "metadata": {},
   "outputs": [],
   "source": []
  },
  {
   "cell_type": "code",
   "execution_count": null,
   "id": "e85403d7-d3de-418c-a410-7ca09eb1bae0",
   "metadata": {},
   "outputs": [],
   "source": []
  }
 ],
 "metadata": {
  "kernelspec": {
   "display_name": "Python 3 (ipykernel)",
   "language": "python",
   "name": "python3"
  },
  "language_info": {
   "codemirror_mode": {
    "name": "ipython",
    "version": 3
   },
   "file_extension": ".py",
   "mimetype": "text/x-python",
   "name": "python",
   "nbconvert_exporter": "python",
   "pygments_lexer": "ipython3",
   "version": "3.12.7"
  }
 },
 "nbformat": 4,
 "nbformat_minor": 5
}
