{
 "cells": [
  {
   "cell_type": "markdown",
   "id": "716e791d-07e9-48e2-b44e-5672adc69c24",
   "metadata": {},
   "source": [
    "# Sets \n",
    "\n",
    "## 1) Unordered & Unindexed collection of items.\n",
    "## 2) Set elements are unique. Duplicate elements are not allowed.\n",
    "## 3) Set elements are immutable (cannot be changed).\n",
    "## 4) Set itself is mutable. We can add or remove items from it."
   ]
  },
  {
   "cell_type": "code",
   "execution_count": null,
   "id": "d441458c-803a-473e-bc2f-a368550a8bff",
   "metadata": {},
   "outputs": [],
   "source": []
  },
  {
   "cell_type": "markdown",
   "id": "0a3767d9-3e6d-4ee0-b8c6-8607a7214f19",
   "metadata": {},
   "source": [
    "## Set Creation"
   ]
  },
  {
   "cell_type": "code",
   "execution_count": 1,
   "id": "3a59597c-617f-4a05-a66b-cfc041630b56",
   "metadata": {},
   "outputs": [
    {
     "data": {
      "text/plain": [
       "{1, 2, 3, 4, 5}"
      ]
     },
     "execution_count": 1,
     "metadata": {},
     "output_type": "execute_result"
    }
   ],
   "source": [
    "myset = {1,2,3,4,5} # Set of numbers\n",
    "myset"
   ]
  },
  {
   "cell_type": "code",
   "execution_count": 2,
   "id": "3ab9da79-9aec-40e5-aa7d-8863a24d56b6",
   "metadata": {},
   "outputs": [
    {
     "data": {
      "text/plain": [
       "5"
      ]
     },
     "execution_count": 2,
     "metadata": {},
     "output_type": "execute_result"
    }
   ],
   "source": [
    "len(myset)  # Length of the set"
   ]
  },
  {
   "cell_type": "code",
   "execution_count": 3,
   "id": "9dc778c0-da22-40df-ac9f-e6a4124a5ff2",
   "metadata": {},
   "outputs": [
    {
     "data": {
      "text/plain": [
       "{1, 2, 3, 4, 5}"
      ]
     },
     "execution_count": 3,
     "metadata": {},
     "output_type": "execute_result"
    }
   ],
   "source": [
    "myset = {1,1,2,2,3,3,4,5} # Duplicate elements are not allowed.\n",
    "myset"
   ]
  },
  {
   "cell_type": "code",
   "execution_count": 4,
   "id": "44ebafe7-9f94-48ab-b9ca-7e243ba30112",
   "metadata": {},
   "outputs": [
    {
     "data": {
      "text/plain": [
       "{1.79, 2.08, 3.99, 4.56, 5.45}"
      ]
     },
     "execution_count": 4,
     "metadata": {},
     "output_type": "execute_result"
    }
   ],
   "source": [
    "myset1 = {1.79,2.08,3.99,4.56,5.45} # Set of float numbers\n",
    "myset1"
   ]
  },
  {
   "cell_type": "code",
   "execution_count": 5,
   "id": "cd55642c-27e7-4c61-9a5c-d929a62578e9",
   "metadata": {},
   "outputs": [
    {
     "data": {
      "text/plain": [
       "{'Mayuri', 'Rutuja', 'Tanmay'}"
      ]
     },
     "execution_count": 5,
     "metadata": {},
     "output_type": "execute_result"
    }
   ],
   "source": [
    "myset2 = {'Tanmay' , 'Rutuja' , 'Mayuri'} # Set of Strings\n",
    "myset2"
   ]
  },
  {
   "cell_type": "code",
   "execution_count": 6,
   "id": "559554d6-c308-475b-85d5-d57ae0b40161",
   "metadata": {},
   "outputs": [
    {
     "data": {
      "text/plain": [
       "{(11, 22, 32), 10, 20, 'Hi'}"
      ]
     },
     "execution_count": 6,
     "metadata": {},
     "output_type": "execute_result"
    }
   ],
   "source": [
    "myset3 = {10,20, \"Hi\", (11, 22, 32)} # Mixed datatypes\n",
    "myset3"
   ]
  },
  {
   "cell_type": "code",
   "execution_count": 7,
   "id": "3ca03a5b-a959-482b-86e1-922dbd575994",
   "metadata": {},
   "outputs": [
    {
     "ename": "TypeError",
     "evalue": "unhashable type: 'list'",
     "output_type": "error",
     "traceback": [
      "\u001b[1;31m---------------------------------------------------------------------------\u001b[0m",
      "\u001b[1;31mTypeError\u001b[0m                                 Traceback (most recent call last)",
      "Cell \u001b[1;32mIn[7], line 1\u001b[0m\n\u001b[1;32m----> 1\u001b[0m myset3 \u001b[38;5;241m=\u001b[39m {\u001b[38;5;241m10\u001b[39m,\u001b[38;5;241m20\u001b[39m, \u001b[38;5;124m\"\u001b[39m\u001b[38;5;124mHi\u001b[39m\u001b[38;5;124m\"\u001b[39m, [\u001b[38;5;241m11\u001b[39m, \u001b[38;5;241m22\u001b[39m, \u001b[38;5;241m32\u001b[39m]} \u001b[38;5;66;03m# set doesn't allow mutable items like li\u001b[39;00m\n\u001b[0;32m      2\u001b[0m myset3\n",
      "\u001b[1;31mTypeError\u001b[0m: unhashable type: 'list'"
     ]
    }
   ],
   "source": [
    "myset3 = {10,20, \"Hi\", [11, 22, 32]} # set doesn't allow mutable items like li\n",
    "myset3"
   ]
  },
  {
   "cell_type": "code",
   "execution_count": 8,
   "id": "a64bc5f1-cbd1-4a33-b0b7-510ca8f61323",
   "metadata": {},
   "outputs": [
    {
     "name": "stdout",
     "output_type": "stream",
     "text": [
      "<class 'set'>\n"
     ]
    }
   ],
   "source": [
    "myset4 = set() # Create an empty set\n",
    "print(type(myset4))"
   ]
  },
  {
   "cell_type": "code",
   "execution_count": 9,
   "id": "8aa2317f-65a6-48dd-9f97-2597b04167cf",
   "metadata": {},
   "outputs": [
    {
     "data": {
      "text/plain": [
       "{'four', 'one', 'three', 'two'}"
      ]
     },
     "execution_count": 9,
     "metadata": {},
     "output_type": "execute_result"
    }
   ],
   "source": [
    "my_set1 = set(('one' , 'two' , 'three' , 'four')) \n",
    "my_set1"
   ]
  },
  {
   "cell_type": "code",
   "execution_count": null,
   "id": "0bf7b2e8-b11a-4639-a146-525f5c1ba586",
   "metadata": {},
   "outputs": [],
   "source": []
  },
  {
   "cell_type": "markdown",
   "id": "ba6bb267-6b5f-45a2-a257-613c6b712d87",
   "metadata": {},
   "source": [
    "## Loop through a Set"
   ]
  },
  {
   "cell_type": "code",
   "execution_count": 10,
   "id": "4c053429-9609-4180-9a16-652693965532",
   "metadata": {},
   "outputs": [
    {
     "name": "stdout",
     "output_type": "stream",
     "text": [
      "four\n",
      "five\n",
      "six\n",
      "two\n",
      "seven\n",
      "eight\n",
      "three\n",
      "one\n"
     ]
    }
   ],
   "source": [
    "myset = {'one', 'two', 'three', 'four', 'five', 'six', 'seven', 'eight'}\n",
    "for i in myset:\n",
    "    print(i)"
   ]
  },
  {
   "cell_type": "code",
   "execution_count": 13,
   "id": "1e507249-d466-45c4-bd0f-44fb82cd7531",
   "metadata": {},
   "outputs": [
    {
     "name": "stdout",
     "output_type": "stream",
     "text": [
      "(0, 'four')\n",
      "(1, 'five')\n",
      "(2, 'six')\n",
      "(3, 'two')\n",
      "(4, 'seven')\n",
      "(5, 'eight')\n",
      "(6, 'three')\n",
      "(7, 'one')\n"
     ]
    }
   ],
   "source": [
    "for i in enumerate(myset): \n",
    "    print(i)"
   ]
  },
  {
   "cell_type": "code",
   "execution_count": null,
   "id": "61ac294c-8254-4178-9133-09c0cc240b94",
   "metadata": {},
   "outputs": [],
   "source": []
  },
  {
   "cell_type": "markdown",
   "id": "b55e525d-edb2-4345-ab7a-914c14d2f4db",
   "metadata": {},
   "source": [
    "## Set Membership"
   ]
  },
  {
   "cell_type": "code",
   "execution_count": 14,
   "id": "f7946686-35dc-4dbf-9ce2-b00cdd7aa97a",
   "metadata": {},
   "outputs": [
    {
     "data": {
      "text/plain": [
       "{'eight', 'five', 'four', 'one', 'seven', 'six', 'three', 'two'}"
      ]
     },
     "execution_count": 14,
     "metadata": {},
     "output_type": "execute_result"
    }
   ],
   "source": [
    "myset"
   ]
  },
  {
   "cell_type": "code",
   "execution_count": 15,
   "id": "cbaa8531-91f7-47fc-9577-b670a1cffc8e",
   "metadata": {},
   "outputs": [
    {
     "data": {
      "text/plain": [
       "True"
      ]
     },
     "execution_count": 15,
     "metadata": {},
     "output_type": "execute_result"
    }
   ],
   "source": [
    "'one' in myset # Check if 'one' exist in the set"
   ]
  },
  {
   "cell_type": "code",
   "execution_count": 16,
   "id": "b2da9f5f-31b7-4c0a-a7b7-efd2d5a5def7",
   "metadata": {},
   "outputs": [
    {
     "data": {
      "text/plain": [
       "False"
      ]
     },
     "execution_count": 16,
     "metadata": {},
     "output_type": "execute_result"
    }
   ],
   "source": [
    "'ten' in myset # Check if 'ten' exist in the set"
   ]
  },
  {
   "cell_type": "code",
   "execution_count": 17,
   "id": "1c0df6ac-e08d-4f8e-9b94-ea31a2786bd4",
   "metadata": {},
   "outputs": [
    {
     "name": "stdout",
     "output_type": "stream",
     "text": [
      "Three is present in the set\n"
     ]
    }
   ],
   "source": [
    "if 'three' in myset: # Check if 'three' exist in the set\n",
    "    print('Three is present in the set')\n",
    "else:\n",
    "    print('Three is not present in the set')"
   ]
  },
  {
   "cell_type": "code",
   "execution_count": 18,
   "id": "29f807c0-fc81-4922-9901-712e412eb330",
   "metadata": {},
   "outputs": [
    {
     "name": "stdout",
     "output_type": "stream",
     "text": [
      "eleven is not present in the set\n"
     ]
    }
   ],
   "source": [
    "if 'eleven' in myset: # Check if 'eleven' exist in the list\n",
    "    print('eleven is present in the set')\n",
    "else:\n",
    "    print('eleven is not present in the set')"
   ]
  },
  {
   "cell_type": "code",
   "execution_count": null,
   "id": "5b050413-1cc2-4518-ad89-d18d3a6532d0",
   "metadata": {},
   "outputs": [],
   "source": []
  },
  {
   "cell_type": "markdown",
   "id": "10b89f12-5ced-4a48-9a4f-991e23e2d27d",
   "metadata": {},
   "source": [
    "## Add & Remove Items"
   ]
  },
  {
   "cell_type": "code",
   "execution_count": 19,
   "id": "6f3062f5-df0f-43f1-b2a8-cca9187fc710",
   "metadata": {},
   "outputs": [
    {
     "data": {
      "text/plain": [
       "{'eight', 'five', 'four', 'one', 'seven', 'six', 'three', 'two'}"
      ]
     },
     "execution_count": 19,
     "metadata": {},
     "output_type": "execute_result"
    }
   ],
   "source": [
    "myset"
   ]
  },
  {
   "cell_type": "code",
   "execution_count": 20,
   "id": "8f37828d-ab13-4263-b4f7-42f903769a79",
   "metadata": {},
   "outputs": [
    {
     "data": {
      "text/plain": [
       "{'NINE', 'eight', 'five', 'four', 'one', 'seven', 'six', 'three', 'two'}"
      ]
     },
     "execution_count": 20,
     "metadata": {},
     "output_type": "execute_result"
    }
   ],
   "source": [
    "myset.add('NINE') # Add item to a set using add() method\n",
    "myset"
   ]
  },
  {
   "cell_type": "code",
   "execution_count": 21,
   "id": "69682111-0d70-4369-b1e3-bf917602085e",
   "metadata": {},
   "outputs": [
    {
     "data": {
      "text/plain": [
       "{'ELEVEN',\n",
       " 'NINE',\n",
       " 'TEN',\n",
       " 'TWELVE',\n",
       " 'eight',\n",
       " 'five',\n",
       " 'four',\n",
       " 'one',\n",
       " 'seven',\n",
       " 'six',\n",
       " 'three',\n",
       " 'two'}"
      ]
     },
     "execution_count": 21,
     "metadata": {},
     "output_type": "execute_result"
    }
   ],
   "source": [
    "myset.update(['TEN' , 'ELEVEN' , 'TWELVE']) # Add multiple item to a set using\n",
    "myset"
   ]
  },
  {
   "cell_type": "code",
   "execution_count": 22,
   "id": "53a42c62-0a0e-449b-bd7c-dab40fd1d243",
   "metadata": {},
   "outputs": [
    {
     "data": {
      "text/plain": [
       "{'ELEVEN',\n",
       " 'TEN',\n",
       " 'TWELVE',\n",
       " 'eight',\n",
       " 'five',\n",
       " 'four',\n",
       " 'one',\n",
       " 'seven',\n",
       " 'six',\n",
       " 'three',\n",
       " 'two'}"
      ]
     },
     "execution_count": 22,
     "metadata": {},
     "output_type": "execute_result"
    }
   ],
   "source": [
    "myset.remove('NINE') # remove item in a set using remove() method\n",
    "myset"
   ]
  },
  {
   "cell_type": "code",
   "execution_count": 23,
   "id": "15ebcb11-46c1-4d79-bd3b-6f6919fe01dc",
   "metadata": {},
   "outputs": [
    {
     "data": {
      "text/plain": [
       "{'ELEVEN',\n",
       " 'TWELVE',\n",
       " 'eight',\n",
       " 'five',\n",
       " 'four',\n",
       " 'one',\n",
       " 'seven',\n",
       " 'six',\n",
       " 'three',\n",
       " 'two'}"
      ]
     },
     "execution_count": 23,
     "metadata": {},
     "output_type": "execute_result"
    }
   ],
   "source": [
    "myset.discard('TEN') # remove item from a set using discard() method\n",
    "myset"
   ]
  },
  {
   "cell_type": "code",
   "execution_count": 24,
   "id": "8581efd9-7ca5-4f12-b279-bf00a24bcfa6",
   "metadata": {},
   "outputs": [
    {
     "data": {
      "text/plain": [
       "set()"
      ]
     },
     "execution_count": 24,
     "metadata": {},
     "output_type": "execute_result"
    }
   ],
   "source": [
    "myset.clear() # Delete all items in a set\n",
    "myset"
   ]
  },
  {
   "cell_type": "code",
   "execution_count": 25,
   "id": "4f31aa84-26fa-402d-81e2-727ccda53d5d",
   "metadata": {},
   "outputs": [
    {
     "ename": "NameError",
     "evalue": "name 'myset' is not defined",
     "output_type": "error",
     "traceback": [
      "\u001b[1;31m---------------------------------------------------------------------------\u001b[0m",
      "\u001b[1;31mNameError\u001b[0m                                 Traceback (most recent call last)",
      "Cell \u001b[1;32mIn[25], line 2\u001b[0m\n\u001b[0;32m      1\u001b[0m \u001b[38;5;28;01mdel\u001b[39;00m myset \u001b[38;5;66;03m# Delete the set object\u001b[39;00m\n\u001b[1;32m----> 2\u001b[0m myset\n",
      "\u001b[1;31mNameError\u001b[0m: name 'myset' is not defined"
     ]
    }
   ],
   "source": [
    "del myset # Delete the set object\n",
    "myset"
   ]
  },
  {
   "cell_type": "code",
   "execution_count": null,
   "id": "eecdb88c-59f0-4486-8b8d-5b2c8aa9360b",
   "metadata": {},
   "outputs": [],
   "source": []
  },
  {
   "cell_type": "markdown",
   "id": "9d9ec189-03f0-483e-9802-d22c3fb7ef41",
   "metadata": {},
   "source": [
    "## Copy Set"
   ]
  },
  {
   "cell_type": "code",
   "execution_count": 26,
   "id": "6b8af93a-d4e5-4317-a26a-90eaa2cbc632",
   "metadata": {},
   "outputs": [
    {
     "data": {
      "text/plain": [
       "{'eight', 'five', 'four', 'one', 'seven', 'six', 'three', 'two'}"
      ]
     },
     "execution_count": 26,
     "metadata": {},
     "output_type": "execute_result"
    }
   ],
   "source": [
    "myset = {'one', 'two', 'three', 'four', 'five', 'six', 'seven', 'eight'}\n",
    "myset"
   ]
  },
  {
   "cell_type": "code",
   "execution_count": 27,
   "id": "961f5db3-59ea-4392-925b-49d1d0f7485d",
   "metadata": {},
   "outputs": [
    {
     "data": {
      "text/plain": [
       "{'eight', 'five', 'four', 'one', 'seven', 'six', 'three', 'two'}"
      ]
     },
     "execution_count": 27,
     "metadata": {},
     "output_type": "execute_result"
    }
   ],
   "source": [
    "myset1 = myset # Create a new reference \"myset1\"\n",
    "myset1"
   ]
  },
  {
   "cell_type": "code",
   "execution_count": 28,
   "id": "905d5333-3d45-4100-ab63-e6dd9bbeee61",
   "metadata": {},
   "outputs": [
    {
     "data": {
      "text/plain": [
       "(1858908936608, 1858908936608)"
      ]
     },
     "execution_count": 28,
     "metadata": {},
     "output_type": "execute_result"
    }
   ],
   "source": [
    "id(myset) , id(myset1) # The address of both myset & myset1 will be the same as"
   ]
  },
  {
   "cell_type": "code",
   "execution_count": 29,
   "id": "31b93fd5-395d-4a94-9dac-4987e1681a48",
   "metadata": {},
   "outputs": [
    {
     "data": {
      "text/plain": [
       "{'eight', 'five', 'four', 'one', 'seven', 'six', 'three', 'two'}"
      ]
     },
     "execution_count": 29,
     "metadata": {},
     "output_type": "execute_result"
    }
   ],
   "source": [
    "my_set = myset.copy() # Create a copy of the list\n",
    "my_set"
   ]
  },
  {
   "cell_type": "code",
   "execution_count": 31,
   "id": "56414828-fee3-4782-a6d1-989f18593061",
   "metadata": {},
   "outputs": [
    {
     "data": {
      "text/plain": [
       "1858908939072"
      ]
     },
     "execution_count": 31,
     "metadata": {},
     "output_type": "execute_result"
    }
   ],
   "source": [
    "id(my_set) # The address of my_set will be different from myset because my_set i"
   ]
  },
  {
   "cell_type": "code",
   "execution_count": 32,
   "id": "2aa90225-27b8-4787-99ee-ee88f358465a",
   "metadata": {},
   "outputs": [
    {
     "data": {
      "text/plain": [
       "{'eight', 'five', 'four', 'nine', 'one', 'seven', 'six', 'three', 'two'}"
      ]
     },
     "execution_count": 32,
     "metadata": {},
     "output_type": "execute_result"
    }
   ],
   "source": [
    "myset.add('nine') \n",
    "myset"
   ]
  },
  {
   "cell_type": "code",
   "execution_count": 33,
   "id": "88f3a258-7142-418e-a204-81d3fef2a2e1",
   "metadata": {},
   "outputs": [
    {
     "data": {
      "text/plain": [
       "{'eight', 'five', 'four', 'nine', 'one', 'seven', 'six', 'three', 'two'}"
      ]
     },
     "execution_count": 33,
     "metadata": {},
     "output_type": "execute_result"
    }
   ],
   "source": [
    "myset1 # myset1 will be also impacted as it is pointing to the same Set"
   ]
  },
  {
   "cell_type": "code",
   "execution_count": 34,
   "id": "e013635e-5660-48cd-9ef3-5b83b2f233f1",
   "metadata": {},
   "outputs": [
    {
     "data": {
      "text/plain": [
       "{'eight', 'five', 'four', 'one', 'seven', 'six', 'three', 'two'}"
      ]
     },
     "execution_count": 34,
     "metadata": {},
     "output_type": "execute_result"
    }
   ],
   "source": [
    "my_set # Copy of the set won't be impacted due to changes made on the original S"
   ]
  },
  {
   "cell_type": "code",
   "execution_count": null,
   "id": "ddc2858d-6109-48c2-9b61-d2517e03aefa",
   "metadata": {},
   "outputs": [],
   "source": []
  },
  {
   "cell_type": "markdown",
   "id": "31138fdf-2113-4e14-af14-75429514e7f6",
   "metadata": {},
   "source": [
    "# Set Operation"
   ]
  },
  {
   "cell_type": "markdown",
   "id": "01db7756-3f87-4426-b64c-994b01d02b30",
   "metadata": {},
   "source": [
    "## Union"
   ]
  },
  {
   "cell_type": "code",
   "execution_count": 35,
   "id": "ed444156-be9e-4204-a542-ede451d89396",
   "metadata": {},
   "outputs": [],
   "source": [
    "A = {1,2,3,4,5}\n",
    "B = {4,5,6,7,8}\n",
    "C = {8,9,10}"
   ]
  },
  {
   "cell_type": "code",
   "execution_count": 36,
   "id": "3989e139-ccce-4e88-9f17-b8f5f5ceb712",
   "metadata": {},
   "outputs": [
    {
     "data": {
      "text/plain": [
       "{1, 2, 3, 4, 5, 6, 7, 8}"
      ]
     },
     "execution_count": 36,
     "metadata": {},
     "output_type": "execute_result"
    }
   ],
   "source": [
    "A | B # Union of A and B (All elements from both sets. NO DUPLICATES)"
   ]
  },
  {
   "cell_type": "code",
   "execution_count": 37,
   "id": "24b1cbf2-8786-4429-a447-013090161655",
   "metadata": {},
   "outputs": [
    {
     "data": {
      "text/plain": [
       "{1, 2, 3, 4, 5, 6, 7, 8}"
      ]
     },
     "execution_count": 37,
     "metadata": {},
     "output_type": "execute_result"
    }
   ],
   "source": [
    "A.union(B) # Union of A and B"
   ]
  },
  {
   "cell_type": "code",
   "execution_count": 38,
   "id": "223695f3-1b48-44f4-b131-9f5abcbcc5d6",
   "metadata": {},
   "outputs": [
    {
     "data": {
      "text/plain": [
       "{1, 2, 3, 4, 5, 6, 7, 8, 9, 10}"
      ]
     },
     "execution_count": 38,
     "metadata": {},
     "output_type": "execute_result"
    }
   ],
   "source": [
    "A.union(B, C) # Union of A, B and C."
   ]
  },
  {
   "cell_type": "code",
   "execution_count": 39,
   "id": "ce477767-337a-4dc2-9dfd-7f680de56378",
   "metadata": {},
   "outputs": [
    {
     "data": {
      "text/plain": [
       "{1, 2, 3, 4, 5, 6, 7, 8, 9, 10}"
      ]
     },
     "execution_count": 39,
     "metadata": {},
     "output_type": "execute_result"
    }
   ],
   "source": [
    "\"\"\"\n",
    "Updates the set calling the update() method with union of A , B & C.\n",
    "For below example Set A will be updated with union of A,B & C. \"\"\"\n",
    "A.update(B,C)\n",
    "A"
   ]
  },
  {
   "cell_type": "code",
   "execution_count": null,
   "id": "943ed147-9bc0-4206-b141-948e516f2589",
   "metadata": {},
   "outputs": [],
   "source": []
  },
  {
   "cell_type": "markdown",
   "id": "8f3670a9-c5ac-4709-b16c-7b9f263d23b1",
   "metadata": {},
   "source": [
    "## Intersection"
   ]
  },
  {
   "cell_type": "code",
   "execution_count": 40,
   "id": "71945b42-e408-46ed-a36c-8841d582611c",
   "metadata": {},
   "outputs": [],
   "source": [
    "A = {1,2,3,4,5}\n",
    "B = {4,5,6,7,8}"
   ]
  },
  {
   "cell_type": "code",
   "execution_count": 41,
   "id": "2823efe7-a8a6-4acb-90dc-1e2a914f078e",
   "metadata": {},
   "outputs": [
    {
     "data": {
      "text/plain": [
       "{4, 5}"
      ]
     },
     "execution_count": 41,
     "metadata": {},
     "output_type": "execute_result"
    }
   ],
   "source": [
    "A & B # Intersection of A and B (Common items in both sets)"
   ]
  },
  {
   "cell_type": "code",
   "execution_count": 42,
   "id": "626120f3-75d0-42a2-be49-6e01dc1daf31",
   "metadata": {},
   "outputs": [
    {
     "ename": "SyntaxError",
     "evalue": "invalid syntax (3871018507.py, line 1)",
     "output_type": "error",
     "traceback": [
      "\u001b[1;36m  Cell \u001b[1;32mIn[42], line 1\u001b[1;36m\u001b[0m\n\u001b[1;33m    A.intersection(B) Intersection of A and B\u001b[0m\n\u001b[1;37m                      ^\u001b[0m\n\u001b[1;31mSyntaxError\u001b[0m\u001b[1;31m:\u001b[0m invalid syntax\n"
     ]
    }
   ],
   "source": [
    "A.intersection(B) Intersection of A and B"
   ]
  },
  {
   "cell_type": "code",
   "execution_count": 43,
   "id": "2bdf7f35-13ea-4fcb-b33a-f83dfceb63de",
   "metadata": {},
   "outputs": [
    {
     "data": {
      "text/plain": [
       "{4, 5}"
      ]
     },
     "execution_count": 43,
     "metadata": {},
     "output_type": "execute_result"
    }
   ],
   "source": [
    "\"\"\"\n",
    "Updates the set calling the intersection_update() method with the intersection o\n",
    "For below example Set A will be updated with the intersection of A & B. \"\"\"\n",
    "A.intersection_update(B)\n",
    "A"
   ]
  },
  {
   "cell_type": "code",
   "execution_count": null,
   "id": "bcd7d66b-cfb9-4b4f-bcd0-e1aa069fc7a3",
   "metadata": {},
   "outputs": [],
   "source": []
  },
  {
   "cell_type": "markdown",
   "id": "884d1045-ef26-48aa-9f14-5d8f77b241f3",
   "metadata": {},
   "source": [
    "## Difference"
   ]
  },
  {
   "cell_type": "code",
   "execution_count": 44,
   "id": "df2fa30c-d5ab-4830-b905-38dcdf29e842",
   "metadata": {},
   "outputs": [],
   "source": [
    "A = {1,2,3,4,5}\n",
    "B = {4,5,6,7,8}"
   ]
  },
  {
   "cell_type": "code",
   "execution_count": 45,
   "id": "9892e27b-093c-412d-9cf2-95404607ad9a",
   "metadata": {},
   "outputs": [
    {
     "data": {
      "text/plain": [
       "{1, 2, 3}"
      ]
     },
     "execution_count": 45,
     "metadata": {},
     "output_type": "execute_result"
    }
   ],
   "source": [
    "A - B # set of elements that are only in A but not in B"
   ]
  },
  {
   "cell_type": "code",
   "execution_count": 46,
   "id": "717c1673-59d8-4c56-977a-ded1b6e3ed5d",
   "metadata": {},
   "outputs": [
    {
     "data": {
      "text/plain": [
       "{1, 2, 3}"
      ]
     },
     "execution_count": 46,
     "metadata": {},
     "output_type": "execute_result"
    }
   ],
   "source": [
    "A.difference(B) # Difference of sets"
   ]
  },
  {
   "cell_type": "code",
   "execution_count": 47,
   "id": "1fe38f8d-2159-46e9-8bf0-b360f52994d0",
   "metadata": {},
   "outputs": [
    {
     "data": {
      "text/plain": [
       "{6, 7, 8}"
      ]
     },
     "execution_count": 47,
     "metadata": {},
     "output_type": "execute_result"
    }
   ],
   "source": [
    "B- A # set of elements that are only in B but not in A"
   ]
  },
  {
   "cell_type": "code",
   "execution_count": 48,
   "id": "bb7106b8-1350-4890-a2b8-6c2f2f57babe",
   "metadata": {},
   "outputs": [
    {
     "data": {
      "text/plain": [
       "{6, 7, 8}"
      ]
     },
     "execution_count": 48,
     "metadata": {},
     "output_type": "execute_result"
    }
   ],
   "source": [
    "B.difference(A)"
   ]
  },
  {
   "cell_type": "code",
   "execution_count": 49,
   "id": "c62029f0-621e-4b9b-a275-9533107455f2",
   "metadata": {},
   "outputs": [
    {
     "data": {
      "text/plain": [
       "{6, 7, 8}"
      ]
     },
     "execution_count": 49,
     "metadata": {},
     "output_type": "execute_result"
    }
   ],
   "source": [
    "\"\"\"\n",
    "Updates the set calling the difference_update() method with the difference of se\n",
    "For below example Set B will be updated with the difference of B & A. \"\"\"\n",
    "B.difference_update(A)\n",
    "B"
   ]
  },
  {
   "cell_type": "code",
   "execution_count": null,
   "id": "a7bee0b3-d71c-49bc-8734-a80a61a1f92d",
   "metadata": {},
   "outputs": [],
   "source": []
  },
  {
   "cell_type": "markdown",
   "id": "0d647cf5-131a-4fe3-b871-85eb5038b849",
   "metadata": {},
   "source": [
    "## Symmetric Difference"
   ]
  },
  {
   "cell_type": "code",
   "execution_count": 50,
   "id": "936ff1e7-50e4-4d2e-ad81-d739025e214a",
   "metadata": {},
   "outputs": [],
   "source": [
    "A = {1,2,3,4,5}\n",
    "B = {4,5,6,7,8}"
   ]
  },
  {
   "cell_type": "code",
   "execution_count": 51,
   "id": "ba618f66-42d5-49ea-9d92-99087fd87f46",
   "metadata": {},
   "outputs": [
    {
     "data": {
      "text/plain": [
       "{1, 2, 3, 6, 7, 8}"
      ]
     },
     "execution_count": 51,
     "metadata": {},
     "output_type": "execute_result"
    }
   ],
   "source": [
    "A ^ B # Symmetric difference (Set of elements in A and B but not in both. \"EXCLUde\""
   ]
  },
  {
   "cell_type": "code",
   "execution_count": 52,
   "id": "98e53d13-3d69-4586-8827-ab5970e57c88",
   "metadata": {},
   "outputs": [
    {
     "data": {
      "text/plain": [
       "{1, 2, 3, 6, 7, 8}"
      ]
     },
     "execution_count": 52,
     "metadata": {},
     "output_type": "execute_result"
    }
   ],
   "source": [
    "A.symmetric_difference(B) # Symmetric difference of sets"
   ]
  },
  {
   "cell_type": "code",
   "execution_count": 54,
   "id": "a5db9a5e-66e1-4cca-ae5e-f593d90a44ec",
   "metadata": {},
   "outputs": [
    {
     "data": {
      "text/plain": [
       "{1, 2, 3, 6, 7, 8}"
      ]
     },
     "execution_count": 54,
     "metadata": {},
     "output_type": "execute_result"
    }
   ],
   "source": [
    "\"\"\"\n",
    "Updates the set calling the symmetric_difference_update() method with the symmet\n",
    "For below example Set A will be updated with the symmetric difference of A & B. \"\"\"\n",
    "A.symmetric_difference_update(B)\n",
    "A"
   ]
  },
  {
   "cell_type": "code",
   "execution_count": null,
   "id": "3c68c722-70ca-4841-863e-6239022c354f",
   "metadata": {},
   "outputs": [],
   "source": []
  },
  {
   "cell_type": "markdown",
   "id": "935c4741-70d7-41be-82fe-38386f35f4c8",
   "metadata": {},
   "source": [
    "## Subset , Superset & Disjoint"
   ]
  },
  {
   "cell_type": "code",
   "execution_count": 55,
   "id": "d63c9612-1954-4eac-bb5b-d21eac859034",
   "metadata": {},
   "outputs": [],
   "source": [
    "A = {1,2,3,4,5,6,7,8,9}\n",
    "B = {3,4,5,6,7,8}\n",
    "C = {10,20,30,40}"
   ]
  },
  {
   "cell_type": "code",
   "execution_count": 56,
   "id": "ae64c0de-b033-4b28-8e40-abb4342d4b0a",
   "metadata": {},
   "outputs": [
    {
     "data": {
      "text/plain": [
       "True"
      ]
     },
     "execution_count": 56,
     "metadata": {},
     "output_type": "execute_result"
    }
   ],
   "source": [
    "B.issubset(A) # Set B is said to be the subset of set A if all elements of B are in A"
   ]
  },
  {
   "cell_type": "code",
   "execution_count": 57,
   "id": "b6dfe59e-920d-4ac7-84cc-006723042a63",
   "metadata": {},
   "outputs": [
    {
     "data": {
      "text/plain": [
       "True"
      ]
     },
     "execution_count": 57,
     "metadata": {},
     "output_type": "execute_result"
    }
   ],
   "source": [
    "A.issuperset(B) # Set A is said to be the superset of set B if all elements of B"
   ]
  },
  {
   "cell_type": "code",
   "execution_count": 58,
   "id": "ab6d0361-f97a-46f8-803b-33cb985607b3",
   "metadata": {},
   "outputs": [
    {
     "data": {
      "text/plain": [
       "True"
      ]
     },
     "execution_count": 58,
     "metadata": {},
     "output_type": "execute_result"
    }
   ],
   "source": [
    "C.isdisjoint(A) # Two sets are said to be disjoint sets if they have no common element"
   ]
  },
  {
   "cell_type": "code",
   "execution_count": 60,
   "id": "9496282d-c510-4b95-aabe-cb2f596d39a0",
   "metadata": {},
   "outputs": [
    {
     "data": {
      "text/plain": [
       "False"
      ]
     },
     "execution_count": 60,
     "metadata": {},
     "output_type": "execute_result"
    }
   ],
   "source": [
    "B.isdisjoint(A) # Two sets are said to be disjoint sets if they have no common element"
   ]
  },
  {
   "cell_type": "code",
   "execution_count": null,
   "id": "60997205-2808-45a5-a936-a2e133b6f9ac",
   "metadata": {},
   "outputs": [],
   "source": []
  },
  {
   "cell_type": "markdown",
   "id": "ab483ba8-764b-4f70-982f-7534003d1b49",
   "metadata": {},
   "source": [
    "## Other Builtin functions"
   ]
  },
  {
   "cell_type": "code",
   "execution_count": 61,
   "id": "938ef6c9-e70a-4cf5-a753-2a6fdf8c4a36",
   "metadata": {},
   "outputs": [
    {
     "data": {
      "text/plain": [
       "{1, 2, 3, 4, 5, 6, 7, 8, 9}"
      ]
     },
     "execution_count": 61,
     "metadata": {},
     "output_type": "execute_result"
    }
   ],
   "source": [
    "A"
   ]
  },
  {
   "cell_type": "code",
   "execution_count": 62,
   "id": "2072ccb3-f1eb-41c2-ac7a-eea0cda38906",
   "metadata": {},
   "outputs": [
    {
     "data": {
      "text/plain": [
       "45"
      ]
     },
     "execution_count": 62,
     "metadata": {},
     "output_type": "execute_result"
    }
   ],
   "source": [
    "sum(A)"
   ]
  },
  {
   "cell_type": "code",
   "execution_count": 63,
   "id": "5dca81fb-055d-49d3-8dfc-04706da992a3",
   "metadata": {},
   "outputs": [
    {
     "data": {
      "text/plain": [
       "9"
      ]
     },
     "execution_count": 63,
     "metadata": {},
     "output_type": "execute_result"
    }
   ],
   "source": [
    "max(A)"
   ]
  },
  {
   "cell_type": "code",
   "execution_count": 64,
   "id": "5d4773cc-4988-41a5-84b4-d7753f69578c",
   "metadata": {},
   "outputs": [
    {
     "data": {
      "text/plain": [
       "1"
      ]
     },
     "execution_count": 64,
     "metadata": {},
     "output_type": "execute_result"
    }
   ],
   "source": [
    "min(A)"
   ]
  },
  {
   "cell_type": "code",
   "execution_count": 65,
   "id": "93396b2f-afca-496a-abcc-79dc78b86712",
   "metadata": {},
   "outputs": [
    {
     "data": {
      "text/plain": [
       "9"
      ]
     },
     "execution_count": 65,
     "metadata": {},
     "output_type": "execute_result"
    }
   ],
   "source": [
    "len(A)"
   ]
  },
  {
   "cell_type": "code",
   "execution_count": 67,
   "id": "c5db82f4-beca-446e-bfad-28f53bb39aea",
   "metadata": {},
   "outputs": [
    {
     "data": {
      "text/plain": [
       "[(0, 1), (1, 2), (2, 3), (3, 4), (4, 5), (5, 6), (6, 7), (7, 8), (8, 9)]"
      ]
     },
     "execution_count": 67,
     "metadata": {},
     "output_type": "execute_result"
    }
   ],
   "source": [
    "list(enumerate(A))"
   ]
  },
  {
   "cell_type": "code",
   "execution_count": 68,
   "id": "162fddb2-ddbf-480c-a77c-ab7ebe9c747b",
   "metadata": {},
   "outputs": [
    {
     "data": {
      "text/plain": [
       "[9, 8, 7, 6, 5, 4, 3, 2, 1]"
      ]
     },
     "execution_count": 68,
     "metadata": {},
     "output_type": "execute_result"
    }
   ],
   "source": [
    "D= sorted(A,reverse=True)\n",
    "D"
   ]
  },
  {
   "cell_type": "code",
   "execution_count": 69,
   "id": "f4db2cc0-259c-4db4-ab83-9c50c5d6c881",
   "metadata": {},
   "outputs": [
    {
     "data": {
      "text/plain": [
       "[1, 2, 3, 4, 5, 6, 7, 8, 9]"
      ]
     },
     "execution_count": 69,
     "metadata": {},
     "output_type": "execute_result"
    }
   ],
   "source": [
    "sorted(D)"
   ]
  },
  {
   "cell_type": "code",
   "execution_count": null,
   "id": "75cafb33-2bd9-492a-865e-d35a506539dc",
   "metadata": {},
   "outputs": [],
   "source": []
  },
  {
   "cell_type": "markdown",
   "id": "d21677d7-9d1f-4246-81ff-0d0a80c1f649",
   "metadata": {},
   "source": [
    "# Dictionary\n",
    "## . Dictionary is a mutable data type in Python.\n",
    "## . A python dictionary is a collection of key and value pairs separated by a colon (:) & enclosed in curly braces {}.\n",
    "## . Keys must be unique in a dictionary, duplicate values are allowed."
   ]
  },
  {
   "cell_type": "code",
   "execution_count": null,
   "id": "26f610a4-871d-47da-9cd7-13e38d21e061",
   "metadata": {},
   "outputs": [],
   "source": []
  },
  {
   "cell_type": "markdown",
   "id": "e0e914d8-64d8-43b4-beae-8af5f4eafcbc",
   "metadata": {},
   "source": [
    "## Create Dictionary"
   ]
  },
  {
   "cell_type": "code",
   "execution_count": 70,
   "id": "8ee725eb-ed83-4ba3-a6ef-7d2059fc7716",
   "metadata": {},
   "outputs": [
    {
     "data": {
      "text/plain": [
       "{}"
      ]
     },
     "execution_count": 70,
     "metadata": {},
     "output_type": "execute_result"
    }
   ],
   "source": [
    "mydict = dict() # empty dictionary\n",
    "mydict"
   ]
  },
  {
   "cell_type": "code",
   "execution_count": 71,
   "id": "b267a7d7-1fb7-43d6-9d11-f7e2c038adb2",
   "metadata": {},
   "outputs": [
    {
     "data": {
      "text/plain": [
       "{}"
      ]
     },
     "execution_count": 71,
     "metadata": {},
     "output_type": "execute_result"
    }
   ],
   "source": [
    "mydict = {} # empty dictionary\n",
    "mydict"
   ]
  },
  {
   "cell_type": "code",
   "execution_count": 72,
   "id": "815b1d09-2415-4b5a-a982-675bcacef045",
   "metadata": {},
   "outputs": [
    {
     "data": {
      "text/plain": [
       "{1: 'one', 2: 'two', 3: 'three'}"
      ]
     },
     "execution_count": 72,
     "metadata": {},
     "output_type": "execute_result"
    }
   ],
   "source": [
    "mydict = {1:'one' , 2:'two' , 3:'three'} # dictionary with integer keys\n",
    "mydict"
   ]
  },
  {
   "cell_type": "code",
   "execution_count": 73,
   "id": "2df36911-9be8-4122-ba48-eb1f7f204e01",
   "metadata": {},
   "outputs": [
    {
     "data": {
      "text/plain": [
       "{1: 'one', 2: 'two', 3: 'three'}"
      ]
     },
     "execution_count": 73,
     "metadata": {},
     "output_type": "execute_result"
    }
   ],
   "source": [
    "mydict = dict({1:'one' , 2:'two' , 3:'three'}) # Create dictionary using dict()\n",
    "mydict"
   ]
  },
  {
   "cell_type": "code",
   "execution_count": 74,
   "id": "06de540b-895f-4712-883c-fa96ff8b4d88",
   "metadata": {},
   "outputs": [
    {
     "data": {
      "text/plain": [
       "{'A': 'one', 'B': 'two', 'C': 'three'}"
      ]
     },
     "execution_count": 74,
     "metadata": {},
     "output_type": "execute_result"
    }
   ],
   "source": [
    "mydict = {'A':'one' , 'B':'two' , 'C':'three'} # dictionary with character keys\n",
    "mydict"
   ]
  },
  {
   "cell_type": "code",
   "execution_count": 75,
   "id": "75ea034c-8f11-411d-9811-7fae9340bb23",
   "metadata": {},
   "outputs": [
    {
     "data": {
      "text/plain": [
       "{1: 'one', 'A': 'two', 3: 'three'}"
      ]
     },
     "execution_count": 75,
     "metadata": {},
     "output_type": "execute_result"
    }
   ],
   "source": [
    "mydict = {1:'one' , 'A':'two' , 3:'three'} # dictionary with mixed keys\n",
    "mydict"
   ]
  },
  {
   "cell_type": "code",
   "execution_count": 76,
   "id": "50b81da6-053e-4b61-a2d1-6e9b7b6397b4",
   "metadata": {},
   "outputs": [
    {
     "data": {
      "text/plain": [
       "dict_keys([1, 'A', 3])"
      ]
     },
     "execution_count": 76,
     "metadata": {},
     "output_type": "execute_result"
    }
   ],
   "source": [
    "mydict.keys() # Return Dictionary Keys using keys() method"
   ]
  },
  {
   "cell_type": "code",
   "execution_count": 77,
   "id": "200480b1-08d9-4a26-bd32-55f435fcfd77",
   "metadata": {},
   "outputs": [
    {
     "data": {
      "text/plain": [
       "dict_values(['one', 'two', 'three'])"
      ]
     },
     "execution_count": 77,
     "metadata": {},
     "output_type": "execute_result"
    }
   ],
   "source": [
    "mydict.values() # Return Dictionary Values using values() method"
   ]
  },
  {
   "cell_type": "code",
   "execution_count": 78,
   "id": "0999a773-dfeb-4444-b524-23b2815ab7b4",
   "metadata": {},
   "outputs": [
    {
     "data": {
      "text/plain": [
       "dict_items([(1, 'one'), ('A', 'two'), (3, 'three')])"
      ]
     },
     "execution_count": 78,
     "metadata": {},
     "output_type": "execute_result"
    }
   ],
   "source": [
    "mydict.items() # Access each key-value pair within a dictionary"
   ]
  },
  {
   "cell_type": "code",
   "execution_count": 80,
   "id": "bb969e70-84fb-4f12-96a8-ee71b845ef1c",
   "metadata": {},
   "outputs": [
    {
     "data": {
      "text/plain": [
       "{1: 'one', 2: 'two', 'A': ['Tanmay', 'john', 'Maria']}"
      ]
     },
     "execution_count": 80,
     "metadata": {},
     "output_type": "execute_result"
    }
   ],
   "source": [
    "mydict = {1:'one' , 2:'two' , 'A':['Tanmay' , 'john' , 'Maria']} # dictionary with string\n",
    "mydict"
   ]
  },
  {
   "cell_type": "code",
   "execution_count": 82,
   "id": "ad615cf8-5251-4207-b4ad-16e51ff36597",
   "metadata": {},
   "outputs": [
    {
     "data": {
      "text/plain": [
       "{1: 'one', 2: 'two', 'A': ['Tanmay', 'john', 'Maria'], 'B': ('Bat', 'ca')}"
      ]
     },
     "execution_count": 82,
     "metadata": {},
     "output_type": "execute_result"
    }
   ],
   "source": [
    "mydict = {1:'one' , 2:'two' , 'A':['Tanmay' , 'john' , 'Maria'], 'B':('Bat' , 'ca')}\n",
    "mydict"
   ]
  },
  {
   "cell_type": "code",
   "execution_count": 83,
   "id": "edd6a083-6262-4094-84bf-4116d0d2c224",
   "metadata": {},
   "outputs": [
    {
     "data": {
      "text/plain": [
       "{1: 'one', 2: 'two', 'A': {'Name': 'asif', 'Age': 20}, 'B': ('Bat', 'ca')}"
      ]
     },
     "execution_count": 83,
     "metadata": {},
     "output_type": "execute_result"
    }
   ],
   "source": [
    "mydict = {1:'one' , 2:'two' , 'A':{'Name':'asif' , 'Age' :20}, 'B':('Bat' , 'ca')}\n",
    "mydict"
   ]
  },
  {
   "cell_type": "code",
   "execution_count": 84,
   "id": "a9a5a6a0-a497-4c50-984c-dd5888b33441",
   "metadata": {},
   "outputs": [
    {
     "data": {
      "text/plain": [
       "{'d': None, 'c': None, 'b': None, 'a': None}"
      ]
     },
     "execution_count": 84,
     "metadata": {},
     "output_type": "execute_result"
    }
   ],
   "source": [
    "keys = {'a' , 'b' , 'c' , 'd'}\n",
    "mydict3 = dict.fromkeys(keys) # Create a dictionary from a sequence of keys\n",
    "mydict3"
   ]
  },
  {
   "cell_type": "code",
   "execution_count": 86,
   "id": "c8d110b0-330b-41e5-ac66-ae627a358e88",
   "metadata": {},
   "outputs": [
    {
     "data": {
      "text/plain": [
       "{'d': 10, 'c': 10, 'b': 10, 'a': 10}"
      ]
     },
     "execution_count": 86,
     "metadata": {},
     "output_type": "execute_result"
    }
   ],
   "source": [
    "keys = {'a' , 'b' , 'c' , 'd'}\n",
    "value = 10\n",
    "mydict3 = dict.fromkeys(keys , value) # Create a dictionary from a sequence of\n",
    "mydict3"
   ]
  },
  {
   "cell_type": "code",
   "execution_count": 87,
   "id": "fff1293b-3330-4e2d-bc3a-cccbf22b3ff8",
   "metadata": {},
   "outputs": [
    {
     "data": {
      "text/plain": [
       "{'d': [10, 20, 30], 'c': [10, 20, 30], 'b': [10, 20, 30], 'a': [10, 20, 30]}"
      ]
     },
     "execution_count": 87,
     "metadata": {},
     "output_type": "execute_result"
    }
   ],
   "source": [
    "keys = {'a' , 'b' , 'c' , 'd'} \n",
    "value = [10,20,30]\n",
    "mydict3 = dict.fromkeys(keys , value) # Create a dictionary from a sequence of\n",
    "mydict3"
   ]
  },
  {
   "cell_type": "code",
   "execution_count": 89,
   "id": "8dfc4675-0ea0-432d-87eb-5549d4812586",
   "metadata": {},
   "outputs": [
    {
     "data": {
      "text/plain": [
       "{'d': [10, 20, 30, 40],\n",
       " 'c': [10, 20, 30, 40],\n",
       " 'b': [10, 20, 30, 40],\n",
       " 'a': [10, 20, 30, 40]}"
      ]
     },
     "execution_count": 89,
     "metadata": {},
     "output_type": "execute_result"
    }
   ],
   "source": [
    "value.append(40)\n",
    "mydict3"
   ]
  },
  {
   "cell_type": "code",
   "execution_count": null,
   "id": "dfc0721d-dce3-45fc-9f31-7821296af69f",
   "metadata": {},
   "outputs": [],
   "source": []
  },
  {
   "cell_type": "markdown",
   "id": "fed15f03-f010-46fc-a9ea-fa50924dc077",
   "metadata": {},
   "source": [
    "## Accessing Items"
   ]
  },
  {
   "cell_type": "code",
   "execution_count": 91,
   "id": "db6a9bdf-e880-4295-bebb-03b28b09b7e7",
   "metadata": {},
   "outputs": [
    {
     "data": {
      "text/plain": [
       "{1: 'one', 2: 'two', 3: 'three', 4: 'four'}"
      ]
     },
     "execution_count": 91,
     "metadata": {},
     "output_type": "execute_result"
    }
   ],
   "source": [
    "mydict = {1:'one' , 2:'two' , 3:'three' , 4:'four'}\n",
    "mydict"
   ]
  },
  {
   "cell_type": "code",
   "execution_count": 92,
   "id": "162d3950-f9ed-40eb-957a-d16bb05baef1",
   "metadata": {},
   "outputs": [
    {
     "data": {
      "text/plain": [
       "'one'"
      ]
     },
     "execution_count": 92,
     "metadata": {},
     "output_type": "execute_result"
    }
   ],
   "source": [
    "mydict[1] # Access item using key"
   ]
  },
  {
   "cell_type": "code",
   "execution_count": 93,
   "id": "8015bc23-a5ad-4b16-a348-0979c3122373",
   "metadata": {},
   "outputs": [
    {
     "data": {
      "text/plain": [
       "'one'"
      ]
     },
     "execution_count": 93,
     "metadata": {},
     "output_type": "execute_result"
    }
   ],
   "source": [
    "mydict.get(1) # Access item using get() method"
   ]
  },
  {
   "cell_type": "code",
   "execution_count": 94,
   "id": "c6840042-0d19-44ce-aa2b-72419fc12d02",
   "metadata": {},
   "outputs": [
    {
     "data": {
      "text/plain": [
       "{'Name': 'Tanmay', 'ID': 932266, 'DOB': 2004, 'job': 'Data Science'}"
      ]
     },
     "execution_count": 94,
     "metadata": {},
     "output_type": "execute_result"
    }
   ],
   "source": [
    "mydict1 = {'Name':'Tanmay' , 'ID': 932266 , 'DOB': 2004 , 'job' :'Data Science'} \n",
    "mydict1"
   ]
  },
  {
   "cell_type": "code",
   "execution_count": 95,
   "id": "566ddde1-fbaa-41db-bb34-9b6eb18c4b1b",
   "metadata": {},
   "outputs": [
    {
     "data": {
      "text/plain": [
       "'Tanmay'"
      ]
     },
     "execution_count": 95,
     "metadata": {},
     "output_type": "execute_result"
    }
   ],
   "source": [
    "mydict1['Name'] # Access item using key"
   ]
  },
  {
   "cell_type": "code",
   "execution_count": 96,
   "id": "625a7500-a185-4186-b22e-db8fcd47668a",
   "metadata": {},
   "outputs": [
    {
     "data": {
      "text/plain": [
       "'Data Science'"
      ]
     },
     "execution_count": 96,
     "metadata": {},
     "output_type": "execute_result"
    }
   ],
   "source": [
    "mydict1.get('job') # Access item using get() method"
   ]
  },
  {
   "cell_type": "code",
   "execution_count": null,
   "id": "71e04f2c-3826-45b9-a2a5-463b2f78a3e5",
   "metadata": {},
   "outputs": [],
   "source": []
  },
  {
   "cell_type": "markdown",
   "id": "a129f553-b3df-4ce5-ae60-899a4cacc066",
   "metadata": {},
   "source": [
    "## Add, Remove & Change Items"
   ]
  },
  {
   "cell_type": "code",
   "execution_count": 97,
   "id": "0c9e5959-eb24-41a5-8555-225ad9d2bf50",
   "metadata": {},
   "outputs": [
    {
     "data": {
      "text/plain": [
       "{'Name': 'Tanmay', 'ID': 12345, 'DOB': 2004, 'Address': 'kharosa'}"
      ]
     },
     "execution_count": 97,
     "metadata": {},
     "output_type": "execute_result"
    }
   ],
   "source": [
    "mydict1 = {'Name':'Tanmay' , 'ID': 12345 , 'DOB': 2004 , 'Address' : 'kharosa'}\n",
    "mydict1"
   ]
  },
  {
   "cell_type": "code",
   "execution_count": 98,
   "id": "bfb49f3a-aeea-4c58-82e4-645d551fd813",
   "metadata": {},
   "outputs": [
    {
     "data": {
      "text/plain": [
       "{'Name': 'Tanmay', 'ID': 12345, 'DOB': 2004, 'Address': 'Pune'}"
      ]
     },
     "execution_count": 98,
     "metadata": {},
     "output_type": "execute_result"
    }
   ],
   "source": [
    "mydict1['DOB'] = 2004 # Changing Dictionary Items\n",
    "mydict1['Address'] = 'Pune'\n",
    "mydict1"
   ]
  },
  {
   "cell_type": "code",
   "execution_count": 99,
   "id": "979a190e-23f7-4983-b953-3b94720090bc",
   "metadata": {},
   "outputs": [
    {
     "data": {
      "text/plain": [
       "{'Name': 'Tanmay', 'ID': 12345, 'DOB': 2004, 'Address': 'Pune'}"
      ]
     },
     "execution_count": 99,
     "metadata": {},
     "output_type": "execute_result"
    }
   ],
   "source": [
    "dict1 = {'DOB':2004}\n",
    "mydict1.update(dict1)\n",
    "mydict1"
   ]
  },
  {
   "cell_type": "code",
   "execution_count": 101,
   "id": "49728e19-0ef7-4864-9579-5f187fc52bc4",
   "metadata": {},
   "outputs": [
    {
     "data": {
      "text/plain": [
       "{'Name': 'Tanmay',\n",
       " 'ID': 12345,\n",
       " 'DOB': 2004,\n",
       " 'Address': 'Pune',\n",
       " 'Job': 'Data Scientist'}"
      ]
     },
     "execution_count": 101,
     "metadata": {},
     "output_type": "execute_result"
    }
   ],
   "source": [
    "mydict1['Job'] = 'Data Scientist' # Adding items in the dictionary\n",
    "mydict1"
   ]
  },
  {
   "cell_type": "code",
   "execution_count": 102,
   "id": "00663f35-bc95-4819-aec1-56fbc624525f",
   "metadata": {},
   "outputs": [
    {
     "data": {
      "text/plain": [
       "{'Name': 'Tanmay', 'ID': 12345, 'DOB': 2004, 'Address': 'Pune'}"
      ]
     },
     "execution_count": 102,
     "metadata": {},
     "output_type": "execute_result"
    }
   ],
   "source": [
    "mydict1.pop('Job') # Removing items in the dictionary using Pop method\n",
    "mydict1"
   ]
  },
  {
   "cell_type": "code",
   "execution_count": 103,
   "id": "4f754a47-9f14-4d54-bcb9-7b7b47b06fef",
   "metadata": {},
   "outputs": [
    {
     "data": {
      "text/plain": [
       "('Address', 'Pune')"
      ]
     },
     "execution_count": 103,
     "metadata": {},
     "output_type": "execute_result"
    }
   ],
   "source": [
    "mydict1.popitem() # A random item is removed"
   ]
  },
  {
   "cell_type": "code",
   "execution_count": 104,
   "id": "f85d35c1-d7fa-4d61-9242-42ea369c2e64",
   "metadata": {},
   "outputs": [
    {
     "data": {
      "text/plain": [
       "{'Name': 'Tanmay', 'ID': 12345, 'DOB': 2004}"
      ]
     },
     "execution_count": 104,
     "metadata": {},
     "output_type": "execute_result"
    }
   ],
   "source": [
    "mydict1"
   ]
  },
  {
   "cell_type": "code",
   "execution_count": 105,
   "id": "a36a2cd6-8b79-4ab1-ac50-318ed4a94205",
   "metadata": {},
   "outputs": [
    {
     "data": {
      "text/plain": [
       "{'Name': 'Tanmay', 'DOB': 2004}"
      ]
     },
     "execution_count": 105,
     "metadata": {},
     "output_type": "execute_result"
    }
   ],
   "source": [
    "del[mydict1['ID']] # Removing item using del method\n",
    "mydict1"
   ]
  },
  {
   "cell_type": "code",
   "execution_count": 106,
   "id": "76b881df-2f2c-4da7-8666-0280e3d1310a",
   "metadata": {},
   "outputs": [
    {
     "data": {
      "text/plain": [
       "{}"
      ]
     },
     "execution_count": 106,
     "metadata": {},
     "output_type": "execute_result"
    }
   ],
   "source": [
    "mydict1.clear() # Delete all items of the dictionary using clear method\n",
    "mydict1"
   ]
  },
  {
   "cell_type": "code",
   "execution_count": 107,
   "id": "3842c8c5-72fe-48be-94ce-925ca270b3ab",
   "metadata": {},
   "outputs": [
    {
     "ename": "NameError",
     "evalue": "name 'mydict1' is not defined",
     "output_type": "error",
     "traceback": [
      "\u001b[1;31m---------------------------------------------------------------------------\u001b[0m",
      "\u001b[1;31mNameError\u001b[0m                                 Traceback (most recent call last)",
      "Cell \u001b[1;32mIn[107], line 2\u001b[0m\n\u001b[0;32m      1\u001b[0m \u001b[38;5;28;01mdel\u001b[39;00m mydict1 \u001b[38;5;66;03m# Delete the dictionary object\u001b[39;00m\n\u001b[1;32m----> 2\u001b[0m mydict1\n",
      "\u001b[1;31mNameError\u001b[0m: name 'mydict1' is not defined"
     ]
    }
   ],
   "source": [
    "del mydict1 # Delete the dictionary object\n",
    "mydict1"
   ]
  },
  {
   "cell_type": "code",
   "execution_count": null,
   "id": "7841c1bb-b9de-4a25-af4a-3a9bdfffe8b8",
   "metadata": {},
   "outputs": [],
   "source": []
  },
  {
   "cell_type": "markdown",
   "id": "2ce0d688-66ec-4e6d-86bd-5e5343e53b45",
   "metadata": {},
   "source": [
    "## Copy Dictionary"
   ]
  },
  {
   "cell_type": "code",
   "execution_count": 108,
   "id": "831fdecc-7076-445e-b134-5d4713797d64",
   "metadata": {},
   "outputs": [
    {
     "data": {
      "text/plain": [
       "{'Name': 'Tanmay', 'ID': 12345, 'DOB': 2004, 'Address': 'Kharosa'}"
      ]
     },
     "execution_count": 108,
     "metadata": {},
     "output_type": "execute_result"
    }
   ],
   "source": [
    "mydict = {'Name':'Tanmay' , 'ID': 12345 , 'DOB': 2004 , 'Address' : 'Kharosa'}\n",
    "mydict"
   ]
  },
  {
   "cell_type": "code",
   "execution_count": 109,
   "id": "465a2b56-377c-4b7d-a650-344e4258038b",
   "metadata": {},
   "outputs": [],
   "source": [
    "mydict1 = mydict # Create a new reference \"mydict1\""
   ]
  },
  {
   "cell_type": "code",
   "execution_count": 110,
   "id": "2d65467a-3a87-4436-973d-1d54e5daba9a",
   "metadata": {},
   "outputs": [
    {
     "data": {
      "text/plain": [
       "(1858921760000, 1858921760000)"
      ]
     },
     "execution_count": 110,
     "metadata": {},
     "output_type": "execute_result"
    }
   ],
   "source": [
    "id(mydict) , id(mydict1) # The address of both mydict & mydict1 will be the same"
   ]
  },
  {
   "cell_type": "code",
   "execution_count": 111,
   "id": "3290b79c-e365-46f3-b07c-4ba2051b278e",
   "metadata": {},
   "outputs": [],
   "source": [
    "mydict2 = mydict.copy() # Create a copy of the dictionary"
   ]
  },
  {
   "cell_type": "code",
   "execution_count": 112,
   "id": "d91b3698-1913-431b-8632-8c3896bd0a02",
   "metadata": {},
   "outputs": [
    {
     "data": {
      "text/plain": [
       "1858922063616"
      ]
     },
     "execution_count": 112,
     "metadata": {},
     "output_type": "execute_result"
    }
   ],
   "source": [
    "id(mydict2) # The address of mydict2 will be different from mydict because mydic"
   ]
  },
  {
   "cell_type": "code",
   "execution_count": 114,
   "id": "fe481d3a-ea0c-4a70-8394-6b236846cf38",
   "metadata": {},
   "outputs": [],
   "source": [
    "mydict['Address'] = 'Mumbai'"
   ]
  },
  {
   "cell_type": "code",
   "execution_count": 115,
   "id": "4795b2e9-d77f-438a-b996-fca64f459efd",
   "metadata": {},
   "outputs": [
    {
     "data": {
      "text/plain": [
       "{'Name': 'Tanmay', 'ID': 12345, 'DOB': 2004, 'Address': 'Mumbai'}"
      ]
     },
     "execution_count": 115,
     "metadata": {},
     "output_type": "execute_result"
    }
   ],
   "source": [
    "mydict"
   ]
  },
  {
   "cell_type": "code",
   "execution_count": 116,
   "id": "decbd2ba-2a4d-4fed-bbe2-1e9126e55778",
   "metadata": {},
   "outputs": [
    {
     "data": {
      "text/plain": [
       "{'Name': 'Tanmay', 'ID': 12345, 'DOB': 2004, 'Address': 'Mumbai'}"
      ]
     },
     "execution_count": 116,
     "metadata": {},
     "output_type": "execute_result"
    }
   ],
   "source": [
    "mydict1 # mydict1 will be also impacted as it is pointing to the same dictionary"
   ]
  },
  {
   "cell_type": "code",
   "execution_count": 117,
   "id": "22bee544-a108-4ed9-9aae-51a9923050d5",
   "metadata": {},
   "outputs": [
    {
     "data": {
      "text/plain": [
       "{'Name': 'Tanmay', 'ID': 12345, 'DOB': 2004, 'Address': 'Kharosa'}"
      ]
     },
     "execution_count": 117,
     "metadata": {},
     "output_type": "execute_result"
    }
   ],
   "source": [
    "mydict2 # Copy of list won't be impacted due to the changes made in the original"
   ]
  },
  {
   "cell_type": "code",
   "execution_count": null,
   "id": "da04e61b-2751-47a0-b488-83bb15366682",
   "metadata": {},
   "outputs": [],
   "source": []
  },
  {
   "cell_type": "markdown",
   "id": "6cbc5a49-94bc-44eb-92b3-fc8a6aa20f40",
   "metadata": {},
   "source": [
    "## Loop through a Dictionary"
   ]
  },
  {
   "cell_type": "code",
   "execution_count": 118,
   "id": "7b02a933-fa96-47b0-bada-6606f44fde99",
   "metadata": {},
   "outputs": [
    {
     "data": {
      "text/plain": [
       "{'Name': 'Tanmay', 'ID': 12345, 'DOB': 2004, 'Address': 'Kharosa'}"
      ]
     },
     "execution_count": 118,
     "metadata": {},
     "output_type": "execute_result"
    }
   ],
   "source": [
    "mydict = {'Name':'Tanmay' , 'ID': 12345 , 'DOB': 2004 , 'Address' : 'Kharosa'}\n",
    "mydict"
   ]
  },
  {
   "cell_type": "code",
   "execution_count": 119,
   "id": "ffcdd8d5-470d-4035-871b-553f63407034",
   "metadata": {},
   "outputs": [
    {
     "name": "stdout",
     "output_type": "stream",
     "text": [
      "Name : Tanmay\n",
      "ID : 12345\n",
      "DOB : 2004\n",
      "Address : Kharosa\n"
     ]
    }
   ],
   "source": [
    "for i in mydict:\n",
    "    print(i , ':' , mydict[i]) # Key & value pair"
   ]
  },
  {
   "cell_type": "code",
   "execution_count": 121,
   "id": "d8aa62b0-5e7c-482c-b614-a674155f5af4",
   "metadata": {},
   "outputs": [
    {
     "name": "stdout",
     "output_type": "stream",
     "text": [
      "Tanmay\n",
      "12345\n",
      "2004\n",
      "Kharosa\n"
     ]
    }
   ],
   "source": [
    "for i in mydict:\n",
    "   print(mydict[i]) # Dictionary items"
   ]
  },
  {
   "cell_type": "code",
   "execution_count": null,
   "id": "270499bf-ae6a-4bf6-86f9-3c69f30c707a",
   "metadata": {},
   "outputs": [],
   "source": []
  },
  {
   "cell_type": "markdown",
   "id": "0504a774-75f2-4d1c-ab8e-6f04b81b4c3f",
   "metadata": {},
   "source": [
    "## Dictionary Membership"
   ]
  },
  {
   "cell_type": "code",
   "execution_count": 122,
   "id": "4a947ece-868f-426b-b92c-8d9008719dd6",
   "metadata": {},
   "outputs": [
    {
     "data": {
      "text/plain": [
       "{'Name': 'Tanmay', 'ID': 12345, 'DOB': 2004, 'Address': 'kharosa'}"
      ]
     },
     "execution_count": 122,
     "metadata": {},
     "output_type": "execute_result"
    }
   ],
   "source": [
    "mydict1 = {'Name':'Tanmay' , 'ID': 12345 , 'DOB': 2004 , 'Address' : 'kharosa'}\n",
    "mydict1"
   ]
  },
  {
   "cell_type": "code",
   "execution_count": 123,
   "id": "4a853668-9e5d-4e2a-aa9e-bcf75bc68beb",
   "metadata": {},
   "outputs": [
    {
     "data": {
      "text/plain": [
       "True"
      ]
     },
     "execution_count": 123,
     "metadata": {},
     "output_type": "execute_result"
    }
   ],
   "source": [
    "'Name' in mydict1 # Test if a key is in a dictionary or not."
   ]
  },
  {
   "cell_type": "code",
   "execution_count": 124,
   "id": "80c91edd-ef28-4df7-b637-1189a158bffd",
   "metadata": {},
   "outputs": [
    {
     "data": {
      "text/plain": [
       "False"
      ]
     },
     "execution_count": 124,
     "metadata": {},
     "output_type": "execute_result"
    }
   ],
   "source": [
    "'Tanmay' in mydict1 # Membership test can be only done for keys."
   ]
  },
  {
   "cell_type": "code",
   "execution_count": 125,
   "id": "b015cdbc-2124-4a5f-a9e8-6f6d85fec5d9",
   "metadata": {},
   "outputs": [
    {
     "data": {
      "text/plain": [
       "True"
      ]
     },
     "execution_count": 125,
     "metadata": {},
     "output_type": "execute_result"
    }
   ],
   "source": [
    "'ID' in mydict1"
   ]
  },
  {
   "cell_type": "code",
   "execution_count": 126,
   "id": "8a1aaa90-e0ad-401b-bef4-9a241720e022",
   "metadata": {},
   "outputs": [
    {
     "data": {
      "text/plain": [
       "True"
      ]
     },
     "execution_count": 126,
     "metadata": {},
     "output_type": "execute_result"
    }
   ],
   "source": [
    "'Address' in mydict1"
   ]
  },
  {
   "cell_type": "code",
   "execution_count": null,
   "id": "bf312e07-180b-47df-85be-1085d87dbe2f",
   "metadata": {},
   "outputs": [],
   "source": []
  },
  {
   "cell_type": "markdown",
   "id": "7668899c-b9de-4718-bfcf-8299d63dedcc",
   "metadata": {},
   "source": [
    "## All / Any\n",
    "- The all() method returns:\n",
    "- True - If all all keys of the dictionary are true\n",
    "- False - If any key of the dictionary is false\n",
    "- The any() function returns True if any key of the dictionary is True. If not, any() returns False."
   ]
  },
  {
   "cell_type": "code",
   "execution_count": 127,
   "id": "5271a54b-3443-4186-b3d9-639c58f67615",
   "metadata": {},
   "outputs": [
    {
     "data": {
      "text/plain": [
       "{'Name': 'Tanmay', 'ID': 12345, 'DOB': 2004, 'Address': 'kharosa'}"
      ]
     },
     "execution_count": 127,
     "metadata": {},
     "output_type": "execute_result"
    }
   ],
   "source": [
    "mydict1 = {'Name':'Tanmay' , 'ID': 12345 , 'DOB': 2004 , 'Address' : 'kharosa'}\n",
    "mydict1"
   ]
  },
  {
   "cell_type": "code",
   "execution_count": 128,
   "id": "1a20ab3d-0bf2-4766-99a5-e3bfaf6eedc1",
   "metadata": {},
   "outputs": [
    {
     "data": {
      "text/plain": [
       "True"
      ]
     },
     "execution_count": 128,
     "metadata": {},
     "output_type": "execute_result"
    }
   ],
   "source": [
    "all(mydict1) # Will Return false as one value is false (Value 0)"
   ]
  },
  {
   "cell_type": "code",
   "execution_count": null,
   "id": "1c240677-afa1-49ef-ba17-86dd40f6c446",
   "metadata": {},
   "outputs": [],
   "source": []
  }
 ],
 "metadata": {
  "kernelspec": {
   "display_name": "Python 3 (ipykernel)",
   "language": "python",
   "name": "python3"
  },
  "language_info": {
   "codemirror_mode": {
    "name": "ipython",
    "version": 3
   },
   "file_extension": ".py",
   "mimetype": "text/x-python",
   "name": "python",
   "nbconvert_exporter": "python",
   "pygments_lexer": "ipython3",
   "version": "3.12.7"
  }
 },
 "nbformat": 4,
 "nbformat_minor": 5
}
