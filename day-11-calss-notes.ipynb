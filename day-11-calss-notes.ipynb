{
 "cells": [
  {
   "cell_type": "markdown",
   "id": "cc14f700-8d5c-448f-8298-e460575bd694",
   "metadata": {},
   "source": [
    "# Day - 11"
   ]
  },
  {
   "cell_type": "code",
   "execution_count": null,
   "id": "23738ad6-51c9-4072-9c4e-2f9bdfbaad43",
   "metadata": {},
   "outputs": [],
   "source": []
  },
  {
   "cell_type": "markdown",
   "id": "18620bed-00b1-412d-8182-d1b7d6f162f4",
   "metadata": {},
   "source": [
    "- Python Data Structure are 2 types\n",
    "- 1. Inbuild data structure\n",
    "- 2. User defined data structure\n",
    "\n",
    "- data type -- user has to define how many only 1 value\n",
    "-   a = 5\n",
    "-   a is variable 5 is only 1 value that store\n",
    "- vs\n",
    "- data structure\n",
    "-   b = 5,6,7,8,9\n",
    "-   b is a data structure b can be store more than 1 values\n",
    "\n",
    "- matrix is the collection of data structure\n",
    "- data structure is the collection of data types\n",
    "\n",
    "- inbuild data structure or buildin data structure == LIST, TUPLE, SET, DICT\n",
    "- User defined data structure == stack, linkedlist, heap, array\n",
    "- this user defined data structure is managed by some of library \n",
    "\n",
    "- what is the library \n",
    "- --> numpy, pandas, scikt learn, seaborn, etc\n",
    "\n"
   ]
  },
  {
   "cell_type": "code",
   "execution_count": 1,
   "id": "a7bccb8b-ecda-4825-aced-b3e1ad6ccb0b",
   "metadata": {},
   "outputs": [
    {
     "data": {
      "text/plain": [
       "int"
      ]
     },
     "execution_count": 1,
     "metadata": {},
     "output_type": "execute_result"
    }
   ],
   "source": [
    "a = 5 \n",
    "type(a)"
   ]
  },
  {
   "cell_type": "code",
   "execution_count": 2,
   "id": "c4feaf1e-1075-46d7-a666-b87e24637e83",
   "metadata": {},
   "outputs": [
    {
     "data": {
      "text/plain": [
       "float"
      ]
     },
     "execution_count": 2,
     "metadata": {},
     "output_type": "execute_result"
    }
   ],
   "source": [
    "b = 5.5 \n",
    "type(b)"
   ]
  },
  {
   "cell_type": "code",
   "execution_count": 3,
   "id": "89ed73a0-1b37-428e-8cc7-98930e441e2e",
   "metadata": {},
   "outputs": [
    {
     "data": {
      "text/plain": [
       "str"
      ]
     },
     "execution_count": 3,
     "metadata": {},
     "output_type": "execute_result"
    }
   ],
   "source": [
    "c = 'nit'\n",
    "type(c)"
   ]
  },
  {
   "cell_type": "code",
   "execution_count": 4,
   "id": "47a73196-1b06-4ebf-a414-33961d8b6159",
   "metadata": {},
   "outputs": [
    {
     "data": {
      "text/plain": [
       "complex"
      ]
     },
     "execution_count": 4,
     "metadata": {},
     "output_type": "execute_result"
    }
   ],
   "source": [
    "d = 1 + 2j \n",
    "type(d)"
   ]
  },
  {
   "cell_type": "code",
   "execution_count": 5,
   "id": "7843d4f6-05cd-4533-a4b6-4bbb35bb4ddb",
   "metadata": {},
   "outputs": [
    {
     "data": {
      "text/plain": [
       "bool"
      ]
     },
     "execution_count": 5,
     "metadata": {},
     "output_type": "execute_result"
    }
   ],
   "source": [
    "e = True\n",
    "type(e)"
   ]
  },
  {
   "cell_type": "markdown",
   "id": "41bb65ed-71c0-4d04-8550-80f54c4cf727",
   "metadata": {},
   "source": [
    "# Data Structure"
   ]
  },
  {
   "cell_type": "code",
   "execution_count": null,
   "id": "022d1b93-2ec8-48e5-acf3-f7ead0adaddd",
   "metadata": {},
   "outputs": [],
   "source": [
    "## List\n",
    "- In List multiple data type allowed\n",
    "- list inside list -- nested list\n",
    "\n",
    "- for inside for -- nested for\n",
    "- while inside while -- nested while loop\n",
    "\n",
    "- .append()\n",
    "- len()\n",
    "- id()\n",
    "- .copy()\n",
    "- .count()"
   ]
  },
  {
   "cell_type": "code",
   "execution_count": 7,
   "id": "18c6e400-3209-4ffd-a2c7-e39442bb0d6d",
   "metadata": {},
   "outputs": [
    {
     "data": {
      "text/plain": [
       "[]"
      ]
     },
     "execution_count": 7,
     "metadata": {},
     "output_type": "execute_result"
    }
   ],
   "source": [
    "l = []\n",
    "l"
   ]
  },
  {
   "cell_type": "code",
   "execution_count": 8,
   "id": "1c3f670b-d021-4bc7-8156-8cd71a57dbae",
   "metadata": {},
   "outputs": [
    {
     "data": {
      "text/plain": [
       "list"
      ]
     },
     "execution_count": 8,
     "metadata": {},
     "output_type": "execute_result"
    }
   ],
   "source": [
    "type(l)"
   ]
  },
  {
   "cell_type": "code",
   "execution_count": 9,
   "id": "86c8b285-bb64-4c1e-878d-4c9a4777d47b",
   "metadata": {},
   "outputs": [],
   "source": [
    "l.append(10)\n",
    "l.append(20)"
   ]
  },
  {
   "cell_type": "code",
   "execution_count": 10,
   "id": "3e170ddc-99a8-4feb-916a-05d56f364f2e",
   "metadata": {},
   "outputs": [
    {
     "data": {
      "text/plain": [
       "[10, 20]"
      ]
     },
     "execution_count": 10,
     "metadata": {},
     "output_type": "execute_result"
    }
   ],
   "source": [
    "l"
   ]
  },
  {
   "cell_type": "markdown",
   "id": "455c2896-3b97-4083-b781-33f7b48b9e03",
   "metadata": {},
   "source": [
    "## .append() --> add the element end of the list\n",
    "## .pop() --> remove the value by last index level / bydefault last index \n",
    "##       --> if user want to remove any specific element then specific index has to enter"
   ]
  },
  {
   "cell_type": "code",
   "execution_count": 11,
   "id": "034cea5c-86e4-4188-9807-0f28ebb8ecc9",
   "metadata": {},
   "outputs": [],
   "source": [
    "l.append(30)\n",
    "l.append(40)\n",
    "l.append(10)"
   ]
  },
  {
   "cell_type": "code",
   "execution_count": 12,
   "id": "c5195d7b-8377-4058-8c5f-b447c48537a0",
   "metadata": {},
   "outputs": [
    {
     "data": {
      "text/plain": [
       "[10, 20, 30, 40, 10]"
      ]
     },
     "execution_count": 12,
     "metadata": {},
     "output_type": "execute_result"
    }
   ],
   "source": [
    "l"
   ]
  },
  {
   "cell_type": "code",
   "execution_count": 13,
   "id": "c39aa512-70bc-4f95-ab3d-fdf76505292e",
   "metadata": {},
   "outputs": [
    {
     "data": {
      "text/plain": [
       "5"
      ]
     },
     "execution_count": 13,
     "metadata": {},
     "output_type": "execute_result"
    }
   ],
   "source": [
    "len(l)"
   ]
  },
  {
   "cell_type": "code",
   "execution_count": 74,
   "id": "17ab7d95-1f79-452a-872f-62e8c8da3b8f",
   "metadata": {},
   "outputs": [],
   "source": [
    "l1 = []"
   ]
  },
  {
   "cell_type": "code",
   "execution_count": 75,
   "id": "42b31cc2-ec24-4544-8ad0-8c2cb984033d",
   "metadata": {},
   "outputs": [],
   "source": [
    "l1 = l.copy()"
   ]
  },
  {
   "cell_type": "code",
   "execution_count": 76,
   "id": "24efd047-df21-49ec-967e-ecea92d3b84e",
   "metadata": {},
   "outputs": [
    {
     "data": {
      "text/plain": [
       "[10, 20, 30, 40, 10]"
      ]
     },
     "execution_count": 76,
     "metadata": {},
     "output_type": "execute_result"
    }
   ],
   "source": [
    "l1"
   ]
  },
  {
   "cell_type": "code",
   "execution_count": 21,
   "id": "857c4288-6b29-4185-8007-54b3f889d235",
   "metadata": {},
   "outputs": [
    {
     "data": {
      "text/plain": [
       "True"
      ]
     },
     "execution_count": 21,
     "metadata": {},
     "output_type": "execute_result"
    }
   ],
   "source": [
    "l == l1"
   ]
  },
  {
   "cell_type": "code",
   "execution_count": 23,
   "id": "9f61c786-9b02-4cbd-9c82-585809c95b02",
   "metadata": {},
   "outputs": [
    {
     "name": "stdout",
     "output_type": "stream",
     "text": [
      "[10, 20, 30, 40, 10]\n",
      "[10, 20, 30, 40, 10]\n"
     ]
    }
   ],
   "source": [
    "print(l)\n",
    "print(l1)"
   ]
  },
  {
   "cell_type": "code",
   "execution_count": 24,
   "id": "5182da94-f251-430a-a402-4619480ab1e5",
   "metadata": {},
   "outputs": [],
   "source": [
    "l2 = []"
   ]
  },
  {
   "cell_type": "code",
   "execution_count": 25,
   "id": "1fefb53a-4392-4337-9f84-87d4cd43c2dd",
   "metadata": {},
   "outputs": [],
   "source": [
    "l2.append(2.3)\n",
    "l2.append('nit')\n",
    "l2.append(True)\n",
    "l2.append(1+2j)\n",
    "l2.append([1,2,3])"
   ]
  },
  {
   "cell_type": "code",
   "execution_count": 26,
   "id": "4664615d-0a51-4806-860c-021405ca5ae4",
   "metadata": {},
   "outputs": [
    {
     "data": {
      "text/plain": [
       "[2.3, 'nit', True, (1+2j), [1, 2, 3]]"
      ]
     },
     "execution_count": 26,
     "metadata": {},
     "output_type": "execute_result"
    }
   ],
   "source": [
    "l2"
   ]
  },
  {
   "cell_type": "code",
   "execution_count": 27,
   "id": "ba7593ff-6e0c-48ef-9bfd-7d5c1e5184d9",
   "metadata": {},
   "outputs": [
    {
     "name": "stdout",
     "output_type": "stream",
     "text": [
      "[10, 20, 30, 40, 10]\n",
      "[10, 20, 30, 40, 10]\n",
      "[2.3, 'nit', True, (1+2j), [1, 2, 3]]\n"
     ]
    }
   ],
   "source": [
    "print(l)\n",
    "print(l1)\n",
    "print(l2)"
   ]
  },
  {
   "cell_type": "code",
   "execution_count": 28,
   "id": "c5c78fd6-97ff-4997-bc89-b94921d6ad95",
   "metadata": {},
   "outputs": [
    {
     "name": "stdout",
     "output_type": "stream",
     "text": [
      "5\n",
      "5\n",
      "5\n"
     ]
    }
   ],
   "source": [
    "print(len(l))\n",
    "print(len(l1))\n",
    "print(len(l2))"
   ]
  },
  {
   "cell_type": "code",
   "execution_count": 29,
   "id": "d849ce68-adbf-4c16-a034-d13c20512e94",
   "metadata": {},
   "outputs": [
    {
     "name": "stdout",
     "output_type": "stream",
     "text": [
      "1990097223360\n",
      "1990098479104\n",
      "1990099035712\n"
     ]
    }
   ],
   "source": [
    "print(id(l))\n",
    "print(id(l1))\n",
    "print(id(l2))"
   ]
  },
  {
   "cell_type": "code",
   "execution_count": null,
   "id": "8abea675-440d-41cf-afe5-91e1e44e75f7",
   "metadata": {},
   "outputs": [],
   "source": []
  },
  {
   "cell_type": "code",
   "execution_count": 30,
   "id": "f3e44cf8-66de-4aab-8e19-665860786b61",
   "metadata": {},
   "outputs": [
    {
     "data": {
      "text/plain": [
       "1"
      ]
     },
     "execution_count": 30,
     "metadata": {},
     "output_type": "execute_result"
    }
   ],
   "source": [
    "l.count(20)"
   ]
  },
  {
   "cell_type": "code",
   "execution_count": 31,
   "id": "6c606090-3fa7-4697-81a7-8b6fe2d6aef7",
   "metadata": {},
   "outputs": [
    {
     "data": {
      "text/plain": [
       "2"
      ]
     },
     "execution_count": 31,
     "metadata": {},
     "output_type": "execute_result"
    }
   ],
   "source": [
    "l.count(10)"
   ]
  },
  {
   "cell_type": "code",
   "execution_count": 32,
   "id": "8a7d48ca-ffab-4833-9f20-ce2813c4f27e",
   "metadata": {},
   "outputs": [
    {
     "data": {
      "text/plain": [
       "[2.3, 'nit', True, (1+2j), [1, 2, 3]]"
      ]
     },
     "execution_count": 32,
     "metadata": {},
     "output_type": "execute_result"
    }
   ],
   "source": [
    "l2"
   ]
  },
  {
   "cell_type": "code",
   "execution_count": 33,
   "id": "f83c8f50-a5d5-4653-87db-c99b05e1b9b1",
   "metadata": {},
   "outputs": [
    {
     "data": {
      "text/plain": [
       "1"
      ]
     },
     "execution_count": 33,
     "metadata": {},
     "output_type": "execute_result"
    }
   ],
   "source": [
    "l2.count('nit')"
   ]
  },
  {
   "cell_type": "markdown",
   "id": "a3588399-d473-414e-80b5-da8411e95f65",
   "metadata": {},
   "source": [
    "- forward indexing"
   ]
  },
  {
   "cell_type": "code",
   "execution_count": 35,
   "id": "9c6a57ed-bead-4bcb-b819-671424ca9a03",
   "metadata": {},
   "outputs": [
    {
     "data": {
      "text/plain": [
       "2.3"
      ]
     },
     "execution_count": 35,
     "metadata": {},
     "output_type": "execute_result"
    }
   ],
   "source": [
    "l2[0]"
   ]
  },
  {
   "cell_type": "code",
   "execution_count": 36,
   "id": "20394dfc-281f-4537-9489-73b09d81a639",
   "metadata": {},
   "outputs": [
    {
     "data": {
      "text/plain": [
       "'nit'"
      ]
     },
     "execution_count": 36,
     "metadata": {},
     "output_type": "execute_result"
    }
   ],
   "source": [
    "l2[1]"
   ]
  },
  {
   "cell_type": "code",
   "execution_count": 37,
   "id": "37eae6da-dede-48b9-ba4d-77445b0b3088",
   "metadata": {},
   "outputs": [
    {
     "data": {
      "text/plain": [
       "True"
      ]
     },
     "execution_count": 37,
     "metadata": {},
     "output_type": "execute_result"
    }
   ],
   "source": [
    "l2[2]"
   ]
  },
  {
   "cell_type": "code",
   "execution_count": 38,
   "id": "cb404f04-a92c-4c3a-8ed2-0d73ec648cb0",
   "metadata": {},
   "outputs": [
    {
     "data": {
      "text/plain": [
       "(1+2j)"
      ]
     },
     "execution_count": 38,
     "metadata": {},
     "output_type": "execute_result"
    }
   ],
   "source": [
    "l2[3]"
   ]
  },
  {
   "cell_type": "code",
   "execution_count": 39,
   "id": "00f22938-2200-467e-a803-9e2768d25418",
   "metadata": {},
   "outputs": [
    {
     "data": {
      "text/plain": [
       "[1, 2, 3]"
      ]
     },
     "execution_count": 39,
     "metadata": {},
     "output_type": "execute_result"
    }
   ],
   "source": [
    "l2[4]"
   ]
  },
  {
   "cell_type": "markdown",
   "id": "e2621074-198e-4aee-9e3d-ef0bd2bb4cb7",
   "metadata": {},
   "source": [
    "- backward indexing"
   ]
  },
  {
   "cell_type": "code",
   "execution_count": 40,
   "id": "fdab3589-ff80-4bb5-902a-52d929aae109",
   "metadata": {},
   "outputs": [
    {
     "data": {
      "text/plain": [
       "'nit'"
      ]
     },
     "execution_count": 40,
     "metadata": {},
     "output_type": "execute_result"
    }
   ],
   "source": [
    "l2[-4]"
   ]
  },
  {
   "cell_type": "code",
   "execution_count": 41,
   "id": "92f16ec9-0f6c-415e-a857-635c515c1592",
   "metadata": {},
   "outputs": [
    {
     "data": {
      "text/plain": [
       "True"
      ]
     },
     "execution_count": 41,
     "metadata": {},
     "output_type": "execute_result"
    }
   ],
   "source": [
    "l2[-3]"
   ]
  },
  {
   "cell_type": "code",
   "execution_count": 42,
   "id": "c57d21a5-92e1-48aa-a8cd-472650f6e9e9",
   "metadata": {},
   "outputs": [
    {
     "data": {
      "text/plain": [
       "(1+2j)"
      ]
     },
     "execution_count": 42,
     "metadata": {},
     "output_type": "execute_result"
    }
   ],
   "source": [
    "l2[-2]"
   ]
  },
  {
   "cell_type": "code",
   "execution_count": 43,
   "id": "11862e3b-659f-4d9e-b89e-7de3609cacca",
   "metadata": {},
   "outputs": [
    {
     "data": {
      "text/plain": [
       "[1, 2, 3]"
      ]
     },
     "execution_count": 43,
     "metadata": {},
     "output_type": "execute_result"
    }
   ],
   "source": [
    "l2[-1]"
   ]
  },
  {
   "cell_type": "markdown",
   "id": "d4a5a3ad-a069-44ec-9821-c7a4a555ad02",
   "metadata": {},
   "source": [
    "- list is mutable (mutable = changable -- once assign a value we v=can be change)"
   ]
  },
  {
   "cell_type": "code",
   "execution_count": 45,
   "id": "b7febf3d-b612-4244-8c00-982f0f3286fc",
   "metadata": {},
   "outputs": [],
   "source": [
    "l2 [0] = 230"
   ]
  },
  {
   "cell_type": "code",
   "execution_count": 46,
   "id": "33ea27d5-1def-4918-9be3-a5def057453b",
   "metadata": {},
   "outputs": [
    {
     "data": {
      "text/plain": [
       "[230, 'nit', True, (1+2j), [1, 2, 3]]"
      ]
     },
     "execution_count": 46,
     "metadata": {},
     "output_type": "execute_result"
    }
   ],
   "source": [
    "l2"
   ]
  },
  {
   "cell_type": "code",
   "execution_count": 50,
   "id": "46720971-6dc7-4bfb-9f35-45b9f5898742",
   "metadata": {},
   "outputs": [
    {
     "data": {
      "text/plain": [
       "[10, 20, 30, 40, 10]"
      ]
     },
     "execution_count": 50,
     "metadata": {},
     "output_type": "execute_result"
    }
   ],
   "source": [
    "l1"
   ]
  },
  {
   "cell_type": "code",
   "execution_count": 51,
   "id": "63d8e0cb-bd8f-48b5-a22b-e4c258c53def",
   "metadata": {},
   "outputs": [
    {
     "data": {
      "text/plain": [
       "5"
      ]
     },
     "execution_count": 51,
     "metadata": {},
     "output_type": "execute_result"
    }
   ],
   "source": [
    "len(l1)"
   ]
  },
  {
   "cell_type": "code",
   "execution_count": 77,
   "id": "7b6a6514-6a05-4b6b-9986-f3a12e3cdfff",
   "metadata": {},
   "outputs": [],
   "source": [
    "l1.clear()"
   ]
  },
  {
   "cell_type": "code",
   "execution_count": 78,
   "id": "aec59257-05c2-4f27-a326-06ee50c9662e",
   "metadata": {},
   "outputs": [
    {
     "data": {
      "text/plain": [
       "[]"
      ]
     },
     "execution_count": 78,
     "metadata": {},
     "output_type": "execute_result"
    }
   ],
   "source": [
    "l1"
   ]
  },
  {
   "cell_type": "code",
   "execution_count": 79,
   "id": "32ec7e2d-1eb5-40c9-b36b-e9bb61ae8869",
   "metadata": {},
   "outputs": [
    {
     "data": {
      "text/plain": [
       "0"
      ]
     },
     "execution_count": 79,
     "metadata": {},
     "output_type": "execute_result"
    }
   ],
   "source": [
    "len(l1)"
   ]
  },
  {
   "cell_type": "code",
   "execution_count": 80,
   "id": "9c7f275c-45a1-4079-8008-a54a41ca737f",
   "metadata": {},
   "outputs": [
    {
     "data": {
      "text/plain": [
       "[]"
      ]
     },
     "execution_count": 80,
     "metadata": {},
     "output_type": "execute_result"
    }
   ],
   "source": [
    "l1"
   ]
  },
  {
   "cell_type": "code",
   "execution_count": 81,
   "id": "f1e5b732-6048-4a2e-99f6-9d2c4f459b2c",
   "metadata": {},
   "outputs": [],
   "source": [
    "del l1 # del is delete the l1 list"
   ]
  },
  {
   "cell_type": "code",
   "execution_count": 82,
   "id": "8466dfe8-e084-400a-8c28-f65ed7ded7ca",
   "metadata": {},
   "outputs": [
    {
     "ename": "NameError",
     "evalue": "name 'l1' is not defined",
     "output_type": "error",
     "traceback": [
      "\u001b[1;31m---------------------------------------------------------------------------\u001b[0m",
      "\u001b[1;31mNameError\u001b[0m                                 Traceback (most recent call last)",
      "Cell \u001b[1;32mIn[82], line 1\u001b[0m\n\u001b[1;32m----> 1\u001b[0m l1\n",
      "\u001b[1;31mNameError\u001b[0m: name 'l1' is not defined"
     ]
    }
   ],
   "source": [
    "l1"
   ]
  },
  {
   "cell_type": "code",
   "execution_count": 63,
   "id": "1046ead2-062f-4958-8d2d-84749a57970f",
   "metadata": {},
   "outputs": [
    {
     "data": {
      "text/plain": [
       "[230, 'nit', True, (1+2j), [1, 2, 3]]"
      ]
     },
     "execution_count": 63,
     "metadata": {},
     "output_type": "execute_result"
    }
   ],
   "source": [
    "l2"
   ]
  },
  {
   "cell_type": "code",
   "execution_count": 65,
   "id": "4f2b5cf9-8b29-42ad-91bc-4c00e5a67e0b",
   "metadata": {},
   "outputs": [
    {
     "data": {
      "text/plain": [
       "[1, 2, 3]"
      ]
     },
     "execution_count": 65,
     "metadata": {},
     "output_type": "execute_result"
    }
   ],
   "source": [
    "l2.pop() # pop function first display last function and then remove"
   ]
  },
  {
   "cell_type": "code",
   "execution_count": 66,
   "id": "c205407f-af2f-4bd1-abb8-2d68f5148a3c",
   "metadata": {},
   "outputs": [
    {
     "data": {
      "text/plain": [
       "[230, 'nit', True, (1+2j)]"
      ]
     },
     "execution_count": 66,
     "metadata": {},
     "output_type": "execute_result"
    }
   ],
   "source": [
    "l2"
   ]
  },
  {
   "cell_type": "code",
   "execution_count": 83,
   "id": "4ab88972-4a68-4be2-bfa6-02595b62ce49",
   "metadata": {},
   "outputs": [
    {
     "data": {
      "text/plain": [
       "'nit'"
      ]
     },
     "execution_count": 83,
     "metadata": {},
     "output_type": "execute_result"
    }
   ],
   "source": [
    "l2.pop(1) # nit eliminate"
   ]
  },
  {
   "cell_type": "code",
   "execution_count": 84,
   "id": "3131a695-e97c-421f-a6c6-06876c178ae5",
   "metadata": {},
   "outputs": [
    {
     "data": {
      "text/plain": [
       "[230, True, (1+2j)]"
      ]
     },
     "execution_count": 84,
     "metadata": {},
     "output_type": "execute_result"
    }
   ],
   "source": [
    "l2"
   ]
  },
  {
   "cell_type": "code",
   "execution_count": 89,
   "id": "6c6bc83f-32ab-478e-b763-cf3d235cfafa",
   "metadata": {},
   "outputs": [
    {
     "data": {
      "text/plain": [
       "[10, 20, 30, 40, 10]"
      ]
     },
     "execution_count": 89,
     "metadata": {},
     "output_type": "execute_result"
    }
   ],
   "source": [
    "l"
   ]
  },
  {
   "cell_type": "code",
   "execution_count": 95,
   "id": "72f40911-0ba4-449b-8a22-b38d1d73725b",
   "metadata": {},
   "outputs": [],
   "source": [
    "l.remove(40)"
   ]
  },
  {
   "cell_type": "code",
   "execution_count": 96,
   "id": "1120d1d7-f0ab-4b93-908b-d0c1a633c63b",
   "metadata": {},
   "outputs": [
    {
     "data": {
      "text/plain": [
       "[10, 20, 30, 10]"
      ]
     },
     "execution_count": 96,
     "metadata": {},
     "output_type": "execute_result"
    }
   ],
   "source": [
    "l"
   ]
  },
  {
   "cell_type": "code",
   "execution_count": null,
   "id": "a5eff8ba-ec11-4423-992c-2caeab9e0711",
   "metadata": {},
   "outputs": [],
   "source": []
  }
 ],
 "metadata": {
  "kernelspec": {
   "display_name": "Python 3 (ipykernel)",
   "language": "python",
   "name": "python3"
  },
  "language_info": {
   "codemirror_mode": {
    "name": "ipython",
    "version": 3
   },
   "file_extension": ".py",
   "mimetype": "text/x-python",
   "name": "python",
   "nbconvert_exporter": "python",
   "pygments_lexer": "ipython3",
   "version": "3.12.7"
  }
 },
 "nbformat": 4,
 "nbformat_minor": 5
}
