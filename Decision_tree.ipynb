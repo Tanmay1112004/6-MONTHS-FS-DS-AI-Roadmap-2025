{
  "nbformat": 4,
  "nbformat_minor": 0,
  "metadata": {
    "colab": {
      "provenance": []
    },
    "kernelspec": {
      "name": "python3",
      "display_name": "Python 3"
    },
    "language_info": {
      "name": "python"
    }
  },
  "cells": [
    {
      "cell_type": "code",
      "execution_count": null,
      "metadata": {
        "id": "TryyPcTuJcYG"
      },
      "outputs": [],
      "source": []
    },
    {
      "cell_type": "code",
      "source": [
        "# ================================\n",
        "# Decision Tree Classification Example\n",
        "# ================================\n",
        "\n",
        "import numpy as np\n",
        "import matplotlib.pyplot as plt\n",
        "import pandas as pd\n",
        "\n",
        "# Load Dataset\n",
        "dataset = pd.read_csv(r\"/content/logit classification.csv\")\n",
        "\n",
        "# Features & Target\n",
        "X = dataset.iloc[:, [2, 3]].values\n",
        "y = dataset.iloc[:, -1].values\n",
        "\n",
        "# Train-Test Split\n",
        "from sklearn.model_selection import train_test_split\n",
        "X_train, X_test, y_train, y_test = train_test_split(\n",
        "    X, y, test_size=0.20, random_state=0\n",
        ")\n",
        "\n",
        "# Feature Scaling\n",
        "from sklearn.preprocessing import StandardScaler\n",
        "sc = StandardScaler()\n",
        "X_train = sc.fit_transform(X_train)\n",
        "X_test = sc.transform(X_test)\n",
        "\n",
        "# Model - Decision Tree Classifier\n",
        "from sklearn.tree import DecisionTreeClassifier\n",
        "classifier = DecisionTreeClassifier(criterion='entropy', random_state=0)\n",
        "classifier.fit(X_train, y_train)\n",
        "\n",
        "# Predictions\n",
        "y_pred = classifier.predict(X_test)\n",
        "\n",
        "# Evaluation Metrics\n",
        "from sklearn.metrics import confusion_matrix, accuracy_score, classification_report\n",
        "\n",
        "cm = confusion_matrix(y_test, y_pred)\n",
        "print(\"Confusion Matrix:\\n\", cm)\n",
        "\n",
        "ac = accuracy_score(y_test, y_pred)\n",
        "print(\"Accuracy:\", ac)\n",
        "\n",
        "cr = classification_report(y_test, y_pred)\n",
        "print(\"Classification Report:\\n\", cr)\n",
        "\n",
        "# Bias & Variance\n",
        "train_score = classifier.score(X_train, y_train)  # Variance check\n",
        "test_score = classifier.score(X_test, y_test)    # Bias check\n",
        "\n",
        "print(\"Training Score (Variance):\", train_score)\n",
        "print(\"Test Score (Bias):\", test_score)"
      ],
      "metadata": {
        "colab": {
          "base_uri": "https://localhost:8080/"
        },
        "id": "97suoPxdJuBj",
        "outputId": "e2a267d3-df69-465a-fc6b-48b95572184b"
      },
      "execution_count": 1,
      "outputs": [
        {
          "output_type": "stream",
          "name": "stdout",
          "text": [
            "Confusion Matrix:\n",
            " [[53  5]\n",
            " [ 3 19]]\n",
            "Accuracy: 0.9\n",
            "Classification Report:\n",
            "               precision    recall  f1-score   support\n",
            "\n",
            "           0       0.95      0.91      0.93        58\n",
            "           1       0.79      0.86      0.83        22\n",
            "\n",
            "    accuracy                           0.90        80\n",
            "   macro avg       0.87      0.89      0.88        80\n",
            "weighted avg       0.90      0.90      0.90        80\n",
            "\n",
            "Training Score (Variance): 0.996875\n",
            "Test Score (Bias): 0.9\n"
          ]
        }
      ]
    },
    {
      "cell_type": "code",
      "source": [],
      "metadata": {
        "id": "nU8M7OSjJuEv"
      },
      "execution_count": null,
      "outputs": []
    },
    {
      "cell_type": "code",
      "source": [
        "\n",
        "\"\"\"\n",
        "Decision Tree Classification\n",
        "\"\"\"\n",
        "import numpy as np\n",
        "import pandas as pd\n",
        "from sklearn.model_selection import train_test_split, GridSearchCV\n",
        "from sklearn.preprocessing import StandardScaler\n",
        "from sklearn.tree import DecisionTreeClassifier\n",
        "from sklearn.metrics import confusion_matrix, accuracy_score, classification_report\n",
        "\n",
        "# 1. Load Data (UPDATE PATH!)\n",
        "try:\n",
        "    dataset = pd.read_csv(r\"/content/logit classification.csv\")\n",
        "    X = dataset.iloc[:, [2, 3]].values  # Features\n",
        "    y = dataset.iloc[:, -1].values      # Target\n",
        "except Exception as e:\n",
        "    print(\"Error loading data:\", e)\n",
        "    raise\n",
        "\n",
        "# 2. Split Data\n",
        "X_train, X_test, y_train, y_test = train_test_split(X, y, test_size=0.2, random_state=0)\n",
        "\n",
        "# 3. Feature Scaling\n",
        "scaler = StandardScaler()\n",
        "X_train = scaler.fit_transform(X_train)\n",
        "X_test = scaler.transform(X_test)\n",
        "\n",
        "# 4. Train Base Model\n",
        "dt = DecisionTreeClassifier(random_state=0)\n",
        "dt.fit(X_train, y_train)\n",
        "y_pred = dt.predict(X_test)\n",
        "\n",
        "# 5. Evaluate\n",
        "print(\"Base Model Accuracy:\", accuracy_score(y_test, y_pred))\n",
        "print(\"Confusion Matrix:\\n\", confusion_matrix(y_test, y_pred))\n",
        "\n",
        "# 6. Hyperparameter Tuning\n",
        "param_grid = {\n",
        "    'criterion': ['gini', 'entropy'],\n",
        "    'max_depth': [None, 2, 4, 6],\n",
        "    'min_samples_split': [2, 5, 10]\n",
        "}\n",
        "\n",
        "grid_search = GridSearchCV(DecisionTreeClassifier(random_state=0), param_grid, cv=5, n_jobs=-1)\n",
        "grid_search.fit(X_train, y_train)\n",
        "\n",
        "print(\"\\nBest Parameters:\", grid_search.best_params_)\n",
        "print(\"Best CV Accuracy:\", grid_search.best_score_)\n",
        "\n",
        "# 7. Final Model\n",
        "best_dt = grid_search.best_estimator_\n",
        "print(\"Test Accuracy (Tuned):\", best_dt.score(X_test, y_test))"
      ],
      "metadata": {
        "colab": {
          "base_uri": "https://localhost:8080/"
        },
        "id": "o9o1uFcDJuIP",
        "outputId": "9f19cb81-917a-4e4f-9e39-fa84d799e5e8"
      },
      "execution_count": 2,
      "outputs": [
        {
          "output_type": "stream",
          "name": "stdout",
          "text": [
            "Base Model Accuracy: 0.9\n",
            "Confusion Matrix:\n",
            " [[53  5]\n",
            " [ 3 19]]\n",
            "\n",
            "Best Parameters: {'criterion': 'gini', 'max_depth': 2, 'min_samples_split': 2}\n",
            "Best CV Accuracy: 0.9\n",
            "Test Accuracy (Tuned): 0.95\n"
          ]
        }
      ]
    },
    {
      "cell_type": "code",
      "source": [],
      "metadata": {
        "id": "YFeRhjD2JuMH"
      },
      "execution_count": null,
      "outputs": []
    },
    {
      "cell_type": "code",
      "source": [
        "# -*- coding: utf-8 -*-\n",
        "\"\"\"\n",
        "Decision Tree Classification with Hyperparameter Tuning\n",
        "\"\"\"\n",
        "\n",
        "# ===============================================\n",
        "# Import Libraries\n",
        "# ===============================================\n",
        "import numpy as np\n",
        "import pandas as pd\n",
        "import matplotlib.pyplot as plt\n",
        "from sklearn.model_selection import train_test_split\n",
        "from sklearn.preprocessing import StandardScaler\n",
        "from sklearn.tree import DecisionTreeClassifier\n",
        "from sklearn.metrics import (confusion_matrix,\n",
        "                           accuracy_score,\n",
        "                           classification_report)\n",
        "from sklearn.model_selection import GridSearchCV\n",
        "\n",
        "# ===============================================\n",
        "# 1. Load Dataset\n",
        "# ===============================================\n",
        "try:\n",
        "    # Update this path to your dataset location\n",
        "    dataset = pd.read_csv(r\"/content/logit classification.csv\")\n",
        "\n",
        "    # Features & Target\n",
        "    X = dataset.iloc[:, [2, 3]].values   # Selecting 2 features\n",
        "    y = dataset.iloc[:, -1].values       # Target variable\n",
        "\n",
        "except Exception as e:\n",
        "    print(\"Error loading dataset:\", str(e))\n",
        "    raise\n",
        "\n",
        "# ===============================================\n",
        "# 2. Train-Test Split\n",
        "# ===============================================\n",
        "X_train, X_test, y_train, y_test = train_test_split(\n",
        "    X, y, test_size=0.2, random_state=0\n",
        ")\n",
        "\n",
        "# ===============================================\n",
        "# 3. Feature Scaling (important for visualization)\n",
        "# ===============================================\n",
        "sc = StandardScaler()\n",
        "X_train = sc.fit_transform(X_train)\n",
        "X_test = sc.transform(X_test)\n",
        "\n",
        "# ===============================================\n",
        "# 4. Decision Tree Model\n",
        "# ===============================================\n",
        "# Base Model\n",
        "dt = DecisionTreeClassifier(random_state=0)\n",
        "dt.fit(X_train, y_train)\n",
        "\n",
        "# ===============================================\n",
        "# 5. Predictions\n",
        "# ===============================================\n",
        "y_pred = dt.predict(X_test)\n",
        "\n",
        "# ===============================================\n",
        "# 6. Evaluation Metrics\n",
        "# ===============================================\n",
        "print(\"\\nBase Model Performance:\")\n",
        "print(\"=\"*50)\n",
        "print(\"Confusion Matrix:\\n\", confusion_matrix(y_test, y_pred))\n",
        "print(\"\\nAccuracy:\", accuracy_score(y_test, y_pred))\n",
        "print(\"\\nClassification Report:\\n\", classification_report(y_test, y_pred))\n",
        "\n",
        "# Bias-Variance Check\n",
        "print(\"\\nTraining Score:\", dt.score(X_train, y_train))   # High → overfitting\n",
        "print(\"Test Score:\", dt.score(X_test, y_test))         # Low → underfitting\n",
        "\n",
        "# ===============================================\n",
        "# 7. Hyperparameter Tuning (Grid Search)\n",
        "# ===============================================\n",
        "print(\"\\n\\nStarting Grid Search...\")\n",
        "print(\"=\"*50)\n",
        "\n",
        "# Define parameter grid\n",
        "param_grid = {\n",
        "    'criterion': ['gini', 'entropy'],\n",
        "    'max_depth': [None, 2, 3, 4, 5, 6, 10],\n",
        "    'min_samples_split': [2, 3, 4, 5, 10],\n",
        "    'min_samples_leaf': [1, 2, 3, 4, 5]\n",
        "}\n",
        "\n",
        "# Grid Search with Cross-Validation\n",
        "grid_search = GridSearchCV(\n",
        "    estimator=DecisionTreeClassifier(random_state=0),\n",
        "    param_grid=param_grid,\n",
        "    scoring='accuracy',\n",
        "    cv=5,\n",
        "    n_jobs=-1\n",
        ")\n",
        "\n",
        "grid_search.fit(X_train, y_train)\n",
        "\n",
        "# Best Parameters\n",
        "print(\"\\nBest Parameters:\", grid_search.best_params_)\n",
        "print(\"Best Accuracy (CV):\", grid_search.best_score_)\n",
        "\n",
        "# Final Model using best params\n",
        "best_dt = grid_search.best_estimator_\n",
        "\n",
        "# Test Accuracy of tuned model\n",
        "print(\"\\nTuned Model Performance:\")\n",
        "print(\"=\"*50)\n",
        "print(\"Tuned Model Test Accuracy:\", best_dt.score(X_test, y_test))\n",
        "\n",
        "# ===============================================\n",
        "# 8. Visualization (Optional - Works in Spyder)\n",
        "# ===============================================\n",
        "try:\n",
        "    # Feature importance\n",
        "    plt.figure(figsize=(10,5))\n",
        "    plt.barh(range(len(best_dt.feature_importances_)), best_dt.feature_importances_)\n",
        "    plt.yticks(range(len(best_dt.feature_importances_)), ['Feature 1', 'Feature 2'])\n",
        "    plt.title('Feature Importance')\n",
        "    plt.xlabel('Importance Score')\n",
        "    plt.show()\n",
        "\n",
        "except Exception as e:\n",
        "    print(\"\\nVisualization error (may need backend configuration):\", str(e))\n",
        "    print(\"Try going to: Tools > Preferences > IPython console > Graphics\")\n",
        "    print(\"Set 'Graphics backend' to 'Automatic' or 'Qt5'\")\n",
        "\n",
        "print(\"\\nExecution completed successfully!\")"
      ],
      "metadata": {
        "colab": {
          "base_uri": "https://localhost:8080/",
          "height": 1000
        },
        "id": "LSG47nWuJuPE",
        "outputId": "b5cc2a24-9275-472c-e946-139067ac50f0"
      },
      "execution_count": 3,
      "outputs": [
        {
          "output_type": "stream",
          "name": "stdout",
          "text": [
            "\n",
            "Base Model Performance:\n",
            "==================================================\n",
            "Confusion Matrix:\n",
            " [[53  5]\n",
            " [ 3 19]]\n",
            "\n",
            "Accuracy: 0.9\n",
            "\n",
            "Classification Report:\n",
            "               precision    recall  f1-score   support\n",
            "\n",
            "           0       0.95      0.91      0.93        58\n",
            "           1       0.79      0.86      0.83        22\n",
            "\n",
            "    accuracy                           0.90        80\n",
            "   macro avg       0.87      0.89      0.88        80\n",
            "weighted avg       0.90      0.90      0.90        80\n",
            "\n",
            "\n",
            "Training Score: 0.996875\n",
            "Test Score: 0.9\n",
            "\n",
            "\n",
            "Starting Grid Search...\n",
            "==================================================\n",
            "\n",
            "Best Parameters: {'criterion': 'gini', 'max_depth': 2, 'min_samples_leaf': 1, 'min_samples_split': 2}\n",
            "Best Accuracy (CV): 0.9\n",
            "\n",
            "Tuned Model Performance:\n",
            "==================================================\n",
            "Tuned Model Test Accuracy: 0.95\n"
          ]
        },
        {
          "output_type": "display_data",
          "data": {
            "text/plain": [
              "<Figure size 1000x500 with 1 Axes>"
            ],
            "image/png": "[encoded data removed]"
          },
          "metadata": {}
        },
        {
          "output_type": "stream",
          "name": "stdout",
          "text": [
            "\n",
            "Execution completed successfully!\n"
          ]
        }
      ]
    },
    {
      "cell_type": "code",
      "source": [],
      "metadata": {
        "id": "P2prAZ1RJuRo"
      },
      "execution_count": null,
      "outputs": []
    },
    {
      "cell_type": "code",
      "source": [],
      "metadata": {
        "id": "YBj5Q4e4JuUb"
      },
      "execution_count": null,
      "outputs": []
    },
    {
      "cell_type": "code",
      "source": [],
      "metadata": {
        "id": "oKIZdumtJuXz"
      },
      "execution_count": null,
      "outputs": []
    },
    {
      "cell_type": "code",
      "source": [],
      "metadata": {
        "id": "6i601VUlJubS"
      },
      "execution_count": null,
      "outputs": []
    },
    {
      "cell_type": "code",
      "source": [],
      "metadata": {
        "id": "xmsXiW6JJud3"
      },
      "execution_count": null,
      "outputs": []
    },
    {
      "cell_type": "code",
      "source": [],
      "metadata": {
        "id": "rTgirh3LJuhF"
      },
      "execution_count": null,
      "outputs": []
    },
    {
      "cell_type": "code",
      "source": [],
      "metadata": {
        "id": "S0-Ne_ykJukf"
      },
      "execution_count": null,
      "outputs": []
    },
    {
      "cell_type": "code",
      "source": [],
      "metadata": {
        "id": "nre5vz5uJu0V"
      },
      "execution_count": null,
      "outputs": []
    },
    {
      "cell_type": "code",
      "source": [],
      "metadata": {
        "id": "SjaZ_a9IJu3l"
      },
      "execution_count": null,
      "outputs": []
    },
    {
      "cell_type": "code",
      "source": [],
      "metadata": {
        "id": "QLqj0MiVJu6o"
      },
      "execution_count": null,
      "outputs": []
    },
    {
      "cell_type": "code",
      "source": [],
      "metadata": {
        "id": "P0ETjIM-Ju9-"
      },
      "execution_count": null,
      "outputs": []
    },
    {
      "cell_type": "code",
      "source": [],
      "metadata": {
        "id": "Ybe2CzXvJvBu"
      },
      "execution_count": null,
      "outputs": []
    },
    {
      "cell_type": "code",
      "source": [],
      "metadata": {
        "id": "mpM9Qxt5JvFM"
      },
      "execution_count": null,
      "outputs": []
    },
    {
      "cell_type": "code",
      "source": [],
      "metadata": {
        "id": "HKUUalj-JvIY"
      },
      "execution_count": null,
      "outputs": []
    },
    {
      "cell_type": "code",
      "source": [],
      "metadata": {
        "id": "mWTund94JvLd"
      },
      "execution_count": null,
      "outputs": []
    }
  ]
}