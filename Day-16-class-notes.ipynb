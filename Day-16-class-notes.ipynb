{
 "cells": [
  {
   "cell_type": "markdown",
   "id": "91aa014e-c311-462a-b0b4-9450aee4556e",
   "metadata": {},
   "source": [
    "## Day - 16 (24th may 2025)"
   ]
  },
  {
   "cell_type": "code",
   "execution_count": 2,
   "id": "cd23b56c-7334-47a6-b0b2-c2a0e96e4078",
   "metadata": {},
   "outputs": [
    {
     "data": {
      "text/plain": [
       "range(0, 5)"
      ]
     },
     "execution_count": 2,
     "metadata": {},
     "output_type": "execute_result"
    }
   ],
   "source": [
    "range(5)"
   ]
  },
  {
   "cell_type": "code",
   "execution_count": 3,
   "id": "55e87ee0-7f6e-47b1-ba0d-61ce0d61cfef",
   "metadata": {},
   "outputs": [
    {
     "data": {
      "text/plain": [
       "[0, 1, 2, 3, 4]"
      ]
     },
     "execution_count": 3,
     "metadata": {},
     "output_type": "execute_result"
    }
   ],
   "source": [
    "list(range(0,5))"
   ]
  },
  {
   "cell_type": "code",
   "execution_count": 4,
   "id": "e3362c85-333c-40f2-a9da-fc10b76901af",
   "metadata": {},
   "outputs": [
    {
     "data": {
      "text/plain": [
       "range(10, 20)"
      ]
     },
     "execution_count": 4,
     "metadata": {},
     "output_type": "execute_result"
    }
   ],
   "source": [
    "range(10,20)"
   ]
  },
  {
   "cell_type": "code",
   "execution_count": 5,
   "id": "8ea9ed57-ab0f-4bea-aad8-efa4dcc7727b",
   "metadata": {},
   "outputs": [
    {
     "data": {
      "text/plain": [
       "[10, 11, 12, 13, 14, 15, 16, 17, 18, 19]"
      ]
     },
     "execution_count": 5,
     "metadata": {},
     "output_type": "execute_result"
    }
   ],
   "source": [
    "list(range(10,20))"
   ]
  },
  {
   "cell_type": "code",
   "execution_count": 6,
   "id": "cddfaea6-a9c3-43ff-871a-1238c0699616",
   "metadata": {},
   "outputs": [
    {
     "data": {
      "text/plain": [
       "range(10, 20, 3)"
      ]
     },
     "execution_count": 6,
     "metadata": {},
     "output_type": "execute_result"
    }
   ],
   "source": [
    "range(10,20,3)"
   ]
  },
  {
   "cell_type": "code",
   "execution_count": 7,
   "id": "1a05a0c2-90c6-4c23-8eea-e1c33500d1d8",
   "metadata": {},
   "outputs": [
    {
     "data": {
      "text/plain": [
       "[10, 13, 16, 19]"
      ]
     },
     "execution_count": 7,
     "metadata": {},
     "output_type": "execute_result"
    }
   ],
   "source": [
    "list(range(10,20,3))"
   ]
  },
  {
   "cell_type": "code",
   "execution_count": 8,
   "id": "dcf098f1-eeae-4b91-9773-09362b24730d",
   "metadata": {},
   "outputs": [
    {
     "data": {
      "text/plain": [
       "[10, 15]"
      ]
     },
     "execution_count": 8,
     "metadata": {},
     "output_type": "execute_result"
    }
   ],
   "source": [
    "list(range(10,20,5))"
   ]
  },
  {
   "cell_type": "code",
   "execution_count": 9,
   "id": "c4953bdf-76df-4175-a65e-7141e85bcb8f",
   "metadata": {},
   "outputs": [
    {
     "ename": "TypeError",
     "evalue": "range expected at most 3 arguments, got 5",
     "output_type": "error",
     "traceback": [
      "\u001b[1;31m---------------------------------------------------------------------------\u001b[0m",
      "\u001b[1;31mTypeError\u001b[0m                                 Traceback (most recent call last)",
      "Cell \u001b[1;32mIn[9], line 1\u001b[0m\n\u001b[1;32m----> 1\u001b[0m \u001b[38;5;28mrange\u001b[39m(\u001b[38;5;241m10\u001b[39m,\u001b[38;5;241m20\u001b[39m,\u001b[38;5;241m30\u001b[39m,\u001b[38;5;241m40\u001b[39m,\u001b[38;5;241m50\u001b[39m)\n",
      "\u001b[1;31mTypeError\u001b[0m: range expected at most 3 arguments, got 5"
     ]
    }
   ],
   "source": [
    "range(10,20,30,40,50)"
   ]
  },
  {
   "cell_type": "code",
   "execution_count": 10,
   "id": "944e34eb-a007-4454-8174-639a8a7c683a",
   "metadata": {},
   "outputs": [
    {
     "data": {
      "text/plain": [
       "range(0, 11, 5)"
      ]
     },
     "execution_count": 10,
     "metadata": {},
     "output_type": "execute_result"
    }
   ],
   "source": [
    "r = range(0,11,5)\n",
    "r"
   ]
  },
  {
   "cell_type": "code",
   "execution_count": 11,
   "id": "083e5fbb-0e82-45a5-b20d-cf0668f81123",
   "metadata": {},
   "outputs": [
    {
     "name": "stdout",
     "output_type": "stream",
     "text": [
      "0\n",
      "5\n",
      "10\n"
     ]
    }
   ],
   "source": [
    "for i in r:\n",
    "    print(i)"
   ]
  },
  {
   "cell_type": "code",
   "execution_count": 12,
   "id": "e6db85e4-0426-4972-815d-5255a806d63e",
   "metadata": {},
   "outputs": [
    {
     "data": {
      "text/plain": [
       "[0, 5, 10]"
      ]
     },
     "execution_count": 12,
     "metadata": {},
     "output_type": "execute_result"
    }
   ],
   "source": [
    "list(r)"
   ]
  },
  {
   "cell_type": "code",
   "execution_count": null,
   "id": "04b5d995-e98a-4cfa-8ac5-01b57f6f2265",
   "metadata": {},
   "outputs": [],
   "source": []
  },
  {
   "cell_type": "markdown",
   "id": "1dccc152-f13d-4f97-99ec-b224bc6de163",
   "metadata": {},
   "source": [
    "## what are the topics we are completed from day-1 \n",
    "- --> Python Introduction -- completed \n",
    "- --> Python variable -- completed\n",
    "- --> Python Type Casting -- completed \n",
    "- --> Python Data Type -- completed\n",
    "- --> Python inbuild data structure -- completed \n",
    "\n",
    "## these all under Basic Python"
   ]
  },
  {
   "cell_type": "code",
   "execution_count": null,
   "id": "aa45144c-2e40-4f6a-a57b-adba2e7aad77",
   "metadata": {},
   "outputs": [],
   "source": []
  },
  {
   "cell_type": "markdown",
   "id": "2fc301d7-5f49-4659-9c28-aca285617dee",
   "metadata": {},
   "source": [
    "# Advanced Slicing"
   ]
  },
  {
   "cell_type": "markdown",
   "id": "d4d7b1aa-6d64-4578-be31-a7f443929a75",
   "metadata": {},
   "source": [
    "- forward indexing\n",
    "- backward indexing\n",
    "- forward slicing\n",
    "- backward slicing\n",
    "- step slicing"
   ]
  },
  {
   "cell_type": "code",
   "execution_count": 13,
   "id": "3df24950-3181-4618-9ad0-f0aafa9c1d66",
   "metadata": {},
   "outputs": [],
   "source": [
    "l = ['a','b','c',1,2,3,45,True, 1+2j]"
   ]
  },
  {
   "cell_type": "code",
   "execution_count": 14,
   "id": "08f3268d-4515-4060-92ae-d34634de1c60",
   "metadata": {},
   "outputs": [
    {
     "data": {
      "text/plain": [
       "['a', 'b', 'c', 1, 2, 3, 45, True, (1+2j)]"
      ]
     },
     "execution_count": 14,
     "metadata": {},
     "output_type": "execute_result"
    }
   ],
   "source": [
    "l"
   ]
  },
  {
   "cell_type": "code",
   "execution_count": 15,
   "id": "80e22f22-70e8-441f-ac29-05c9e10d5395",
   "metadata": {},
   "outputs": [
    {
     "data": {
      "text/plain": [
       "['a', 'b', 'c', 1, 2, 3, 45, True, (1+2j)]"
      ]
     },
     "execution_count": 15,
     "metadata": {},
     "output_type": "execute_result"
    }
   ],
   "source": [
    "l[:]"
   ]
  },
  {
   "cell_type": "code",
   "execution_count": 16,
   "id": "429608cc-9478-4751-98c1-9a1b2041e5f8",
   "metadata": {},
   "outputs": [
    {
     "data": {
      "text/plain": [
       "['a', 'b', 'c', 1, 2, 3, 45, True, (1+2j)]"
      ]
     },
     "execution_count": 16,
     "metadata": {},
     "output_type": "execute_result"
    }
   ],
   "source": [
    "l[0:]"
   ]
  },
  {
   "cell_type": "code",
   "execution_count": 17,
   "id": "c4b31d5f-1998-4d7e-a43d-cc7df4659c21",
   "metadata": {},
   "outputs": [
    {
     "data": {
      "text/plain": [
       "[1, 2, 3, 45, True, (1+2j)]"
      ]
     },
     "execution_count": 17,
     "metadata": {},
     "output_type": "execute_result"
    }
   ],
   "source": [
    "l[3:]"
   ]
  },
  {
   "cell_type": "code",
   "execution_count": 18,
   "id": "52e06eee-e7d1-4e3c-a53a-c297f72a9d0a",
   "metadata": {},
   "outputs": [
    {
     "data": {
      "text/plain": [
       "[2, 3, 45, True, (1+2j)]"
      ]
     },
     "execution_count": 18,
     "metadata": {},
     "output_type": "execute_result"
    }
   ],
   "source": [
    "l[-5:]"
   ]
  },
  {
   "cell_type": "code",
   "execution_count": 19,
   "id": "cc579973-20fa-4f95-8f29-29aeb76b49a5",
   "metadata": {},
   "outputs": [
    {
     "data": {
      "text/plain": [
       "['a', 'b', 'c', 1, 2, 3, 45, True, (1+2j)]"
      ]
     },
     "execution_count": 19,
     "metadata": {},
     "output_type": "execute_result"
    }
   ],
   "source": [
    "l"
   ]
  },
  {
   "cell_type": "code",
   "execution_count": 20,
   "id": "925dcdd2-dd26-45e6-8262-f05f6d79fa3d",
   "metadata": {},
   "outputs": [
    {
     "data": {
      "text/plain": [
       "3"
      ]
     },
     "execution_count": 20,
     "metadata": {},
     "output_type": "execute_result"
    }
   ],
   "source": [
    "l[5]"
   ]
  },
  {
   "cell_type": "code",
   "execution_count": 21,
   "id": "35428aa3-3fb5-4c7a-a4f4-31f2f803d15e",
   "metadata": {},
   "outputs": [
    {
     "data": {
      "text/plain": [
       "2"
      ]
     },
     "execution_count": 21,
     "metadata": {},
     "output_type": "execute_result"
    }
   ],
   "source": [
    "l[-5]"
   ]
  },
  {
   "cell_type": "code",
   "execution_count": 22,
   "id": "237a0482-d87f-4f32-ae66-c602e0879681",
   "metadata": {},
   "outputs": [
    {
     "data": {
      "text/plain": [
       "['a', 'b', 'c', 1, 2, 3, 45, True, (1+2j)]"
      ]
     },
     "execution_count": 22,
     "metadata": {},
     "output_type": "execute_result"
    }
   ],
   "source": [
    "l"
   ]
  },
  {
   "cell_type": "code",
   "execution_count": 23,
   "id": "32b9a348-5079-4d24-80cc-f2eb29f8fab6",
   "metadata": {},
   "outputs": [
    {
     "data": {
      "text/plain": [
       "['c', 1, 2, 3, 45, True, (1+2j)]"
      ]
     },
     "execution_count": 23,
     "metadata": {},
     "output_type": "execute_result"
    }
   ],
   "source": [
    "l[2:9]"
   ]
  },
  {
   "cell_type": "code",
   "execution_count": 24,
   "id": "2a5e0b66-bdb2-4858-944d-7fae4811cfd0",
   "metadata": {},
   "outputs": [
    {
     "data": {
      "text/plain": [
       "['c', 1, 2, 3, 45]"
      ]
     },
     "execution_count": 24,
     "metadata": {},
     "output_type": "execute_result"
    }
   ],
   "source": [
    "l[2:7]"
   ]
  },
  {
   "cell_type": "code",
   "execution_count": 26,
   "id": "d2e8c6d1-6b7e-42ef-9324-722c7436f865",
   "metadata": {},
   "outputs": [
    {
     "data": {
      "text/plain": [
       "['a', 'b', 'c', 1, 2, 3, 45, True, (1+2j)]"
      ]
     },
     "execution_count": 26,
     "metadata": {},
     "output_type": "execute_result"
    }
   ],
   "source": [
    "l"
   ]
  },
  {
   "cell_type": "code",
   "execution_count": 27,
   "id": "baa19a9e-f3a0-44d7-bb00-819fac6724c0",
   "metadata": {},
   "outputs": [
    {
     "data": {
      "text/plain": [
       "['c', 2, 45]"
      ]
     },
     "execution_count": 27,
     "metadata": {},
     "output_type": "execute_result"
    }
   ],
   "source": [
    "l[2:7:2]"
   ]
  },
  {
   "cell_type": "code",
   "execution_count": 28,
   "id": "4366bb07-3ca6-45fa-8f8c-31bd65b35537",
   "metadata": {},
   "outputs": [
    {
     "data": {
      "text/plain": [
       "['a', 'c', 2, 45]"
      ]
     },
     "execution_count": 28,
     "metadata": {},
     "output_type": "execute_result"
    }
   ],
   "source": [
    "l[0:7:2]"
   ]
  },
  {
   "cell_type": "code",
   "execution_count": 29,
   "id": "d2d6f124-d91c-402b-a253-37604629a374",
   "metadata": {},
   "outputs": [
    {
     "data": {
      "text/plain": [
       "[]"
      ]
     },
     "execution_count": 29,
     "metadata": {},
     "output_type": "execute_result"
    }
   ],
   "source": [
    "l[-5:3]"
   ]
  },
  {
   "cell_type": "code",
   "execution_count": 30,
   "id": "c1c1320c-6cc8-474a-b114-c4e44c07642d",
   "metadata": {},
   "outputs": [
    {
     "data": {
      "text/plain": [
       "[2, 3]"
      ]
     },
     "execution_count": 30,
     "metadata": {},
     "output_type": "execute_result"
    }
   ],
   "source": [
    "l[-5:-3]"
   ]
  },
  {
   "cell_type": "code",
   "execution_count": 31,
   "id": "a5f3478e-bb66-40b8-a5f8-9fbe0ab4ddd9",
   "metadata": {},
   "outputs": [
    {
     "data": {
      "text/plain": [
       "['sbi', 'icic', 'hdfc', 'central', 'union', 'canara', 'city']"
      ]
     },
     "execution_count": 31,
     "metadata": {},
     "output_type": "execute_result"
    }
   ],
   "source": [
    "s = ['sbi','icic','hdfc','central','union', 'canara', 'city']\n",
    "s"
   ]
  },
  {
   "cell_type": "code",
   "execution_count": 36,
   "id": "39b70bda-f9d2-465e-af36-19756a6ddf1b",
   "metadata": {},
   "outputs": [
    {
     "data": {
      "text/plain": [
       "7"
      ]
     },
     "execution_count": 36,
     "metadata": {},
     "output_type": "execute_result"
    }
   ],
   "source": [
    "len(s)"
   ]
  },
  {
   "cell_type": "code",
   "execution_count": 37,
   "id": "979870e8-f0f4-4142-b7e6-96d777203b7a",
   "metadata": {},
   "outputs": [
    {
     "data": {
      "text/plain": [
       "['sbi', 'icic', 'hdfc', 'central', 'union', 'canara']"
      ]
     },
     "execution_count": 37,
     "metadata": {},
     "output_type": "execute_result"
    }
   ],
   "source": [
    "s[-7:-1]"
   ]
  },
  {
   "cell_type": "code",
   "execution_count": 38,
   "id": "a543b02b-6e68-4113-a902-c6d529efdb79",
   "metadata": {},
   "outputs": [
    {
     "data": {
      "text/plain": [
       "['city', 'canara', 'union', 'central', 'hdfc', 'icic', 'sbi']"
      ]
     },
     "execution_count": 38,
     "metadata": {},
     "output_type": "execute_result"
    }
   ],
   "source": [
    "s[::-1]"
   ]
  },
  {
   "cell_type": "code",
   "execution_count": 39,
   "id": "37b36a1a-6a5f-44eb-a289-ad0085215b91",
   "metadata": {},
   "outputs": [
    {
     "data": {
      "text/plain": [
       "['sbi', 'icic', 'hdfc', 'central', 'union', 'canara', 'city']"
      ]
     },
     "execution_count": 39,
     "metadata": {},
     "output_type": "execute_result"
    }
   ],
   "source": [
    "s"
   ]
  },
  {
   "cell_type": "code",
   "execution_count": 40,
   "id": "5978478f-ca81-46bf-81e7-38ae8763a2d9",
   "metadata": {},
   "outputs": [
    {
     "data": {
      "text/plain": [
       "['city', 'union', 'hdfc', 'sbi']"
      ]
     },
     "execution_count": 40,
     "metadata": {},
     "output_type": "execute_result"
    }
   ],
   "source": [
    "s[::-2]"
   ]
  },
  {
   "cell_type": "code",
   "execution_count": 41,
   "id": "834dc806-7ae3-4028-b564-7808ed652935",
   "metadata": {},
   "outputs": [
    {
     "data": {
      "text/plain": [
       "['sbi', 'icic', 'hdfc', 'central', 'union', 'canara', 'city']"
      ]
     },
     "execution_count": 41,
     "metadata": {},
     "output_type": "execute_result"
    }
   ],
   "source": [
    "s"
   ]
  },
  {
   "cell_type": "code",
   "execution_count": 42,
   "id": "6017729c-94fd-4f9a-84f0-586fdc2775d0",
   "metadata": {},
   "outputs": [
    {
     "data": {
      "text/plain": [
       "['city', 'icic']"
      ]
     },
     "execution_count": 42,
     "metadata": {},
     "output_type": "execute_result"
    }
   ],
   "source": [
    "s[::-5]"
   ]
  },
  {
   "cell_type": "code",
   "execution_count": null,
   "id": "8d16d5c1-bc7c-4a12-814d-d2b6e52be59b",
   "metadata": {},
   "outputs": [],
   "source": []
  },
  {
   "cell_type": "code",
   "execution_count": null,
   "id": "625eff5f-bd2d-4c3d-9f9c-14c880eb147e",
   "metadata": {},
   "outputs": [],
   "source": [
    "## in python error are divided in to three parts \n",
    "## 1. Compile time error -- error made by user (not enter :- :, , , : , etc) that error also called syntax error\n",
    "## 2. Logical time error \n",
    "## 3. runtime error -- execution time "
   ]
  },
  {
   "cell_type": "code",
   "execution_count": null,
   "id": "71379b41-bc30-4497-986e-1da0c4714fdf",
   "metadata": {},
   "outputs": [],
   "source": []
  }
 ],
 "metadata": {
  "kernelspec": {
   "display_name": "Python 3 (ipykernel)",
   "language": "python",
   "name": "python3"
  },
  "language_info": {
   "codemirror_mode": {
    "name": "ipython",
    "version": 3
   },
   "file_extension": ".py",
   "mimetype": "text/x-python",
   "name": "python",
   "nbconvert_exporter": "python",
   "pygments_lexer": "ipython3",
   "version": "3.12.7"
  }
 },
 "nbformat": 4,
 "nbformat_minor": 5
}
