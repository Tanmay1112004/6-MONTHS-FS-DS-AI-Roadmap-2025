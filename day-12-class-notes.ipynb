{
 "cells": [
  {
   "cell_type": "markdown",
   "id": "177b486c-fbc8-4fc6-8990-d56082d5585d",
   "metadata": {},
   "source": [
    "# Day - 12 "
   ]
  },
  {
   "cell_type": "markdown",
   "id": "f5242597-7062-4910-b494-464bf86991a6",
   "metadata": {},
   "source": [
    "- datatype --> user define only 1 value\n",
    "- data structure --> user define more than 1 value\n",
    "\n",
    "- LIST, TUPLE, SET, DICT"
   ]
  },
  {
   "cell_type": "code",
   "execution_count": 1,
   "id": "94a3fa86-6481-4bc8-a403-701f57a96aae",
   "metadata": {},
   "outputs": [],
   "source": [
    "l = []"
   ]
  },
  {
   "cell_type": "code",
   "execution_count": 2,
   "id": "6106bd02-c779-4eab-be4a-8a1ac78273c9",
   "metadata": {},
   "outputs": [],
   "source": [
    "l.append(10)\n",
    "l.append(20)\n",
    "l.append(30)\n",
    "l.append(2.3)\n",
    "l.append(4.6)\n",
    "l.append('nit')\n",
    "l.append(1+2j)\n",
    "l.append(True)"
   ]
  },
  {
   "cell_type": "code",
   "execution_count": 3,
   "id": "64fbe777-4b29-4c1b-9d84-b1c95e646821",
   "metadata": {},
   "outputs": [
    {
     "data": {
      "text/plain": [
       "[10, 20, 30, 2.3, 4.6, 'nit', (1+2j), True]"
      ]
     },
     "execution_count": 3,
     "metadata": {},
     "output_type": "execute_result"
    }
   ],
   "source": [
    "l"
   ]
  },
  {
   "cell_type": "code",
   "execution_count": 4,
   "id": "b38b5a1f-12b3-41eb-855b-702502dc5d4f",
   "metadata": {},
   "outputs": [
    {
     "name": "stdout",
     "output_type": "stream",
     "text": [
      "8\n"
     ]
    }
   ],
   "source": [
    "print(len(l))"
   ]
  },
  {
   "cell_type": "code",
   "execution_count": 5,
   "id": "dee9f0c2-f309-4174-997b-7fae54b608bb",
   "metadata": {},
   "outputs": [
    {
     "data": {
      "text/plain": [
       "5"
      ]
     },
     "execution_count": 5,
     "metadata": {},
     "output_type": "execute_result"
    }
   ],
   "source": [
    "l.index('nit')"
   ]
  },
  {
   "cell_type": "code",
   "execution_count": 6,
   "id": "21dc8d69-b69c-4bdf-aef2-0ad02d3d73af",
   "metadata": {},
   "outputs": [
    {
     "data": {
      "text/plain": [
       "'nit'"
      ]
     },
     "execution_count": 6,
     "metadata": {},
     "output_type": "execute_result"
    }
   ],
   "source": [
    "l[5]"
   ]
  },
  {
   "cell_type": "code",
   "execution_count": 7,
   "id": "3e7d9a4b-d20f-40e5-9e2b-58bac480d04e",
   "metadata": {},
   "outputs": [
    {
     "name": "stdout",
     "output_type": "stream",
     "text": [
      "n\n",
      "i\n",
      "t\n"
     ]
    }
   ],
   "source": [
    "print(l[5][0])\n",
    "print(l[5][1])\n",
    "print(l[5][2])"
   ]
  },
  {
   "cell_type": "code",
   "execution_count": 8,
   "id": "cf93776c-d8fc-426c-b3b2-4e774cd284fc",
   "metadata": {},
   "outputs": [
    {
     "data": {
      "text/plain": [
       "True"
      ]
     },
     "execution_count": 8,
     "metadata": {},
     "output_type": "execute_result"
    }
   ],
   "source": [
    "l[-1]"
   ]
  },
  {
   "cell_type": "code",
   "execution_count": 9,
   "id": "26f34729-264b-4781-974b-118d2b5e6dca",
   "metadata": {},
   "outputs": [
    {
     "data": {
      "text/plain": [
       "[10, 20, 30, 2.3, 4.6, 'nit', (1+2j), True]"
      ]
     },
     "execution_count": 9,
     "metadata": {},
     "output_type": "execute_result"
    }
   ],
   "source": [
    "l"
   ]
  },
  {
   "cell_type": "code",
   "execution_count": 10,
   "id": "8cfacced-d238-4ecb-8434-351522b878e8",
   "metadata": {},
   "outputs": [
    {
     "name": "stdout",
     "output_type": "stream",
     "text": [
      "10\n",
      "20\n",
      "30\n",
      "2.3\n",
      "4.6\n",
      "nit\n",
      "(1+2j)\n",
      "True\n"
     ]
    }
   ],
   "source": [
    "for i in l:\n",
    "    print(i)"
   ]
  },
  {
   "cell_type": "code",
   "execution_count": 13,
   "id": "8ce30052-1b41-41dc-af35-9510e9cb1ea4",
   "metadata": {},
   "outputs": [
    {
     "data": {
      "text/plain": [
       "[10, 20, 30, 2.3, 4.6, 'nit', (1+2j), True]"
      ]
     },
     "execution_count": 13,
     "metadata": {},
     "output_type": "execute_result"
    }
   ],
   "source": [
    "l"
   ]
  },
  {
   "cell_type": "code",
   "execution_count": 14,
   "id": "8be3310b-8b37-447c-8b45-4017cc9abff4",
   "metadata": {},
   "outputs": [
    {
     "data": {
      "text/plain": [
       "30"
      ]
     },
     "execution_count": 14,
     "metadata": {},
     "output_type": "execute_result"
    }
   ],
   "source": [
    "l.pop(2)"
   ]
  },
  {
   "cell_type": "code",
   "execution_count": 15,
   "id": "71cd0bce-d446-44a0-a1ff-9ba861fa8f85",
   "metadata": {},
   "outputs": [
    {
     "data": {
      "text/plain": [
       "[10, 20, 2.3, 4.6, 'nit', (1+2j), True]"
      ]
     },
     "execution_count": 15,
     "metadata": {},
     "output_type": "execute_result"
    }
   ],
   "source": [
    "l"
   ]
  },
  {
   "cell_type": "code",
   "execution_count": 16,
   "id": "3f725f56-8ec6-462b-bc7a-708793c08c06",
   "metadata": {},
   "outputs": [],
   "source": [
    "l.remove(1+2j)"
   ]
  },
  {
   "cell_type": "code",
   "execution_count": 17,
   "id": "4edade66-ef59-40ca-aef1-04f84b71b2b6",
   "metadata": {},
   "outputs": [
    {
     "data": {
      "text/plain": [
       "[10, 20, 2.3, 4.6, 'nit', True]"
      ]
     },
     "execution_count": 17,
     "metadata": {},
     "output_type": "execute_result"
    }
   ],
   "source": [
    "l"
   ]
  },
  {
   "cell_type": "code",
   "execution_count": 18,
   "id": "28cf495f-f852-496d-8ad1-52a1f03e2fd9",
   "metadata": {},
   "outputs": [
    {
     "data": {
      "text/plain": [
       "[10, 20, 2.3, 4.6, 'nit', True]"
      ]
     },
     "execution_count": 18,
     "metadata": {},
     "output_type": "execute_result"
    }
   ],
   "source": [
    "l[:10]"
   ]
  },
  {
   "cell_type": "code",
   "execution_count": 19,
   "id": "81040f02-1f45-4241-9138-ec6392647ea2",
   "metadata": {},
   "outputs": [],
   "source": [
    "l[-1]= 'mit'"
   ]
  },
  {
   "cell_type": "code",
   "execution_count": 20,
   "id": "5d2a35da-9553-49a0-8c7d-77d974ddc11a",
   "metadata": {},
   "outputs": [
    {
     "data": {
      "text/plain": [
       "[10, 20, 2.3, 4.6, 'nit', 'mit']"
      ]
     },
     "execution_count": 20,
     "metadata": {},
     "output_type": "execute_result"
    }
   ],
   "source": [
    "l"
   ]
  },
  {
   "cell_type": "code",
   "execution_count": null,
   "id": "6a9eecf9-5d2c-45af-9f0b-70728751ec49",
   "metadata": {},
   "outputs": [],
   "source": []
  },
  {
   "cell_type": "code",
   "execution_count": null,
   "id": "deaffaba-04b0-4c61-a849-3c31db788619",
   "metadata": {},
   "outputs": [],
   "source": []
  }
 ],
 "metadata": {
  "kernelspec": {
   "display_name": "Python 3 (ipykernel)",
   "language": "python",
   "name": "python3"
  },
  "language_info": {
   "codemirror_mode": {
    "name": "ipython",
    "version": 3
   },
   "file_extension": ".py",
   "mimetype": "text/x-python",
   "name": "python",
   "nbconvert_exporter": "python",
   "pygments_lexer": "ipython3",
   "version": "3.12.7"
  }
 },
 "nbformat": 4,
 "nbformat_minor": 5
}
