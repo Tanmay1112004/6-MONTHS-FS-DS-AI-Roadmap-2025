{
  "nbformat": 4,
  "nbformat_minor": 0,
  "metadata": {
    "colab": {
      "provenance": [],
      "authorship_tag": "ABX9TyPGnltBI5rMNMxtD8Y2C5l/",
      "include_colab_link": true
    },
    "kernelspec": {
      "name": "python3",
      "display_name": "Python 3"
    },
    "language_info": {
      "name": "python"
    }
  },
  "cells": [
    {
      "cell_type": "markdown",
      "metadata": {
        "id": "view-in-github",
        "colab_type": "text"
      },
      "source": [
        "<a href=\"https://colab.research.google.com/github/Tanmay1112004/6-MONTHS-FS-DS-AI-Roadmap-2025/blob/main/Python_decorator_%26_moule.ipynb\" target=\"_parent\"><img src=\"https://colab.research.google.com/assets/colab-badge.svg\" alt=\"Open In Colab\"/></a>"
      ]
    },
    {
      "cell_type": "markdown",
      "source": [
        "## Python Decorator"
      ],
      "metadata": {
        "id": "Js7dD3mn6Pgx"
      }
    },
    {
      "cell_type": "code",
      "source": [
        "def div(a,b):\n",
        "  print(a/b)\n",
        "div(4,2)"
      ],
      "metadata": {
        "colab": {
          "base_uri": "https://localhost:8080/"
        },
        "id": "OZzgrfbX6Mns",
        "outputId": "01b92d0e-89d8-404f-b5df-8bc44ccde373"
      },
      "execution_count": 1,
      "outputs": [
        {
          "output_type": "stream",
          "name": "stdout",
          "text": [
            "2.0\n"
          ]
        }
      ]
    },
    {
      "cell_type": "code",
      "source": [
        "def div(a,b):\n",
        "  print(a/b)\n",
        "div(2,4)"
      ],
      "metadata": {
        "colab": {
          "base_uri": "https://localhost:8080/"
        },
        "id": "-0LgrmB_6Mrs",
        "outputId": "5774bb9f-af06-4456-ae2b-8a2aaee0ded1"
      },
      "execution_count": 2,
      "outputs": [
        {
          "output_type": "stream",
          "name": "stdout",
          "text": [
            "0.5\n"
          ]
        }
      ]
    },
    {
      "cell_type": "code",
      "source": [
        "def div(a,b):\n",
        "\n",
        "  if a < b:\n",
        "    a,b = b,a\n",
        "    print(a / b)\n",
        "\n",
        "div(2,4)"
      ],
      "metadata": {
        "colab": {
          "base_uri": "https://localhost:8080/"
        },
        "id": "W2W3Cjqz6MvX",
        "outputId": "fe4a38d9-87ea-4923-feef-74215ac70e73"
      },
      "execution_count": 3,
      "outputs": [
        {
          "output_type": "stream",
          "name": "stdout",
          "text": [
            "2.0\n"
          ]
        }
      ]
    },
    {
      "cell_type": "code",
      "source": [
        "def div(a,b):\n",
        "\n",
        "  if a < b:\n",
        "    a,b = b,a\n",
        "    print(a / b)\n",
        "\n",
        "div(4,2)"
      ],
      "metadata": {
        "id": "ue5qVpej6Myy"
      },
      "execution_count": 4,
      "outputs": []
    },
    {
      "cell_type": "markdown",
      "source": [
        "## Module"
      ],
      "metadata": {
        "id": "yJ9NT7fo8AGs"
      }
    },
    {
      "cell_type": "code",
      "source": [
        "def add(a,b):\n",
        "  return a + b\n",
        "\n",
        "def sub(a,b):\n",
        "  return a - b\n",
        "\n",
        "def mul(a,b):\n",
        "  return a * b\n",
        "\n",
        "def div(a,b):\n",
        "  return a / b\n",
        "\n",
        "def mod(a,b):\n",
        "  return a % b\n",
        "\n"
      ],
      "metadata": {
        "id": "QEKZg1AR6M2b"
      },
      "execution_count": 5,
      "outputs": []
    },
    {
      "cell_type": "code",
      "source": [
        "a = 10\n",
        "b = 5\n",
        "\n",
        "di = div(a,b)\n",
        "ad = add(a,b)\n",
        "mu = mul(a,b)\n",
        "su = sub(a,b)\n",
        "mo = mod(a,b)\n",
        "\n",
        "print(di)\n",
        "print(ad)\n",
        "print(mu)\n",
        "print(su)\n",
        "print(mo)"
      ],
      "metadata": {
        "colab": {
          "base_uri": "https://localhost:8080/"
        },
        "id": "pSfos2Qe6M5x",
        "outputId": "d0061787-0380-462d-afb6-c01ff448a2af"
      },
      "execution_count": 6,
      "outputs": [
        {
          "output_type": "stream",
          "name": "stdout",
          "text": [
            "2.0\n",
            "15\n",
            "50\n",
            "5\n",
            "0\n"
          ]
        }
      ]
    },
    {
      "cell_type": "code",
      "source": [
        "__name__"
      ],
      "metadata": {
        "colab": {
          "base_uri": "https://localhost:8080/",
          "height": 36
        },
        "id": "TIuOawBR6M83",
        "outputId": "f23879c0-903b-4a99-8dc1-20e7606e299a"
      },
      "execution_count": 7,
      "outputs": [
        {
          "output_type": "execute_result",
          "data": {
            "text/plain": [
              "'__main__'"
            ],
            "application/vnd.google.colaboratory.intrinsic+json": {
              "type": "string"
            }
          },
          "metadata": {},
          "execution_count": 7
        }
      ]
    }
  ]
}