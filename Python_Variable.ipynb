{
 "cells": [
  {
   "cell_type": "markdown",
   "id": "7c15a3ee-ee81-4eaa-be1f-e22ff70e3f31",
   "metadata": {},
   "source": [
    "# Python Variable "
   ]
  },
  {
   "cell_type": "code",
   "execution_count": 1,
   "id": "3ae367b9-a5b7-49ad-ad54-a7d09e4c8ce2",
   "metadata": {},
   "outputs": [],
   "source": [
    "# syntax:- \n",
    "# variable_name = value "
   ]
  },
  {
   "cell_type": "code",
   "execution_count": 4,
   "id": "958f3387-930c-4201-af25-c173b31cf307",
   "metadata": {},
   "outputs": [
    {
     "name": "stdout",
     "output_type": "stream",
     "text": [
      "25\n"
     ]
    }
   ],
   "source": [
    "# Example 1: Integer Variable \n",
    "age = 25 # Here, 'age' is a variable, and it stores an integer value 25\n",
    "print(age) # output: 25 "
   ]
  },
  {
   "cell_type": "code",
   "execution_count": 5,
   "id": "d90fab9c-840f-45e2-b001-82a76e8c9376",
   "metadata": {},
   "outputs": [
    {
     "name": "stdout",
     "output_type": "stream",
     "text": [
      "Tanmay\n"
     ]
    }
   ],
   "source": [
    "# Example 2: String Variable \n",
    "name = 'Tanmay' # Here, name is a variable, and it storing a string 'Tanmay'\n",
    "print(name) # output: Tanmay "
   ]
  },
  {
   "cell_type": "code",
   "execution_count": 6,
   "id": "99fa1b19-2fb8-4f50-adcf-242eae6b7bf6",
   "metadata": {},
   "outputs": [
    {
     "name": "stdout",
     "output_type": "stream",
     "text": [
      "19.99\n"
     ]
    }
   ],
   "source": [
    "# Example 1: Float Variable \n",
    "price = 19.99 # Here, 'price' is a variable, and it storeing a floating point number\n",
    "print(price) # output: 19.99"
   ]
  },
  {
   "cell_type": "code",
   "execution_count": 7,
   "id": "1f2a70c8-ae79-4836-a373-b5273684abaf",
   "metadata": {},
   "outputs": [
    {
     "name": "stdout",
     "output_type": "stream",
     "text": [
      "True\n"
     ]
    }
   ],
   "source": [
    "# Example 1: Boolean Variable \n",
    "is_active = True # Here, 'is_active' is a variable, and it storing a Boolean Value\n",
    "print(is_active) # output: 25 "
   ]
  },
  {
   "cell_type": "markdown",
   "id": "84dbaf58-b2ad-4770-bc26-91b79b49baf8",
   "metadata": {},
   "source": [
    "# 1. Stroring and Printing a Value"
   ]
  },
  {
   "cell_type": "code",
   "execution_count": 8,
   "id": "d77b34c3-976f-4a68-a0f2-8def894ce625",
   "metadata": {},
   "outputs": [
    {
     "name": "stdout",
     "output_type": "stream",
     "text": [
      "10\n"
     ]
    }
   ],
   "source": [
    "# storing the value 10 in a variable called 'x'\n",
    "x = 10 \n",
    "# Printing the value of 'x'\n",
    "print(x)"
   ]
  },
  {
   "cell_type": "markdown",
   "id": "3c7ec932-ab90-439b-9099-dca40c1bae8b",
   "metadata": {},
   "source": [
    "# 2. Using Variable in Expression"
   ]
  },
  {
   "cell_type": "code",
   "execution_count": 9,
   "id": "c615aeae-a1d2-46e1-a4db-24b65d5417ba",
   "metadata": {},
   "outputs": [
    {
     "name": "stdout",
     "output_type": "stream",
     "text": [
      "8\n"
     ]
    }
   ],
   "source": [
    "# Assigning values to variable \n",
    "a = 5 \n",
    "b = 3 \n",
    "# Adding two variable and storing the result in 'result'\n",
    "result = a + b \n",
    "# Printing the result \n",
    "print(result) # output:- 8"
   ]
  },
  {
   "cell_type": "markdown",
   "id": "fbdb1e36-74fe-4918-855c-a5203a0bf9c7",
   "metadata": {},
   "source": [
    "# 3 . Chainging the Value of Variable "
   ]
  },
  {
   "cell_type": "code",
   "execution_count": 10,
   "id": "66b2c2b3-288b-4623-881c-6ff09ac0fad8",
   "metadata": {},
   "outputs": [
    {
     "name": "stdout",
     "output_type": "stream",
     "text": [
      "50\n",
      "100\n"
     ]
    }
   ],
   "source": [
    "# Intail Value \n",
    "score = 50 \n",
    "print(score) # output:- 50 \n",
    "\n",
    "# Changing the value of 'score'\n",
    "score = 100 \n",
    "print(score) # output: 100 "
   ]
  },
  {
   "cell_type": "markdown",
   "id": "639e0d12-0626-4c0e-ac7c-36df46b01f09",
   "metadata": {},
   "source": [
    "# 4. Concatenating Strings"
   ]
  },
  {
   "cell_type": "code",
   "execution_count": 11,
   "id": "6b40921b-f5bb-4100-8d0d-6d4786c026af",
   "metadata": {},
   "outputs": [
    {
     "name": "stdout",
     "output_type": "stream",
     "text": [
      "Tanmay Kshirsagar\n"
     ]
    }
   ],
   "source": [
    "# Assigning values to variables \n",
    "first_name = 'Tanmay'\n",
    "last_name = 'Kshirsagar'\n",
    "\n",
    "# Concatenating string and storing in new variable \n",
    "full_name = first_name + \" \" + last_name\n",
    "print(full_name) # output: Tanmay Kshirsagar\n"
   ]
  },
  {
   "cell_type": "markdown",
   "id": "dbb3b648-f210-42ea-8b19-5ae813c0e06e",
   "metadata": {},
   "source": [
    "# 5. Using Variable in a Calculation "
   ]
  },
  {
   "cell_type": "code",
   "execution_count": 12,
   "id": "4c2fbe90-7da1-4d34-8147-b7259a2bb3c3",
   "metadata": {},
   "outputs": [
    {
     "name": "stdout",
     "output_type": "stream",
     "text": [
      "50\n"
     ]
    }
   ],
   "source": [
    "# Assigning values to variables \n",
    "length = 10 \n",
    "width = 5 \n",
    "\n",
    "# Calculating the area of a rectangle \n",
    "area = length * width\n",
    "print(area) # output:- 50"
   ]
  },
  {
   "cell_type": "markdown",
   "id": "7bed0772-25d5-43e9-bd9a-81188873ae71",
   "metadata": {},
   "source": [
    "# 6. Reassigning Values to Variables\n",
    "# Python allows you to reassign a variable to a new values at any time "
   ]
  },
  {
   "cell_type": "code",
   "execution_count": 13,
   "id": "23341d52-e6c0-44ed-ab41-382d00d73809",
   "metadata": {},
   "outputs": [
    {
     "name": "stdout",
     "output_type": "stream",
     "text": [
      "10\n",
      "20\n"
     ]
    }
   ],
   "source": [
    "x = 10 # Intial value of x \n",
    "print(x) # output: 10 \n",
    "\n",
    "# Reassigning the value of x\n",
    "x = 20 \n",
    "print(x) # output: 20 "
   ]
  },
  {
   "cell_type": "code",
   "execution_count": 16,
   "id": "88aed858-c167-4c65-8f46-2f76c706f56e",
   "metadata": {},
   "outputs": [],
   "source": [
    "# Final Notes : \n",
    "#     ---> Variable can store any type of data, including numbers, strings, lists, \n",
    "#          dictioners,objects,etc.\n",
    "#     ---> Variables are dynamic, their type is automatically determined by the values\n",
    "#          assigmed to them, and they can change type during ececution"
   ]
  },
  {
   "cell_type": "code",
   "execution_count": null,
   "id": "ed07ab6e-22f8-437a-965b-0d6ab0e46c74",
   "metadata": {},
   "outputs": [],
   "source": []
  },
  {
   "cell_type": "code",
   "execution_count": null,
   "id": "e9dda939-8e11-4e78-9ba1-6c03ceb5d8bd",
   "metadata": {},
   "outputs": [],
   "source": []
  },
  {
   "cell_type": "code",
   "execution_count": null,
   "id": "31c03319-5b7d-4618-bf8d-b331367582ed",
   "metadata": {},
   "outputs": [],
   "source": []
  },
  {
   "cell_type": "code",
   "execution_count": null,
   "id": "5b37f42d-b03b-4bd5-b99f-2d2370d5509d",
   "metadata": {},
   "outputs": [],
   "source": []
  }
 ],
 "metadata": {
  "kernelspec": {
   "display_name": "Python 3 (ipykernel)",
   "language": "python",
   "name": "python3"
  },
  "language_info": {
   "codemirror_mode": {
    "name": "ipython",
    "version": 3
   },
   "file_extension": ".py",
   "mimetype": "text/x-python",
   "name": "python",
   "nbconvert_exporter": "python",
   "pygments_lexer": "ipython3",
   "version": "3.12.7"
  }
 },
 "nbformat": 4,
 "nbformat_minor": 5
}
