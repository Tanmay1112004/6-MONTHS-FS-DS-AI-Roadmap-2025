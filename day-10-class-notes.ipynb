{
 "cells": [
  {
   "cell_type": "markdown",
   "id": "070153d3-6920-4d46-babb-31704f72c980",
   "metadata": {},
   "source": [
    "# Day-10"
   ]
  },
  {
   "cell_type": "code",
   "execution_count": null,
   "id": "7aa5fe3f-46e1-4aee-b3f8-25d3825f5cd2",
   "metadata": {},
   "outputs": [],
   "source": []
  },
  {
   "cell_type": "markdown",
   "id": "c5b91528-19b7-4e29-9b9d-d49a293bb5e8",
   "metadata": {},
   "source": [
    "- Data Type --> user or developer define only 1 value\n",
    "- Data Structure --> user or developer define more than 1 value is calles DS\n",
    "- Matrix --> tables(rows*columns)\n",
    "- matrix - collection of DataStructure\n",
    "- Data Structure - collection of datatypes\n",
    "\n",
    "- Python Data Structure are divide in to 2 types -->\n",
    "\n",
    "- 1. inbuilds ds\n",
    "-    (list, tuple, set, dict)\n",
    "- 2. user defined ds\n",
    "-    (stack, ques, linkedlist, heap, tree, etc) (normally used by some python library)\n"
   ]
  },
  {
   "cell_type": "code",
   "execution_count": null,
   "id": "9672270d-a7ab-45e0-8f27-e549cd6cb4b7",
   "metadata": {},
   "outputs": [],
   "source": []
  },
  {
   "cell_type": "markdown",
   "id": "ddffa036-464a-470c-936b-d4ec69aac63f",
   "metadata": {},
   "source": [
    "## Python Data Structure\n",
    "\n",
    "### LIST"
   ]
  },
  {
   "cell_type": "markdown",
   "id": "205f04eb-eceb-451b-869e-44ab25d7aef7",
   "metadata": {},
   "source": [
    "- list always define with square bracket ( [] )\n",
    "- list is growable\n",
    "- duplicates are allowed\n",
    "- multiple datatypes can we declares\n",
    "- list inside the list is called nested list\n",
    "- list is mutable (mutable means changable)\n",
    "\n",
    "- python index begins with 0\n",
    "- and index  can be devided into 3 parts\n",
    "- 1. forward indexing --> left to right\n",
    "- 2. backward indexing --> right to left\n",
    "- 3. step indexing --> every step count jumps"
   ]
  },
  {
   "cell_type": "code",
   "execution_count": 3,
   "id": "65f6a7d3-2346-46d6-8bc7-20f40297462e",
   "metadata": {},
   "outputs": [
    {
     "data": {
      "text/plain": [
       "[]"
      ]
     },
     "execution_count": 3,
     "metadata": {},
     "output_type": "execute_result"
    }
   ],
   "source": [
    "l = []\n",
    "l"
   ]
  },
  {
   "cell_type": "code",
   "execution_count": 4,
   "id": "c1652463-cbbc-4e96-b6b1-801d6d400d20",
   "metadata": {},
   "outputs": [
    {
     "data": {
      "text/plain": [
       "list"
      ]
     },
     "execution_count": 4,
     "metadata": {},
     "output_type": "execute_result"
    }
   ],
   "source": [
    "type(l)"
   ]
  },
  {
   "cell_type": "code",
   "execution_count": 5,
   "id": "153ddf33-fb1b-44af-9c23-0f990320aff9",
   "metadata": {},
   "outputs": [
    {
     "name": "stdout",
     "output_type": "stream",
     "text": [
      "0\n"
     ]
    }
   ],
   "source": [
    "print(len(l))"
   ]
  },
  {
   "cell_type": "code",
   "execution_count": 6,
   "id": "f47d6fa4-6268-4f5b-a0bf-c8afa961c1d7",
   "metadata": {},
   "outputs": [
    {
     "data": {
      "text/plain": [
       "[]"
      ]
     },
     "execution_count": 6,
     "metadata": {},
     "output_type": "execute_result"
    }
   ],
   "source": [
    "l"
   ]
  },
  {
   "cell_type": "code",
   "execution_count": 14,
   "id": "a0dbc8a4-4012-42ab-8edf-112e253b69b3",
   "metadata": {},
   "outputs": [],
   "source": [
    "l.append(10)"
   ]
  },
  {
   "cell_type": "code",
   "execution_count": 15,
   "id": "482bcbbe-a44f-4ebc-a97b-be312e50d9ae",
   "metadata": {},
   "outputs": [
    {
     "data": {
      "text/plain": [
       "[10, 10, 10, 10]"
      ]
     },
     "execution_count": 15,
     "metadata": {},
     "output_type": "execute_result"
    }
   ],
   "source": [
    "l"
   ]
  },
  {
   "cell_type": "code",
   "execution_count": 16,
   "id": "5470be79-1709-4402-b0eb-4efd76386504",
   "metadata": {},
   "outputs": [],
   "source": [
    "l.append(20)\n",
    "l.append(30)\n",
    "l.append(40)\n",
    "l.append(50)"
   ]
  },
  {
   "cell_type": "code",
   "execution_count": 17,
   "id": "5b71e9ad-edbf-48d6-8c8f-5e8ccb11f2f3",
   "metadata": {},
   "outputs": [
    {
     "data": {
      "text/plain": [
       "[10, 10, 10, 10, 20, 30, 40, 50]"
      ]
     },
     "execution_count": 17,
     "metadata": {},
     "output_type": "execute_result"
    }
   ],
   "source": [
    "l"
   ]
  },
  {
   "cell_type": "code",
   "execution_count": 18,
   "id": "98649b40-d46b-47f0-94f3-aaf5dbcb4c8f",
   "metadata": {},
   "outputs": [
    {
     "ename": "TypeError",
     "evalue": "list.append() takes exactly one argument (5 given)",
     "output_type": "error",
     "traceback": [
      "\u001b[1;31m---------------------------------------------------------------------------\u001b[0m",
      "\u001b[1;31mTypeError\u001b[0m                                 Traceback (most recent call last)",
      "Cell \u001b[1;32mIn[18], line 1\u001b[0m\n\u001b[1;32m----> 1\u001b[0m l\u001b[38;5;241m.\u001b[39mappend(\u001b[38;5;241m60\u001b[39m, \u001b[38;5;241m70\u001b[39m, \u001b[38;5;241m80\u001b[39m, \u001b[38;5;241m90\u001b[39m, \u001b[38;5;241m100\u001b[39m)\n",
      "\u001b[1;31mTypeError\u001b[0m: list.append() takes exactly one argument (5 given)"
     ]
    }
   ],
   "source": [
    "l.append(60, 70, 80, 90, 100)"
   ]
  },
  {
   "cell_type": "code",
   "execution_count": null,
   "id": "25c93d17-f13b-4693-a335-534ae2f0afc9",
   "metadata": {},
   "outputs": [],
   "source": []
  },
  {
   "cell_type": "code",
   "execution_count": 19,
   "id": "d2dfc507-9f57-4aed-97dd-809deb135e47",
   "metadata": {},
   "outputs": [
    {
     "data": {
      "text/plain": [
       "[10, 10, 10, 10, 20, 30, 40, 50]"
      ]
     },
     "execution_count": 19,
     "metadata": {},
     "output_type": "execute_result"
    }
   ],
   "source": [
    "l"
   ]
  },
  {
   "cell_type": "code",
   "execution_count": 20,
   "id": "137cef22-20b0-4c9b-abd9-536a67396251",
   "metadata": {},
   "outputs": [],
   "source": [
    "l1 = []\n",
    "l1.append('nit'),\n",
    "l1.append(True),\n",
    "l1.append(2.3),\n",
    "l1.append(1+2j),\n",
    "l1.append([1,2,2])"
   ]
  },
  {
   "cell_type": "code",
   "execution_count": 21,
   "id": "c3711321-ae2e-4ff3-9f59-20d13f0aa90c",
   "metadata": {},
   "outputs": [
    {
     "name": "stdout",
     "output_type": "stream",
     "text": [
      "[10, 10, 10, 10, 20, 30, 40, 50]\n",
      "['nit', True, 2.3, (1+2j), [1, 2, 2]]\n"
     ]
    }
   ],
   "source": [
    "print(l)\n",
    "print(l1)"
   ]
  },
  {
   "cell_type": "code",
   "execution_count": 23,
   "id": "78055cef-e96f-42d1-862e-7c4f50c23e56",
   "metadata": {},
   "outputs": [],
   "source": [
    "l1.append('mit')"
   ]
  },
  {
   "cell_type": "code",
   "execution_count": 24,
   "id": "f6355248-51b6-47b4-bda7-cde2a81300e9",
   "metadata": {},
   "outputs": [
    {
     "data": {
      "text/plain": [
       "['nit', True, 2.3, (1+2j), [1, 2, 2], 'mit']"
      ]
     },
     "execution_count": 24,
     "metadata": {},
     "output_type": "execute_result"
    }
   ],
   "source": [
    "l1"
   ]
  },
  {
   "cell_type": "code",
   "execution_count": 25,
   "id": "fabac688-486e-474f-b53e-4caa4b365985",
   "metadata": {},
   "outputs": [
    {
     "data": {
      "text/plain": [
       "list"
      ]
     },
     "execution_count": 25,
     "metadata": {},
     "output_type": "execute_result"
    }
   ],
   "source": [
    "type(l1)"
   ]
  },
  {
   "cell_type": "code",
   "execution_count": 26,
   "id": "b7786e3c-78f6-4a0d-8b14-216d5e06be01",
   "metadata": {},
   "outputs": [
    {
     "name": "stdout",
     "output_type": "stream",
     "text": [
      "nit\n",
      "True\n",
      "2.3\n",
      "(1+2j)\n",
      "[1, 2, 2]\n",
      "mit\n"
     ]
    }
   ],
   "source": [
    "for i in l1:\n",
    "    print(i)"
   ]
  },
  {
   "cell_type": "code",
   "execution_count": 27,
   "id": "8d1fd4ea-eb43-4520-8d23-ca606595cb23",
   "metadata": {},
   "outputs": [
    {
     "name": "stdout",
     "output_type": "stream",
     "text": [
      "(0, 'nit')\n",
      "(1, True)\n",
      "(2, 2.3)\n",
      "(3, (1+2j))\n",
      "(4, [1, 2, 2])\n",
      "(5, 'mit')\n"
     ]
    }
   ],
   "source": [
    "for i in enumerate(l1): \n",
    "    print(i)"
   ]
  },
  {
   "cell_type": "code",
   "execution_count": 28,
   "id": "f75bdc96-e0e5-4fa0-a27e-ce7292cb1300",
   "metadata": {},
   "outputs": [
    {
     "data": {
      "text/plain": [
       "[10, 10, 10, 10, 20, 30, 40, 50, 'mit']"
      ]
     },
     "execution_count": 28,
     "metadata": {},
     "output_type": "execute_result"
    }
   ],
   "source": [
    "l"
   ]
  },
  {
   "cell_type": "code",
   "execution_count": 29,
   "id": "d1fb95f7-118a-47fd-9a8d-82e8e86f6049",
   "metadata": {},
   "outputs": [
    {
     "data": {
      "text/plain": [
       "[10, 10, 10, 10, 20, 30, 40, 50, 'mit']"
      ]
     },
     "execution_count": 29,
     "metadata": {},
     "output_type": "execute_result"
    }
   ],
   "source": [
    "l[:]"
   ]
  },
  {
   "cell_type": "code",
   "execution_count": 30,
   "id": "0fbfe8bb-98a2-42f1-9d24-e26043bbdeb3",
   "metadata": {},
   "outputs": [
    {
     "data": {
      "text/plain": [
       "10"
      ]
     },
     "execution_count": 30,
     "metadata": {},
     "output_type": "execute_result"
    }
   ],
   "source": [
    "l[0]"
   ]
  },
  {
   "cell_type": "code",
   "execution_count": 31,
   "id": "3991789f-94b2-4201-9e28-3b1504edde5b",
   "metadata": {},
   "outputs": [
    {
     "data": {
      "text/plain": [
       "'mit'"
      ]
     },
     "execution_count": 31,
     "metadata": {},
     "output_type": "execute_result"
    }
   ],
   "source": [
    "l[-1]"
   ]
  },
  {
   "cell_type": "code",
   "execution_count": 32,
   "id": "df256d0a-07fa-4007-aced-06e0637bcb7c",
   "metadata": {},
   "outputs": [
    {
     "data": {
      "text/plain": [
       "50"
      ]
     },
     "execution_count": 32,
     "metadata": {},
     "output_type": "execute_result"
    }
   ],
   "source": [
    "l[-2]"
   ]
  },
  {
   "cell_type": "code",
   "execution_count": 33,
   "id": "e0d39856-0b17-4360-86cb-4b15b0428098",
   "metadata": {},
   "outputs": [
    {
     "data": {
      "text/plain": [
       "30"
      ]
     },
     "execution_count": 33,
     "metadata": {},
     "output_type": "execute_result"
    }
   ],
   "source": [
    "l[-4]"
   ]
  },
  {
   "cell_type": "code",
   "execution_count": 34,
   "id": "fbc7ed1b-7be3-4a06-8dff-678a00e6a392",
   "metadata": {},
   "outputs": [
    {
     "data": {
      "text/plain": [
       "[10, 10, 10, 10, 20, 30, 40, 50, 'mit']"
      ]
     },
     "execution_count": 34,
     "metadata": {},
     "output_type": "execute_result"
    }
   ],
   "source": [
    "l"
   ]
  },
  {
   "cell_type": "code",
   "execution_count": 35,
   "id": "dbb6c5be-d00e-433e-a982-619848118071",
   "metadata": {},
   "outputs": [
    {
     "ename": "IndexError",
     "evalue": "list index out of range",
     "output_type": "error",
     "traceback": [
      "\u001b[1;31m---------------------------------------------------------------------------\u001b[0m",
      "\u001b[1;31mIndexError\u001b[0m                                Traceback (most recent call last)",
      "Cell \u001b[1;32mIn[35], line 1\u001b[0m\n\u001b[1;32m----> 1\u001b[0m l[\u001b[38;5;241m10\u001b[39m]\n",
      "\u001b[1;31mIndexError\u001b[0m: list index out of range"
     ]
    }
   ],
   "source": [
    "l[10]"
   ]
  },
  {
   "cell_type": "code",
   "execution_count": null,
   "id": "05674bfb-3e0c-451e-a717-c8eb6f38a589",
   "metadata": {},
   "outputs": [],
   "source": []
  },
  {
   "cell_type": "code",
   "execution_count": 36,
   "id": "4a952610-3e7a-4587-813f-442eb8df0a04",
   "metadata": {},
   "outputs": [
    {
     "data": {
      "text/plain": [
       "40"
      ]
     },
     "execution_count": 36,
     "metadata": {},
     "output_type": "execute_result"
    }
   ],
   "source": [
    "l[6]"
   ]
  },
  {
   "cell_type": "markdown",
   "id": "71198131-4843-4ff7-9ab9-106d9d9ba990",
   "metadata": {},
   "source": [
    "## Slicing --> [:]\n",
    "\n",
    "- forward slicing\n",
    "- backward slicing\n",
    "- step slicing\n",
    "- (n-1)"
   ]
  },
  {
   "cell_type": "code",
   "execution_count": null,
   "id": "753d8320-2615-49e1-9e2a-2ae812c65402",
   "metadata": {},
   "outputs": [],
   "source": []
  },
  {
   "cell_type": "code",
   "execution_count": 37,
   "id": "b117ac47-a98f-4efc-be9b-1ec4436c2849",
   "metadata": {},
   "outputs": [
    {
     "data": {
      "text/plain": [
       "[10, 10, 10, 10, 20, 30, 40, 50, 'mit']"
      ]
     },
     "execution_count": 37,
     "metadata": {},
     "output_type": "execute_result"
    }
   ],
   "source": [
    "l"
   ]
  },
  {
   "cell_type": "code",
   "execution_count": 38,
   "id": "cb178d36-d148-4ae5-a5cf-d093516cdecc",
   "metadata": {},
   "outputs": [
    {
     "data": {
      "text/plain": [
       "10"
      ]
     },
     "execution_count": 38,
     "metadata": {},
     "output_type": "execute_result"
    }
   ],
   "source": [
    "l[2] "
   ]
  },
  {
   "cell_type": "code",
   "execution_count": 39,
   "id": "69596e2b-18a5-4d63-ac56-8503032c7184",
   "metadata": {},
   "outputs": [
    {
     "data": {
      "text/plain": [
       "40"
      ]
     },
     "execution_count": 39,
     "metadata": {},
     "output_type": "execute_result"
    }
   ],
   "source": [
    "l[-3]"
   ]
  },
  {
   "cell_type": "code",
   "execution_count": 41,
   "id": "413434e5-d213-4288-852c-7873ea7bda6d",
   "metadata": {},
   "outputs": [
    {
     "data": {
      "text/plain": [
       "[10, 10, 10]"
      ]
     },
     "execution_count": 41,
     "metadata": {},
     "output_type": "execute_result"
    }
   ],
   "source": [
    "l[1:4]  # right side will be (n-1)"
   ]
  },
  {
   "cell_type": "code",
   "execution_count": 42,
   "id": "7d617015-2d96-4df8-bff4-4241609e1369",
   "metadata": {},
   "outputs": [
    {
     "data": {
      "text/plain": [
       "[10, 10, 10, 10, 20, 30, 40, 50, 'mit']"
      ]
     },
     "execution_count": 42,
     "metadata": {},
     "output_type": "execute_result"
    }
   ],
   "source": [
    "l"
   ]
  },
  {
   "cell_type": "code",
   "execution_count": 43,
   "id": "86d84e03-4f46-40d0-8b9e-d51b50085f88",
   "metadata": {},
   "outputs": [
    {
     "data": {
      "text/plain": [
       "[10, 10, 10, 10, 20, 30]"
      ]
     },
     "execution_count": 43,
     "metadata": {},
     "output_type": "execute_result"
    }
   ],
   "source": [
    "l[0:6]"
   ]
  },
  {
   "cell_type": "code",
   "execution_count": 44,
   "id": "da7cee9a-a366-49f2-a2a3-c07d71b876ba",
   "metadata": {},
   "outputs": [
    {
     "data": {
      "text/plain": [
       "[10, 10, 10, 10]"
      ]
     },
     "execution_count": 44,
     "metadata": {},
     "output_type": "execute_result"
    }
   ],
   "source": [
    "l[0:4]"
   ]
  },
  {
   "cell_type": "code",
   "execution_count": 45,
   "id": "bba78189-5ee5-4e03-9bbe-eeaee8410e67",
   "metadata": {},
   "outputs": [
    {
     "data": {
      "text/plain": [
       "[10, 10, 10, 10, 20, 30, 40, 50, 'mit']"
      ]
     },
     "execution_count": 45,
     "metadata": {},
     "output_type": "execute_result"
    }
   ],
   "source": [
    "l[0:9]"
   ]
  },
  {
   "cell_type": "code",
   "execution_count": 46,
   "id": "f3a3f253-4837-4afd-85db-989b876ba9d6",
   "metadata": {},
   "outputs": [
    {
     "data": {
      "text/plain": [
       "[10, 10, 10, 10, 20, 30, 40, 50]"
      ]
     },
     "execution_count": 46,
     "metadata": {},
     "output_type": "execute_result"
    }
   ],
   "source": [
    "l[0:8]"
   ]
  },
  {
   "cell_type": "code",
   "execution_count": 49,
   "id": "f6436ccf-5dae-4f99-b178-9b464ae8b06a",
   "metadata": {},
   "outputs": [],
   "source": [
    "l[0] = 100"
   ]
  },
  {
   "cell_type": "code",
   "execution_count": 50,
   "id": "f9c8f612-d722-4300-bd57-780c00cea260",
   "metadata": {},
   "outputs": [
    {
     "data": {
      "text/plain": [
       "[100, 10, 10, 10, 20, 30, 40, 50, 'mit']"
      ]
     },
     "execution_count": 50,
     "metadata": {},
     "output_type": "execute_result"
    }
   ],
   "source": [
    "l"
   ]
  },
  {
   "cell_type": "code",
   "execution_count": null,
   "id": "13f1f4e7-b365-4bd8-830a-8ff3b477815d",
   "metadata": {},
   "outputs": [],
   "source": []
  }
 ],
 "metadata": {
  "kernelspec": {
   "display_name": "Python 3 (ipykernel)",
   "language": "python",
   "name": "python3"
  },
  "language_info": {
   "codemirror_mode": {
    "name": "ipython",
    "version": 3
   },
   "file_extension": ".py",
   "mimetype": "text/x-python",
   "name": "python",
   "nbconvert_exporter": "python",
   "pygments_lexer": "ipython3",
   "version": "3.12.7"
  }
 },
 "nbformat": 4,
 "nbformat_minor": 5
}
