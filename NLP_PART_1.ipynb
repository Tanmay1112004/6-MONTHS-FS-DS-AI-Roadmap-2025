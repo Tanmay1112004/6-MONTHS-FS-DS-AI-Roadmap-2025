{
  "nbformat": 4,
  "nbformat_minor": 0,
  "metadata": {
    "colab": {
      "provenance": []
    },
    "kernelspec": {
      "name": "python3",
      "display_name": "Python 3"
    },
    "language_info": {
      "name": "python"
    }
  },
  "cells": [
    {
      "cell_type": "code",
      "execution_count": null,
      "metadata": {
        "id": "C7WRCoXGcG1X"
      },
      "outputs": [],
      "source": [
        "import nltk\n",
        "nltk.download('all')"
      ]
    },
    {
      "cell_type": "code",
      "source": [
        "import nltk\n",
        "\n",
        "# Common NLTK downloads\n",
        "nltk.download('punkt')        # Tokenizer\n",
        "nltk.download('stopwords')    # Stopwords list\n",
        "nltk.download('wordnet')      # WordNet lemmatizer\n",
        "nltk.download('vader_lexicon') # Sentiment analysis\n",
        "nltk.download('averaged_perceptron_tagger') # POS tagging\n",
        "nltk.download('punkt_tab') #punkt_tab resource"
      ],
      "metadata": {
        "id": "qG-jJef-cQNc"
      },
      "execution_count": null,
      "outputs": []
    },
    {
      "cell_type": "code",
      "source": [
        "# you can also create your own words\n",
        "AI = '''Artificial Intelligence refers to the intelligence of machines. This is in contrast to the natural intelligence of\n",
        "humans and animals. With Artificial Intelligence, machines perform functions such as learning, planning, reasoning and\n",
        "problem-solving. Most noteworthy, Artificial Intelligence is the simulation of human intelligence by machines.\n",
        "It is probably the fastest-growing development in the World of technology and innovation. Furthermore, many experts believe\n",
        "AI could solve major challenges and crisis situations.'''"
      ],
      "metadata": {
        "id": "LHB_0aG7cQQb"
      },
      "execution_count": 3,
      "outputs": []
    },
    {
      "cell_type": "code",
      "source": [
        "AI"
      ],
      "metadata": {
        "colab": {
          "base_uri": "https://localhost:8080/",
          "height": 72
        },
        "id": "9Z8PrppWcQUK",
        "outputId": "40f981c7-ce20-4c57-f3a0-4b8f4468c9a9"
      },
      "execution_count": 4,
      "outputs": [
        {
          "output_type": "execute_result",
          "data": {
            "text/plain": [
              "'Artificial Intelligence refers to the intelligence of machines. This is in contrast to the natural intelligence of\\nhumans and animals. With Artificial Intelligence, machines perform functions such as learning, planning, reasoning and\\nproblem-solving. Most noteworthy, Artificial Intelligence is the simulation of human intelligence by machines.\\nIt is probably the fastest-growing development in the World of technology and innovation. Furthermore, many experts believe\\nAI could solve major challenges and crisis situations.'"
            ],
            "application/vnd.google.colaboratory.intrinsic+json": {
              "type": "string"
            }
          },
          "metadata": {},
          "execution_count": 4
        }
      ]
    },
    {
      "cell_type": "code",
      "source": [
        "from nltk.tokenize import word_tokenize"
      ],
      "metadata": {
        "id": "QGGcWhfhdfXt"
      },
      "execution_count": 5,
      "outputs": []
    },
    {
      "cell_type": "code",
      "source": [
        "AI_tokens = word_tokenize(AI)\n",
        "AI_tokens"
      ],
      "metadata": {
        "colab": {
          "base_uri": "https://localhost:8080/"
        },
        "id": "eNXK7pCpdfUR",
        "outputId": "74c56b7c-0382-43fc-f73d-abd4a83a694e"
      },
      "execution_count": 9,
      "outputs": [
        {
          "output_type": "execute_result",
          "data": {
            "text/plain": [
              "['Artificial',\n",
              " 'Intelligence',\n",
              " 'refers',\n",
              " 'to',\n",
              " 'the',\n",
              " 'intelligence',\n",
              " 'of',\n",
              " 'machines',\n",
              " '.',\n",
              " 'This',\n",
              " 'is',\n",
              " 'in',\n",
              " 'contrast',\n",
              " 'to',\n",
              " 'the',\n",
              " 'natural',\n",
              " 'intelligence',\n",
              " 'of',\n",
              " 'humans',\n",
              " 'and',\n",
              " 'animals',\n",
              " '.',\n",
              " 'With',\n",
              " 'Artificial',\n",
              " 'Intelligence',\n",
              " ',',\n",
              " 'machines',\n",
              " 'perform',\n",
              " 'functions',\n",
              " 'such',\n",
              " 'as',\n",
              " 'learning',\n",
              " ',',\n",
              " 'planning',\n",
              " ',',\n",
              " 'reasoning',\n",
              " 'and',\n",
              " 'problem-solving',\n",
              " '.',\n",
              " 'Most',\n",
              " 'noteworthy',\n",
              " ',',\n",
              " 'Artificial',\n",
              " 'Intelligence',\n",
              " 'is',\n",
              " 'the',\n",
              " 'simulation',\n",
              " 'of',\n",
              " 'human',\n",
              " 'intelligence',\n",
              " 'by',\n",
              " 'machines',\n",
              " '.',\n",
              " 'It',\n",
              " 'is',\n",
              " 'probably',\n",
              " 'the',\n",
              " 'fastest-growing',\n",
              " 'development',\n",
              " 'in',\n",
              " 'the',\n",
              " 'World',\n",
              " 'of',\n",
              " 'technology',\n",
              " 'and',\n",
              " 'innovation',\n",
              " '.',\n",
              " 'Furthermore',\n",
              " ',',\n",
              " 'many',\n",
              " 'experts',\n",
              " 'believe',\n",
              " 'AI',\n",
              " 'could',\n",
              " 'solve',\n",
              " 'major',\n",
              " 'challenges',\n",
              " 'and',\n",
              " 'crisis',\n",
              " 'situations',\n",
              " '.']"
            ]
          },
          "metadata": {},
          "execution_count": 9
        }
      ]
    },
    {
      "cell_type": "code",
      "source": [
        "len(AI_tokens)"
      ],
      "metadata": {
        "colab": {
          "base_uri": "https://localhost:8080/"
        },
        "id": "OHgFa29ydfNq",
        "outputId": "9a04faa6-3d3d-4efa-8205-0b5ff68deb76"
      },
      "execution_count": 11,
      "outputs": [
        {
          "output_type": "execute_result",
          "data": {
            "text/plain": [
              "81"
            ]
          },
          "metadata": {},
          "execution_count": 11
        }
      ]
    },
    {
      "cell_type": "code",
      "source": [
        "from nltk.tokenize import sent_tokenize"
      ],
      "metadata": {
        "id": "liwddVaXfNlQ"
      },
      "execution_count": 12,
      "outputs": []
    },
    {
      "cell_type": "code",
      "source": [
        "AI_Sent = sent_tokenize(AI)\n",
        "AI_Sent"
      ],
      "metadata": {
        "colab": {
          "base_uri": "https://localhost:8080/"
        },
        "id": "QgVj0T0qfZSA",
        "outputId": "9ab77856-b5b3-4f92-b6f3-efc4cbf9b3b5"
      },
      "execution_count": 13,
      "outputs": [
        {
          "output_type": "execute_result",
          "data": {
            "text/plain": [
              "['Artificial Intelligence refers to the intelligence of machines.',\n",
              " 'This is in contrast to the natural intelligence of\\nhumans and animals.',\n",
              " 'With Artificial Intelligence, machines perform functions such as learning, planning, reasoning and\\nproblem-solving.',\n",
              " 'Most noteworthy, Artificial Intelligence is the simulation of human intelligence by machines.',\n",
              " 'It is probably the fastest-growing development in the World of technology and innovation.',\n",
              " 'Furthermore, many experts believe\\nAI could solve major challenges and crisis situations.']"
            ]
          },
          "metadata": {},
          "execution_count": 13
        }
      ]
    },
    {
      "cell_type": "code",
      "source": [
        "len(AI_Sent)"
      ],
      "metadata": {
        "colab": {
          "base_uri": "https://localhost:8080/"
        },
        "id": "U1x8Bq4AfZVN",
        "outputId": "47954518-dc77-46ee-86c4-f5e007c68469"
      },
      "execution_count": 14,
      "outputs": [
        {
          "output_type": "execute_result",
          "data": {
            "text/plain": [
              "6"
            ]
          },
          "metadata": {},
          "execution_count": 14
        }
      ]
    },
    {
      "cell_type": "code",
      "source": [
        "AI"
      ],
      "metadata": {
        "colab": {
          "base_uri": "https://localhost:8080/",
          "height": 72
        },
        "id": "-l3DNpsafZYm",
        "outputId": "b700c30c-d5d4-4610-a84c-531e626f9ea3"
      },
      "execution_count": 15,
      "outputs": [
        {
          "output_type": "execute_result",
          "data": {
            "text/plain": [
              "'Artificial Intelligence refers to the intelligence of machines. This is in contrast to the natural intelligence of\\nhumans and animals. With Artificial Intelligence, machines perform functions such as learning, planning, reasoning and\\nproblem-solving. Most noteworthy, Artificial Intelligence is the simulation of human intelligence by machines.\\nIt is probably the fastest-growing development in the World of technology and innovation. Furthermore, many experts believe\\nAI could solve major challenges and crisis situations.'"
            ],
            "application/vnd.google.colaboratory.intrinsic+json": {
              "type": "string"
            }
          },
          "metadata": {},
          "execution_count": 15
        }
      ]
    },
    {
      "cell_type": "code",
      "source": [
        "from nltk.tokenize import blankline_tokenize # Give you hoq many paragraph\n",
        "AI_blank = blankline_tokenize(AI)\n",
        "AI_blank"
      ],
      "metadata": {
        "colab": {
          "base_uri": "https://localhost:8080/"
        },
        "id": "_Sb6yww2fZbw",
        "outputId": "e24825ec-69f8-42fb-94cf-28c82298ade9"
      },
      "execution_count": 16,
      "outputs": [
        {
          "output_type": "execute_result",
          "data": {
            "text/plain": [
              "['Artificial Intelligence refers to the intelligence of machines. This is in contrast to the natural intelligence of\\nhumans and animals. With Artificial Intelligence, machines perform functions such as learning, planning, reasoning and\\nproblem-solving. Most noteworthy, Artificial Intelligence is the simulation of human intelligence by machines.\\nIt is probably the fastest-growing development in the World of technology and innovation. Furthermore, many experts believe\\nAI could solve major challenges and crisis situations.']"
            ]
          },
          "metadata": {},
          "execution_count": 16
        }
      ]
    },
    {
      "cell_type": "code",
      "source": [
        "len(AI_blank)"
      ],
      "metadata": {
        "colab": {
          "base_uri": "https://localhost:8080/"
        },
        "id": "YMDN_-izfZe2",
        "outputId": "d5f2aac2-260e-4cb5-fc36-2ffde219d942"
      },
      "execution_count": 17,
      "outputs": [
        {
          "output_type": "execute_result",
          "data": {
            "text/plain": [
              "1"
            ]
          },
          "metadata": {},
          "execution_count": 17
        }
      ]
    },
    {
      "cell_type": "code",
      "source": [],
      "metadata": {
        "id": "nOor3QQEfZiX"
      },
      "execution_count": null,
      "outputs": []
    },
    {
      "cell_type": "code",
      "source": [],
      "metadata": {
        "id": "nCmDAk2BfNYD"
      },
      "execution_count": null,
      "outputs": []
    },
    {
      "cell_type": "code",
      "source": [],
      "metadata": {
        "id": "RQ3FLnNnhCNj"
      },
      "execution_count": null,
      "outputs": []
    },
    {
      "cell_type": "code",
      "source": [],
      "metadata": {
        "id": "lTHPd6T4hCKN"
      },
      "execution_count": null,
      "outputs": []
    },
    {
      "cell_type": "code",
      "source": [],
      "metadata": {
        "id": "Ez0_rqqohCHh"
      },
      "execution_count": null,
      "outputs": []
    },
    {
      "cell_type": "code",
      "source": [],
      "metadata": {
        "id": "nrR7-reBhCEy"
      },
      "execution_count": null,
      "outputs": []
    },
    {
      "cell_type": "code",
      "source": [],
      "metadata": {
        "id": "jSXOxyXNhCBx"
      },
      "execution_count": null,
      "outputs": []
    },
    {
      "cell_type": "code",
      "source": [],
      "metadata": {
        "id": "M3nGrmd1hB-c"
      },
      "execution_count": null,
      "outputs": []
    },
    {
      "cell_type": "code",
      "source": [],
      "metadata": {
        "id": "4yC7LAOihB1f"
      },
      "execution_count": null,
      "outputs": []
    },
    {
      "cell_type": "code",
      "source": [],
      "metadata": {
        "id": "UckkbehFhBwg"
      },
      "execution_count": null,
      "outputs": []
    },
    {
      "cell_type": "code",
      "source": [],
      "metadata": {
        "id": "Ps-TcrxQhBqH"
      },
      "execution_count": null,
      "outputs": []
    },
    {
      "cell_type": "code",
      "source": [],
      "metadata": {
        "id": "wm4sBz4WhBju"
      },
      "execution_count": null,
      "outputs": []
    }
  ]
}