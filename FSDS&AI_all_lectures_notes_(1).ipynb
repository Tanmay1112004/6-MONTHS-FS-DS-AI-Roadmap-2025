{
  "cells": [
    {
      "cell_type": "markdown",
      "source": [
        "# Day :- 1\n"
      ],
      "metadata": {
        "id": "sLIgfW7PIXhD"
      },
      "id": "sLIgfW7PIXhD"
    },
    {
      "cell_type": "code",
      "execution_count": null,
      "id": "65a07e10-3933-4367-94a0-606075a39b40",
      "metadata": {
        "id": "65a07e10-3933-4367-94a0-606075a39b40",
        "outputId": "f5344383-9a02-4105-e7ea-a60fd147b958"
      },
      "outputs": [
        {
          "name": "stdout",
          "output_type": "stream",
          "text": [
            "welcome to nit\n",
            "study well to get job\n"
          ]
        }
      ],
      "source": [
        "def nit_4pm():\n",
        "    print('welcome to nit')\n",
        "    print('study well to get job')\n",
        "nit_4pm()"
      ]
    },
    {
      "cell_type": "code",
      "execution_count": null,
      "id": "aba87974-e193-472c-9e53-bccc2710a242",
      "metadata": {
        "id": "aba87974-e193-472c-9e53-bccc2710a242",
        "outputId": "c898db95-575b-4022-8f1d-28f4bad2d21f"
      },
      "outputs": [
        {
          "name": "stdout",
          "output_type": "stream",
          "text": [
            "welcome to nit\n",
            "study well to get job\n",
            "welcome to nit\n",
            "study well to get job\n",
            "welcome to nit\n",
            "study well to get job\n"
          ]
        }
      ],
      "source": [
        "def nit_4pm():\n",
        "    print('welcome to nit')\n",
        "    print('study well to get job')\n",
        "nit_4pm()\n",
        "def nit_4pm():\n",
        "    print('welcome to nit')\n",
        "    print('study well to get job')\n",
        "nit_4pm()\n",
        "def nit_4pm():\n",
        "    print('welcome to nit')\n",
        "    print('study well to get job')\n",
        "nit_4pm()"
      ]
    },
    {
      "cell_type": "code",
      "execution_count": null,
      "id": "ad9ce3ae-7113-4a74-9a6d-46bc60376788",
      "metadata": {
        "id": "ad9ce3ae-7113-4a74-9a6d-46bc60376788",
        "outputId": "da73acfc-79a4-43a9-9d24-a9575c20c601"
      },
      "outputs": [
        {
          "name": "stdout",
          "output_type": "stream",
          "text": [
            "welcome to nit\n",
            "study well to get job\n",
            "welcome to nit\n",
            "study well to get job\n",
            "welcome to nit\n",
            "study well to get job\n"
          ]
        }
      ],
      "source": [
        "def nit_4pm():\n",
        "    print('welcome to nit')\n",
        "    print('study well to get job')\n",
        "nit_4pm()\n",
        "nit_4pm()\n",
        "nit_4pm()"
      ]
    },
    {
      "cell_type": "code",
      "execution_count": null,
      "id": "e8d84c0d-47bf-44d8-a50b-64ddfef648b6",
      "metadata": {
        "id": "e8d84c0d-47bf-44d8-a50b-64ddfef648b6",
        "outputId": "a36c3b33-33ea-4801-bf75-a1b5bb29983b"
      },
      "outputs": [
        {
          "data": {
            "text/plain": [
              "5"
            ]
          },
          "execution_count": 16,
          "metadata": {},
          "output_type": "execute_result"
        }
      ],
      "source": [
        "2+3"
      ]
    },
    {
      "cell_type": "code",
      "execution_count": null,
      "id": "d696846e-ae9d-4041-9a38-e34f2d191818",
      "metadata": {
        "id": "d696846e-ae9d-4041-9a38-e34f2d191818",
        "outputId": "2b9035a9-92fb-4dee-df5e-35a911b20894"
      },
      "outputs": [
        {
          "data": {
            "text/plain": [
              "'nit'"
            ]
          },
          "execution_count": 19,
          "metadata": {},
          "output_type": "execute_result"
        }
      ],
      "source": [
        "'nit'"
      ]
    },
    {
      "cell_type": "code",
      "execution_count": null,
      "id": "7ffcfa3b-497c-43a0-b7a0-1f89f71e9438",
      "metadata": {
        "id": "7ffcfa3b-497c-43a0-b7a0-1f89f71e9438"
      },
      "outputs": [],
      "source": [
        "# generative ai :- llm models are generate response\n",
        "                 # code has to done by users\n",
        "#generate reponse from user query\n",
        "# agentic ai :- (smallagents is agentic ai frameworks) :- digital agents\n",
        "# connects to llm model agents act like user generate the app"
      ]
    },
    {
      "cell_type": "code",
      "execution_count": null,
      "id": "c222b7a5-b26b-4865-98e7-8ac93bb83604",
      "metadata": {
        "id": "c222b7a5-b26b-4865-98e7-8ac93bb83604"
      },
      "outputs": [],
      "source": [
        "# 8gb ssd"
      ]
    },
    {
      "cell_type": "code",
      "execution_count": null,
      "id": "8dce331b-8cf0-4759-8c86-94deefd74c5c",
      "metadata": {
        "id": "8dce331b-8cf0-4759-8c86-94deefd74c5c"
      },
      "outputs": [],
      "source": []
    },
    {
      "cell_type": "markdown",
      "id": "47c307b6-a0d1-4b59-b74c-32845f4b1b49",
      "metadata": {
        "id": "47c307b6-a0d1-4b59-b74c-32845f4b1b49"
      },
      "source": [
        "# Day :- 2"
      ]
    },
    {
      "cell_type": "code",
      "execution_count": null,
      "id": "8996186e-bbda-4b2c-a59a-bad961c2b209",
      "metadata": {
        "id": "8996186e-bbda-4b2c-a59a-bad961c2b209",
        "outputId": "a911f804-6510-43a7-d355-9350cdf48e1d"
      },
      "outputs": [
        {
          "data": {
            "text/plain": [
              "'welcome'"
            ]
          },
          "execution_count": 22,
          "metadata": {},
          "output_type": "execute_result"
        }
      ],
      "source": [
        "'welcome'"
      ]
    },
    {
      "cell_type": "code",
      "execution_count": null,
      "id": "9c460a1b-ec24-41f5-a498-d0a2def5c1c0",
      "metadata": {
        "id": "9c460a1b-ec24-41f5-a498-d0a2def5c1c0"
      },
      "outputs": [],
      "source": [
        "# In python text is called string\n",
        "# string has to declare with '' (single quote) | \" \" (double quote) | ''' ''' (triple quote)"
      ]
    },
    {
      "cell_type": "code",
      "execution_count": null,
      "id": "7c1ba710-b9d1-42dc-8550-656e07dc62ff",
      "metadata": {
        "id": "7c1ba710-b9d1-42dc-8550-656e07dc62ff"
      },
      "outputs": [],
      "source": [
        "# error are 3 type in python\n",
        "# 1. Compile time\n",
        "#2. run time\n",
        "#3. logical\n",
        "\n",
        "# what is compile time error ?\n",
        "# --> the erroer has to happens from user side is called compile time error\n"
      ]
    },
    {
      "cell_type": "code",
      "execution_count": null,
      "id": "794e9ca6-9140-4bf8-92f3-81002a87edb2",
      "metadata": {
        "id": "794e9ca6-9140-4bf8-92f3-81002a87edb2"
      },
      "outputs": [],
      "source": [
        "# NUMPY :- MATRIX\n",
        "# PANDAS :- DATAFRAME\n",
        "# MATPLOTLIB :- VISULIZATION"
      ]
    },
    {
      "cell_type": "code",
      "execution_count": null,
      "id": "10921ffb-519e-4511-bfed-783650bbb942",
      "metadata": {
        "id": "10921ffb-519e-4511-bfed-783650bbb942"
      },
      "outputs": [],
      "source": [
        "# Data Science\n",
        "# 1 Supervised learning     2 Unsupervised learning       3 Reinforcement Lerning\n",
        "# Machine learning             NlP                           Open AI\n",
        "#                             Deep Learning                  CHAT GPT"
      ]
    },
    {
      "cell_type": "code",
      "execution_count": null,
      "id": "1326f247-b5c1-469e-9c72-0e165df92b03",
      "metadata": {
        "id": "1326f247-b5c1-469e-9c72-0e165df92b03"
      },
      "outputs": [],
      "source": [
        "# Course complitation certificate from NIT\n",
        "# Google Data Analytics Certificate\n",
        "# Microsoft Certificate\n",
        "# IBM Data Science Certificate\n",
        "# kaggle Certifacte\n",
        "# Linkdein Leraning"
      ]
    },
    {
      "cell_type": "code",
      "execution_count": null,
      "id": "ec24654e-0aea-4392-92e6-9e00c9018e94",
      "metadata": {
        "id": "ec24654e-0aea-4392-92e6-9e00c9018e94"
      },
      "outputs": [],
      "source": []
    },
    {
      "cell_type": "markdown",
      "id": "d7fef556-3c36-4e40-ae77-ce18b3a343ec",
      "metadata": {
        "id": "d7fef556-3c36-4e40-ae77-ce18b3a343ec"
      },
      "source": [
        "# Day :- 3"
      ]
    },
    {
      "cell_type": "code",
      "execution_count": null,
      "id": "8edbe3dd-6bfd-46ed-b6d5-f8a4b22bfe79",
      "metadata": {
        "id": "8edbe3dd-6bfd-46ed-b6d5-f8a4b22bfe79"
      },
      "outputs": [],
      "source": [
        "# Data Analyst (SQL, PYTHON, EDA, TABLEU/POWER BI)\n",
        "# Business Analyst (SQL, TABLEU/POWER BI, EXCEL, COMMUNICATION)\n",
        "# DATA SCIENTIST:- (SQL, STATICTICS, ML, NLP, DEEP LEARNING), AZURE AI\n"
      ]
    },
    {
      "cell_type": "markdown",
      "id": "e993f375-13f6-4714-9dd9-fcb1efd832e1",
      "metadata": {
        "id": "e993f375-13f6-4714-9dd9-fcb1efd832e1"
      },
      "source": [
        "# Python Introduction (working with numbers, operator)\n",
        "# working number with python and python operator\n",
        "# Airthematic operator (+, -, *, /, //, **, % )"
      ]
    },
    {
      "cell_type": "code",
      "execution_count": null,
      "id": "01a33c59-0289-4e8c-a6dc-7a6bf1bae225",
      "metadata": {
        "id": "01a33c59-0289-4e8c-a6dc-7a6bf1bae225",
        "outputId": "ff5b3946-e66f-4cb9-fca8-e53a7b29d4e0"
      },
      "outputs": [
        {
          "data": {
            "text/plain": [
              "9"
            ]
          },
          "execution_count": 29,
          "metadata": {},
          "output_type": "execute_result"
        }
      ],
      "source": [
        "9"
      ]
    },
    {
      "cell_type": "code",
      "execution_count": null,
      "id": "336a4e96-85ac-49ed-9ea1-f8bce82d446f",
      "metadata": {
        "id": "336a4e96-85ac-49ed-9ea1-f8bce82d446f",
        "outputId": "972624a7-c2f1-41ee-e738-5e8acefee427"
      },
      "outputs": [
        {
          "data": {
            "text/plain": [
              "18"
            ]
          },
          "execution_count": 30,
          "metadata": {},
          "output_type": "execute_result"
        }
      ],
      "source": [
        "9 + 9"
      ]
    },
    {
      "cell_type": "code",
      "execution_count": null,
      "id": "f4f603eb-3952-4aec-94da-e8a225c5f42d",
      "metadata": {
        "id": "f4f603eb-3952-4aec-94da-e8a225c5f42d",
        "outputId": "3c0dab29-4989-433b-85ad-59f81c6242e1"
      },
      "outputs": [
        {
          "data": {
            "text/plain": [
              "0"
            ]
          },
          "execution_count": 31,
          "metadata": {},
          "output_type": "execute_result"
        }
      ],
      "source": [
        "9 - 9"
      ]
    },
    {
      "cell_type": "code",
      "execution_count": null,
      "id": "dbb45ce6-25da-43a2-a4a2-6dbabe8ca637",
      "metadata": {
        "id": "dbb45ce6-25da-43a2-a4a2-6dbabe8ca637",
        "outputId": "f52a5f70-2a64-4d6c-e409-bf13726ab26f"
      },
      "outputs": [
        {
          "data": {
            "text/plain": [
              "81"
            ]
          },
          "execution_count": 32,
          "metadata": {},
          "output_type": "execute_result"
        }
      ],
      "source": [
        "9 * 9"
      ]
    },
    {
      "cell_type": "code",
      "execution_count": null,
      "id": "b24d3298-b701-460d-b145-23218848e789",
      "metadata": {
        "id": "b24d3298-b701-460d-b145-23218848e789",
        "outputId": "7bdfe8c9-ff93-4ebc-86e5-46a504af14f3"
      },
      "outputs": [
        {
          "data": {
            "text/plain": [
              "1.0"
            ]
          },
          "execution_count": 35,
          "metadata": {},
          "output_type": "execute_result"
        }
      ],
      "source": [
        "9 / 9  # float division"
      ]
    },
    {
      "cell_type": "code",
      "execution_count": null,
      "id": "2242d6b9-1221-40fb-ba3d-7a5d2acf955d",
      "metadata": {
        "id": "2242d6b9-1221-40fb-ba3d-7a5d2acf955d",
        "outputId": "269da53a-714c-47d0-d2aa-13355f351116"
      },
      "outputs": [
        {
          "data": {
            "text/plain": [
              "1"
            ]
          },
          "execution_count": 36,
          "metadata": {},
          "output_type": "execute_result"
        }
      ],
      "source": [
        "9 // 9 # int division"
      ]
    },
    {
      "cell_type": "code",
      "execution_count": null,
      "id": "1f6aa859-e6ac-4e12-b4a2-d90af3532187",
      "metadata": {
        "id": "1f6aa859-e6ac-4e12-b4a2-d90af3532187",
        "outputId": "e1b486ac-dea9-41db-e848-9fd267e0db75"
      },
      "outputs": [
        {
          "data": {
            "text/plain": [
              "8"
            ]
          },
          "execution_count": 38,
          "metadata": {},
          "output_type": "execute_result"
        }
      ],
      "source": [
        "2 ** 3"
      ]
    },
    {
      "cell_type": "code",
      "execution_count": null,
      "id": "7aa737f7-f763-44c1-8ed6-61b6f7458855",
      "metadata": {
        "id": "7aa737f7-f763-44c1-8ed6-61b6f7458855"
      },
      "outputs": [],
      "source": [
        "# BODMAS RULE (Bracket,Order, Division, Multiplication , Addition , Substraction"
      ]
    },
    {
      "cell_type": "code",
      "execution_count": null,
      "id": "73909fff-bd54-4a6b-b6d5-edf293786026",
      "metadata": {
        "id": "73909fff-bd54-4a6b-b6d5-edf293786026",
        "outputId": "061037f2-69d5-46b7-e987-a3a58c743b22"
      },
      "outputs": [
        {
          "data": {
            "text/plain": [
              "-3"
            ]
          },
          "execution_count": 39,
          "metadata": {},
          "output_type": "execute_result"
        }
      ],
      "source": [
        "3 * (6 - 8) + 3 # here first bracket calculate then multiplication the  add, sub"
      ]
    },
    {
      "cell_type": "code",
      "execution_count": null,
      "id": "103e3070-889e-440f-a19a-467a43b1c073",
      "metadata": {
        "id": "103e3070-889e-440f-a19a-467a43b1c073",
        "outputId": "4ebdddfe-1707-4caa-bf2c-1a33292a7b5b"
      },
      "outputs": [
        {
          "data": {
            "text/plain": [
              "13"
            ]
          },
          "execution_count": 40,
          "metadata": {},
          "output_type": "execute_result"
        }
      ],
      "source": [
        "3 * 6 - 8 + 3"
      ]
    },
    {
      "cell_type": "code",
      "execution_count": null,
      "id": "d4d1336a-3218-48a2-abfe-809eba2c5db3",
      "metadata": {
        "id": "d4d1336a-3218-48a2-abfe-809eba2c5db3",
        "outputId": "fa99267a-69ee-446a-86f1-ffc87f64e16b"
      },
      "outputs": [
        {
          "data": {
            "text/plain": [
              "0"
            ]
          },
          "execution_count": 42,
          "metadata": {},
          "output_type": "execute_result"
        }
      ],
      "source": [
        "9 % 9 # % means modulus = remiander"
      ]
    },
    {
      "cell_type": "code",
      "execution_count": null,
      "id": "9ce96d87-36d3-461b-9086-445d9fd7dcb7",
      "metadata": {
        "id": "9ce96d87-36d3-461b-9086-445d9fd7dcb7"
      },
      "outputs": [],
      "source": [
        ""
      ]
    },
    {
      "cell_type": "code",
      "execution_count": null,
      "id": "b42e2375-0b53-43c3-9aa1-6b2ae1aff164",
      "metadata": {
        "id": "b42e2375-0b53-43c3-9aa1-6b2ae1aff164",
        "outputId": "de8d2a14-705f-4037-8dec-d3fb863b1530"
      },
      "outputs": [
        {
          "data": {
            "text/plain": [
              "True"
            ]
          },
          "execution_count": 43,
          "metadata": {},
          "output_type": "execute_result"
        }
      ],
      "source": [
        "3 < 5"
      ]
    },
    {
      "cell_type": "code",
      "execution_count": null,
      "id": "0060ce53-7084-4567-9f96-b1552a660ba3",
      "metadata": {
        "id": "0060ce53-7084-4567-9f96-b1552a660ba3",
        "outputId": "77028b01-6f47-418e-b1c2-5e6a90084045"
      },
      "outputs": [
        {
          "data": {
            "text/plain": [
              "False"
            ]
          },
          "execution_count": 44,
          "metadata": {},
          "output_type": "execute_result"
        }
      ],
      "source": [
        "3 == 5"
      ]
    },
    {
      "cell_type": "code",
      "execution_count": null,
      "id": "17997aba-42a7-49c3-98c2-8eb4c47c9128",
      "metadata": {
        "id": "17997aba-42a7-49c3-98c2-8eb4c47c9128",
        "outputId": "951ea22a-951b-4742-e637-7537c2f3260f"
      },
      "outputs": [
        {
          "data": {
            "text/plain": [
              "True"
            ]
          },
          "execution_count": 47,
          "metadata": {},
          "output_type": "execute_result"
        }
      ],
      "source": [
        "3 != 5"
      ]
    },
    {
      "cell_type": "code",
      "execution_count": null,
      "id": "8d259b7f-9236-414a-ae60-4c990f636c07",
      "metadata": {
        "id": "8d259b7f-9236-414a-ae60-4c990f636c07"
      },
      "outputs": [],
      "source": [
        "# number = int\n"
      ]
    },
    {
      "cell_type": "markdown",
      "id": "bd7d27d3-8419-4fa1-acfc-45ba3bd8a5be",
      "metadata": {
        "id": "bd7d27d3-8419-4fa1-acfc-45ba3bd8a5be"
      },
      "source": [
        "# Let's work with Text\n",
        "#     Text = String\n",
        "# In python string write with '', \" \", ''' '''"
      ]
    },
    {
      "cell_type": "code",
      "execution_count": null,
      "id": "9e578086-fba8-4631-82b9-51f3f3c04820",
      "metadata": {
        "id": "9e578086-fba8-4631-82b9-51f3f3c04820",
        "outputId": "6350663b-c94e-4605-c431-35500be4a409"
      },
      "outputs": [
        {
          "data": {
            "text/plain": [
              "'welcome to nit'"
            ]
          },
          "execution_count": 49,
          "metadata": {},
          "output_type": "execute_result"
        }
      ],
      "source": [
        "'welcome to nit'"
      ]
    },
    {
      "cell_type": "code",
      "execution_count": null,
      "id": "8470dca9-bc50-47c2-a6cd-b895d8b45dd2",
      "metadata": {
        "id": "8470dca9-bc50-47c2-a6cd-b895d8b45dd2",
        "outputId": "5874c3ce-901f-45af-96c2-0c5d2b889c93"
      },
      "outputs": [
        {
          "data": {
            "text/plain": [
              "'welcome to nit'"
            ]
          },
          "execution_count": 50,
          "metadata": {},
          "output_type": "execute_result"
        }
      ],
      "source": [
        "\"welcome to nit\""
      ]
    },
    {
      "cell_type": "code",
      "execution_count": null,
      "id": "d8dabff8-d142-41ea-b799-fc19cd4f7d17",
      "metadata": {
        "id": "d8dabff8-d142-41ea-b799-fc19cd4f7d17",
        "outputId": "332581c1-b13e-4136-8aff-6a7bedcea68b"
      },
      "outputs": [
        {
          "data": {
            "text/plain": [
              "'welcome to nit'"
            ]
          },
          "execution_count": 51,
          "metadata": {},
          "output_type": "execute_result"
        }
      ],
      "source": [
        "'''welcome to nit'''"
      ]
    },
    {
      "cell_type": "code",
      "execution_count": null,
      "id": "dc54e0b8-50a9-46dd-97f3-95edb88d0ea1",
      "metadata": {
        "id": "dc54e0b8-50a9-46dd-97f3-95edb88d0ea1"
      },
      "outputs": [],
      "source": [
        "# what is the diff betn single, double and triple quotes\n",
        "# Single Quotes & Double Quotes :- single line\n",
        "# Triple Quotes :- multi lines\n"
      ]
    },
    {
      "cell_type": "code",
      "execution_count": null,
      "id": "cf280c9c-4351-4d1a-a3d6-40f493e98218",
      "metadata": {
        "id": "cf280c9c-4351-4d1a-a3d6-40f493e98218",
        "outputId": "eb0831c2-9657-406a-c51d-5f600dcc4ea5"
      },
      "outputs": [
        {
          "data": {
            "text/plain": [
              "' welcome \\nto \\nnit '"
            ]
          },
          "execution_count": 52,
          "metadata": {},
          "output_type": "execute_result"
        }
      ],
      "source": [
        "''' welcome\n",
        "to\n",
        "nit '''"
      ]
    },
    {
      "cell_type": "markdown",
      "id": "1663eff7-dfe3-490b-9269-8f6a1b25da99",
      "metadata": {
        "id": "1663eff7-dfe3-490b-9269-8f6a1b25da99"
      },
      "source": [
        "# Python (Varible = object = identifier)"
      ]
    },
    {
      "cell_type": "code",
      "execution_count": null,
      "id": "7addd48d-a89f-4ad5-a804-e3d8cf91a972",
      "metadata": {
        "id": "7addd48d-a89f-4ad5-a804-e3d8cf91a972"
      },
      "outputs": [],
      "source": [
        "# python varible = object = identifirs\n",
        "# syntax :- rules of langauge or rules , protocal we have to follow the standard\n",
        "# varible name = value / datatype\n",
        "# eg :- var = 5 (var is called varible & 5 is value)\n"
      ]
    },
    {
      "cell_type": "code",
      "execution_count": null,
      "id": "a0d9fc53-35dc-4cd0-989c-96a04b31adb7",
      "metadata": {
        "id": "a0d9fc53-35dc-4cd0-989c-96a04b31adb7",
        "outputId": "162b19d9-b256-44da-86bb-6e67df28d605"
      },
      "outputs": [
        {
          "data": {
            "text/plain": [
              "5"
            ]
          },
          "execution_count": 55,
          "metadata": {},
          "output_type": "execute_result"
        }
      ],
      "source": [
        "v = 5\n",
        "v"
      ]
    },
    {
      "cell_type": "code",
      "execution_count": null,
      "id": "4c9bb991-d1dc-4659-a4e2-b2565ec4fc87",
      "metadata": {
        "id": "4c9bb991-d1dc-4659-a4e2-b2565ec4fc87",
        "outputId": "44996233-a774-4ebd-97f7-3625f9d10798"
      },
      "outputs": [
        {
          "data": {
            "text/plain": [
              "int"
            ]
          },
          "execution_count": 56,
          "metadata": {},
          "output_type": "execute_result"
        }
      ],
      "source": [
        "type(v)"
      ]
    },
    {
      "cell_type": "code",
      "execution_count": null,
      "id": "2ae43d8f-0ab1-40d0-8173-b22cf646b280",
      "metadata": {
        "id": "2ae43d8f-0ab1-40d0-8173-b22cf646b280"
      },
      "outputs": [],
      "source": [
        "# Rules to define Python Varible\n",
        "# 1 . Varible never start with number (eg :- 1v = 10 )\n",
        "# 2."
      ]
    },
    {
      "cell_type": "code",
      "execution_count": null,
      "id": "c5106062-257d-4e95-a76c-b0191fb6c3a9",
      "metadata": {
        "id": "c5106062-257d-4e95-a76c-b0191fb6c3a9",
        "outputId": "61b8613e-d018-4f18-ca05-da069cc79b6f"
      },
      "outputs": [
        {
          "data": {
            "text/plain": [
              "10"
            ]
          },
          "execution_count": 58,
          "metadata": {},
          "output_type": "execute_result"
        }
      ],
      "source": [
        "v1 = 10\n",
        "v1"
      ]
    },
    {
      "cell_type": "code",
      "execution_count": null,
      "id": "dffa94d4-e2e4-41e5-8878-80fb2abc554c",
      "metadata": {
        "id": "dffa94d4-e2e4-41e5-8878-80fb2abc554c",
        "outputId": "bd0d4a17-ed1c-4056-9fa8-8146ab122198"
      },
      "outputs": [
        {
          "data": {
            "text/plain": [
              "140704474737368"
            ]
          },
          "execution_count": 60,
          "metadata": {},
          "output_type": "execute_result"
        }
      ],
      "source": [
        "id(v1)  # id means address of the meomery location in varible"
      ]
    },
    {
      "cell_type": "code",
      "execution_count": null,
      "id": "ccd8d8e1-5793-49bb-90d7-c25ca1d81516",
      "metadata": {
        "id": "ccd8d8e1-5793-49bb-90d7-c25ca1d81516"
      },
      "outputs": [],
      "source": [
        "# open bracket close bracket is called function\n",
        "# Python function always ends with () - open bracket close bracket\n",
        "# in python varible is no open bracket & close bracket\n",
        "# but in python function has\n"
      ]
    },
    {
      "cell_type": "code",
      "execution_count": null,
      "id": "d1db48d5-099a-4135-8756-402a9e3aba8b",
      "metadata": {
        "id": "d1db48d5-099a-4135-8756-402a9e3aba8b"
      },
      "outputs": [],
      "source": []
    },
    {
      "cell_type": "code",
      "execution_count": null,
      "id": "638c6f22-7e62-4a45-a059-f3e5cee700e1",
      "metadata": {
        "id": "638c6f22-7e62-4a45-a059-f3e5cee700e1"
      },
      "outputs": [],
      "source": []
    },
    {
      "cell_type": "code",
      "execution_count": null,
      "id": "5a1f6c76-f3f2-4f0a-a114-8c779f511bdb",
      "metadata": {
        "id": "5a1f6c76-f3f2-4f0a-a114-8c779f511bdb"
      },
      "outputs": [],
      "source": []
    },
    {
      "cell_type": "markdown",
      "id": "a3c0e4ed-2c07-4245-b92b-d7d9f311b37c",
      "metadata": {
        "id": "a3c0e4ed-2c07-4245-b92b-d7d9f311b37c"
      },
      "source": [
        "# Python data type\n",
        "# int\n",
        "# float\n",
        "# string\n",
        "# complex\n",
        "# boolean"
      ]
    },
    {
      "cell_type": "code",
      "execution_count": null,
      "id": "ea6c2cbe-63c0-467f-9acd-74949dd95867",
      "metadata": {
        "id": "ea6c2cbe-63c0-467f-9acd-74949dd95867"
      },
      "outputs": [],
      "source": []
    },
    {
      "cell_type": "code",
      "execution_count": null,
      "id": "68db5465-7a9f-461d-8086-7722d64fa5ca",
      "metadata": {
        "id": "68db5465-7a9f-461d-8086-7722d64fa5ca"
      },
      "outputs": [],
      "source": []
    }
  ],
  "metadata": {
    "kernelspec": {
      "display_name": "Python 3 (ipykernel)",
      "language": "python",
      "name": "python3"
    },
    "language_info": {
      "codemirror_mode": {
        "name": "ipython",
        "version": 3
      },
      "file_extension": ".py",
      "mimetype": "text/x-python",
      "name": "python",
      "nbconvert_exporter": "python",
      "pygments_lexer": "ipython3",
      "version": "3.12.7"
    },
    "colab": {
      "provenance": []
    }
  },
  "nbformat": 4,
  "nbformat_minor": 5
}