{
  "nbformat": 4,
  "nbformat_minor": 0,
  "metadata": {
    "colab": {
      "provenance": [],
      "authorship_tag": "ABX9TyNi4S/RakoenjZFmGbBopsS",
      "include_colab_link": true
    },
    "kernelspec": {
      "name": "python3",
      "display_name": "Python 3"
    },
    "language_info": {
      "name": "python"
    }
  },
  "cells": [
    {
      "cell_type": "markdown",
      "metadata": {
        "id": "view-in-github",
        "colab_type": "text"
      },
      "source": [
        "<a href=\"https://colab.research.google.com/github/Tanmay1112004/6-MONTHS-FS-DS-AI-Roadmap-2025/blob/main/oops.ipynb\" target=\"_parent\"><img src=\"https://colab.research.google.com/assets/colab-badge.svg\" alt=\"Open In Colab\"/></a>"
      ]
    },
    {
      "cell_type": "markdown",
      "source": [
        "# 9th aug 2025"
      ],
      "metadata": {
        "id": "x9LUaHMrGd1d"
      }
    },
    {
      "cell_type": "code",
      "execution_count": null,
      "metadata": {
        "colab": {
          "base_uri": "https://localhost:8080/"
        },
        "id": "kKPwCVijDhHu",
        "outputId": "f782cfdc-4fa3-493a-f8fc-abe5a04d9859"
      },
      "outputs": [
        {
          "output_type": "stream",
          "name": "stdout",
          "text": [
            "<class 'int'>\n"
          ]
        }
      ],
      "source": [
        "a = 5\n",
        "print(type(a))  #inbuild class"
      ]
    },
    {
      "cell_type": "code",
      "source": [
        "l = [1,2,3]\n",
        "print(type(l))"
      ],
      "metadata": {
        "colab": {
          "base_uri": "https://localhost:8080/"
        },
        "id": "xOn8oHtuDjmv",
        "outputId": "aaa75905-30fb-41a0-f56d-6f67722fd90b"
      },
      "execution_count": null,
      "outputs": [
        {
          "output_type": "stream",
          "name": "stdout",
          "text": [
            "<class 'list'>\n"
          ]
        }
      ]
    },
    {
      "cell_type": "code",
      "source": [
        " class computer:         # computer is the class\n",
        "  def config():          # config is the method\n",
        "    print('i5', '8gb')\n",
        "\n",
        "com1 = computer()\n",
        "com1"
      ],
      "metadata": {
        "colab": {
          "base_uri": "https://localhost:8080/"
        },
        "id": "H-eEKa_qDjoh",
        "outputId": "e6d9808c-43fc-4f53-dc9b-9812ace320e6"
      },
      "execution_count": null,
      "outputs": [
        {
          "output_type": "execute_result",
          "data": {
            "text/plain": [
              "<__main__.computer at 0x78ff3292f350>"
            ]
          },
          "metadata": {},
          "execution_count": 9
        }
      ]
    },
    {
      "cell_type": "code",
      "source": [
        "def config():\n",
        "    print('i5', '8gb')\n",
        "config()"
      ],
      "metadata": {
        "colab": {
          "base_uri": "https://localhost:8080/"
        },
        "id": "T8vM44a1Djrg",
        "outputId": "726a0264-4285-4cd7-fe5d-54388ff2916a"
      },
      "execution_count": null,
      "outputs": [
        {
          "output_type": "stream",
          "name": "stdout",
          "text": [
            "i5 8gb\n"
          ]
        }
      ]
    },
    {
      "cell_type": "code",
      "source": [
        "class laptop():\n",
        "  def config():            # method\n",
        "    print('i8', 'hp', 8)\n",
        "    print('i12', 'dell', 16)\n",
        "\n",
        "lap1 = laptop()\n"
      ],
      "metadata": {
        "id": "aj97BtLuDjt6"
      },
      "execution_count": null,
      "outputs": []
    },
    {
      "cell_type": "code",
      "source": [
        " class laptop():\n",
        "  def config():            # method\n",
        "    print('i8', 'hp', 8)\n",
        "    print('i12', 'dell', 16)\n",
        "\n",
        "lap1 = laptop()\n",
        "laptop.config()"
      ],
      "metadata": {
        "colab": {
          "base_uri": "https://localhost:8080/"
        },
        "id": "HWIdq7cCDjw4",
        "outputId": "a817c22b-05a1-4be5-b627-81ad69dd5329"
      },
      "execution_count": null,
      "outputs": [
        {
          "output_type": "stream",
          "name": "stdout",
          "text": [
            "i8 hp 8\n",
            "i12 dell 16\n"
          ]
        }
      ]
    },
    {
      "cell_type": "code",
      "source": [
        "class laptop():\n",
        "  def config():            # method\n",
        "    print('i8', 'hp', 8)\n",
        "    print('i12', 'dell', 16)\n",
        "\n",
        "lap1 = laptop()\n",
        "lap1.config()"
      ],
      "metadata": {
        "colab": {
          "base_uri": "https://localhost:8080/",
          "height": 176
        },
        "id": "9PYG-imncdxU",
        "outputId": "a1c12639-16c4-4792-d407-65bb7b032711"
      },
      "execution_count": null,
      "outputs": [
        {
          "output_type": "error",
          "ename": "TypeError",
          "evalue": "laptop.config() takes 0 positional arguments but 1 was given",
          "traceback": [
            "\u001b[0;31m---------------------------------------------------------------------------\u001b[0m",
            "\u001b[0;31mTypeError\u001b[0m                                 Traceback (most recent call last)",
            "\u001b[0;32m/tmp/ipython-input-3794380966.py\u001b[0m in \u001b[0;36m<cell line: 0>\u001b[0;34m()\u001b[0m\n\u001b[1;32m      5\u001b[0m \u001b[0;34m\u001b[0m\u001b[0m\n\u001b[1;32m      6\u001b[0m \u001b[0mlap1\u001b[0m \u001b[0;34m=\u001b[0m \u001b[0mlaptop\u001b[0m\u001b[0;34m(\u001b[0m\u001b[0;34m)\u001b[0m\u001b[0;34m\u001b[0m\u001b[0;34m\u001b[0m\u001b[0m\n\u001b[0;32m----> 7\u001b[0;31m \u001b[0mlap1\u001b[0m\u001b[0;34m.\u001b[0m\u001b[0mconfig\u001b[0m\u001b[0;34m(\u001b[0m\u001b[0;34m)\u001b[0m\u001b[0;34m\u001b[0m\u001b[0;34m\u001b[0m\u001b[0m\n\u001b[0m",
            "\u001b[0;31mTypeError\u001b[0m: laptop.config() takes 0 positional arguments but 1 was given"
          ]
        }
      ]
    },
    {
      "cell_type": "code",
      "source": [
        "class laptop():\n",
        "  def config(self):            # method\n",
        "    print('i8', 'hp', 8)\n",
        "    print('i12', 'dell', 16)\n",
        "\n",
        "lap1 = laptop()\n",
        "lap1.config()"
      ],
      "metadata": {
        "colab": {
          "base_uri": "https://localhost:8080/"
        },
        "id": "yzXbdcWrDjz_",
        "outputId": "bb3dd985-4a01-4fb3-ff35-9a764f01e604"
      },
      "execution_count": null,
      "outputs": [
        {
          "output_type": "stream",
          "name": "stdout",
          "text": [
            "i8 hp 8\n",
            "i12 dell 16\n"
          ]
        }
      ]
    },
    {
      "cell_type": "code",
      "source": [
        " class laptop():\n",
        "  def config(self):            # method\n",
        "    print('i8', 'hp', 8)\n",
        "    print('i12', 'dell', 16)\n",
        "\n",
        "lap1 = laptop()\n",
        "lap2 = laptop()\n",
        "lap3 = laptop()\n",
        "\n",
        "lap1.config()\n",
        "lap2.config()\n",
        "lap3.config()"
      ],
      "metadata": {
        "colab": {
          "base_uri": "https://localhost:8080/"
        },
        "id": "jZxMNSK8Dj3V",
        "outputId": "db011c95-bd00-44b6-9fe5-cef1bd73e589"
      },
      "execution_count": null,
      "outputs": [
        {
          "output_type": "stream",
          "name": "stdout",
          "text": [
            "i8 hp 8\n",
            "i12 dell 16\n",
            "i8 hp 8\n",
            "i12 dell 16\n",
            "i8 hp 8\n",
            "i12 dell 16\n"
          ]
        }
      ]
    },
    {
      "cell_type": "code",
      "source": [
        " class computer:        # computer is class (user create the class hear(user defined class))\n",
        "  def config():         # config is method\n",
        "    print('i5', '8gb')\n",
        "\n",
        "a = 8.8\n",
        "print(type(a))\n",
        "\n",
        "com1 = computer()\n",
        "print(type(com1))"
      ],
      "metadata": {
        "colab": {
          "base_uri": "https://localhost:8080/"
        },
        "id": "RI6WREThDj66",
        "outputId": "9126a0c9-284c-404c-a36a-f33c8c681c51"
      },
      "execution_count": null,
      "outputs": [
        {
          "output_type": "stream",
          "name": "stdout",
          "text": [
            "<class 'float'>\n",
            "<class '__main__.computer'>\n"
          ]
        }
      ]
    },
    {
      "cell_type": "code",
      "source": [
        " class laptop():\n",
        "  def __init__(self):\n",
        "    print(\"i8\", \"hp\", 8)\n",
        "    print(\"i12\", \"dell\", 16)\n",
        "\n",
        "lap = laptop()"
      ],
      "metadata": {
        "colab": {
          "base_uri": "https://localhost:8080/"
        },
        "id": "HDkqfjKNDkBf",
        "outputId": "eca7b46a-04b2-4049-91a9-ea02c6b99b76"
      },
      "execution_count": null,
      "outputs": [
        {
          "output_type": "stream",
          "name": "stdout",
          "text": [
            "i8 hp 8\n",
            "i12 dell 16\n"
          ]
        }
      ]
    },
    {
      "cell_type": "code",
      "source": [
        "class laptop():\n",
        "  def __init__(self):\n",
        "    print(\"i8\", \"hp\", 8)\n",
        "    print(\"i12\", \"dell\", 16)\n",
        "\n",
        "lap = laptop()\n",
        "print()\n",
        "lap2 = laptop()\n",
        "print()\n",
        "lap3 = laptop()"
      ],
      "metadata": {
        "colab": {
          "base_uri": "https://localhost:8080/"
        },
        "id": "9DlN3ahIDkFE",
        "outputId": "7a3626f4-4afe-4c65-b384-149c62c38803"
      },
      "execution_count": null,
      "outputs": [
        {
          "output_type": "stream",
          "name": "stdout",
          "text": [
            "i8 hp 8\n",
            "i12 dell 16\n",
            "\n",
            "i8 hp 8\n",
            "i12 dell 16\n",
            "\n",
            "i8 hp 8\n",
            "i12 dell 16\n"
          ]
        }
      ]
    },
    {
      "cell_type": "code",
      "source": [
        "class laptop():\n",
        "  def __init__(self):\n",
        "    print(\"i8\", \"hp\", 8)\n",
        "    print(\"i12\", \"dell\", 16)\n",
        "\n",
        "lap = laptop()\n",
        "print()\n",
        "lap2 = laptop()\n",
        "print()\n",
        "lap3.__init__()"
      ],
      "metadata": {
        "colab": {
          "base_uri": "https://localhost:8080/"
        },
        "id": "K2C4rSqsg_dC",
        "outputId": "ea7fbf57-97ed-4526-d307-d85ad74f29c1"
      },
      "execution_count": null,
      "outputs": [
        {
          "output_type": "stream",
          "name": "stdout",
          "text": [
            "i8 hp 8\n",
            "i12 dell 16\n",
            "\n",
            "i8 hp 8\n",
            "i12 dell 16\n",
            "\n",
            "i8 hp 8\n",
            "i12 dell 16\n"
          ]
        }
      ]
    },
    {
      "cell_type": "code",
      "source": [
        " class computer:\n",
        "\n",
        "    def __init__(self):\n",
        "      print(\"in init\")\n",
        "\n",
        "com1 = computer()\n",
        "com2 = computer()\n",
        "com3 = computer()\n"
      ],
      "metadata": {
        "colab": {
          "base_uri": "https://localhost:8080/"
        },
        "id": "g_ojnIqSg_Z9",
        "outputId": "8f8005f3-ca4a-4457-cf07-798da41b0bce"
      },
      "execution_count": null,
      "outputs": [
        {
          "output_type": "stream",
          "name": "stdout",
          "text": [
            "in init\n",
            "in init\n",
            "in init\n"
          ]
        }
      ]
    },
    {
      "cell_type": "code",
      "source": [
        "class computer():\n",
        "\n",
        "  def __init__(self):\n",
        "    print(\"in init\")\n",
        "\n",
        "  def config(self):\n",
        "    print(\"i5\", \"8gb\")\n",
        "\n",
        "com1 = computer()\n",
        "#com2 = computer()\n",
        "\n",
        "com1.config()\n",
        "#com2.config()"
      ],
      "metadata": {
        "colab": {
          "base_uri": "https://localhost:8080/"
        },
        "id": "E6Pp77fHg_VC",
        "outputId": "1c2d24ab-7154-4063-a671-90fe555cbdcf"
      },
      "execution_count": null,
      "outputs": [
        {
          "output_type": "stream",
          "name": "stdout",
          "text": [
            "in init\n",
            "i5 8gb\n"
          ]
        }
      ]
    },
    {
      "cell_type": "code",
      "source": [
        "class computer():\n",
        "\n",
        "  def __init__(self):\n",
        "    print(\"in init\")\n",
        "\n",
        "  def config(self):\n",
        "    print(\"i5\", \"8gb\")\n",
        "\n",
        "com1 = computer()\n",
        "com2 = computer()\n",
        "\n",
        "com1.config()\n",
        "com2.config()"
      ],
      "metadata": {
        "colab": {
          "base_uri": "https://localhost:8080/"
        },
        "id": "ugqPmaJdg_R3",
        "outputId": "c58d3e31-af31-4f19-8983-e4100f0ebfcb"
      },
      "execution_count": null,
      "outputs": [
        {
          "output_type": "stream",
          "name": "stdout",
          "text": [
            "in init\n",
            "in init\n",
            "i5 8gb\n",
            "i5 8gb\n"
          ]
        }
      ]
    },
    {
      "cell_type": "code",
      "source": [
        "class computer():\n",
        "\n",
        "  def __init__(self):\n",
        "    print(\"in init\")\n",
        "\n",
        "  def config(self):\n",
        "    print(\"i5\", \"8gb\")\n",
        "\n",
        "com1 = computer('i5', 16)\n",
        "com2 = computer('i7', 16)\n",
        "\n",
        "com1.config()\n",
        "com2.config()"
      ],
      "metadata": {
        "colab": {
          "base_uri": "https://localhost:8080/",
          "height": 211
        },
        "id": "eH_Rmd6fjLk2",
        "outputId": "39f2916a-8963-4da3-8c6b-151e0d6ead62"
      },
      "execution_count": null,
      "outputs": [
        {
          "output_type": "error",
          "ename": "TypeError",
          "evalue": "computer.__init__() takes 1 positional argument but 3 were given",
          "traceback": [
            "\u001b[0;31m---------------------------------------------------------------------------\u001b[0m",
            "\u001b[0;31mTypeError\u001b[0m                                 Traceback (most recent call last)",
            "\u001b[0;32m/tmp/ipython-input-3352097018.py\u001b[0m in \u001b[0;36m<cell line: 0>\u001b[0;34m()\u001b[0m\n\u001b[1;32m      7\u001b[0m     \u001b[0mprint\u001b[0m\u001b[0;34m(\u001b[0m\u001b[0;34m\"i5\"\u001b[0m\u001b[0;34m,\u001b[0m \u001b[0;34m\"8gb\"\u001b[0m\u001b[0;34m)\u001b[0m\u001b[0;34m\u001b[0m\u001b[0;34m\u001b[0m\u001b[0m\n\u001b[1;32m      8\u001b[0m \u001b[0;34m\u001b[0m\u001b[0m\n\u001b[0;32m----> 9\u001b[0;31m \u001b[0mcom1\u001b[0m \u001b[0;34m=\u001b[0m \u001b[0mcomputer\u001b[0m\u001b[0;34m(\u001b[0m\u001b[0;34m'i5'\u001b[0m\u001b[0;34m,\u001b[0m \u001b[0;36m16\u001b[0m\u001b[0;34m)\u001b[0m\u001b[0;34m\u001b[0m\u001b[0;34m\u001b[0m\u001b[0m\n\u001b[0m\u001b[1;32m     10\u001b[0m \u001b[0mcom2\u001b[0m \u001b[0;34m=\u001b[0m \u001b[0mcomputer\u001b[0m\u001b[0;34m(\u001b[0m\u001b[0;34m'i7'\u001b[0m\u001b[0;34m,\u001b[0m \u001b[0;36m16\u001b[0m\u001b[0;34m)\u001b[0m\u001b[0;34m\u001b[0m\u001b[0;34m\u001b[0m\u001b[0m\n\u001b[1;32m     11\u001b[0m \u001b[0;34m\u001b[0m\u001b[0m\n",
            "\u001b[0;31mTypeError\u001b[0m: computer.__init__() takes 1 positional argument but 3 were given"
          ]
        }
      ]
    },
    {
      "cell_type": "code",
      "source": [
        "class computer():\n",
        "\n",
        "  def __init__(self,cpu,ram):\n",
        "    print(\"in init\")\n",
        "\n",
        "  def config(self):\n",
        "    print(\"i5\", \"8gb\")\n",
        "\n",
        "com1 = computer('i5', 16)\n",
        "com2 = computer('i7', 16)\n",
        "\n",
        "com1.config()\n",
        "com2.config()"
      ],
      "metadata": {
        "colab": {
          "base_uri": "https://localhost:8080/"
        },
        "id": "S7Os9rmIjLhr",
        "outputId": "1e03489a-cfc9-4251-c2a5-cbc244b4f8d4"
      },
      "execution_count": null,
      "outputs": [
        {
          "output_type": "stream",
          "name": "stdout",
          "text": [
            "in init\n",
            "in init\n",
            "i5 8gb\n",
            "i5 8gb\n"
          ]
        }
      ]
    },
    {
      "cell_type": "code",
      "source": [
        "class computer():\n",
        "\n",
        "  def __init__(self,cpu,ram):\n",
        "    print(\"in init\")\n",
        "\n",
        "  def config(self):\n",
        "    print(\"i5\", \"8gb\")\n",
        "    print('i7', '16gb')\n",
        "\n",
        "com1 = computer('i5', 16)\n",
        "com2 = computer('i7', 16)\n",
        "\n",
        "com1.config()\n",
        "com2.config()"
      ],
      "metadata": {
        "colab": {
          "base_uri": "https://localhost:8080/"
        },
        "id": "UccwcbKwjLeh",
        "outputId": "21b4210b-e9d3-423d-ca2f-2002ac5e8d5f"
      },
      "execution_count": null,
      "outputs": [
        {
          "output_type": "stream",
          "name": "stdout",
          "text": [
            "in init\n",
            "in init\n",
            "i5 8gb\n",
            "i7 16gb\n",
            "i5 8gb\n",
            "i7 16gb\n"
          ]
        }
      ]
    },
    {
      "cell_type": "code",
      "source": [
        "class computer():\n",
        "\n",
        "  def __init__(self,cpu,ram):\n",
        "    self.cpu = cpu\n",
        "    self.ram = ram\n",
        "\n",
        "\n",
        "  def config(self):\n",
        "    print(\"i5\", \"8gb\")\n",
        "    print('i7', '16gb')\n",
        "\n",
        "com1 = computer('i5', 16)\n",
        "com2 = computer('i7', 16)\n",
        "\n",
        "com1.config()\n",
        "com2.config()"
      ],
      "metadata": {
        "colab": {
          "base_uri": "https://localhost:8080/"
        },
        "id": "wy_FUtW5jLb5",
        "outputId": "73fdb3ba-ed86-4747-c5ed-d981cf39f28c"
      },
      "execution_count": null,
      "outputs": [
        {
          "output_type": "stream",
          "name": "stdout",
          "text": [
            "i5 8gb\n",
            "i7 16gb\n",
            "i5 8gb\n",
            "i7 16gb\n"
          ]
        }
      ]
    },
    {
      "cell_type": "markdown",
      "source": [
        "# Toady we are completed\n",
        "    - class\n",
        "    - object\n",
        "    - method\n",
        "    - method argument\n",
        "    - self"
      ],
      "metadata": {
        "id": "SCTrrfBKJPDJ"
      }
    },
    {
      "cell_type": "markdown",
      "source": [
        "# 10th aug 2025"
      ],
      "metadata": {
        "id": "ieAd2kPLGrh3"
      }
    },
    {
      "cell_type": "code",
      "source": [
        "class computer:  # computer class\n",
        "\n",
        "c1 = computer()  # c1 is object which referring to class\n",
        "print(id(c1))"
      ],
      "metadata": {
        "id": "eH_hgm_TpIPR",
        "colab": {
          "base_uri": "https://localhost:8080/",
          "height": 106
        },
        "outputId": "93f200a9-8e53-42fc-fb5f-0d6ff6d66a3f"
      },
      "execution_count": 1,
      "outputs": [
        {
          "output_type": "error",
          "ename": "IndentationError",
          "evalue": "expected an indented block after class definition on line 1 (ipython-input-1957240691.py, line 3)",
          "traceback": [
            "\u001b[0;36m  File \u001b[0;32m\"/tmp/ipython-input-1957240691.py\"\u001b[0;36m, line \u001b[0;32m3\u001b[0m\n\u001b[0;31m    c1 = computer()  # c1 is object which referring to class\u001b[0m\n\u001b[0m    ^\u001b[0m\n\u001b[0;31mIndentationError\u001b[0m\u001b[0;31m:\u001b[0m expected an indented block after class definition on line 1\n"
          ]
        }
      ]
    },
    {
      "cell_type": "code",
      "source": [
        "class computer:  # computer class\n",
        "       pass\n",
        "c1 = computer()  # c1 is object which referring to class\n",
        "print(id(c1))"
      ],
      "metadata": {
        "id": "m2Lwnf28pIMA",
        "colab": {
          "base_uri": "https://localhost:8080/"
        },
        "outputId": "10187600-e767-4739-90e3-8f19d39ce9a9"
      },
      "execution_count": 2,
      "outputs": [
        {
          "output_type": "stream",
          "name": "stdout",
          "text": [
            "136739202423584\n"
          ]
        }
      ]
    },
    {
      "cell_type": "code",
      "source": [
        "class computer:\n",
        "  pass\n",
        "\n",
        "c1 = computer()\n",
        "c2 = computer()\n",
        "\n",
        "print(id(c1))\n",
        "print(id(c2))"
      ],
      "metadata": {
        "id": "aS53j8UApIJE",
        "colab": {
          "base_uri": "https://localhost:8080/"
        },
        "outputId": "3116063d-5670-41b0-9083-8286825be719"
      },
      "execution_count": 3,
      "outputs": [
        {
          "output_type": "stream",
          "name": "stdout",
          "text": [
            "136739189144896\n",
            "136739189143888\n"
          ]
        }
      ]
    },
    {
      "cell_type": "code",
      "source": [
        "class computer:\n",
        "  def __init__(self):      # special method\n",
        "    self.name = 'tanmay'\n",
        "    self.age = 21\n",
        "\n",
        "c1 = computer()\n",
        "c2 = computer()\n",
        "\n",
        "print(c1.name, c1.age)\n",
        "print(c2.name)\n",
        ""
      ],
      "metadata": {
        "id": "Wj7SH_depIFv",
        "colab": {
          "base_uri": "https://localhost:8080/"
        },
        "outputId": "92fc3da3-4b84-4b2f-88cd-dca34d4ee73c"
      },
      "execution_count": 5,
      "outputs": [
        {
          "output_type": "stream",
          "name": "stdout",
          "text": [
            "tanmay 21\n",
            "tanmay\n"
          ]
        }
      ]
    },
    {
      "cell_type": "code",
      "source": [
        "class computer:\n",
        "  def __init__(self):      # special method\n",
        "    self.name = 'tanmay'\n",
        "    self.age = 21\n",
        "\n",
        "c1 = computer()\n",
        "c2 = computer()\n",
        "\n",
        "c2.name = 'mit'\n",
        "c1.name = 'rakesh'\n",
        "\n",
        "print(c1.name)\n",
        "print(c2.name)"
      ],
      "metadata": {
        "id": "B_6Zoqb8pH_v",
        "colab": {
          "base_uri": "https://localhost:8080/"
        },
        "outputId": "e9745b0b-2492-4a97-ff6d-e7dc3a0ace9a"
      },
      "execution_count": 9,
      "outputs": [
        {
          "output_type": "stream",
          "name": "stdout",
          "text": [
            "rakesh\n",
            "mit\n"
          ]
        }
      ]
    },
    {
      "cell_type": "code",
      "source": [
        "class computer:\n",
        "  def __init__(self):      # special method\n",
        "    self.name = 'tanmay'\n",
        "    self.age = 21\n",
        "\n",
        "c1 = computer()\n",
        "c2 = computer()\n",
        "\n",
        "c2.name = 'mit'\n",
        "c2.age = 21\n",
        "c1.name = 'rakesh'\n",
        "c1.age = 20\n",
        "\n",
        "print(c1.name, c1.age)\n",
        "print(c2.name, c2.age)"
      ],
      "metadata": {
        "colab": {
          "base_uri": "https://localhost:8080/"
        },
        "id": "zrF4LRacOY8G",
        "outputId": "cd56ac25-f872-471b-cb7e-236a7416347c"
      },
      "execution_count": 10,
      "outputs": [
        {
          "output_type": "stream",
          "name": "stdout",
          "text": [
            "rakesh 20\n",
            "mit 21\n"
          ]
        }
      ]
    },
    {
      "cell_type": "markdown",
      "source": [
        "# ENCAPSULATION\n",
        "\n",
        "tow cancept\n",
        "\n",
        "1. variables\n",
        "\n",
        "  1. instance variables\n",
        "  2. class variables == static variables\n",
        "\n",
        "\n",
        "2. methods\n",
        "\n",
        "  1. instance method\n",
        "  2. class method\n",
        "  3. static method"
      ],
      "metadata": {
        "id": "h8nW2MQdPKMr"
      }
    },
    {
      "cell_type": "code",
      "source": [],
      "metadata": {
        "id": "LK6WS4p8OY5Z"
      },
      "execution_count": null,
      "outputs": []
    },
    {
      "cell_type": "code",
      "source": [
        "class car:\n",
        "  def __init__(self):\n",
        "    self.mil =  10    # instance varible beacuse inside special method\n",
        "    self.com = 'BMW'  # instamce variable beacuse inside special method\n",
        "\n",
        "c1 = car()\n",
        "c2 = car()\n",
        "\n",
        "print(c1.com, c1.mil)\n",
        "print(c2.com, c2.mil)\n",
        "\n",
        "print(id(c1))\n",
        "print(id(c2))"
      ],
      "metadata": {
        "colab": {
          "base_uri": "https://localhost:8080/"
        },
        "id": "C8dHIMJZOY2l",
        "outputId": "c82ede25-00ba-4719-94c6-9177d175f52e"
      },
      "execution_count": 12,
      "outputs": [
        {
          "output_type": "stream",
          "name": "stdout",
          "text": [
            "BMW 10\n",
            "BMW 10\n",
            "136739059245536\n",
            "136739059250432\n"
          ]
        }
      ]
    },
    {
      "cell_type": "code",
      "source": [
        "class car:\n",
        "  def __init__(self):\n",
        "    self.mil =  10\n",
        "    self.com = 'BMW'\n",
        "\n",
        "c1 = car()\n",
        "c2 = car()\n",
        "\n",
        "c1.com = 'maruti'\n",
        "c1.mil = 20\n",
        "\n",
        "print(c1.com, c1.mil)\n",
        "print(c2.com, c2.mil)\n",
        "\n",
        "print(id(c1))\n",
        "print(id(c2))"
      ],
      "metadata": {
        "colab": {
          "base_uri": "https://localhost:8080/"
        },
        "id": "jUFZnEzlOYxI",
        "outputId": "a21998b4-3b30-44eb-c91a-0946947bfd1b"
      },
      "execution_count": 14,
      "outputs": [
        {
          "output_type": "stream",
          "name": "stdout",
          "text": [
            "maruti 20\n",
            "BMW 10\n",
            "136739063199936\n",
            "136739059250432\n"
          ]
        }
      ]
    },
    {
      "cell_type": "code",
      "source": [],
      "metadata": {
        "id": "NhCD2G2UOYt-"
      },
      "execution_count": null,
      "outputs": []
    },
    {
      "cell_type": "code",
      "source": [
        "class car:\n",
        "  wheels = 5    # this is class variable or static variable\n",
        "\n",
        "  def __init__(self):\n",
        "    self.mil =  10\n",
        "    self.com = 'BMW'\n",
        "\n",
        "c1 = car()\n",
        "c2 = car()\n",
        "\n",
        "c2.mil = 8\n",
        "\n",
        "print(c1.com, c1.mil, c1.wheels)\n",
        "print(c2.com, c2.mil, c2.wheels)"
      ],
      "metadata": {
        "colab": {
          "base_uri": "https://localhost:8080/"
        },
        "id": "2fO0NyLpOYqv",
        "outputId": "65c7f37e-7508-4156-b399-b00fc01227aa"
      },
      "execution_count": 16,
      "outputs": [
        {
          "output_type": "stream",
          "name": "stdout",
          "text": [
            "BMW 10 5\n",
            "BMW 8 5\n"
          ]
        }
      ]
    },
    {
      "cell_type": "code",
      "source": [
        "class car:\n",
        "  wheels = 6    # this is class variable or static variable\n",
        "\n",
        "  def __init__(self):\n",
        "    self.mil =  10\n",
        "    self.com = 'BMW'\n",
        "\n",
        "c1 = car()\n",
        "c2 = car()\n",
        "\n",
        "c2.mil = 8\n",
        "c2.wheels = 7\n",
        "\n",
        "print(c1.com, c1.mil, c1.wheels)\n",
        "print(c2.com, c2.mil, c2.wheels)"
      ],
      "metadata": {
        "colab": {
          "base_uri": "https://localhost:8080/"
        },
        "id": "dYnQl6IhSOJY",
        "outputId": "d0be92b6-c615-44f6-de5e-c835c0065a5a"
      },
      "execution_count": 17,
      "outputs": [
        {
          "output_type": "stream",
          "name": "stdout",
          "text": [
            "BMW 10 6\n",
            "BMW 8 7\n"
          ]
        }
      ]
    },
    {
      "cell_type": "markdown",
      "source": [
        "# method"
      ],
      "metadata": {
        "id": "I9hYMcn2U7_r"
      }
    },
    {
      "cell_type": "code",
      "source": [
        "class student:\n",
        "\n",
        "  school = 'mit'  # school is class variable\n",
        "\n",
        "  def __init__(self,m1,m2,m3): # hear i pass 2 variables (m1,m2,m3 are instance variables)\n",
        "    self.m1 = m1\n",
        "    self.m2 = m2\n",
        "    self.m3 = m3\n",
        "\n",
        "# lets create a method to calculate average of the marks\n",
        "  def avg(self): #-------------> hear this average is INSTANCE METHOD\n",
        "    return (self.m1 + self.m2 + self.m3)/3\n",
        "\n",
        "# Lets create object hear as we created s1, s2 we created object & also to pass value in this\n",
        "s1 = student(10,20,30)\n",
        "s2 = student(5,15,10)\n",
        "\n",
        "print(s1.avg())\n",
        "print(s2.avg())"
      ],
      "metadata": {
        "colab": {
          "base_uri": "https://localhost:8080/"
        },
        "id": "pXky4PQCSOGL",
        "outputId": "39e78966-f287-409d-efcd-0c8c0a4da0d0"
      },
      "execution_count": 18,
      "outputs": [
        {
          "output_type": "stream",
          "name": "stdout",
          "text": [
            "20.0\n",
            "10.0\n"
          ]
        }
      ]
    },
    {
      "cell_type": "code",
      "source": [
        "class student:\n",
        "\n",
        "  school = 'mit'  # school is class variable\n",
        "\n",
        "  def __init__(self,m1,m2,m3): # hear i pass 2 variables (m1,m2,m3 are instance variables)\n",
        "    self.m1 = m1\n",
        "    self.m2 = m2\n",
        "    self.m3 = m3\n",
        "\n",
        "# lets create a method to calculate average of the marks\n",
        "  def avg(self): #-------------> hear this average is INSTANCE METHOD\n",
        "    return (self.m1 + self.m2 + self.m3)/3\n",
        "\n",
        "# Lets create object hear as we created s1, s2 we created object & also to pass value in this\n",
        "s1 = student(10,20,30)\n",
        "s2 = student(5,15,10)\n",
        "\n",
        "print(s1.avg())\n",
        "print(s2.avg())\n",
        "\n",
        "# we also get the value like this & rather we can print like this we also define method\n",
        "print(s1.m1)"
      ],
      "metadata": {
        "colab": {
          "base_uri": "https://localhost:8080/"
        },
        "id": "1auobUHRSOBN",
        "outputId": "65c924e0-3152-4ae1-a3ea-8be7251ee480"
      },
      "execution_count": 19,
      "outputs": [
        {
          "output_type": "stream",
          "name": "stdout",
          "text": [
            "20.0\n",
            "10.0\n",
            "10\n"
          ]
        }
      ]
    },
    {
      "cell_type": "code",
      "source": [
        "class student:\n",
        "\n",
        "  school = 'mit'  # school is class variable\n",
        "\n",
        "  def __init__(self,m1,m2,m3): # hear i pass 2 variables (m1,m2,m3 are instance variables)\n",
        "    self.m1 = m1\n",
        "    self.m2 = m2\n",
        "    self.m3 = m3\n",
        "\n",
        "# lets create a method to calculate average of the marks\n",
        "  def avg(self): #-------------> hear this average is INSTANCE METHOD\n",
        "    return (self.m1 + self.m2 + self.m3)/3\n",
        "\n",
        "  def info(cls):       # user need to define cls - for class variable\n",
        "    return cls.school\n",
        "\n",
        "# Lets create object hear as we created s1, s2 we created object & also to pass value in this\n",
        "s1 = student(10,20,30)\n",
        "s2 = student(5,15,10)\n",
        "\n",
        "print(s1.avg())\n",
        "print(s2.avg())\n",
        "\n",
        "print(s1.info())\n",
        "print(s2.info())"
      ],
      "metadata": {
        "colab": {
          "base_uri": "https://localhost:8080/"
        },
        "id": "FWOX0NV6SN9M",
        "outputId": "512e4f06-9efc-4d02-da9e-0145101aa950"
      },
      "execution_count": 21,
      "outputs": [
        {
          "output_type": "stream",
          "name": "stdout",
          "text": [
            "20.0\n",
            "10.0\n",
            "mit\n",
            "mit\n"
          ]
        }
      ]
    },
    {
      "cell_type": "code",
      "source": [
        "class student:\n",
        "\n",
        "  school = 'mit'  # school is class variable\n",
        "\n",
        "  def __init__(self,m1,m2,m3): # hear i pass 2 variables (m1,m2,m3 are instance variables)\n",
        "    self.m1 = m1\n",
        "    self.m2 = m2\n",
        "    self.m3 = m3\n",
        "\n",
        "# lets create a method to calculate average of the marks\n",
        "  def avg(self): #-------------> hear this average is INSTANCE METHOD\n",
        "    return (self.m1 + self.m2 + self.m3)/3\n",
        "\n",
        "  def info(cls):       # user need to define cls - for class variable\n",
        "    return cls.school\n",
        "\n",
        "# Lets create object hear as we created s1, s2 we created object & also to pass value in this\n",
        "s1 = student(10,20,30)\n",
        "s2 = student(5,15,10)\n",
        "\n",
        "print(s1.avg())\n",
        "print(s2.avg())\n",
        "\n",
        "print(s1.info())\n",
        "print(s2.info())"
      ],
      "metadata": {
        "id": "iaKgQxgQSN6M"
      },
      "execution_count": null,
      "outputs": []
    },
    {
      "cell_type": "markdown",
      "source": [
        "# Inner class"
      ],
      "metadata": {
        "id": "sofmJ7hullV-"
      }
    },
    {
      "cell_type": "code",
      "source": [
        "class student:\n",
        "  def __init__(self,name,rollno):\n",
        "    self.name = name\n",
        "    self.rollno = rollno\n",
        "\n",
        "s1 = student('tanmay', 101)\n",
        "s2 = student('mit', 102)\n",
        "\n",
        "print(s1.name, s1.rollno)\n",
        "print(s2.name, s2.rollno)"
      ],
      "metadata": {
        "colab": {
          "base_uri": "https://localhost:8080/"
        },
        "id": "078BYjwpiF3g",
        "outputId": "973212e4-63d7-4024-b6d0-8b5c1a9163bf"
      },
      "execution_count": 22,
      "outputs": [
        {
          "output_type": "stream",
          "name": "stdout",
          "text": [
            "tanmay 101\n",
            "mit 102\n"
          ]
        }
      ]
    },
    {
      "cell_type": "code",
      "source": [],
      "metadata": {
        "id": "lLx-Dl4piF0U"
      },
      "execution_count": null,
      "outputs": []
    },
    {
      "cell_type": "code",
      "source": [],
      "metadata": {
        "id": "lflQuLmViFw5"
      },
      "execution_count": null,
      "outputs": []
    }
  ]
}