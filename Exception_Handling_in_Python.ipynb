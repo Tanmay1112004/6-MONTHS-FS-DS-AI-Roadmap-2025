{
  "nbformat": 4,
  "nbformat_minor": 0,
  "metadata": {
    "colab": {
      "provenance": [],
      "authorship_tag": "ABX9TyMVnfHxIjtSquOp34gRm2J8",
      "include_colab_link": true
    },
    "kernelspec": {
      "name": "python3",
      "display_name": "Python 3"
    },
    "language_info": {
      "name": "python"
    }
  },
  "cells": [
    {
      "cell_type": "markdown",
      "metadata": {
        "id": "view-in-github",
        "colab_type": "text"
      },
      "source": [
        "<a href=\"https://colab.research.google.com/github/Tanmay1112004/6-MONTHS-FS-DS-AI-Roadmap-2025/blob/main/Exception_Handling_in_Python.ipynb\" target=\"_parent\"><img src=\"https://colab.research.google.com/assets/colab-badge.svg\" alt=\"Open In Colab\"/></a>"
      ]
    },
    {
      "cell_type": "markdown",
      "source": [
        "## Exception Handling in Python"
      ],
      "metadata": {
        "id": "0LaizfUlfgvW"
      }
    },
    {
      "cell_type": "code",
      "source": [
        "a = 5\n",
        "b = 2\n",
        "print(a/b)\n",
        "print('bye')"
      ],
      "metadata": {
        "colab": {
          "base_uri": "https://localhost:8080/"
        },
        "id": "PaXUHjV3fe1d",
        "outputId": "c851bfab-16b3-4669-b398-2a9cc3d464b3"
      },
      "execution_count": 1,
      "outputs": [
        {
          "output_type": "stream",
          "name": "stdout",
          "text": [
            "2.5\n",
            "bye\n"
          ]
        }
      ]
    },
    {
      "cell_type": "code",
      "source": [
        "c = 5\n",
        "d = 0\n",
        "print(d/c)\n",
        "print('bye')"
      ],
      "metadata": {
        "colab": {
          "base_uri": "https://localhost:8080/"
        },
        "id": "iRsr9QeHfe44",
        "outputId": "e28e590e-32c6-4a34-be98-ce8c52200890"
      },
      "execution_count": 2,
      "outputs": [
        {
          "output_type": "stream",
          "name": "stdout",
          "text": [
            "0.0\n",
            "bye\n"
          ]
        }
      ]
    },
    {
      "cell_type": "code",
      "source": [
        "c = 5\n",
        "d = 0\n",
        "\n",
        "print('bye')\n",
        "print(c/d)"
      ],
      "metadata": {
        "colab": {
          "base_uri": "https://localhost:8080/",
          "height": 200
        },
        "id": "ccEYa9Akfe8Q",
        "outputId": "13182bb6-d854-4ecf-8b4c-78789a8f6d2d"
      },
      "execution_count": 3,
      "outputs": [
        {
          "output_type": "stream",
          "name": "stdout",
          "text": [
            "bye\n"
          ]
        },
        {
          "output_type": "error",
          "ename": "ZeroDivisionError",
          "evalue": "division by zero",
          "traceback": [
            "\u001b[0;31m---------------------------------------------------------------------------\u001b[0m",
            "\u001b[0;31mZeroDivisionError\u001b[0m                         Traceback (most recent call last)",
            "\u001b[0;32m/tmp/ipython-input-2492570049.py\u001b[0m in \u001b[0;36m<cell line: 0>\u001b[0;34m()\u001b[0m\n\u001b[1;32m      3\u001b[0m \u001b[0;34m\u001b[0m\u001b[0m\n\u001b[1;32m      4\u001b[0m \u001b[0mprint\u001b[0m\u001b[0;34m(\u001b[0m\u001b[0;34m'bye'\u001b[0m\u001b[0;34m)\u001b[0m\u001b[0;34m\u001b[0m\u001b[0;34m\u001b[0m\u001b[0m\n\u001b[0;32m----> 5\u001b[0;31m \u001b[0mprint\u001b[0m\u001b[0;34m(\u001b[0m\u001b[0mc\u001b[0m\u001b[0;34m/\u001b[0m\u001b[0md\u001b[0m\u001b[0;34m)\u001b[0m\u001b[0;34m\u001b[0m\u001b[0;34m\u001b[0m\u001b[0m\n\u001b[0m",
            "\u001b[0;31mZeroDivisionError\u001b[0m: division by zero"
          ]
        }
      ]
    },
    {
      "cell_type": "code",
      "source": [
        "c = 5\n",
        "d = 0\n",
        "\n",
        "print(c/d)\n",
        "print('bye')"
      ],
      "metadata": {
        "colab": {
          "base_uri": "https://localhost:8080/",
          "height": 200
        },
        "id": "NUdj2agEfe_j",
        "outputId": "74ba1efb-04ea-4acb-fe69-b9569656588e"
      },
      "execution_count": 4,
      "outputs": [
        {
          "output_type": "error",
          "ename": "ZeroDivisionError",
          "evalue": "division by zero",
          "traceback": [
            "\u001b[0;31m---------------------------------------------------------------------------\u001b[0m",
            "\u001b[0;31mZeroDivisionError\u001b[0m                         Traceback (most recent call last)",
            "\u001b[0;32m/tmp/ipython-input-3336702541.py\u001b[0m in \u001b[0;36m<cell line: 0>\u001b[0;34m()\u001b[0m\n\u001b[1;32m      2\u001b[0m \u001b[0md\u001b[0m \u001b[0;34m=\u001b[0m \u001b[0;36m0\u001b[0m\u001b[0;34m\u001b[0m\u001b[0;34m\u001b[0m\u001b[0m\n\u001b[1;32m      3\u001b[0m \u001b[0;34m\u001b[0m\u001b[0m\n\u001b[0;32m----> 4\u001b[0;31m \u001b[0mprint\u001b[0m\u001b[0;34m(\u001b[0m\u001b[0mc\u001b[0m\u001b[0;34m/\u001b[0m\u001b[0md\u001b[0m\u001b[0;34m)\u001b[0m\u001b[0;34m\u001b[0m\u001b[0;34m\u001b[0m\u001b[0m\n\u001b[0m\u001b[1;32m      5\u001b[0m \u001b[0mprint\u001b[0m\u001b[0;34m(\u001b[0m\u001b[0;34m'bye'\u001b[0m\u001b[0;34m)\u001b[0m\u001b[0;34m\u001b[0m\u001b[0;34m\u001b[0m\u001b[0m\n",
            "\u001b[0;31mZeroDivisionError\u001b[0m: division by zero"
          ]
        }
      ]
    },
    {
      "cell_type": "code",
      "source": [
        "c = 3\n",
        "d = 0\n",
        "\n",
        "try:\n",
        "  print(c/d)\n",
        "\n",
        "except Exception:\n",
        "    print(\"hey you canot didvide number by zero\")\n",
        "\n",
        "print('bye')"
      ],
      "metadata": {
        "colab": {
          "base_uri": "https://localhost:8080/"
        },
        "id": "vEWneLx3ffDU",
        "outputId": "e3559b02-05a4-4b81-d453-cfcce13a8bf8"
      },
      "execution_count": 6,
      "outputs": [
        {
          "output_type": "stream",
          "name": "stdout",
          "text": [
            "hey you canot didvide number by zero\n",
            "bye\n"
          ]
        }
      ]
    },
    {
      "cell_type": "code",
      "source": [
        "c = 3\n",
        "d = 0\n",
        "\n",
        "try:\n",
        "  print(c/d)\n",
        "\n",
        "except Exception as e:\n",
        "    print(\"hey you canot didvide number by zero\", e)\n",
        "\n",
        "print('bye')"
      ],
      "metadata": {
        "colab": {
          "base_uri": "https://localhost:8080/"
        },
        "id": "bbV_ldUXffGk",
        "outputId": "4a27996c-4078-4237-af9a-3cdba5a83121"
      },
      "execution_count": 8,
      "outputs": [
        {
          "output_type": "stream",
          "name": "stdout",
          "text": [
            "hey you canot didvide number by zero division by zero\n",
            "bye\n"
          ]
        }
      ]
    },
    {
      "cell_type": "code",
      "source": [
        "c = 3\n",
        "d = 0\n",
        "\n",
        "try:\n",
        "    print(d/c)\n",
        "\n",
        "except Exception:\n",
        "    print(\"hey you canot didvide number by zero\")\n",
        "\n",
        "print('bye')"
      ],
      "metadata": {
        "colab": {
          "base_uri": "https://localhost:8080/"
        },
        "id": "QpEMuug8ffKI",
        "outputId": "ed3c16f8-91a5-4493-f5cc-62d2a2378492"
      },
      "execution_count": 9,
      "outputs": [
        {
          "output_type": "stream",
          "name": "stdout",
          "text": [
            "0.0\n",
            "bye\n"
          ]
        }
      ]
    },
    {
      "cell_type": "code",
      "source": [
        "c = 3\n",
        "d = 3\n",
        "\n",
        "try:\n",
        "  print('resource open')\n",
        "  print(c/d)\n",
        "  print('resource closed')\n",
        "\n",
        "except Exception as e:\n",
        "    print(\"hey you canot didvide number by zero\", \":\", e)\n"
      ],
      "metadata": {
        "colab": {
          "base_uri": "https://localhost:8080/"
        },
        "id": "Plh7a6wKffN8",
        "outputId": "355309a4-cef1-4705-b429-d645d405a90a"
      },
      "execution_count": 10,
      "outputs": [
        {
          "output_type": "stream",
          "name": "stdout",
          "text": [
            "resource open\n",
            "1.0\n",
            "resource closed\n"
          ]
        }
      ]
    },
    {
      "cell_type": "code",
      "source": [
        "c = 3\n",
        "d = 0\n",
        "\n",
        "try:\n",
        "  print('resource open')\n",
        "  print(c/d)\n",
        "  print('resource closed')\n",
        "\n",
        "except Exception as e:\n",
        "    print(\"hey you canot didvide number by zero\", \":\", e)\n"
      ],
      "metadata": {
        "colab": {
          "base_uri": "https://localhost:8080/"
        },
        "id": "7mhNDuimffRV",
        "outputId": "d9e81bbb-c671-441a-b306-b1b6fe2bd768"
      },
      "execution_count": 11,
      "outputs": [
        {
          "output_type": "stream",
          "name": "stdout",
          "text": [
            "resource open\n",
            "hey you canot didvide number by zero : division by zero\n"
          ]
        }
      ]
    },
    {
      "cell_type": "code",
      "source": [
        "c = 3\n",
        "d = 3\n",
        "\n",
        "try:\n",
        "  print(\"resource open\")\n",
        "  print(c/d)\n",
        "\n",
        "except ZeroDivisionError as e:\n",
        "    print(\"hey you canot didvide number by zero\", \":\", e)\n",
        "\n",
        "except Exception as e:\n",
        "    print(\"hey you canot didvide number by zero\", \":\", e)\n",
        "    print(\"resource closed\")\n",
        "\n",
        "finally:\n",
        "    print('resource closed')"
      ],
      "metadata": {
        "colab": {
          "base_uri": "https://localhost:8080/"
        },
        "id": "Y6wWreZMffUO",
        "outputId": "5b701c41-15bb-41cd-881d-bff50305e46b"
      },
      "execution_count": 12,
      "outputs": [
        {
          "output_type": "stream",
          "name": "stdout",
          "text": [
            "resource open\n",
            "1.0\n",
            "resource closed\n"
          ]
        }
      ]
    },
    {
      "cell_type": "code",
      "source": [],
      "metadata": {
        "id": "wptLNWCGffmM"
      },
      "execution_count": null,
      "outputs": []
    }
  ]
}