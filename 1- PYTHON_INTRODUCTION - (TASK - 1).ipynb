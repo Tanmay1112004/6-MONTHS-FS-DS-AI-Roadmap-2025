{
 "cells": [
  {
   "cell_type": "markdown",
   "id": "94e80b00-b161-4c61-81a1-c4ef8f46ffa0",
   "metadata": {},
   "source": [
    "# 1- PYTHON INTRODUCTION - (TASK - 1)\n",
    "# --> python is very easy language\n",
    "# --> what is python? Ans - python is highly recommanded programming language & object oriented language\n",
    "# --> Father of python - Guido van Rosam\n",
    "# --> Python came from fun tv show called ''complete monty python's flying circus'' - broadcasted in BBC channel\n",
    "# --> Python borrowed all concept from c,c++,java,unix (so python is everything) thats why python very very powerfull tool\n",
    "# -->Python developed in NRI - (Netherland) & lot of people say that python is new language\n",
    "# --> Java released on 1995. python was released on 1989 officialy released on (feb 20th 1991)\n",
    "# --> It has a large and comprehensive standard library."
   ]
  },
  {
   "cell_type": "code",
   "execution_count": 1,
   "id": "21e48548-726d-4292-8081-873570638f5a",
   "metadata": {},
   "outputs": [
    {
     "data": {
      "text/plain": [
       "str"
      ]
     },
     "execution_count": 1,
     "metadata": {},
     "output_type": "execute_result"
    }
   ],
   "source": [
    "b = '5'\n",
    "type(b)"
   ]
  },
  {
   "cell_type": "code",
   "execution_count": 2,
   "id": "9252035f-bb91-4868-b9f2-e1fc628f823f",
   "metadata": {},
   "outputs": [
    {
     "data": {
      "text/plain": [
       "6"
      ]
     },
     "execution_count": 2,
     "metadata": {},
     "output_type": "execute_result"
    }
   ],
   "source": [
    "a = 6\n",
    "a"
   ]
  },
  {
   "cell_type": "code",
   "execution_count": 3,
   "id": "8312d7c6-2e0f-4d3f-a9de-7ee50f7800ce",
   "metadata": {},
   "outputs": [
    {
     "data": {
      "text/plain": [
       "7"
      ]
     },
     "execution_count": 3,
     "metadata": {},
     "output_type": "execute_result"
    }
   ],
   "source": [
    "a1 = 7\n",
    "a1"
   ]
  },
  {
   "cell_type": "code",
   "execution_count": 4,
   "id": "af651456-871a-4a42-9a0b-532e91a99ada",
   "metadata": {},
   "outputs": [
    {
     "data": {
      "text/plain": [
       "6"
      ]
     },
     "execution_count": 4,
     "metadata": {},
     "output_type": "execute_result"
    }
   ],
   "source": [
    "a"
   ]
  },
  {
   "cell_type": "code",
   "execution_count": 5,
   "id": "f817614d-657c-47db-bc21-71aeb94f89a2",
   "metadata": {},
   "outputs": [
    {
     "data": {
      "text/plain": [
       "7"
      ]
     },
     "execution_count": 5,
     "metadata": {},
     "output_type": "execute_result"
    }
   ],
   "source": [
    "a1"
   ]
  },
  {
   "cell_type": "code",
   "execution_count": 6,
   "id": "954a3705-58a3-4372-b71c-fd32ce578033",
   "metadata": {},
   "outputs": [
    {
     "data": {
      "text/plain": [
       "'5'"
      ]
     },
     "execution_count": 6,
     "metadata": {},
     "output_type": "execute_result"
    }
   ],
   "source": [
    "b"
   ]
  },
  {
   "cell_type": "code",
   "execution_count": 7,
   "id": "9efc41e8-35e7-4d13-974c-3ecfca9e00c7",
   "metadata": {},
   "outputs": [
    {
     "data": {
      "text/plain": [
       "6"
      ]
     },
     "execution_count": 7,
     "metadata": {},
     "output_type": "execute_result"
    }
   ],
   "source": [
    "a"
   ]
  },
  {
   "cell_type": "markdown",
   "id": "0c3cfff9-4564-491d-8e58-cc6f7c64ea6d",
   "metadata": {},
   "source": [
    "# --> Now python is very popular based on software industry requirment because everybody wants to write very less code/concile code\n",
    "# --> Current market trend is - Machine learing, Artificial intelligence, data science & Iot(Internet of things)\n",
    "# --> which companies are used python - google,nasa,uber,netfliz,reddit,facebook/meta, everywhere python used everywhere\n",
    "# --> python code can understand everybody & python is dynamic programming language\n",
    "# --> In python everything done by PVM (python virtual machine)\n",
    "# --> you can access python in any platform independent- windows, linux, mac one code can run in all the 4 platform & no need to write separate programe for every platform. Once you write code you can run in platform\n",
    "# --> Python is dynamically programming language (not required to declared data types)\n",
    "# --> Python is freeware and open source. Moving from one platform to other platform without changeing any code\n",
    "# --> Python contains rich libray - numpy,pandas so python is the best application for datascience\n",
    "# --> which scenario python can't be used - ( python can not perform in mobile application like android )\n",
    "# --> Flavours of python - cpython(C programming),jpython(java programming),Iron python(c#.net),Ruby python(Ruby based application programme),Anaconda python(Bigdata,datascience)\n",
    "# --> Python 1.0 introduce in jan 1994 -- Noorganization is working now\n",
    "# --> Python 2.0 introduce in oct 2000 -- Noorganization is working now\n",
    "# -->Python 3.0 introduce in Dec 2008, 2016, 2017,---- latest version - 3.6, 3.6, 3.7, 3.8, 3.9, 3.10"
   ]
  },
  {
   "cell_type": "code",
   "execution_count": 9,
   "id": "55b076cd-f123-4123-a5d4-6a6d651b91ec",
   "metadata": {},
   "outputs": [
    {
     "data": {
      "text/plain": [
       "str"
      ]
     },
     "execution_count": 9,
     "metadata": {},
     "output_type": "execute_result"
    }
   ],
   "source": [
    "a = '5'\n",
    "type(a)"
   ]
  },
  {
   "cell_type": "code",
   "execution_count": 10,
   "id": "106eaa5a-11e5-468e-8811-7f5e251f8032",
   "metadata": {},
   "outputs": [
    {
     "data": {
      "text/plain": [
       "'3.12.7 | packaged by Anaconda, Inc. | (main, Oct  4 2024, 13:17:27) [MSC v.1929 64 bit (AMD64)]'"
      ]
     },
     "execution_count": 10,
     "metadata": {},
     "output_type": "execute_result"
    }
   ],
   "source": [
    "import sys\n",
    "sys.version"
   ]
  },
  {
   "cell_type": "markdown",
   "id": "208586a1-42ec-478e-b6c7-265559558e78",
   "metadata": {},
   "source": [
    "# 2- Getting started with Python Language\n",
    "# Python 3.x\n",
    "# Version Release Date --->\n",
    "# 3.13 2022-25-08 3.10 2021-10-04 3.9 2020-10-05 3.8 2020-04-29 3.7 2018-06-27 3.6 2016-12-23 3.5 2015-09-13 3.4 2014-03-17 3.3 2012-09-29 3.2 2011-02-20 3.1 2009-06-26 3.0 2008-12-03\n",
    "\n",
    "# Python 2.x\n",
    "# Version Release Date\n",
    "# 2.7 2010-07-03 2.6 2008-10-02 2.5 2006-09-19 2.4 2004-11-30 2.3 2003-07-29 2.2 2001-12-21 2.1 2001-04-15 2.0 2000-10-16"
   ]
  },
  {
   "cell_type": "code",
   "execution_count": 11,
   "id": "dee23cd7-c141-4c7a-b035-6ac058709ef9",
   "metadata": {},
   "outputs": [
    {
     "data": {
      "text/plain": [
       "int"
      ]
     },
     "execution_count": 11,
     "metadata": {},
     "output_type": "execute_result"
    }
   ],
   "source": [
    "a = 5\n",
    "a\n",
    "type(a)"
   ]
  },
  {
   "cell_type": "code",
   "execution_count": 12,
   "id": "eea9a80f-3b51-43d8-977e-868dcbc8d597",
   "metadata": {},
   "outputs": [
    {
     "ename": "SyntaxError",
     "evalue": "cannot assign to literal here. Maybe you meant '==' instead of '='? (1218098064.py, line 1)",
     "output_type": "error",
     "traceback": [
      "\u001b[1;36m  Cell \u001b[1;32mIn[12], line 1\u001b[1;36m\u001b[0m\n\u001b[1;33m    6 = b\u001b[0m\n\u001b[1;37m    ^\u001b[0m\n\u001b[1;31mSyntaxError\u001b[0m\u001b[1;31m:\u001b[0m cannot assign to literal here. Maybe you meant '==' instead of '='?\n"
     ]
    }
   ],
   "source": [
    "6 = b"
   ]
  },
  {
   "cell_type": "markdown",
   "id": "cc270bd3-d77d-48ae-83ae-fff7f6ccd3ac",
   "metadata": {},
   "source": [
    "# Two major versions of Python are currently in active use:\n",
    "# Python 3.x is the current version and is under active development.\n",
    "# Python 2.x is the legacy version and will receive only security updates until 2020. No new features will be implemented.Note that many projects still use Python 2, although migrating to Python 3 is getting easier.\n",
    "# If you want to learn python only then better you can use software called - python.org (below is url) https://www.python.org/downloads/\n",
    "# For data science the best application for datascience models using python is called ANACONDA\n"
   ]
  },
  {
   "cell_type": "code",
   "execution_count": 14,
   "id": "8fef238c-729b-4927-b34e-5353cb3a04f1",
   "metadata": {},
   "outputs": [
    {
     "data": {
      "text/plain": [
       "'3.12.7 | packaged by Anaconda, Inc. | (main, Oct  4 2024, 13:17:27) [MSC v.1929 64 bit (AMD64)]'"
      ]
     },
     "execution_count": 14,
     "metadata": {},
     "output_type": "execute_result"
    }
   ],
   "source": [
    "## Verify if Python is installed\n",
    "import sys\n",
    "sys.version "
   ]
  },
  {
   "cell_type": "markdown",
   "id": "3234fc09-c498-4612-a79e-d68471ee80cd",
   "metadata": {},
   "source": [
    "# 3-Creating variables and assigning values\n",
    "# To create a variable in Python, all you need to do is specify the variable name, and then assign a value to it.\n",
    "\n",
    "# = Python uses = to assign values to variables There's no need to declare a variable in advance (or to assign a data type to it) Assigning a value to a variable itself declares and initializes the variable with that value. There's no way to declare a variable without assigning it an initial value."
   ]
  },
  {
   "cell_type": "code",
   "execution_count": 15,
   "id": "560c345c-3e00-4508-b535-13813d21213c",
   "metadata": {},
   "outputs": [
    {
     "data": {
      "text/plain": [
       "int"
      ]
     },
     "execution_count": 15,
     "metadata": {},
     "output_type": "execute_result"
    }
   ],
   "source": [
    "# Integer\n",
    "a = 2\n",
    "type(a)\n",
    "#a"
   ]
  },
  {
   "cell_type": "code",
   "execution_count": 17,
   "id": "aeafe9d8-a769-46b7-bc74-8dba958537ca",
   "metadata": {},
   "outputs": [
    {
     "name": "stdout",
     "output_type": "stream",
     "text": [
      "9322663386\n"
     ]
    }
   ],
   "source": [
    "# Integer \n",
    "b = 9322663386\n",
    "print(b)"
   ]
  },
  {
   "cell_type": "code",
   "execution_count": 18,
   "id": "23d5169d-8e55-49c6-bcb4-bf6db0d981ab",
   "metadata": {},
   "outputs": [
    {
     "name": "stdout",
     "output_type": "stream",
     "text": [
      "3.14\n"
     ]
    }
   ],
   "source": [
    "# Floating point\n",
    "pi = 3.14\n",
    "print(pi)"
   ]
  },
  {
   "cell_type": "code",
   "execution_count": 19,
   "id": "1dc77991-4804-40fb-87c2-90ac0a55dcd7",
   "metadata": {},
   "outputs": [
    {
     "data": {
      "text/plain": [
       "float"
      ]
     },
     "execution_count": 19,
     "metadata": {},
     "output_type": "execute_result"
    }
   ],
   "source": [
    "type(pi)"
   ]
  },
  {
   "cell_type": "code",
   "execution_count": 20,
   "id": "9098f420-a76a-4998-97a1-1173b6117fb7",
   "metadata": {},
   "outputs": [
    {
     "name": "stdout",
     "output_type": "stream",
     "text": [
      "A\n"
     ]
    }
   ],
   "source": [
    "# String\n",
    "c = 'A'\n",
    "print(c)"
   ]
  },
  {
   "cell_type": "code",
   "execution_count": 21,
   "id": "ff5bf9f5-5c11-4087-8f48-197296800ed7",
   "metadata": {},
   "outputs": [
    {
     "data": {
      "text/plain": [
       "str"
      ]
     },
     "execution_count": 21,
     "metadata": {},
     "output_type": "execute_result"
    }
   ],
   "source": [
    "type(c)"
   ]
  },
  {
   "cell_type": "code",
   "execution_count": 23,
   "id": "9763023a-b6e4-41df-82b9-a0510217d4c2",
   "metadata": {},
   "outputs": [
    {
     "name": "stdout",
     "output_type": "stream",
     "text": [
      "Tanmay Kshirsagar\n"
     ]
    },
    {
     "data": {
      "text/plain": [
       "str"
      ]
     },
     "execution_count": 23,
     "metadata": {},
     "output_type": "execute_result"
    }
   ],
   "source": [
    "# String \n",
    "name = 'Tanmay Kshirsagar'\n",
    "print(name)\n",
    "type(name)"
   ]
  },
  {
   "cell_type": "code",
   "execution_count": 24,
   "id": "c679d8be-8940-4bca-91aa-7a02033bedbe",
   "metadata": {},
   "outputs": [
    {
     "name": "stdout",
     "output_type": "stream",
     "text": [
      "True\n"
     ]
    }
   ],
   "source": [
    "# Boolean \n",
    "q = True\n",
    "print(q)"
   ]
  },
  {
   "cell_type": "code",
   "execution_count": 25,
   "id": "ae4e27cc-15f2-4c08-8c8b-3a65d882be75",
   "metadata": {},
   "outputs": [
    {
     "name": "stdout",
     "output_type": "stream",
     "text": [
      "None\n"
     ]
    }
   ],
   "source": [
    "# Empty value or null data type\n",
    "x = None\n",
    "print(x)"
   ]
  },
  {
   "cell_type": "code",
   "execution_count": 26,
   "id": "a983c514-ee4b-4fc0-a7f8-e75758f26b7d",
   "metadata": {},
   "outputs": [
    {
     "ename": "SyntaxError",
     "evalue": "cannot assign to literal here. Maybe you meant '==' instead of '='? (2124959903.py, line 2)",
     "output_type": "error",
     "traceback": [
      "\u001b[1;36m  Cell \u001b[1;32mIn[26], line 2\u001b[1;36m\u001b[0m\n\u001b[1;33m    5 = x\u001b[0m\n\u001b[1;37m    ^\u001b[0m\n\u001b[1;31mSyntaxError\u001b[0m\u001b[1;31m:\u001b[0m cannot assign to literal here. Maybe you meant '==' instead of '='?\n"
     ]
    }
   ],
   "source": [
    "#Variable assignment works from left to right. So the following will give you an syntax error.\n",
    "5 = x"
   ]
  },
  {
   "cell_type": "code",
   "execution_count": 27,
   "id": "e6b93f93-810f-4f0a-828b-50b077af1782",
   "metadata": {},
   "outputs": [
    {
     "data": {
      "text/plain": [
       "5"
      ]
     },
     "execution_count": 27,
     "metadata": {},
     "output_type": "execute_result"
    }
   ],
   "source": [
    "x = 5\n",
    "x"
   ]
  },
  {
   "cell_type": "code",
   "execution_count": 28,
   "id": "835c422c-796a-4b49-94ad-9244152fb9e7",
   "metadata": {},
   "outputs": [],
   "source": [
    "# 7th page continue onwards"
   ]
  },
  {
   "cell_type": "markdown",
   "id": "72159ccb-5876-4f2f-a656-37c10548d66a",
   "metadata": {},
   "source": [
    "# 4-PYTHON ( IDENTIFIER / VARIBALE / OBJECT ) --\n",
    "# There is a person whose name - Multiple names are to identify person.so finally the Name which can be used for identification purpose.\n",
    "# Name in the python programme is called IDENTIFIER (x = 10) (X - identifier)\n",
    "\n",
    "# Nameing ceremoney we have some rules to naming a child . e.g - Gods name,Ancestor Name,have to do some R & D. you cannot keep the child name as - Cat or dog right.. so parent have to follow some rule and keep their child naming ceremony.\n",
    "# *Rules to define Python Identifier & we will check those rules ==\n",
    "\n",
    "# <1 Alphabet (uppercae & lowercase) <2> Digits (0-9) # should not stat with digit <3> underscore(_)"
   ]
  },
  {
   "cell_type": "code",
   "execution_count": 29,
   "id": "bf43f883-a090-4875-b7cf-182a5ec0d0c4",
   "metadata": {},
   "outputs": [
    {
     "ename": "NameError",
     "evalue": "name 'AB' is not defined",
     "output_type": "error",
     "traceback": [
      "\u001b[1;31m---------------------------------------------------------------------------\u001b[0m",
      "\u001b[1;31mNameError\u001b[0m                                 Traceback (most recent call last)",
      "Cell \u001b[1;32mIn[29], line 2\u001b[0m\n\u001b[0;32m      1\u001b[0m ABC \u001b[38;5;241m=\u001b[39m \u001b[38;5;241m50\u001b[39m\n\u001b[1;32m----> 2\u001b[0m AB\n",
      "\u001b[1;31mNameError\u001b[0m: name 'AB' is not defined"
     ]
    }
   ],
   "source": [
    "ABC = 50\n",
    "AB"
   ]
  },
  {
   "cell_type": "code",
   "execution_count": 30,
   "id": "b8c050b2-31ba-477b-9382-2eedad95aca6",
   "metadata": {},
   "outputs": [
    {
     "ename": "NameError",
     "evalue": "name 'nit' is not defined",
     "output_type": "error",
     "traceback": [
      "\u001b[1;31m---------------------------------------------------------------------------\u001b[0m",
      "\u001b[1;31mNameError\u001b[0m                                 Traceback (most recent call last)",
      "Cell \u001b[1;32mIn[30], line 2\u001b[0m\n\u001b[0;32m      1\u001b[0m NIT \u001b[38;5;241m=\u001b[39m \u001b[38;5;241m15000\u001b[39m\n\u001b[1;32m----> 2\u001b[0m nit\n",
      "\u001b[1;31mNameError\u001b[0m: name 'nit' is not defined"
     ]
    }
   ],
   "source": [
    "NIT = 15000\n",
    "nit"
   ]
  },
  {
   "cell_type": "code",
   "execution_count": 31,
   "id": "c21e8daf-ffa3-4682-89f4-9d2c78aa5119",
   "metadata": {},
   "outputs": [
    {
     "data": {
      "text/plain": [
       "10"
      ]
     },
     "execution_count": 31,
     "metadata": {},
     "output_type": "execute_result"
    }
   ],
   "source": [
    "cash123 = 10\n",
    "cash123"
   ]
  },
  {
   "cell_type": "code",
   "execution_count": 32,
   "id": "6a44523f-4023-4ff2-9035-1007e3848a66",
   "metadata": {},
   "outputs": [
    {
     "ename": "SyntaxError",
     "evalue": "invalid decimal literal (2567225020.py, line 1)",
     "output_type": "error",
     "traceback": [
      "\u001b[1;36m  Cell \u001b[1;32mIn[32], line 1\u001b[1;36m\u001b[0m\n\u001b[1;33m    123cash = 10\u001b[0m\n\u001b[1;37m      ^\u001b[0m\n\u001b[1;31mSyntaxError\u001b[0m\u001b[1;31m:\u001b[0m invalid decimal literal\n"
     ]
    }
   ],
   "source": [
    "123cash = 10\n",
    "123cash"
   ]
  },
  {
   "cell_type": "code",
   "execution_count": 34,
   "id": "e3d93e93-540f-426d-98bd-fd2aa563fa19",
   "metadata": {},
   "outputs": [
    {
     "data": {
      "text/plain": [
       "10"
      ]
     },
     "execution_count": 34,
     "metadata": {},
     "output_type": "execute_result"
    }
   ],
   "source": [
    "#x = 10 # x is the variable & 10 is the alue\n",
    "cash = 10 # Identifier ruls alphabet\n",
    "#ca$h = 10 # $ - symbole is not allowed in python identifier but in java is allowed\n",
    "#ca$h\n",
    "cash\n"
   ]
  },
  {
   "cell_type": "code",
   "execution_count": 35,
   "id": "247c2a41-ef2d-42a8-b884-0e5b50fc0c2b",
   "metadata": {},
   "outputs": [
    {
     "ename": "SyntaxError",
     "evalue": "invalid syntax (1112431759.py, line 1)",
     "output_type": "error",
     "traceback": [
      "\u001b[1;36m  Cell \u001b[1;32mIn[35], line 1\u001b[1;36m\u001b[0m\n\u001b[1;33m    ca$h = 20\u001b[0m\n\u001b[1;37m      ^\u001b[0m\n\u001b[1;31mSyntaxError\u001b[0m\u001b[1;31m:\u001b[0m invalid syntax\n"
     ]
    }
   ],
   "source": [
    "ca$h = 20\n",
    "ca$h"
   ]
  },
  {
   "cell_type": "code",
   "execution_count": 36,
   "id": "965025f4-c9ad-4f46-a652-5609e33f7704",
   "metadata": {},
   "outputs": [
    {
     "ename": "SyntaxError",
     "evalue": "cannot assign to expression here. Maybe you meant '==' instead of '='? (3805698226.py, line 1)",
     "output_type": "error",
     "traceback": [
      "\u001b[1;36m  Cell \u001b[1;32mIn[36], line 1\u001b[1;36m\u001b[0m\n\u001b[1;33m    ca*h = 20\u001b[0m\n\u001b[1;37m    ^\u001b[0m\n\u001b[1;31mSyntaxError\u001b[0m\u001b[1;31m:\u001b[0m cannot assign to expression here. Maybe you meant '==' instead of '='?\n"
     ]
    }
   ],
   "source": [
    "ca*h = 20\n",
    "ca*h"
   ]
  },
  {
   "cell_type": "code",
   "execution_count": 38,
   "id": "3bce541f-d207-4186-91f0-ead1b916478d",
   "metadata": {},
   "outputs": [
    {
     "data": {
      "text/plain": [
       "20"
      ]
     },
     "execution_count": 38,
     "metadata": {},
     "output_type": "execute_result"
    }
   ],
   "source": [
    "CASH = 20\n",
    "#Cash\n",
    "CASH"
   ]
  },
  {
   "cell_type": "code",
   "execution_count": 39,
   "id": "8016a557-c796-405a-8580-3e8a4dae6a4a",
   "metadata": {},
   "outputs": [
    {
     "data": {
      "text/plain": [
       "30"
      ]
     },
     "execution_count": 39,
     "metadata": {},
     "output_type": "execute_result"
    }
   ],
   "source": [
    "CASH1 = 30\n",
    "#cash1\n",
    "CASH1"
   ]
  },
  {
   "cell_type": "code",
   "execution_count": 40,
   "id": "f0e70ec0-7842-40d8-bd29-1f326600ffd0",
   "metadata": {},
   "outputs": [
    {
     "ename": "SyntaxError",
     "evalue": "invalid decimal literal (216375565.py, line 3)",
     "output_type": "error",
     "traceback": [
      "\u001b[1;36m  Cell \u001b[1;32mIn[40], line 3\u001b[1;36m\u001b[0m\n\u001b[1;33m    123total = 30\u001b[0m\n\u001b[1;37m      ^\u001b[0m\n\u001b[1;31mSyntaxError\u001b[0m\u001b[1;31m:\u001b[0m invalid decimal literal\n"
     ]
    }
   ],
   "source": [
    "# <2> Identifiers should not starts with dight ====\n",
    "#sum123 = 20 # Digit rules identifier\n",
    "123total = 30\n",
    "123total\n",
    "#sum123"
   ]
  },
  {
   "cell_type": "code",
   "execution_count": 41,
   "id": "5f4d2ba3-ea69-4669-9b61-1049033cc328",
   "metadata": {},
   "outputs": [
    {
     "data": {
      "text/plain": [
       "20"
      ]
     },
     "execution_count": 41,
     "metadata": {},
     "output_type": "execute_result"
    }
   ],
   "source": [
    "# <3> Identifiers are case sensitive\n",
    "#total = 10 # Python are case sensitive\n",
    "Abcde = 20\n",
    "#total\n",
    "Abcde"
   ]
  },
  {
   "cell_type": "code",
   "execution_count": 42,
   "id": "3502a65c-36ab-4d53-8f3c-fc6ecb582815",
   "metadata": {},
   "outputs": [
    {
     "ename": "NameError",
     "evalue": "name 'NEW' is not defined",
     "output_type": "error",
     "traceback": [
      "\u001b[1;31m---------------------------------------------------------------------------\u001b[0m",
      "\u001b[1;31mNameError\u001b[0m                                 Traceback (most recent call last)",
      "Cell \u001b[1;32mIn[42], line 2\u001b[0m\n\u001b[0;32m      1\u001b[0m new \u001b[38;5;241m=\u001b[39m \u001b[38;5;241m30\u001b[39m\n\u001b[1;32m----> 2\u001b[0m NEW\n",
      "\u001b[1;31mNameError\u001b[0m: name 'NEW' is not defined"
     ]
    }
   ],
   "source": [
    "new = 30\n",
    "NEW "
   ]
  },
  {
   "cell_type": "code",
   "execution_count": 43,
   "id": "6c190e2c-6be9-42c5-9d18-c1e97e4c9e07",
   "metadata": {},
   "outputs": [
    {
     "ename": "NameError",
     "evalue": "name 'TOTAL' is not defined",
     "output_type": "error",
     "traceback": [
      "\u001b[1;31m---------------------------------------------------------------------------\u001b[0m",
      "\u001b[1;31mNameError\u001b[0m                                 Traceback (most recent call last)",
      "Cell \u001b[1;32mIn[43], line 2\u001b[0m\n\u001b[0;32m      1\u001b[0m Total5 \u001b[38;5;241m=\u001b[39m \u001b[38;5;241m30\u001b[39m\n\u001b[1;32m----> 2\u001b[0m TOTAL\n",
      "\u001b[1;31mNameError\u001b[0m: name 'TOTAL' is not defined"
     ]
    }
   ],
   "source": [
    "Total5 = 30\n",
    "TOTAL"
   ]
  },
  {
   "cell_type": "code",
   "execution_count": 44,
   "id": "4f577c67-d9bf-46f6-a56f-1b9b2f7cb8e7",
   "metadata": {},
   "outputs": [
    {
     "ename": "SyntaxError",
     "evalue": "invalid syntax (1737738290.py, line 1)",
     "output_type": "error",
     "traceback": [
      "\u001b[1;36m  Cell \u001b[1;32mIn[44], line 1\u001b[1;36m\u001b[0m\n\u001b[1;33m    def = 4.6\u001b[0m\n\u001b[1;37m        ^\u001b[0m\n\u001b[1;31mSyntaxError\u001b[0m\u001b[1;31m:\u001b[0m invalid syntax\n"
     ]
    }
   ],
   "source": [
    "def = 4.6\n",
    "def"
   ]
  },
  {
   "cell_type": "code",
   "execution_count": 45,
   "id": "e72f8312-f5b6-42b6-8846-194311f8c8d4",
   "metadata": {},
   "outputs": [
    {
     "data": {
      "text/plain": [
       "4"
      ]
     },
     "execution_count": 45,
     "metadata": {},
     "output_type": "execute_result"
    }
   ],
   "source": [
    "DEF = 4\n",
    "DEF"
   ]
  },
  {
   "cell_type": "code",
   "execution_count": 46,
   "id": "e274ccaf-b34c-4051-8d56-97905d2c11fc",
   "metadata": {},
   "outputs": [
    {
     "ename": "SyntaxError",
     "evalue": "invalid syntax (1979711427.py, line 1)",
     "output_type": "error",
     "traceback": [
      "\u001b[1;36m  Cell \u001b[1;32mIn[46], line 1\u001b[1;36m\u001b[0m\n\u001b[1;33m    if = 780\u001b[0m\n\u001b[1;37m       ^\u001b[0m\n\u001b[1;31mSyntaxError\u001b[0m\u001b[1;31m:\u001b[0m invalid syntax\n"
     ]
    }
   ],
   "source": [
    "if = 780\n",
    "if"
   ]
  },
  {
   "cell_type": "code",
   "execution_count": 47,
   "id": "56a304c7-2e16-48d8-ab34-65fe71d288f3",
   "metadata": {},
   "outputs": [
    {
     "data": {
      "text/plain": [
       "5.6"
      ]
     },
     "execution_count": 47,
     "metadata": {},
     "output_type": "execute_result"
    }
   ],
   "source": [
    "DEF = 5.6\n",
    "DEF\n",
    "#def is key work"
   ]
  },
  {
   "cell_type": "code",
   "execution_count": 48,
   "id": "f5c4b526-077e-4889-8487-95df0b4c06f2",
   "metadata": {},
   "outputs": [
    {
     "ename": "SyntaxError",
     "evalue": "invalid syntax (1075677671.py, line 1)",
     "output_type": "error",
     "traceback": [
      "\u001b[1;36m  Cell \u001b[1;32mIn[48], line 1\u001b[1;36m\u001b[0m\n\u001b[1;33m    def = 7\u001b[0m\n\u001b[1;37m        ^\u001b[0m\n\u001b[1;31mSyntaxError\u001b[0m\u001b[1;31m:\u001b[0m invalid syntax\n"
     ]
    }
   ],
   "source": [
    "def = 7\n",
    "def"
   ]
  },
  {
   "cell_type": "code",
   "execution_count": 49,
   "id": "dad7005f-9ee3-4bd2-b6e0-a15648ad563c",
   "metadata": {},
   "outputs": [
    {
     "ename": "SyntaxError",
     "evalue": "invalid syntax (277425378.py, line 4)",
     "output_type": "error",
     "traceback": [
      "\u001b[1;36m  Cell \u001b[1;32mIn[49], line 4\u001b[1;36m\u001b[0m\n\u001b[1;33m    for = 50\u001b[0m\n\u001b[1;37m        ^\u001b[0m\n\u001b[1;31mSyntaxError\u001b[0m\u001b[1;31m:\u001b[0m invalid syntax\n"
     ]
    }
   ],
   "source": [
    "# <4> Keywords can not be assigned as identifier\n",
    "#if = 10   # if is keyword\n",
    "#DEF = 20  # def is keyword\n",
    "for = 50\n",
    "#DEF\n",
    "#if\n",
    "for"
   ]
  },
  {
   "cell_type": "code",
   "execution_count": 50,
   "id": "e479dc47-c484-4887-b163-64f4d6d6c7cd",
   "metadata": {},
   "outputs": [
    {
     "data": {
      "text/plain": [
       "58"
      ]
     },
     "execution_count": 50,
     "metadata": {},
     "output_type": "execute_result"
    }
   ],
   "source": [
    "FOR = 58\n",
    "FOR"
   ]
  },
  {
   "cell_type": "code",
   "execution_count": 51,
   "id": "e9609d69-c575-4305-8eab-5480ac84a2a9",
   "metadata": {},
   "outputs": [
    {
     "ename": "SyntaxError",
     "evalue": "invalid syntax (2010559268.py, line 1)",
     "output_type": "error",
     "traceback": [
      "\u001b[1;36m  Cell \u001b[1;32mIn[51], line 1\u001b[1;36m\u001b[0m\n\u001b[1;33m    def = 30\u001b[0m\n\u001b[1;37m        ^\u001b[0m\n\u001b[1;31mSyntaxError\u001b[0m\u001b[1;31m:\u001b[0m invalid syntax\n"
     ]
    }
   ],
   "source": [
    "def = 30\n",
    "def"
   ]
  },
  {
   "cell_type": "code",
   "execution_count": 52,
   "id": "87c3ddf1-3cb0-469a-bf68-dc3b8eb121f8",
   "metadata": {},
   "outputs": [
    {
     "ename": "SyntaxError",
     "evalue": "invalid syntax (328627015.py, line 1)",
     "output_type": "error",
     "traceback": [
      "\u001b[1;36m  Cell \u001b[1;32mIn[52], line 1\u001b[1;36m\u001b[0m\n\u001b[1;33m    if = 30\u001b[0m\n\u001b[1;37m       ^\u001b[0m\n\u001b[1;31mSyntaxError\u001b[0m\u001b[1;31m:\u001b[0m invalid syntax\n"
     ]
    }
   ],
   "source": [
    "if = 30\n",
    "if"
   ]
  },
  {
   "cell_type": "code",
   "execution_count": 53,
   "id": "f67d7e28-b711-454a-ad1b-6e26c093fdc9",
   "metadata": {},
   "outputs": [
    {
     "data": {
      "text/plain": [
       "56"
      ]
     },
     "execution_count": 53,
     "metadata": {},
     "output_type": "execute_result"
    }
   ],
   "source": [
    "IFFFFFFFFFFFFFFFFFFFFFFFFFFFFFFFFFFFFFFFFFFFFFFFFFFFFFdfgsdfgsfgsdfgsdfgfdgsfg = 56\n",
    "#IFFFFFFFFFFFFFFFFFFFFFFFFFFFFFFFFFFFFFFFFFFFFFFFFFFFFF\n",
    "IFFFFFFFFFFFFFFFFFFFFFFFFFFFFFFFFFFFFFFFFFFFFFFFFFFFFFdfgsdfgsfgsdfgsdfgfdgsfg"
   ]
  },
  {
   "cell_type": "code",
   "execution_count": 54,
   "id": "de7d5deb-e43b-427c-890f-7fa0f2f3e2a5",
   "metadata": {},
   "outputs": [
    {
     "data": {
      "text/plain": [
       "10"
      ]
     },
     "execution_count": 54,
     "metadata": {},
     "output_type": "execute_result"
    }
   ],
   "source": [
    "# 5> NO length limit in python Identifier\n",
    "wwwwwwwwwwwwwwwwwwwwwwwwwwwwwwwwwwwwwwwwwwwwwwwwwwwwwwwwwwwwwwwwwwwwwwwwwwwwwwxxxxxxxx = 10\n",
    "wwwwwwwwwwwwwwwwwwwwwwwwwwwwwwwwwwwwwwwwwwwwwwwwwwwwwwwwwwwwwwwwwwwwwwwwwwwwwwxxxxxxxx"
   ]
  },
  {
   "cell_type": "code",
   "execution_count": 55,
   "id": "66cd4ecf-d325-406c-873c-ec0386a4c821",
   "metadata": {},
   "outputs": [
    {
     "data": {
      "text/plain": [
       "20"
      ]
     },
     "execution_count": 55,
     "metadata": {},
     "output_type": "execute_result"
    }
   ],
   "source": [
    "_abc_def_gef  = 20\n",
    "_abc_def_gef"
   ]
  },
  {
   "cell_type": "code",
   "execution_count": 56,
   "id": "85699acd-0cd8-4236-8898-d3cfc5a31fc7",
   "metadata": {},
   "outputs": [],
   "source": [
    "# Q & A for valid / Invalid identifier - 1>123AMX 2>Amx123 3>ml2ai 4>_abc_def_gef 5>def 6>else 7>ELSE\n",
    "\n",
    "# ----- RULES OF PYTHON IDENTIFIER ------ 1> A to Z, a to z, 0 - 9 2> Doesnot starts with digit 3> Case sensitive 4> Reserved words or keywords cannot be a identifier 5> Identifier cannot have a lenght limit 6> _ only allowed 7> NO special character is allowed\n",
    "\n",
    "# ========================= WE LEARNT ABOUT PYTHON IDENTIFIER IN DETAILS ============================"
   ]
  },
  {
   "cell_type": "markdown",
   "id": "a711d72a-2055-434d-8116-04f25ef16d33",
   "metadata": {},
   "source": [
    "# PYTHON RESERVED WORDS -\n",
    "# if a kid going to school what he/she will learn A,B,C - - - -Z then she will learn A - APPLE, B -BALL, C - CAT. (APPLE,BALL,CAT - Reserved word in english)\n",
    "# Apple is reserved for the fruit, Ball ==> play, Cat ==> Animal // (Dictionary uncountable reserved words is there).. This type of words are called Reserved word\n",
    "# In any programming language there is a reserved word are there we gonna learn only python Reserved\n",
    "\n",
    "# python reserved are => (35 RESERVED WORDS) If you learn 35 reserved words then python is complete\n",
    "\n",
    "# all reserved words have some meaning & functionality\n",
    "# Learning python is nothing but learing all this functionality"
   ]
  },
  {
   "cell_type": "markdown",
   "id": "1550c1e1-2ddd-47ce-8a48-c2bd28522d74",
   "metadata": {},
   "source": [
    "# **35 RESERVED WORDS---\n",
    "\n",
    "# --> True, False, None ==> Represent Boolean data types\n",
    "# --> and, or, not, is ==> Represent the operators\n",
    "# --> if, else, elif ==> Represent the statement (# python switch,do..while statament is not available)\n",
    "# --> while, for, break, continue, return, in, yield ==> Represent the loop concept\n",
    "# --> try, except, finally, raise, assert ==> Represent for functionallity\n",
    "# --> import,from,as,class,def,pass,global,nonlocal,lambda,del,with==>Represent the class,method,function\n",
    "# -->*NOTES -- 35 RESERVED WORDS ARE (ALPHABET) // *EXCEPT (True,False,None)"
   ]
  },
  {
   "cell_type": "code",
   "execution_count": 57,
   "id": "3111c167-55ae-4ad4-9375-c99336ad8146",
   "metadata": {},
   "outputs": [
    {
     "data": {
      "text/plain": [
       "True"
      ]
     },
     "execution_count": 57,
     "metadata": {},
     "output_type": "execute_result"
    }
   ],
   "source": [
    "#a = True # hash is used for comment\n",
    "a = True\n",
    "a"
   ]
  },
  {
   "cell_type": "code",
   "execution_count": 58,
   "id": "cebaa49c-aaee-4141-a929-85de19aa12a1",
   "metadata": {},
   "outputs": [
    {
     "ename": "NameError",
     "evalue": "name 'true' is not defined",
     "output_type": "error",
     "traceback": [
      "\u001b[1;31m---------------------------------------------------------------------------\u001b[0m",
      "\u001b[1;31mNameError\u001b[0m                                 Traceback (most recent call last)",
      "Cell \u001b[1;32mIn[58], line 1\u001b[0m\n\u001b[1;32m----> 1\u001b[0m a1 \u001b[38;5;241m=\u001b[39m true\n\u001b[0;32m      2\u001b[0m a1\n",
      "\u001b[1;31mNameError\u001b[0m: name 'true' is not defined"
     ]
    }
   ],
   "source": [
    "a1 = true\n",
    "a1"
   ]
  },
  {
   "cell_type": "code",
   "execution_count": 59,
   "id": "9504fbc7-745f-44d3-9daa-7acc73d21678",
   "metadata": {},
   "outputs": [
    {
     "ename": "SyntaxError",
     "evalue": "cannot assign to True (1144090750.py, line 1)",
     "output_type": "error",
     "traceback": [
      "\u001b[1;36m  Cell \u001b[1;32mIn[59], line 1\u001b[1;36m\u001b[0m\n\u001b[1;33m    True = a\u001b[0m\n\u001b[1;37m    ^\u001b[0m\n\u001b[1;31mSyntaxError\u001b[0m\u001b[1;31m:\u001b[0m cannot assign to True\n"
     ]
    }
   ],
   "source": [
    "True = a "
   ]
  },
  {
   "cell_type": "code",
   "execution_count": 61,
   "id": "7413f622-1c16-417a-b74d-6f578e55b099",
   "metadata": {},
   "outputs": [],
   "source": [
    "b = None\n",
    "#b = none\n",
    "b"
   ]
  },
  {
   "cell_type": "code",
   "execution_count": 62,
   "id": "24b60b73-e235-496f-bca2-77afa7d90906",
   "metadata": {},
   "outputs": [
    {
     "data": {
      "text/plain": [
       "False"
      ]
     },
     "execution_count": 62,
     "metadata": {},
     "output_type": "execute_result"
    }
   ],
   "source": [
    "c = False\n",
    "#c = false\n",
    "c"
   ]
  },
  {
   "cell_type": "code",
   "execution_count": 63,
   "id": "524f8ad5-656d-4b12-95b7-7772e151bbe6",
   "metadata": {},
   "outputs": [
    {
     "data": {
      "text/plain": [
       "['False',\n",
       " 'None',\n",
       " 'True',\n",
       " 'and',\n",
       " 'as',\n",
       " 'assert',\n",
       " 'async',\n",
       " 'await',\n",
       " 'break',\n",
       " 'class',\n",
       " 'continue',\n",
       " 'def',\n",
       " 'del',\n",
       " 'elif',\n",
       " 'else',\n",
       " 'except',\n",
       " 'finally',\n",
       " 'for',\n",
       " 'from',\n",
       " 'global',\n",
       " 'if',\n",
       " 'import',\n",
       " 'in',\n",
       " 'is',\n",
       " 'lambda',\n",
       " 'nonlocal',\n",
       " 'not',\n",
       " 'or',\n",
       " 'pass',\n",
       " 'raise',\n",
       " 'return',\n",
       " 'try',\n",
       " 'while',\n",
       " 'with',\n",
       " 'yield']"
      ]
     },
     "execution_count": 63,
     "metadata": {},
     "output_type": "execute_result"
    }
   ],
   "source": [
    "# How to remembr all keywords --- (Interview questions)\n",
    "# KEYWORD is the module run from IMPORT class\n",
    "import keyword\n",
    "keyword.kwlist"
   ]
  },
  {
   "cell_type": "code",
   "execution_count": 66,
   "id": "81049acf-736e-40cf-a056-91514e053266",
   "metadata": {},
   "outputs": [
    {
     "data": {
      "text/html": [
       "<div>\n",
       "<style scoped>\n",
       "    .dataframe tbody tr th:only-of-type {\n",
       "        vertical-align: middle;\n",
       "    }\n",
       "\n",
       "    .dataframe tbody tr th {\n",
       "        vertical-align: top;\n",
       "    }\n",
       "\n",
       "    .dataframe thead th {\n",
       "        text-align: right;\n",
       "    }\n",
       "</style>\n",
       "<table border=\"1\" class=\"dataframe\">\n",
       "  <thead>\n",
       "    <tr style=\"text-align: right;\">\n",
       "      <th></th>\n",
       "      <th>0</th>\n",
       "    </tr>\n",
       "  </thead>\n",
       "  <tbody>\n",
       "    <tr>\n",
       "      <th>0</th>\n",
       "      <td>False</td>\n",
       "    </tr>\n",
       "    <tr>\n",
       "      <th>1</th>\n",
       "      <td>None</td>\n",
       "    </tr>\n",
       "    <tr>\n",
       "      <th>2</th>\n",
       "      <td>True</td>\n",
       "    </tr>\n",
       "    <tr>\n",
       "      <th>3</th>\n",
       "      <td>and</td>\n",
       "    </tr>\n",
       "    <tr>\n",
       "      <th>4</th>\n",
       "      <td>as</td>\n",
       "    </tr>\n",
       "    <tr>\n",
       "      <th>5</th>\n",
       "      <td>assert</td>\n",
       "    </tr>\n",
       "    <tr>\n",
       "      <th>6</th>\n",
       "      <td>async</td>\n",
       "    </tr>\n",
       "    <tr>\n",
       "      <th>7</th>\n",
       "      <td>await</td>\n",
       "    </tr>\n",
       "    <tr>\n",
       "      <th>8</th>\n",
       "      <td>break</td>\n",
       "    </tr>\n",
       "    <tr>\n",
       "      <th>9</th>\n",
       "      <td>class</td>\n",
       "    </tr>\n",
       "    <tr>\n",
       "      <th>10</th>\n",
       "      <td>continue</td>\n",
       "    </tr>\n",
       "    <tr>\n",
       "      <th>11</th>\n",
       "      <td>def</td>\n",
       "    </tr>\n",
       "    <tr>\n",
       "      <th>12</th>\n",
       "      <td>del</td>\n",
       "    </tr>\n",
       "    <tr>\n",
       "      <th>13</th>\n",
       "      <td>elif</td>\n",
       "    </tr>\n",
       "    <tr>\n",
       "      <th>14</th>\n",
       "      <td>else</td>\n",
       "    </tr>\n",
       "    <tr>\n",
       "      <th>15</th>\n",
       "      <td>except</td>\n",
       "    </tr>\n",
       "    <tr>\n",
       "      <th>16</th>\n",
       "      <td>finally</td>\n",
       "    </tr>\n",
       "    <tr>\n",
       "      <th>17</th>\n",
       "      <td>for</td>\n",
       "    </tr>\n",
       "    <tr>\n",
       "      <th>18</th>\n",
       "      <td>from</td>\n",
       "    </tr>\n",
       "    <tr>\n",
       "      <th>19</th>\n",
       "      <td>global</td>\n",
       "    </tr>\n",
       "    <tr>\n",
       "      <th>20</th>\n",
       "      <td>if</td>\n",
       "    </tr>\n",
       "    <tr>\n",
       "      <th>21</th>\n",
       "      <td>import</td>\n",
       "    </tr>\n",
       "    <tr>\n",
       "      <th>22</th>\n",
       "      <td>in</td>\n",
       "    </tr>\n",
       "    <tr>\n",
       "      <th>23</th>\n",
       "      <td>is</td>\n",
       "    </tr>\n",
       "    <tr>\n",
       "      <th>24</th>\n",
       "      <td>lambda</td>\n",
       "    </tr>\n",
       "    <tr>\n",
       "      <th>25</th>\n",
       "      <td>nonlocal</td>\n",
       "    </tr>\n",
       "    <tr>\n",
       "      <th>26</th>\n",
       "      <td>not</td>\n",
       "    </tr>\n",
       "    <tr>\n",
       "      <th>27</th>\n",
       "      <td>or</td>\n",
       "    </tr>\n",
       "    <tr>\n",
       "      <th>28</th>\n",
       "      <td>pass</td>\n",
       "    </tr>\n",
       "    <tr>\n",
       "      <th>29</th>\n",
       "      <td>raise</td>\n",
       "    </tr>\n",
       "    <tr>\n",
       "      <th>30</th>\n",
       "      <td>return</td>\n",
       "    </tr>\n",
       "    <tr>\n",
       "      <th>31</th>\n",
       "      <td>try</td>\n",
       "    </tr>\n",
       "    <tr>\n",
       "      <th>32</th>\n",
       "      <td>while</td>\n",
       "    </tr>\n",
       "    <tr>\n",
       "      <th>33</th>\n",
       "      <td>with</td>\n",
       "    </tr>\n",
       "    <tr>\n",
       "      <th>34</th>\n",
       "      <td>yield</td>\n",
       "    </tr>\n",
       "  </tbody>\n",
       "</table>\n",
       "</div>"
      ],
      "text/plain": [
       "           0\n",
       "0      False\n",
       "1       None\n",
       "2       True\n",
       "3        and\n",
       "4         as\n",
       "5     assert\n",
       "6      async\n",
       "7      await\n",
       "8      break\n",
       "9      class\n",
       "10  continue\n",
       "11       def\n",
       "12       del\n",
       "13      elif\n",
       "14      else\n",
       "15    except\n",
       "16   finally\n",
       "17       for\n",
       "18      from\n",
       "19    global\n",
       "20        if\n",
       "21    import\n",
       "22        in\n",
       "23        is\n",
       "24    lambda\n",
       "25  nonlocal\n",
       "26       not\n",
       "27        or\n",
       "28      pass\n",
       "29     raise\n",
       "30    return\n",
       "31       try\n",
       "32     while\n",
       "33      with\n",
       "34     yield"
      ]
     },
     "execution_count": 66,
     "metadata": {},
     "output_type": "execute_result"
    }
   ],
   "source": [
    "# write a coding to create index of these keywords --- IMP ---\n",
    "\n",
    "import pandas as pd # pandas is the module to create a dataframe\n",
    "df = pd.DataFrame(keyword.kwlist)\n",
    "df\n",
    "\n",
    "# Always remember python Index begins with '0'\n",
    "\n",
    "# ================= RESERVED WORDS COMPLETED ==============================="
   ]
  },
  {
   "cell_type": "markdown",
   "id": "095c7b5e-fe17-432a-9095-0324883ef5db",
   "metadata": {},
   "source": [
    "# PYTHON DATA TYPES // (14) - INBUILD DATA TYPES -\n",
    "# 1>int 2>float 3>complex 4>bool 5>str 6>bytes 7>bytearray DATA STRUCTURE ---> 8>range 9>list 10>tuple 11>set 12>frozenset 13>dict 14>None\n",
    "\n",
    "# python provides some inbuild function like -- <1> print() <2> type() <3> id()\n",
    "\n",
    "# int,float,complex,boolen is not represent object # Tricky question\n",
    "\n",
    "# except these 4 everythig object # Tricky question\n",
    "# NOTE - [**In python all 14 data types are object only]Thats why we called as python is object oriented program"
   ]
  },
  {
   "cell_type": "code",
   "execution_count": 67,
   "id": "f340c39d-6cdd-444a-9e4d-1fa3abb4afbf",
   "metadata": {},
   "outputs": [
    {
     "data": {
      "text/plain": [
       "'hello world'"
      ]
     },
     "execution_count": 67,
     "metadata": {},
     "output_type": "execute_result"
    }
   ],
   "source": [
    "\"hello world\""
   ]
  },
  {
   "cell_type": "code",
   "execution_count": 68,
   "id": "5245019f-c84c-42fc-b80f-1fa7db6e6338",
   "metadata": {},
   "outputs": [
    {
     "data": {
      "text/plain": [
       "140704624749272"
      ]
     },
     "execution_count": 68,
     "metadata": {},
     "output_type": "execute_result"
    }
   ],
   "source": [
    "# What is other inbuild datatype available except 14 datatypes-\n",
    "\n",
    "a = 10\n",
    "#print(a)       # To find the variable \n",
    "#print(a)         # To find the value of variable\n",
    "#type(a) # To find the data type\n",
    "id(a)            # To find an address of an object\n",
    "#type(a)"
   ]
  },
  {
   "cell_type": "code",
   "execution_count": 69,
   "id": "bd42f20d-da34-4e8a-917e-f195e45e62ef",
   "metadata": {},
   "outputs": [
    {
     "data": {
      "text/plain": [
       "140704624749272"
      ]
     },
     "execution_count": 69,
     "metadata": {},
     "output_type": "execute_result"
    }
   ],
   "source": [
    "b = 10\n",
    "id(b) "
   ]
  },
  {
   "cell_type": "code",
   "execution_count": 70,
   "id": "35642563-43ce-4835-98ab-95bf9ae8df1f",
   "metadata": {},
   "outputs": [
    {
     "data": {
      "text/plain": [
       "140704624749592"
      ]
     },
     "execution_count": 70,
     "metadata": {},
     "output_type": "execute_result"
    }
   ],
   "source": [
    "c = 20\n",
    "id(c) "
   ]
  },
  {
   "cell_type": "code",
   "execution_count": 71,
   "id": "2c2ccd5e-a68c-40a4-a0e8-0096c6061414",
   "metadata": {},
   "outputs": [
    {
     "data": {
      "text/plain": [
       "140704624749272"
      ]
     },
     "execution_count": 71,
     "metadata": {},
     "output_type": "execute_result"
    }
   ],
   "source": [
    "a = 10\n",
    "b = 10\n",
    "id(a) "
   ]
  },
  {
   "cell_type": "code",
   "execution_count": 72,
   "id": "70b49ad8-e705-4a4d-8670-8d0a637da6c9",
   "metadata": {},
   "outputs": [
    {
     "data": {
      "text/plain": [
       "140704624749272"
      ]
     },
     "execution_count": 72,
     "metadata": {},
     "output_type": "execute_result"
    }
   ],
   "source": [
    "a = 10\n",
    "a\n",
    "id(a)"
   ]
  },
  {
   "cell_type": "markdown",
   "id": "65cc04ec-735c-4d83-894c-ab5070233466",
   "metadata": {},
   "source": [
    "# int datatypes -\n",
    "# INT Datatypes - The No.without decimal point are called as INTEGRAL DATATYPES *int datatype how many ways represent values in 3ways -\n",
    "# 2> Binary form --- (Base-2) -- (0,1) 3> Octal form --- (Base-8) -- (0,7)"
   ]
  },
  {
   "cell_type": "code",
   "execution_count": 74,
   "id": "c740cbf0-8d8b-43fa-a48f-c8be6092eb2c",
   "metadata": {},
   "outputs": [
    {
     "data": {
      "text/plain": [
       "int"
      ]
     },
     "execution_count": 74,
     "metadata": {},
     "output_type": "execute_result"
    }
   ],
   "source": [
    "a1 = 4809\n",
    "#a\n",
    "#print(a)\n",
    "type(a1) "
   ]
  },
  {
   "cell_type": "code",
   "execution_count": 75,
   "id": "a5d5fd7b-4d34-4da3-985a-ec7d98a5c9bb",
   "metadata": {},
   "outputs": [
    {
     "data": {
      "text/plain": [
       "7"
      ]
     },
     "execution_count": 75,
     "metadata": {},
     "output_type": "execute_result"
    }
   ],
   "source": [
    "#2.Binary form(Base 2)\n",
    "#a = 1111   # value is declared\n",
    "b = 0b111 # Now pvm convert value to binary value\n",
    "b\n",
    "#a"
   ]
  },
  {
   "cell_type": "code",
   "execution_count": 76,
   "id": "e48ff5e8-64bc-4bfe-a4ad-9615a05eb0a1",
   "metadata": {},
   "outputs": [
    {
     "data": {
      "text/plain": [
       "3"
      ]
     },
     "execution_count": 76,
     "metadata": {},
     "output_type": "execute_result"
    }
   ],
   "source": [
    "b_1 = 0b11\n",
    "b_1"
   ]
  },
  {
   "cell_type": "code",
   "execution_count": 77,
   "id": "7b1f5389-3e52-4b9b-9a51-fd442d9178e5",
   "metadata": {},
   "outputs": [
    {
     "ename": "SyntaxError",
     "evalue": "invalid digit '2' in binary literal (3245495910.py, line 1)",
     "output_type": "error",
     "traceback": [
      "\u001b[1;36m  Cell \u001b[1;32mIn[77], line 1\u001b[1;36m\u001b[0m\n\u001b[1;33m    b2 = 0b22\u001b[0m\n\u001b[1;37m           ^\u001b[0m\n\u001b[1;31mSyntaxError\u001b[0m\u001b[1;31m:\u001b[0m invalid digit '2' in binary literal\n"
     ]
    }
   ],
   "source": [
    "b2 = 0b22\n",
    "b2"
   ]
  },
  {
   "cell_type": "code",
   "execution_count": 78,
   "id": "8b02ab43-fcf6-4a3b-bfe7-aaf0e2c93b98",
   "metadata": {},
   "outputs": [
    {
     "data": {
      "text/plain": [
       "111"
      ]
     },
     "execution_count": 78,
     "metadata": {},
     "output_type": "execute_result"
    }
   ],
   "source": [
    "b1 = 111\n",
    "b1"
   ]
  },
  {
   "cell_type": "code",
   "execution_count": 79,
   "id": "dac1cb6f-6af6-472e-9afb-598f1b88bee1",
   "metadata": {},
   "outputs": [
    {
     "data": {
      "text/plain": [
       "15"
      ]
     },
     "execution_count": 79,
     "metadata": {},
     "output_type": "execute_result"
    }
   ],
   "source": [
    "c = 0b1111\n",
    "c"
   ]
  },
  {
   "cell_type": "code",
   "execution_count": 80,
   "id": "83502dec-9aec-4397-9d43-871f502bda5f",
   "metadata": {},
   "outputs": [
    {
     "ename": "SyntaxError",
     "evalue": "invalid digit '2' in binary literal (3363899208.py, line 1)",
     "output_type": "error",
     "traceback": [
      "\u001b[1;36m  Cell \u001b[1;32mIn[80], line 1\u001b[1;36m\u001b[0m\n\u001b[1;33m    b3 = 0b222\u001b[0m\n\u001b[1;37m           ^\u001b[0m\n\u001b[1;31mSyntaxError\u001b[0m\u001b[1;31m:\u001b[0m invalid digit '2' in binary literal\n"
     ]
    }
   ],
   "source": [
    "b3 = 0b222"
   ]
  },
  {
   "cell_type": "code",
   "execution_count": 81,
   "id": "4e44c3fa-6b5a-4ffd-bc84-73cdf96d3b94",
   "metadata": {},
   "outputs": [
    {
     "data": {
      "text/plain": [
       "3"
      ]
     },
     "execution_count": 81,
     "metadata": {},
     "output_type": "execute_result"
    }
   ],
   "source": [
    "b = 0b11 # Now pvm convert value to binary value\n",
    "b"
   ]
  },
  {
   "cell_type": "code",
   "execution_count": 82,
   "id": "7511d359-5019-462e-9bf9-2d3298a802d9",
   "metadata": {},
   "outputs": [
    {
     "data": {
      "text/plain": [
       "73"
      ]
     },
     "execution_count": 82,
     "metadata": {},
     "output_type": "execute_result"
    }
   ],
   "source": [
    "#3. Octal form(Base 8)\n",
    "#a = 111 # Value is declared\n",
    "b1 = 0o111 # Now pvm covert value to octal value\n",
    "b1\n",
    "#a"
   ]
  },
  {
   "cell_type": "code",
   "execution_count": 83,
   "id": "f0c1bdc5-f598-4adf-8950-8d521a97627d",
   "metadata": {},
   "outputs": [
    {
     "data": {
      "text/plain": [
       "64"
      ]
     },
     "execution_count": 83,
     "metadata": {},
     "output_type": "execute_result"
    }
   ],
   "source": [
    "# final summary of INTEGRAL DATATYPES \n",
    "a = 10\n",
    "b = 0b10\n",
    "c = 0o100\n",
    "a\n",
    "b\n",
    "c\n",
    "64"
   ]
  },
  {
   "cell_type": "code",
   "execution_count": 84,
   "id": "7a46b164-237a-4e89-ac93-dd27cb9be62e",
   "metadata": {},
   "outputs": [
    {
     "data": {
      "text/plain": [
       "27"
      ]
     },
     "execution_count": 84,
     "metadata": {},
     "output_type": "execute_result"
    }
   ],
   "source": [
    "c1 = 0o33\n",
    "c1"
   ]
  },
  {
   "cell_type": "code",
   "execution_count": 85,
   "id": "c7189a40-fd20-452f-89ee-6591661eb674",
   "metadata": {},
   "outputs": [
    {
     "data": {
      "text/plain": [
       "2"
      ]
     },
     "execution_count": 85,
     "metadata": {},
     "output_type": "execute_result"
    }
   ],
   "source": [
    "b"
   ]
  },
  {
   "cell_type": "code",
   "execution_count": 86,
   "id": "465ca705-1103-4123-bf83-3738ea0d5e49",
   "metadata": {},
   "outputs": [
    {
     "data": {
      "text/plain": [
       "64"
      ]
     },
     "execution_count": 86,
     "metadata": {},
     "output_type": "execute_result"
    }
   ],
   "source": [
    "c"
   ]
  },
  {
   "cell_type": "code",
   "execution_count": 87,
   "id": "05b52823-b446-4fbd-8443-12a6cc5a9ed0",
   "metadata": {},
   "outputs": [
    {
     "data": {
      "text/plain": [
       "int"
      ]
     },
     "execution_count": 87,
     "metadata": {},
     "output_type": "execute_result"
    }
   ],
   "source": [
    "A = 78\n",
    "type(A) "
   ]
  },
  {
   "cell_type": "markdown",
   "id": "cdb9ce71-df4a-40d9-8517-32f932b44727",
   "metadata": {},
   "source": [
    "# float datatypes -\n",
    "# employee sal - 5676.76diesel price - 67.25\n",
    "\n",
    "# These values are not integral value this is called as decimal value\n",
    "# Floating datatype you cannot declare Binary,Octal & Hexadecimal because python enterpretur not accept that\n",
    "# In our schools we learn about EXPONTIAL form -(1.2e3) this you can find in float datatypes & only letter 'e' can allowed"
   ]
  },
  {
   "cell_type": "code",
   "execution_count": 88,
   "id": "7c625158-01ab-43f2-b797-b5399ce327d5",
   "metadata": {},
   "outputs": [
    {
     "data": {
      "text/plain": [
       "float"
      ]
     },
     "execution_count": 88,
     "metadata": {},
     "output_type": "execute_result"
    }
   ],
   "source": [
    "b = 67.9\n",
    "b\n",
    "type(b)"
   ]
  },
  {
   "cell_type": "code",
   "execution_count": 89,
   "id": "1e77b0c5-3a70-4960-a863-422d7bbbd451",
   "metadata": {},
   "outputs": [
    {
     "data": {
      "text/plain": [
       "1"
      ]
     },
     "execution_count": 89,
     "metadata": {},
     "output_type": "execute_result"
    }
   ],
   "source": [
    "b1 = 0b1\n",
    "b1"
   ]
  },
  {
   "cell_type": "code",
   "execution_count": 90,
   "id": "626166d7-0a6f-4acd-9743-0b4005345156",
   "metadata": {},
   "outputs": [
    {
     "ename": "SyntaxError",
     "evalue": "invalid syntax (3270742341.py, line 1)",
     "output_type": "error",
     "traceback": [
      "\u001b[1;36m  Cell \u001b[1;32mIn[90], line 1\u001b[1;36m\u001b[0m\n\u001b[1;33m    c = 0o11.6\u001b[0m\n\u001b[1;37m            ^\u001b[0m\n\u001b[1;31mSyntaxError\u001b[0m\u001b[1;31m:\u001b[0m invalid syntax\n"
     ]
    }
   ],
   "source": [
    "c = 0o11.6\n",
    "c"
   ]
  },
  {
   "cell_type": "code",
   "execution_count": 91,
   "id": "fe039e24-321c-497b-a7f1-0117f6335874",
   "metadata": {},
   "outputs": [
    {
     "ename": "SyntaxError",
     "evalue": "invalid syntax (3366244376.py, line 7)",
     "output_type": "error",
     "traceback": [
      "\u001b[1;36m  Cell \u001b[1;32mIn[91], line 7\u001b[1;36m\u001b[0m\n\u001b[1;33m    d = 0o4567.67 # This is octal\u001b[0m\n\u001b[1;37m              ^\u001b[0m\n\u001b[1;31mSyntaxError\u001b[0m\u001b[1;31m:\u001b[0m invalid syntax\n"
     ]
    }
   ],
   "source": [
    "# float datatypes - \n",
    "#b2 = 0b1111.22\n",
    "#b2\n",
    "#print(type(b))\n",
    "#type(b2) \n",
    "#b\n",
    "d = 0o4567.67 # This is octal\n",
    "#e = 0b4567.89 # This is binary\n",
    "d\n",
    "#e\n",
    "#b"
   ]
  },
  {
   "cell_type": "code",
   "execution_count": 92,
   "id": "ad0c1023-2da5-4274-8927-dbbe8d4a7928",
   "metadata": {},
   "outputs": [
    {
     "data": {
      "text/plain": [
       "10.0"
      ]
     },
     "execution_count": 92,
     "metadata": {},
     "output_type": "execute_result"
    }
   ],
   "source": [
    "f1 = 1E1\n",
    "f1\n",
    "#type(f1)"
   ]
  },
  {
   "cell_type": "code",
   "execution_count": 93,
   "id": "38cfb525-c122-40d7-b8ec-cc33bfffb9ec",
   "metadata": {},
   "outputs": [
    {
     "data": {
      "text/plain": [
       "2400.0"
      ]
     },
     "execution_count": 93,
     "metadata": {},
     "output_type": "execute_result"
    }
   ],
   "source": [
    "#f = 1e4# only 'e' letter is allowed\n",
    "g = 2.4E3 # except 'E' you can't execute any programme\n",
    "g\n",
    "#f\n",
    "#type(g)"
   ]
  },
  {
   "cell_type": "code",
   "execution_count": 95,
   "id": "6bb18a52-7554-421b-85f8-b7cc03e2fef6",
   "metadata": {},
   "outputs": [
    {
     "data": {
      "text/plain": [
       "2400.0"
      ]
     },
     "execution_count": 95,
     "metadata": {},
     "output_type": "execute_result"
    }
   ],
   "source": [
    "g = 2.4E3\n",
    "g\n"
   ]
  },
  {
   "cell_type": "code",
   "execution_count": 96,
   "id": "2b21d5da-6fc4-4648-b02d-4c290412a5d6",
   "metadata": {},
   "outputs": [
    {
     "data": {
      "text/plain": [
       "23000.0"
      ]
     },
     "execution_count": 96,
     "metadata": {},
     "output_type": "execute_result"
    }
   ],
   "source": [
    "g1 = 23e3\n",
    "g1"
   ]
  },
  {
   "cell_type": "code",
   "execution_count": 97,
   "id": "2803921c-340b-4b0c-90d4-2b8890e00d13",
   "metadata": {},
   "outputs": [
    {
     "data": {
      "text/plain": [
       "5000.0"
      ]
     },
     "execution_count": 97,
     "metadata": {},
     "output_type": "execute_result"
    }
   ],
   "source": [
    "e = 5.e3\n",
    "#type(e) \n",
    "e"
   ]
  },
  {
   "cell_type": "markdown",
   "id": "5dd1c04a-2340-4e7d-aa0d-896729de80c3",
   "metadata": {},
   "source": [
    "# complex datatypes -\n",
    "# Complex datatype format are:-(a+bj) (a--Real part/b--Imaginary part/j^2=-1)\n",
    "# j is the compulsory value & there is no other value accepted in complex type\n",
    "# j^2 = -1\n",
    "# Value of j is (j square is equal to -1) (j =(square root of -1) is equal to (j^2 = -1) pure mathemetics so if you want to develop mathmetic application or scientific application then python is the best option\n",
    "# Real type any type base can be accepted but imaginary part allow only integer"
   ]
  },
  {
   "cell_type": "code",
   "execution_count": 98,
   "id": "28705e28-235c-4c78-9cf4-b99c027a30b2",
   "metadata": {},
   "outputs": [
    {
     "data": {
      "text/plain": [
       "(30+40j)"
      ]
     },
     "execution_count": 98,
     "metadata": {},
     "output_type": "execute_result"
    }
   ],
   "source": [
    "x = 30+40j #assigned int value in real part & imaginary part\n",
    "x\n",
    "#type(x) "
   ]
  },
  {
   "cell_type": "code",
   "execution_count": 99,
   "id": "336e3acd-ae0c-43e3-8dbc-c69cbbfaa854",
   "metadata": {},
   "outputs": [
    {
     "data": {
      "text/plain": [
       "complex"
      ]
     },
     "execution_count": 99,
     "metadata": {},
     "output_type": "execute_result"
    }
   ],
   "source": [
    "type(x)"
   ]
  },
  {
   "cell_type": "code",
   "execution_count": 100,
   "id": "912cae84-1770-499a-9b98-bec9ebee2d4b",
   "metadata": {},
   "outputs": [
    {
     "data": {
      "text/plain": [
       "(0.5022837821805671-0.25148297544192666j)"
      ]
     },
     "execution_count": 100,
     "metadata": {},
     "output_type": "execute_result"
    }
   ],
   "source": [
    "y = 20.5+2.3j #assigned float value in real part & imaginary part\n",
    "z = 30.8+20j  #assigned float value in real part & real value in imaginary part\n",
    "y + z\n",
    "y*z\n",
    "y/z"
   ]
  },
  {
   "cell_type": "code",
   "execution_count": 101,
   "id": "d653320c-73f4-47ef-974a-5ab4d684d320",
   "metadata": {},
   "outputs": [
    {
     "data": {
      "text/plain": [
       "(9+15j)"
      ]
     },
     "execution_count": 101,
     "metadata": {},
     "output_type": "execute_result"
    }
   ],
   "source": [
    "#c = 15+0b111j # Imaginary part cannot be binary,octal\n",
    "d = 0o11+15j # Real part can be binary,octal\n",
    "#c\n",
    "d"
   ]
  },
  {
   "cell_type": "code",
   "execution_count": 102,
   "id": "1678e9aa-04ef-4b26-9d80-183a75b16c2c",
   "metadata": {},
   "outputs": [
    {
     "data": {
      "text/plain": [
       "(7+15j)"
      ]
     },
     "execution_count": 102,
     "metadata": {},
     "output_type": "execute_result"
    }
   ],
   "source": [
    "d2 = 0b111+15j\n",
    "d2"
   ]
  },
  {
   "cell_type": "code",
   "execution_count": 103,
   "id": "c0ecdc5b-5b54-4787-8c95-4ed903fac54d",
   "metadata": {},
   "outputs": [
    {
     "ename": "SyntaxError",
     "evalue": "invalid decimal literal (1489874699.py, line 1)",
     "output_type": "error",
     "traceback": [
      "\u001b[1;36m  Cell \u001b[1;32mIn[103], line 1\u001b[1;36m\u001b[0m\n\u001b[1;33m    e1 = 4 + 15a\u001b[0m\n\u001b[1;37m              ^\u001b[0m\n\u001b[1;31mSyntaxError\u001b[0m\u001b[1;31m:\u001b[0m invalid decimal literal\n"
     ]
    }
   ],
   "source": [
    "e1 = 4 + 15a\n",
    "e1"
   ]
  },
  {
   "cell_type": "code",
   "execution_count": 104,
   "id": "4f0290bb-3e4a-491e-8975-f693a6415678",
   "metadata": {},
   "outputs": [
    {
     "data": {
      "text/plain": [
       "(0.5609756097560976+0.04878048780487805j)"
      ]
     },
     "execution_count": 104,
     "metadata": {},
     "output_type": "execute_result"
    }
   ],
   "source": [
    "a1 = 20+30j\n",
    "b1 = 40+50j\n",
    "a1+b1\n",
    "a1-b1\n",
    "a1*b1\n",
    "a1/b1"
   ]
  },
  {
   "cell_type": "code",
   "execution_count": 105,
   "id": "dc9b50b7-3b49-4dc9-9ace-b328d0694579",
   "metadata": {},
   "outputs": [
    {
     "data": {
      "text/plain": [
       "complex"
      ]
     },
     "execution_count": 105,
     "metadata": {},
     "output_type": "execute_result"
    }
   ],
   "source": [
    "a = 2+3J\n",
    "type(a) "
   ]
  },
  {
   "cell_type": "code",
   "execution_count": 106,
   "id": "70625af5-3687-4388-ae7d-e141b3a9b33a",
   "metadata": {},
   "outputs": [
    {
     "data": {
      "text/plain": [
       "20.0"
      ]
     },
     "execution_count": 106,
     "metadata": {},
     "output_type": "execute_result"
    }
   ],
   "source": [
    "a1 = 10+20j  # I want to know what the value of real part & imaginary part\n",
    "a1.real   # complex data type will use in mathmetic concept not that required for programming language\n",
    "#a1.imaginary\n",
    "a1.imag"
   ]
  },
  {
   "cell_type": "markdown",
   "id": "9d12e110-3f16-41fe-8621-f29632498e93",
   "metadata": {},
   "source": [
    "# bool datatypes -\n",
    "# True/False - (only allowed boolean values)\n",
    "# False value -- 0 (internally memory level conversion happened)\n",
    "# True value -- 1"
   ]
  },
  {
   "cell_type": "code",
   "execution_count": 107,
   "id": "4f116b78-9414-4030-85c7-afb6ad7944c2",
   "metadata": {},
   "outputs": [
    {
     "data": {
      "text/plain": [
       "False"
      ]
     },
     "execution_count": 107,
     "metadata": {},
     "output_type": "execute_result"
    }
   ],
   "source": [
    "a = 10\n",
    "b = 20\n",
    "c = a>b\n",
    "c"
   ]
  },
  {
   "cell_type": "code",
   "execution_count": null,
   "id": "ca40e591-0ed7-4ef9-8cd5-09e3647771b3",
   "metadata": {},
   "outputs": [],
   "source": [
    "True+True\n",
    "True*True\n",
    "True-True\n",
    "True/True\n",
    "False+False\n",
    "False+True\n",
    "True/False"
   ]
  },
  {
   "cell_type": "code",
   "execution_count": 109,
   "id": "53b5a55d-3c4d-483e-830b-97435fb0f347",
   "metadata": {},
   "outputs": [
    {
     "data": {
      "text/plain": [
       "1.0"
      ]
     },
     "execution_count": 109,
     "metadata": {},
     "output_type": "execute_result"
    }
   ],
   "source": [
    "True/True"
   ]
  },
  {
   "cell_type": "code",
   "execution_count": 110,
   "id": "13e0ca52-8024-45be-9d71-dee3dc8b697a",
   "metadata": {},
   "outputs": [
    {
     "ename": "ZeroDivisionError",
     "evalue": "division by zero",
     "output_type": "error",
     "traceback": [
      "\u001b[1;31m---------------------------------------------------------------------------\u001b[0m",
      "\u001b[1;31mZeroDivisionError\u001b[0m                         Traceback (most recent call last)",
      "Cell \u001b[1;32mIn[110], line 1\u001b[0m\n\u001b[1;32m----> 1\u001b[0m \u001b[38;5;28;01mTrue\u001b[39;00m\u001b[38;5;241m/\u001b[39m\u001b[38;5;28;01mFalse\u001b[39;00m\n",
      "\u001b[1;31mZeroDivisionError\u001b[0m: division by zero"
     ]
    }
   ],
   "source": [
    "True/False # error "
   ]
  },
  {
   "cell_type": "markdown",
   "id": "1d4ee67a-ae8f-4615-ad1d-d8023d2943ae",
   "metadata": {},
   "source": [
    "# str datatypes -\n",
    "# enclosed in '' (single quote) // \"\" (double quote)\n",
    "# single line we assined as '' // \"\"\n",
    "# multiline we assigned as (\"' \"')\n",
    "# single & double quotes are allowed only for single line\n",
    "# triple quotes are allowed for multi comments & also you can declare triple quotes in single line as well"
   ]
  },
  {
   "cell_type": "code",
   "execution_count": 111,
   "id": "649f61ec-4d30-4cf0-a08f-ceab4e4046e5",
   "metadata": {},
   "outputs": [
    {
     "data": {
      "text/plain": [
       "'good for datascience'"
      ]
     },
     "execution_count": 111,
     "metadata": {},
     "output_type": "execute_result"
    }
   ],
   "source": [
    "naresh = '''good for datascience'''\n",
    "naresh\n",
    "#type(naresh)"
   ]
  },
  {
   "cell_type": "code",
   "execution_count": 112,
   "id": "b1874e18-17c6-4de5-b884-866d5376cb23",
   "metadata": {},
   "outputs": [
    {
     "data": {
      "text/plain": [
       "str"
      ]
     },
     "execution_count": 112,
     "metadata": {},
     "output_type": "execute_result"
    }
   ],
   "source": [
    "naresh = '''good for datascience'''\n",
    "#type(careerera)#' single quotes'\n",
    "naresh\n",
    "type(naresh)"
   ]
  },
  {
   "cell_type": "code",
   "execution_count": 113,
   "id": "7ed0ea6d-3f4f-4387-9bac-a131baf0c72b",
   "metadata": {},
   "outputs": [
    {
     "data": {
      "text/plain": [
       "'good \\n             for datascience'"
      ]
     },
     "execution_count": 113,
     "metadata": {},
     "output_type": "execute_result"
    }
   ],
   "source": [
    "naresh2 = '''good \n",
    "             for datascience'''\n",
    "#type(careerera)#' single quotes'\n",
    "naresh2\n",
    "#type(naresh)"
   ]
  },
  {
   "cell_type": "code",
   "execution_count": 114,
   "id": "c94e70df-faf4-405c-87a4-166a703b20f8",
   "metadata": {},
   "outputs": [
    {
     "data": {
      "text/plain": [
       "'good for datascience'"
      ]
     },
     "execution_count": 114,
     "metadata": {},
     "output_type": "execute_result"
    }
   ],
   "source": [
    "naresh = '''good for datascience'''\n",
    "#type(careerera)#' single quotes'\n",
    "naresh\n",
    "#type(naresh)"
   ]
  },
  {
   "cell_type": "code",
   "execution_count": 115,
   "id": "dcd395e4-b996-4e76-8d9e-9db8c3b835ca",
   "metadata": {},
   "outputs": [
    {
     "data": {
      "text/plain": [
       "'good for \\n datascience'"
      ]
     },
     "execution_count": 115,
     "metadata": {},
     "output_type": "execute_result"
    }
   ],
   "source": [
    "naresh1 = '''good for \n",
    " datascience'''\n",
    "#type(naresh1\n",
    "naresh1"
   ]
  },
  {
   "cell_type": "code",
   "execution_count": 116,
   "id": "648a261a-ed40-477a-a676-f12ce6422ade",
   "metadata": {},
   "outputs": [
    {
     "data": {
      "text/plain": [
       "['False',\n",
       " 'None',\n",
       " 'True',\n",
       " 'and',\n",
       " 'as',\n",
       " 'assert',\n",
       " 'async',\n",
       " 'await',\n",
       " 'break',\n",
       " 'class',\n",
       " 'continue',\n",
       " 'def',\n",
       " 'del',\n",
       " 'elif',\n",
       " 'else',\n",
       " 'except',\n",
       " 'finally',\n",
       " 'for',\n",
       " 'from',\n",
       " 'global',\n",
       " 'if',\n",
       " 'import',\n",
       " 'in',\n",
       " 'is',\n",
       " 'lambda',\n",
       " 'nonlocal',\n",
       " 'not',\n",
       " 'or',\n",
       " 'pass',\n",
       " 'raise',\n",
       " 'return',\n",
       " 'try',\n",
       " 'while',\n",
       " 'with',\n",
       " 'yield']"
      ]
     },
     "execution_count": 116,
     "metadata": {},
     "output_type": "execute_result"
    }
   ],
   "source": [
    "import keyword\n",
    "keyword.kwlist"
   ]
  },
  {
   "cell_type": "code",
   "execution_count": 117,
   "id": "e7641264-6537-4f0c-81c0-19ce8c1c5c2c",
   "metadata": {},
   "outputs": [
    {
     "data": {
      "text/plain": [
       "'hallo\\nhow \\nare \\nyou'"
      ]
     },
     "execution_count": 117,
     "metadata": {},
     "output_type": "execute_result"
    }
   ],
   "source": [
    "a = '''hallo\n",
    "how \n",
    "are \n",
    "you'''\n",
    "\n",
    "a\n",
    "#type(a) # SINLE & DOUBLE QUOTES ARE EQUAL "
   ]
  },
  {
   "cell_type": "code",
   "execution_count": 118,
   "id": "6b0cccad-3f03-4498-b07d-e56c5f89321a",
   "metadata": {},
   "outputs": [
    {
     "data": {
      "text/plain": [
       "'hello \\n    hi'"
      ]
     },
     "execution_count": 118,
     "metadata": {},
     "output_type": "execute_result"
    }
   ],
   "source": [
    "b = '''hello \n",
    "    hi'''\n",
    "b"
   ]
  },
  {
   "cell_type": "code",
   "execution_count": 119,
   "id": "352c5326-3d77-4663-98db-14c08e944302",
   "metadata": {},
   "outputs": [],
   "source": [
    "# single quote & double both are equl\n",
    "# ''' multiline comment'''"
   ]
  },
  {
   "cell_type": "code",
   "execution_count": 120,
   "id": "608d7948-f712-4573-809c-ca0c4c2d3483",
   "metadata": {},
   "outputs": [
    {
     "data": {
      "text/plain": [
       "\"('hallo' \\n  'how'\\n    'are you')\""
      ]
     },
     "execution_count": 120,
     "metadata": {},
     "output_type": "execute_result"
    }
   ],
   "source": [
    "b = '''('hallo' \n",
    "  'how'\n",
    "    'are you')'''\n",
    "    \n",
    "    # ''' ''' ==> triple quotes are used for multiline comments\n",
    "b\n",
    "    # is for commenting "
   ]
  },
  {
   "cell_type": "code",
   "execution_count": 121,
   "id": "87ce1320-9407-4878-a88b-7cf2d7e7ee25",
   "metadata": {},
   "outputs": [],
   "source": [
    "# Type casting or Type conversion -\n",
    "# int() -- float() -- complex() -- bool() -- str()"
   ]
  },
  {
   "cell_type": "code",
   "execution_count": 122,
   "id": "22af3135-e405-4774-8597-2575e226fef8",
   "metadata": {},
   "outputs": [
    {
     "ename": "ValueError",
     "evalue": "invalid literal for int() with base 10: 'ten'",
     "output_type": "error",
     "traceback": [
      "\u001b[1;31m---------------------------------------------------------------------------\u001b[0m",
      "\u001b[1;31mValueError\u001b[0m                                Traceback (most recent call last)",
      "Cell \u001b[1;32mIn[122], line 8\u001b[0m\n\u001b[0;32m      6\u001b[0m \u001b[38;5;28mint\u001b[39m(\u001b[38;5;28;01mFalse\u001b[39;00m)   \u001b[38;5;66;03m# Boll to int\u001b[39;00m\n\u001b[0;32m      7\u001b[0m \u001b[38;5;28mint\u001b[39m(\u001b[38;5;124m'\u001b[39m\u001b[38;5;124m10\u001b[39m\u001b[38;5;124m'\u001b[39m)    \u001b[38;5;66;03m# string to int\u001b[39;00m\n\u001b[1;32m----> 8\u001b[0m \u001b[38;5;28mint\u001b[39m(\u001b[38;5;124m'\u001b[39m\u001b[38;5;124mten\u001b[39m\u001b[38;5;124m'\u001b[39m)\n",
      "\u001b[1;31mValueError\u001b[0m: invalid literal for int() with base 10: 'ten'"
     ]
    }
   ],
   "source": [
    "# int(): - you can convert from other type to int type except complex \n",
    "\n",
    "int(10.123)  # float to int\n",
    "#int(10+20j) # cannot convert from complex to int\n",
    "int(True)     # Bool to int\n",
    "int(False)   # Boll to int\n",
    "int('10')    # string to int\n",
    "int('ten') # amx is a character"
   ]
  },
  {
   "cell_type": "code",
   "execution_count": 123,
   "id": "f666ec0d-725b-4618-94e9-a02544af0d28",
   "metadata": {},
   "outputs": [
    {
     "data": {
      "text/plain": [
       "11.0"
      ]
     },
     "execution_count": 123,
     "metadata": {},
     "output_type": "execute_result"
    }
   ],
   "source": [
    "# float(): -- convert from any type to float except complex\n",
    "\n",
    "float(10)      # int to float\n",
    "#float(10+20j)  # cannot convert complex to float\n",
    "float(False)     # boolean to float\n",
    "float('11')    # string to float"
   ]
  },
  {
   "cell_type": "code",
   "execution_count": 124,
   "id": "357941e1-93d5-4cf9-845d-55c392bf133d",
   "metadata": {},
   "outputs": [
    {
     "data": {
      "text/plain": [
       "(10+0j)"
      ]
     },
     "execution_count": 124,
     "metadata": {},
     "output_type": "execute_result"
    }
   ],
   "source": [
    "# complex(): -- covert any other type to complex type\n",
    "# --- this only for 1 argument ------\n",
    "\n",
    "complex(10)     # int to complex\n",
    "complex(10.5)  # float to complex\n",
    "complex(True)  # Bool to complex\n",
    "complex(False) # Bool to complex\n",
    "complex('10')  # string to complex \n",
    "\n",
    "# ----- Now we will check for 2 arguments ------\n",
    "complex(10,20)   # int to complex\n",
    "complex(10,20.5) # float to complex\n",
    "#complex(10, 0b11j)\n",
    "complex('10')    # string to complex, you cannot assign 2 argument"
   ]
  },
  {
   "cell_type": "code",
   "execution_count": 125,
   "id": "54042fca-68d0-4e8e-aebc-fa729762619d",
   "metadata": {},
   "outputs": [
    {
     "data": {
      "text/plain": [
       "20.0"
      ]
     },
     "execution_count": 125,
     "metadata": {},
     "output_type": "execute_result"
    }
   ],
   "source": [
    "a1 = 10+20j\n",
    "type(a1)\n",
    "a1.real\n",
    "a1.imag"
   ]
  },
  {
   "cell_type": "code",
   "execution_count": 126,
   "id": "ba002e33-4621-4785-9b22-fe80692b968b",
   "metadata": {},
   "outputs": [
    {
     "data": {
      "text/plain": [
       "True"
      ]
     },
     "execution_count": 126,
     "metadata": {},
     "output_type": "execute_result"
    }
   ],
   "source": [
    "# Bool()  - (0 means false // 1 means non zero)\n",
    "\n",
    "bool(0)      # int to bool\n",
    "bool(-10)     # int to bool\n",
    "bool(0.0)    # float to bool\n",
    "bool(0.01)   # float to bool \n",
    "bool(10+20j) # complext to bool\n",
    "bool(0+1j)   # complex to bool\n",
    "bool(\" \")      # string to bool(if argument is empty string then false)\n",
    "bool('abc')# string to bool(if argument is not empty string then true)\n",
    "bool(' ')    # space is also treated as character so non empty string"
   ]
  },
  {
   "cell_type": "code",
   "execution_count": 127,
   "id": "6a5a53ba-c9a3-45fb-8bf5-751ac3660b20",
   "metadata": {},
   "outputs": [
    {
     "data": {
      "text/plain": [
       "True"
      ]
     },
     "execution_count": 127,
     "metadata": {},
     "output_type": "execute_result"
    }
   ],
   "source": [
    "bool(-10)"
   ]
  },
  {
   "cell_type": "code",
   "execution_count": 128,
   "id": "c4a877d8-da51-49f5-8a5c-f1a9cbb1e63f",
   "metadata": {},
   "outputs": [
    {
     "data": {
      "text/plain": [
       "True"
      ]
     },
     "execution_count": 128,
     "metadata": {},
     "output_type": "execute_result"
    }
   ],
   "source": [
    "bool(0+1j)"
   ]
  },
  {
   "cell_type": "code",
   "execution_count": 129,
   "id": "5bdcb84d-efd1-447c-8ca2-a8b6800e658b",
   "metadata": {},
   "outputs": [
    {
     "data": {
      "text/plain": [
       "'(10+20j)'"
      ]
     },
     "execution_count": 129,
     "metadata": {},
     "output_type": "execute_result"
    }
   ],
   "source": [
    "# str(): --- any type is possible in string \n",
    "\n",
    "str(10)     # int to string\n",
    "str(10.50)  # float to string\n",
    "str(True)   # bool to string\n",
    "str(10+20j) # complex to string"
   ]
  },
  {
   "cell_type": "code",
   "execution_count": 130,
   "id": "83477b50-f8e0-4142-bfc2-a14fdb6fd503",
   "metadata": {},
   "outputs": [
    {
     "data": {
      "text/plain": [
       "'10'"
      ]
     },
     "execution_count": 130,
     "metadata": {},
     "output_type": "execute_result"
    }
   ],
   "source": [
    "z1 = str(10)\n",
    "z1\n"
   ]
  },
  {
   "cell_type": "code",
   "execution_count": 131,
   "id": "1f3bdba7-ac08-4a16-ba57-4b572f0bd105",
   "metadata": {},
   "outputs": [],
   "source": [
    "# Fundamental Datatypes are which we covered so far & also we saw how to work on the type casting from one data type to other -\n",
    "# We cannot convert our complex data types to int and float\n",
    "\n",
    "# int() float() complex() bool() str()"
   ]
  },
  {
   "cell_type": "code",
   "execution_count": 132,
   "id": "fe614184-da08-4688-a7ac-acd0efd791fd",
   "metadata": {},
   "outputs": [],
   "source": [
    "# Fundamental datatypes vs Immutability --\n",
    "# All fundamental datatypes are immutable. what is immutable - once we crate the object we are not allow to perform any changes in that object . we can say that (non-changeable behaviour)\n",
    "# why immutability concept is required -- if you look at below exampl - how many object we created only 1 object which is 10 but how many reference we assinged -- 3 reference indicates to 1 object\n",
    "# bigest advantage of this approch is memory utilization & performance is also improved (pvm do not want to wsat memory)\n",
    "# you can create object with different name, but you cannot create object with same name"
   ]
  },
  {
   "cell_type": "code",
   "execution_count": 133,
   "id": "7ed191c3-3a91-4252-a62a-f1307fbed0f5",
   "metadata": {},
   "outputs": [
    {
     "name": "stdout",
     "output_type": "stream",
     "text": [
      "140704624749272\n",
      "140704624749272\n",
      "140704624749592\n"
     ]
    }
   ],
   "source": [
    "x2 = 10\n",
    "y2 = 10\n",
    "z2 = 20 \n",
    "print(id(x2))\n",
    "print(id(y2))\n",
    "print(id(z2))"
   ]
  },
  {
   "cell_type": "code",
   "execution_count": 134,
   "id": "7d246c9b-3133-44a1-81f7-b0b8c80f25d6",
   "metadata": {},
   "outputs": [],
   "source": [
    "# Mutable -- Changeable-- once you create an object\n",
    "# Immutable -- Non-changeable\n",
    "# Fundamental data types are IMMUTABLE but (LIST is mutable)\n",
    "# Everything in python is an object\n",
    "# **This concept reusing same object such type of concept is define following ranges - 1> int ----> 0 to 256 2> bool ---> Always 3> str ----> Always 4> float & complex ----> Can not performe the reusable concept"
   ]
  },
  {
   "cell_type": "code",
   "execution_count": 135,
   "id": "14be8c22-1afe-48b9-8bf3-f7250e5c27e2",
   "metadata": {},
   "outputs": [
    {
     "name": "stdout",
     "output_type": "stream",
     "text": [
      "140704624749272\n",
      "140704624749272\n"
     ]
    }
   ],
   "source": [
    "x = 10 #id - adddres of the memory location\n",
    "y = 10\n",
    "print(id(x))\n",
    "print(id(y))"
   ]
  },
  {
   "cell_type": "code",
   "execution_count": 136,
   "id": "06f68aac-13b9-42e9-94ae-a98f6eed8d04",
   "metadata": {},
   "outputs": [
    {
     "data": {
      "text/plain": [
       "140704624749272"
      ]
     },
     "execution_count": 136,
     "metadata": {},
     "output_type": "execute_result"
    }
   ],
   "source": [
    "id(y)"
   ]
  },
  {
   "cell_type": "code",
   "execution_count": 137,
   "id": "b1753eac-10d7-410b-9573-6029dbfa292e",
   "metadata": {},
   "outputs": [
    {
     "data": {
      "text/plain": [
       "True"
      ]
     },
     "execution_count": 137,
     "metadata": {},
     "output_type": "execute_result"
    }
   ],
   "source": [
    "# is operator\n",
    "x = 20 # x,y = 20\n",
    "y = 20\n",
    "x is y\n",
    "y is x"
   ]
  },
  {
   "cell_type": "code",
   "execution_count": 138,
   "id": "6bc73d9b-0141-4647-9148-d460312db963",
   "metadata": {},
   "outputs": [
    {
     "data": {
      "text/plain": [
       "False"
      ]
     },
     "execution_count": 138,
     "metadata": {},
     "output_type": "execute_result"
    }
   ],
   "source": [
    "x = True\n",
    "y = True\n",
    "z = False\n",
    "x is y\n",
    "y is z\n",
    "z is x\n",
    "z is y"
   ]
  }
 ],
 "metadata": {
  "kernelspec": {
   "display_name": "Python 3 (ipykernel)",
   "language": "python",
   "name": "python3"
  },
  "language_info": {
   "codemirror_mode": {
    "name": "ipython",
    "version": 3
   },
   "file_extension": ".py",
   "mimetype": "text/x-python",
   "name": "python",
   "nbconvert_exporter": "python",
   "pygments_lexer": "ipython3",
   "version": "3.12.7"
  }
 },
 "nbformat": 4,
 "nbformat_minor": 5
}
